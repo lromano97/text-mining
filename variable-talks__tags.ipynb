{
  "nbformat": 4,
  "nbformat_minor": 0,
  "metadata": {
    "colab": {
      "name": "02-variable target-v2_exploración.ipynb",
      "provenance": [],
      "collapsed_sections": [],
      "toc_visible": true,
      "authorship_tag": "ABX9TyOJTJVjxvfuSa/wqaGXIg6M",
      "include_colab_link": true
    },
    "kernelspec": {
      "name": "python3",
      "display_name": "Python 3"
    },
    "language_info": {
      "name": "python"
    }
  },
  "cells": [
    {
      "cell_type": "markdown",
      "metadata": {
        "id": "view-in-github",
        "colab_type": "text"
      },
      "source": [
        "<a href=\"https://colab.research.google.com/github/lromano97/text-mining/blob/main/variable-talks__tags.ipynb\" target=\"_parent\"><img src=\"https://colab.research.google.com/assets/colab-badge.svg\" alt=\"Open In Colab\"/></a>"
      ]
    },
    {
      "cell_type": "markdown",
      "metadata": {
        "id": "d0NQAgmuROle"
      },
      "source": [
        "# 🏷️ talks__tags\n",
        "\n",
        "Como resultado del web scrapping en la página TED, vemos que la variable `talks_tags` de cada charla puede tener múltiples valores (desde 0 tags hasta charlas que tienen 31).\n",
        "\n",
        "La solución principal a nuestro modelo sería crear modelos que soporten variables target [*multioutput* y *multiclass*](https://scikit-learn.org/stable/modules/multiclass.html), pero entendemos que podría simplificarse su solución a uno multiclass.\n",
        "\n",
        "La exploración de la variable `talks_tags` en esta notebook pretende ver la viabilidad de simplificarlo en ese sentido.\n"
      ]
    },
    {
      "cell_type": "code",
      "metadata": {
        "id": "lB_3HN9mRPny",
        "colab": {
          "base_uri": "https://localhost:8080/"
        },
        "outputId": "8151ae22-97ea-4adb-c4ce-bd40c9d1960e"
      },
      "source": [
        "# activando Google Drive\n",
        "from google.colab import drive\n",
        "drive.mount('/content/gdrive')"
      ],
      "execution_count": 1,
      "outputs": [
        {
          "output_type": "stream",
          "text": [
            "Mounted at /content/gdrive\n"
          ],
          "name": "stdout"
        }
      ]
    },
    {
      "cell_type": "code",
      "metadata": {
        "id": "Z62ThU92RHQE",
        "colab": {
          "base_uri": "https://localhost:8080/"
        },
        "outputId": "12c17264-fc42-43ae-e177-c8e1309d7b35"
      },
      "source": [
        "cd \"/content/gdrive/My Drive/Colab Notebooks/Text Mining/TopicsTED\""
      ],
      "execution_count": 2,
      "outputs": [
        {
          "output_type": "stream",
          "text": [
            "/content/gdrive/My Drive/Colab Notebooks/Text Mining/TopicsTED\n"
          ],
          "name": "stdout"
        }
      ]
    },
    {
      "cell_type": "code",
      "metadata": {
        "id": "ToUMtMZpVrMn"
      },
      "source": [
        "# preparación del entorno\n",
        "\n",
        "# librerías de uso común\n",
        "import pandas as pd\n",
        "import numpy as np\n",
        "import seaborn as sns\n",
        "import ast\n",
        "import re\n",
        "import matplotlib.pyplot as plt\n",
        "from scipy.stats import gaussian_kde\n",
        "\n",
        "# librerías y dependencias para npl\n",
        "import nltk\n",
        "from nltk.corpus import wordnet as wn\n",
        "from nltk.corpus import stopwords\n",
        "from nltk.tokenize import word_tokenize\n",
        "\n",
        "nltk.download('stopwords')\n",
        "nltk.download('wordnet')\n",
        "\n",
        "\n",
        "# Sin warnings\n",
        "import warnings\n",
        "warnings.filterwarnings('ignore')\n",
        "\n",
        "# impresiones compactas\n",
        "import pprint\n",
        "pp = pprint.PrettyPrinter(compact=True)"
      ],
      "execution_count": null,
      "outputs": []
    },
    {
      "cell_type": "code",
      "metadata": {
        "colab": {
          "base_uri": "https://localhost:8080/",
          "height": 173
        },
        "id": "rZw7GA7IWTAk",
        "outputId": "f854b1bd-d3af-4ffd-c3f2-ee5760ab0ef3"
      },
      "source": [
        "# importando base de datos y extrayendo variables de interés\n",
        "datos = pd.read_csv('TED_Talk.csv', index_col='talk__id')\n",
        "datos = datos[['talks__tags', 'number_of__tags']]\n",
        "\n",
        "# convirtiendo la variable 'talks__tags' en una lista\n",
        "datos['talks__tags'] = datos['talks__tags'].apply(lambda x: ast.literal_eval(x))\n",
        "datos.head(3)"
      ],
      "execution_count": 4,
      "outputs": [
        {
          "output_type": "execute_result",
          "data": {
            "text/html": [
              "<div>\n",
              "<style scoped>\n",
              "    .dataframe tbody tr th:only-of-type {\n",
              "        vertical-align: middle;\n",
              "    }\n",
              "\n",
              "    .dataframe tbody tr th {\n",
              "        vertical-align: top;\n",
              "    }\n",
              "\n",
              "    .dataframe thead th {\n",
              "        text-align: right;\n",
              "    }\n",
              "</style>\n",
              "<table border=\"1\" class=\"dataframe\">\n",
              "  <thead>\n",
              "    <tr style=\"text-align: right;\">\n",
              "      <th></th>\n",
              "      <th>talks__tags</th>\n",
              "      <th>number_of__tags</th>\n",
              "    </tr>\n",
              "    <tr>\n",
              "      <th>talk__id</th>\n",
              "      <th></th>\n",
              "      <th></th>\n",
              "    </tr>\n",
              "  </thead>\n",
              "  <tbody>\n",
              "    <tr>\n",
              "      <th>66</th>\n",
              "      <td>[creativity, culture, dance, education, parent...</td>\n",
              "      <td>7</td>\n",
              "    </tr>\n",
              "    <tr>\n",
              "      <th>2405</th>\n",
              "      <td>[comedy, curiosity, communication, humor, tech...</td>\n",
              "      <td>5</td>\n",
              "    </tr>\n",
              "    <tr>\n",
              "      <th>1569</th>\n",
              "      <td>[body language, brain, business, psychology, s...</td>\n",
              "      <td>7</td>\n",
              "    </tr>\n",
              "  </tbody>\n",
              "</table>\n",
              "</div>"
            ],
            "text/plain": [
              "                                                talks__tags  number_of__tags\n",
              "talk__id                                                                    \n",
              "66        [creativity, culture, dance, education, parent...                7\n",
              "2405      [comedy, curiosity, communication, humor, tech...                5\n",
              "1569      [body language, brain, business, psychology, s...                7"
            ]
          },
          "metadata": {
            "tags": []
          },
          "execution_count": 4
        }
      ]
    },
    {
      "cell_type": "markdown",
      "metadata": {
        "id": "T227L9wdX6pM"
      },
      "source": [
        "## Exploratorio de la variable talks_tags\n",
        "\n",
        "Las charlas TED tiene múltiples tags, algunas de ella 0 y algunas pocas hasta 31 tags."
      ]
    },
    {
      "cell_type": "code",
      "metadata": {
        "id": "XyoAvtLavGcv",
        "colab": {
          "base_uri": "https://localhost:8080/",
          "height": 518
        },
        "outputId": "08a1d9c9-c2cd-4517-baf8-4f3d533ef75b"
      },
      "source": [
        "#datos['number_of__tags'].value_counts()\n",
        "sns.distplot(datos[\"number_of__tags\"]\n",
        "             , hist=True, kde=False, bins=30).set_title('Distribución de Tags en cantidad de charlas TED')\n",
        "sns.set(rc={'figure.figsize':(100,8)})"
      ],
      "execution_count": 8,
      "outputs": [
        {
          "output_type": "display_data",
          "data": {
            "image/png": "[encoded data removed]",
            "text/plain": [
              "<Figure size 864x576 with 1 Axes>"
            ]
          },
          "metadata": {
            "tags": []
          }
        }
      ]
    },
    {
      "cell_type": "markdown",
      "metadata": {
        "id": "OjqEUDZNbqrr"
      },
      "source": [
        "El dataset contiene 347 labels, algunos de ellos con presencia en solo una o dos de las más de 5.000 charlas TED."
      ]
    },
    {
      "cell_type": "code",
      "metadata": {
        "id": "YOAKGAyKY8OJ",
        "colab": {
          "base_uri": "https://localhost:8080/"
        },
        "outputId": "1ae9ff43-196e-4e63-d1e0-06f0878d963a"
      },
      "source": [
        "# generación de data set para análisis de tags.\n",
        "s = datos.apply(lambda x: pd.Series(x['talks__tags']),axis=1).stack().reset_index(level=1, drop=True)\n",
        "s.name = 'temas'\n",
        "temas_df = datos.drop('talks__tags', axis=1).join(s)\n",
        "temas_df = temas_df.dropna()\n",
        "temas_df = temas_df[['temas']]\n",
        "\n",
        "# conteo de valores únicos en la variable theme\n",
        "temas_df['temas'].value_counts()"
      ],
      "execution_count": 11,
      "outputs": [
        {
          "output_type": "execute_result",
          "data": {
            "text/plain": [
              "science          1164\n",
              "technology       1159\n",
              "culture           783\n",
              "TED-Ed            748\n",
              "society           679\n",
              "                 ... \n",
              "pain                2\n",
              "NASA                2\n",
              "goal-setting        1\n",
              "crowdsourcing       1\n",
              "Hinduism            1\n",
              "Name: temas, Length: 347, dtype: int64"
            ]
          },
          "metadata": {
            "tags": []
          },
          "execution_count": 11
        }
      ]
    },
    {
      "cell_type": "code",
      "metadata": {
        "id": "mR1-33HOe4K3"
      },
      "source": [
        "#Verificamos el balance de clases\n",
        "pop_temas = pd.DataFrame(temas_df['temas'].value_counts()).reset_index()\n",
        "pop_temas.columns = ['temas', 'talks']"
      ],
      "execution_count": 12,
      "outputs": []
    },
    {
      "cell_type": "code",
      "metadata": {
        "colab": {
          "base_uri": "https://localhost:8080/",
          "height": 368
        },
        "id": "LLJmEXWAgqgp",
        "outputId": "7ab00a90-62ae-494a-b47f-75b8f446cfdd"
      },
      "source": [
        "plt.figure(figsize=(30,5))\n",
        "sns.barplot(x='temas', y='talks', data=pop_temas.head(60))\n",
        "plt.xticks(rotation=90)\n",
        "plt.show()"
      ],
      "execution_count": 14,
      "outputs": [
        {
          "output_type": "display_data",
          "data": {
            "image/png": "[encoded data removed]",
            "text/plain": [
              "<Figure size 2160x360 with 1 Axes>"
            ]
          },
          "metadata": {
            "tags": []
          }
        }
      ]
    },
    {
      "cell_type": "code",
      "metadata": {
        "id": "lWO3f8a3frsr",
        "colab": {
          "base_uri": "https://localhost:8080/",
          "height": 411
        },
        "outputId": "696746b2-5a8b-4b59-8c8b-a470315cf00e"
      },
      "source": [
        "plt.figure(figsize=(30,5))\n",
        "sns.barplot(x='temas', y='talks', data=pop_temas.tail(60))\n",
        "plt.xticks(rotation=90)\n",
        "plt.show()"
      ],
      "execution_count": 16,
      "outputs": [
        {
          "output_type": "display_data",
          "data": {
            "image/png": "[encoded data removed]",
            "text/plain": [
              "<Figure size 2160x360 with 1 Axes>"
            ]
          },
          "metadata": {
            "tags": []
          }
        }
      ]
    },
    {
      "cell_type": "markdown",
      "metadata": {
        "id": "Lx6zQPG0vRIV"
      },
      "source": [
        "## Preprocesamiento de la variable talks__tags\n",
        "\n",
        "Para poder reducir la dimensionalidad de la variable `talks__tags`, necesitamos aplicar los siguientes pasos de preprocesamiento:\n",
        "\n",
        "- [ ] Eliminar los espacios (3D printing -> 3d_printing): el uso de synsets no reconoce las ngrams separadas por espacios, pero sí por letras \n",
        "- [ ] Colocar todas las palabras en minúscula: en particular por ordenamiento\n",
        "- [ ] Eliminar algunos tags: como el caso de los referidos a TED*** o que no tengan un Synset asociado"
      ]
    },
    {
      "cell_type": "code",
      "metadata": {
        "colab": {
          "base_uri": "https://localhost:8080/"
        },
        "id": "AzHTSzUPLjOq",
        "outputId": "addcbcf5-b923-4cc2-ac7d-a86c04ff1fb6"
      },
      "source": [
        "# Creando una lista con los talks__tags\n",
        "temas = list(set(temas_df['temas']))\n",
        "\n",
        "# Colocando todo el texto en minúscula\n",
        "for i in range(len(temas)):\n",
        "    temas[i] = temas[i].lower()\n",
        "\n",
        "# Eliminando los tags TED*\n",
        "ted = re.compile(\"ted*.\")\n",
        "tedlist = list(filter(ted.match, temas))\n",
        "temas = [word for word in temas if word not in tedlist]\n",
        " \n",
        "# Remplazando espacios por el caracter _\n",
        "temas = [sub.replace(' ', '_') for sub in temas]\n",
        "\n",
        "# Ordenando la lista\n",
        "temas.sort()\n",
        "pp.pprint(temas)"
      ],
      "execution_count": 35,
      "outputs": [
        {
          "output_type": "stream",
          "text": [
            "['3d_printing', 'activism', 'addiction', 'africa', 'aging', 'agriculture', 'ai',\n",
            " 'aids', 'algorithm', 'aliens', \"alzheimer's\", 'ancient_world', 'animals',\n",
            " 'animation', 'antarctica', 'anthropocene', 'anthropology', 'archaeology',\n",
            " 'architecture', 'art', 'asia', 'asteroid', 'astrobiology', 'astronomy',\n",
            " 'atheism', 'audacious_project', 'augmented_reality',\n",
            " 'autism_spectrum_disorder', 'bacteria', 'beauty', 'bees',\n",
            " 'behavioral_economics', 'best_of_the_web', 'big_bang', 'biodiversity',\n",
            " 'bioethics', 'biology', 'biomimicry', 'bionics', 'biosphere', 'biotech',\n",
            " 'birds', 'blindness', 'blockchain', 'body_language', 'books', 'botany',\n",
            " 'brain', 'brazil', 'buddhism', 'bullying', 'business', 'cancer', 'capitalism',\n",
            " 'chemistry', 'china', 'christianity', 'cities', 'climate_change', 'code',\n",
            " 'cognitive_science', 'collaboration', 'comedy', 'communication',\n",
            " 'communications', 'community', 'compassion', 'computers', 'conducting',\n",
            " 'consciousness', 'conservation', 'consumerism', 'coral_reefs', 'coronavirus',\n",
            " 'corruption', 'countdown', 'creativity', 'crime', 'crispr', 'crowdsourcing',\n",
            " 'cryptocurrency', 'culture', 'curiosity', 'cyber_security', 'dance',\n",
            " 'dark_matter', 'data', 'death', 'decision-making', 'deextinction', 'demo',\n",
            " 'democracy', 'depression', 'design', 'dinosaurs', 'disability', 'discovery',\n",
            " 'disease', 'diversity', 'dna', 'driverless_cars', 'drones', 'drugs', 'ebola',\n",
            " 'ecology', 'economics', 'education', 'egypt', 'electricity', 'emotions',\n",
            " 'empathy', 'encryption', 'energy', 'engineering', 'entertainment',\n",
            " 'entrepreneur', 'environment', 'equality', 'ethics', 'europe', 'evolution',\n",
            " 'exercise', 'exploration', 'family', 'farming', 'fashion', 'fear', 'feminism',\n",
            " 'film', 'finance', 'fish', 'flight', 'food', 'forensics', 'fossil_fuels',\n",
            " 'friendship', 'fungi', 'future', 'gaming', 'gardening', 'gender', 'genetics',\n",
            " 'geology', 'glaciers', 'global_issues', 'goal-setting', 'goals', 'government',\n",
            " 'grammar', 'graphic_design', 'happiness', 'health', 'health_care', 'hearing',\n",
            " 'heart', 'hinduism', 'history', 'homelessness', 'human_body', 'human_rights',\n",
            " 'humanity', 'humor', 'identity', 'illness', 'illusion', 'immigration',\n",
            " 'inclusion', 'india', 'indigenous_peoples', 'industrial_design',\n",
            " 'infrastructure', 'innovation', 'insects', 'international_development',\n",
            " 'international_relations', 'internet', 'interview', 'invention', 'investing',\n",
            " 'islam', 'journalism', 'judaism', 'justice_system', 'kids', 'language', 'law',\n",
            " 'leadership', 'lgbtqia+', 'library', 'life', 'literature', 'love',\n",
            " 'machine_learning', 'magic', 'manufacturing', 'maps', 'marine_biology',\n",
            " 'marketing', 'mars', 'math', 'media', 'medical_imaging', 'medical_research',\n",
            " 'medicine', 'meditation', 'memory', 'mental_health', 'microbes',\n",
            " 'microbiology', 'middle_east', 'military', 'mindfulness', 'mission_blue',\n",
            " 'money', 'moon', 'motivation', 'museums', 'music', 'nanotechnology', 'nasa',\n",
            " 'natural_disaster', 'natural_resources', 'nature', 'neurology', 'neuroscience',\n",
            " 'nuclear_energy', 'ocean', 'online_privacy', 'pain', 'painting',\n",
            " 'paleontology', 'pandemic', 'parenting', 'performance', 'personal_growth',\n",
            " 'personality', 'philanthropy', 'philosophy', 'photography', 'physics',\n",
            " 'planets', 'plants', 'plastic', 'poetry', 'policy', 'politics', 'pollution',\n",
            " 'potential', 'poverty', 'pregnancy', 'primates', 'prison', 'product_design',\n",
            " 'productivity', 'prosthetics', 'protest', 'psychology', 'ptsd',\n",
            " 'public_health', 'public_space', 'public_speaking', 'quantum', 'race',\n",
            " 'refugees', 'relationships', 'religion', 'renewable_energy', 'resources',\n",
            " 'rivers', 'robots', 'rocket_science', 'science', 'science_fiction', 'self',\n",
            " 'sex', 'sexual_violence', 'shopping', 'sight', 'slavery', 'sleep', 'smell',\n",
            " 'social_change', 'social_media', 'society', 'sociology', 'software',\n",
            " 'solar_energy', 'solar_system', 'sound', 'south_america', 'space',\n",
            " 'spoken_word', 'sports', 'statistics', 'storytelling', 'street_art',\n",
            " 'string_theory', 'success', 'suicide', 'sun', 'surgery', 'surveillance',\n",
            " 'sustainability', 'synthetic_biology', 'theater', 'time', 'toys',\n",
            " 'transgender', 'transportation', 'travel', 'trees', 'trust', 'typography',\n",
            " 'united_states', 'universe', 'urban_planning', 'ux_design', 'vaccines',\n",
            " 'violence', 'virtual_reality', 'virus', 'visualizations', 'vulnerability',\n",
            " 'war', 'water', 'weather', 'wind_energy', 'women', 'women_in_business', 'work',\n",
            " 'work-life_balance', 'writing', 'youth']\n"
          ],
          "name": "stdout"
        }
      ]
    },
    {
      "cell_type": "markdown",
      "metadata": {
        "id": "wJMXN81X2Byu"
      },
      "source": [
        "# Reducción de la dimensionalidad"
      ]
    },
    {
      "cell_type": "markdown",
      "metadata": {
        "id": "BhqWO7II1szl"
      },
      "source": [
        "## Affinity Propagation Clustering Algorithm\n",
        "\n",
        "Usando el algoritmo *Affinity Propagation Clustering Algorithm* de [scikit-learn](https://scikit-learn.org/stable/modules/generated/sklearn.cluster.AffinityPropagation.html) vamos a intentar reducir la dimensionalidad de nuestras 350 tags.\n",
        "\n",
        "Básicamente se va a utilizar los synsets de cada palabra. Es importante en este punto identificar y eliminar o remplazar las palabras que no tengan synset dado que la posterior aplicación del modelo generará error.\n",
        "\n"
      ]
    },
    {
      "cell_type": "code",
      "metadata": {
        "colab": {
          "base_uri": "https://localhost:8080/"
        },
        "id": "XJvigRRk6_pz",
        "outputId": "464a82d7-3371-439f-b988-32d6baea1c0b"
      },
      "source": [
        "sin_synset = []\n",
        "for tema in temas:\n",
        "    try:\n",
        "        print(tema, wn.synsets(tema)[0])\n",
        "    except:\n",
        "        sin_synset.append(tema)\n",
        "        print(tema, 'SIN SYNSET')"
      ],
      "execution_count": 36,
      "outputs": [
        {
          "output_type": "stream",
          "text": [
            "3d_printing SIN SYNSET\n",
            "activism Synset('activism.n.01')\n",
            "addiction Synset('addiction.n.01')\n",
            "africa Synset('africa.n.01')\n",
            "aging Synset('ripening.n.02')\n",
            "agriculture Synset('agribusiness.n.01')\n",
            "ai Synset('army_intelligence.n.01')\n",
            "aids Synset('aids.n.01')\n",
            "algorithm Synset('algorithm.n.01')\n",
            "aliens Synset('foreigner.n.01')\n",
            "alzheimer's Synset('alzheimer's_disease.n.01')\n",
            "ancient_world SIN SYNSET\n",
            "animals Synset('animal.n.01')\n",
            "animation Synset('animation.n.01')\n",
            "antarctica Synset('antarctica.n.01')\n",
            "anthropocene SIN SYNSET\n",
            "anthropology Synset('anthropology.n.01')\n",
            "archaeology Synset('archeology.n.01')\n",
            "architecture Synset('architecture.n.01')\n",
            "art Synset('art.n.01')\n",
            "asia Synset('asia.n.01')\n",
            "asteroid Synset('asteroid.n.01')\n",
            "astrobiology Synset('exobiology.n.01')\n",
            "astronomy Synset('astronomy.n.01')\n",
            "atheism Synset('atheism.n.01')\n",
            "audacious_project SIN SYNSET\n",
            "augmented_reality SIN SYNSET\n",
            "autism_spectrum_disorder SIN SYNSET\n",
            "bacteria Synset('bacteria.n.01')\n",
            "beauty Synset('beauty.n.01')\n",
            "bees Synset('bee.n.01')\n",
            "behavioral_economics SIN SYNSET\n",
            "best_of_the_web SIN SYNSET\n",
            "big_bang Synset('big_bang.n.01')\n",
            "biodiversity Synset('biodiversity.n.01')\n",
            "bioethics Synset('bioethics.n.01')\n",
            "biology Synset('biology.n.01')\n",
            "biomimicry SIN SYNSET\n",
            "bionics Synset('bionics.n.01')\n",
            "biosphere Synset('biosphere.n.01')\n",
            "biotech Synset('biotechnology.n.01')\n",
            "birds Synset('bird.n.01')\n",
            "blindness Synset('blindness.n.01')\n",
            "blockchain SIN SYNSET\n",
            "body_language Synset('body_language.n.01')\n",
            "books Synset('book.n.01')\n",
            "botany Synset('vegetation.n.01')\n",
            "brain Synset('brain.n.01')\n",
            "brazil Synset('brazil.n.01')\n",
            "buddhism Synset('buddhism.n.01')\n",
            "bullying Synset('bullying.n.01')\n",
            "business Synset('business.n.01')\n",
            "cancer Synset('cancer.n.01')\n",
            "capitalism Synset('capitalism.n.01')\n",
            "chemistry Synset('chemistry.n.01')\n",
            "china Synset('china.n.01')\n",
            "christianity Synset('christianity.n.01')\n",
            "cities Synset('city.n.01')\n",
            "climate_change Synset('climate_change.n.01')\n",
            "code Synset('code.n.01')\n",
            "cognitive_science Synset('cognitive_science.n.01')\n",
            "collaboration Synset('collaboration.n.01')\n",
            "comedy Synset('comedy.n.01')\n",
            "communication Synset('communication.n.01')\n",
            "communications Synset('communications.n.01')\n",
            "community Synset('community.n.01')\n",
            "compassion Synset('compassion.n.01')\n",
            "computers Synset('computer.n.01')\n",
            "conducting Synset('conducting.n.01')\n",
            "consciousness Synset('consciousness.n.01')\n",
            "conservation Synset('conservation.n.01')\n",
            "consumerism Synset('consumerism.n.01')\n",
            "coral_reefs Synset('coral_reef.n.01')\n",
            "coronavirus SIN SYNSET\n",
            "corruption Synset('corruptness.n.02')\n",
            "countdown Synset('countdown.n.01')\n",
            "creativity Synset('creativity.n.01')\n",
            "crime Synset('crime.n.01')\n",
            "crispr SIN SYNSET\n",
            "crowdsourcing SIN SYNSET\n",
            "cryptocurrency SIN SYNSET\n",
            "culture Synset('culture.n.01')\n",
            "curiosity Synset('curiosity.n.01')\n",
            "cyber_security SIN SYNSET\n",
            "dance Synset('dance.n.01')\n",
            "dark_matter Synset('dark_matter.n.01')\n",
            "data Synset('data.n.01')\n",
            "death Synset('death.n.01')\n",
            "decision-making SIN SYNSET\n",
            "deextinction SIN SYNSET\n",
            "demo Synset('demonstration.n.05')\n",
            "democracy Synset('democracy.n.01')\n",
            "depression Synset('depression.n.01')\n",
            "design Synset('design.n.01')\n",
            "dinosaurs Synset('dinosaur.n.01')\n",
            "disability Synset('disability.n.01')\n",
            "discovery Synset('discovery.n.01')\n",
            "disease Synset('disease.n.01')\n",
            "diversity Synset('diverseness.n.01')\n",
            "dna Synset('deoxyribonucleic_acid.n.01')\n",
            "driverless_cars SIN SYNSET\n",
            "drones Synset('drone.n.01')\n",
            "drugs Synset('drug.n.01')\n",
            "ebola Synset('ebola_hemorrhagic_fever.n.01')\n",
            "ecology Synset('ecology.n.01')\n",
            "economics Synset('economics.n.01')\n",
            "education Synset('education.n.01')\n",
            "egypt Synset('egypt.n.01')\n",
            "electricity Synset('electricity.n.01')\n",
            "emotions Synset('emotion.n.01')\n",
            "empathy Synset('empathy.n.01')\n",
            "encryption Synset('encoding.n.01')\n",
            "energy Synset('energy.n.01')\n",
            "engineering Synset('technology.n.01')\n",
            "entertainment Synset('entertainment.n.01')\n",
            "entrepreneur Synset('entrepreneur.n.01')\n",
            "environment Synset('environment.n.01')\n",
            "equality Synset('equality.n.01')\n",
            "ethics Synset('ethical_motive.n.01')\n",
            "europe Synset('europe.n.01')\n",
            "evolution Synset('development.n.02')\n",
            "exercise Synset('exercise.n.01')\n",
            "exploration Synset('exploration.n.01')\n",
            "family Synset('family.n.01')\n",
            "farming Synset('farming.n.01')\n",
            "fashion Synset('manner.n.01')\n",
            "fear Synset('fear.n.01')\n",
            "feminism Synset('feminism.n.01')\n",
            "film Synset('movie.n.01')\n",
            "finance Synset('finance.n.01')\n",
            "fish Synset('fish.n.01')\n",
            "flight Synset('flight.n.01')\n",
            "food Synset('food.n.01')\n",
            "forensics Synset('forensics.n.01')\n",
            "fossil_fuels Synset('fossil_fuel.n.01')\n",
            "friendship Synset('friendship.n.01')\n",
            "fungi Synset('fungi.n.01')\n",
            "future Synset('future.n.01')\n",
            "gaming Synset('gambling.n.01')\n",
            "gardening Synset('gardening.n.01')\n",
            "gender Synset('gender.n.01')\n",
            "genetics Synset('genetics.n.01')\n",
            "geology Synset('geology.n.01')\n",
            "glaciers Synset('glacier.n.01')\n",
            "global_issues SIN SYNSET\n",
            "goal-setting SIN SYNSET\n",
            "goals Synset('goal.n.01')\n",
            "government Synset('government.n.01')\n",
            "grammar Synset('grammar.n.01')\n",
            "graphic_design Synset('graphic_design.n.01')\n",
            "happiness Synset('happiness.n.01')\n",
            "health Synset('health.n.01')\n",
            "health_care Synset('health_care.n.01')\n",
            "hearing Synset('hearing.n.01')\n",
            "heart Synset('heart.n.01')\n",
            "hinduism Synset('hinduism.n.01')\n",
            "history Synset('history.n.01')\n",
            "homelessness Synset('homelessness.n.01')\n",
            "human_body Synset('human_body.n.01')\n",
            "human_rights Synset('human_right.n.01')\n",
            "humanity Synset('humanity.n.01')\n",
            "humor Synset('wit.n.01')\n",
            "identity Synset('identity.n.01')\n",
            "illness Synset('illness.n.01')\n",
            "illusion Synset('illusion.n.01')\n",
            "immigration Synset('immigration.n.01')\n",
            "inclusion Synset('inclusion.n.01')\n",
            "india Synset('india.n.01')\n",
            "indigenous_peoples SIN SYNSET\n",
            "industrial_design SIN SYNSET\n",
            "infrastructure Synset('infrastructure.n.01')\n",
            "innovation Synset('invention.n.02')\n",
            "insects Synset('insect.n.01')\n",
            "international_development SIN SYNSET\n",
            "international_relations SIN SYNSET\n",
            "internet Synset('internet.n.01')\n",
            "interview Synset('interview.n.01')\n",
            "invention Synset('invention.n.01')\n",
            "investing Synset('investing.n.01')\n",
            "islam Synset('islam.n.01')\n",
            "journalism Synset('journalism.n.01')\n",
            "judaism Synset('judaism.n.01')\n",
            "justice_system SIN SYNSET\n",
            "kids Synset('child.n.01')\n",
            "language Synset('language.n.01')\n",
            "law Synset('law.n.01')\n",
            "leadership Synset('leadership.n.01')\n",
            "lgbtqia+ SIN SYNSET\n",
            "library Synset('library.n.01')\n",
            "life Synset('life.n.01')\n",
            "literature Synset('literature.n.01')\n",
            "love Synset('love.n.01')\n",
            "machine_learning SIN SYNSET\n",
            "magic Synset('magic.n.01')\n",
            "manufacturing Synset('fabrication.n.03')\n",
            "maps Synset('map.n.01')\n",
            "marine_biology SIN SYNSET\n",
            "marketing Synset('selling.n.01')\n",
            "mars Synset('mars.n.01')\n",
            "math Synset('mathematics.n.01')\n",
            "media Synset('medium.n.01')\n",
            "medical_imaging SIN SYNSET\n",
            "medical_research SIN SYNSET\n",
            "medicine Synset('medicine.n.01')\n",
            "meditation Synset('meditation.n.01')\n",
            "memory Synset('memory.n.01')\n",
            "mental_health Synset('mental_health.n.01')\n",
            "microbes Synset('microbe.n.01')\n",
            "microbiology Synset('microbiology.n.01')\n",
            "middle_east Synset('middle_east.n.01')\n",
            "military Synset('military.n.01')\n",
            "mindfulness Synset('mindfulness.n.01')\n",
            "mission_blue SIN SYNSET\n",
            "money Synset('money.n.01')\n",
            "moon Synset('moon.n.01')\n",
            "motivation Synset('motivation.n.01')\n",
            "museums Synset('museum.n.01')\n",
            "music Synset('music.n.01')\n",
            "nanotechnology Synset('nanotechnology.n.01')\n",
            "nasa Synset('national_aeronautics_and_space_administration.n.01')\n",
            "natural_disaster SIN SYNSET\n",
            "natural_resources Synset('natural_resource.n.01')\n",
            "nature Synset('nature.n.01')\n",
            "neurology Synset('neurology.n.01')\n",
            "neuroscience Synset('neuroscience.n.01')\n",
            "nuclear_energy Synset('atomic_energy.n.01')\n",
            "ocean Synset('ocean.n.01')\n",
            "online_privacy SIN SYNSET\n",
            "pain Synset('pain.n.01')\n",
            "painting Synset('painting.n.01')\n",
            "paleontology Synset('paleontology.n.01')\n",
            "pandemic Synset('pandemic.n.01')\n",
            "parenting Synset('rear.v.02')\n",
            "performance Synset('performance.n.01')\n",
            "personal_growth SIN SYNSET\n",
            "personality Synset('personality.n.01')\n",
            "philanthropy Synset('philanthropy.n.01')\n",
            "philosophy Synset('doctrine.n.01')\n",
            "photography Synset('photography.n.01')\n",
            "physics Synset('physics.n.01')\n",
            "planets Synset('planet.n.01')\n",
            "plants Synset('plant.n.01')\n",
            "plastic Synset('plastic.n.01')\n",
            "poetry Synset('poetry.n.01')\n",
            "policy Synset('policy.n.01')\n",
            "politics Synset('politics.n.01')\n",
            "pollution Synset('pollution.n.01')\n",
            "potential Synset('potential.n.01')\n",
            "poverty Synset('poverty.n.01')\n",
            "pregnancy Synset('pregnancy.n.01')\n",
            "primates Synset('primates.n.01')\n",
            "prison Synset('prison.n.01')\n",
            "product_design SIN SYNSET\n",
            "productivity Synset('productiveness.n.01')\n",
            "prosthetics Synset('prosthetics.n.01')\n",
            "protest Synset('protest.n.01')\n",
            "psychology Synset('psychology.n.01')\n",
            "ptsd Synset('posttraumatic_stress_disorder.n.01')\n",
            "public_health SIN SYNSET\n",
            "public_space SIN SYNSET\n",
            "public_speaking Synset('public_speaking.n.01')\n",
            "quantum Synset('quantum.n.01')\n",
            "race Synset('race.n.01')\n",
            "refugees Synset('refugee.n.01')\n",
            "relationships Synset('relationship.n.01')\n",
            "religion Synset('religion.n.01')\n",
            "renewable_energy SIN SYNSET\n",
            "resources Synset('resource.n.01')\n",
            "rivers Synset('river.n.01')\n",
            "robots Synset('automaton.n.02')\n",
            "rocket_science SIN SYNSET\n",
            "science Synset('science.n.01')\n",
            "science_fiction Synset('science_fiction.n.01')\n",
            "self Synset('self.n.01')\n",
            "sex Synset('sexual_activity.n.01')\n",
            "sexual_violence SIN SYNSET\n",
            "shopping Synset('shopping.n.01')\n",
            "sight Synset('sight.n.01')\n",
            "slavery Synset('bondage.n.02')\n",
            "sleep Synset('sleep.n.01')\n",
            "smell Synset('smell.n.01')\n",
            "social_change SIN SYNSET\n",
            "social_media SIN SYNSET\n",
            "society Synset('society.n.01')\n",
            "sociology Synset('sociology.n.01')\n",
            "software Synset('software.n.01')\n",
            "solar_energy Synset('solar_energy.n.01')\n",
            "solar_system Synset('solar_system.n.01')\n",
            "sound Synset('sound.n.01')\n",
            "south_america Synset('south_america.n.01')\n",
            "space Synset('space.n.01')\n",
            "spoken_word Synset('vocable.n.01')\n",
            "sports Synset('sport.n.01')\n",
            "statistics Synset('statistics.n.01')\n",
            "storytelling SIN SYNSET\n",
            "street_art SIN SYNSET\n",
            "string_theory Synset('string_theory.n.01')\n",
            "success Synset('success.n.01')\n",
            "suicide Synset('suicide.n.01')\n",
            "sun Synset('sun.n.01')\n",
            "surgery Synset('surgery.n.01')\n",
            "surveillance Synset('surveillance.n.01')\n",
            "sustainability Synset('sustainability.n.01')\n",
            "synthetic_biology SIN SYNSET\n",
            "theater Synset('theater.n.01')\n",
            "time Synset('time.n.01')\n",
            "toys Synset('plaything.n.01')\n",
            "transgender Synset('transgender.s.01')\n",
            "transportation Synset('transportation_system.n.01')\n",
            "travel Synset('travel.n.01')\n",
            "trees Synset('tree.n.01')\n",
            "trust Synset('trust.n.01')\n",
            "typography Synset('typography.n.01')\n",
            "united_states Synset('united_states.n.01')\n",
            "universe Synset('universe.n.01')\n",
            "urban_planning Synset('urban_planning.n.01')\n",
            "ux_design SIN SYNSET\n",
            "vaccines Synset('vaccine.n.01')\n",
            "violence Synset('violence.n.01')\n",
            "virtual_reality Synset('virtual_reality.n.01')\n",
            "virus Synset('virus.n.01')\n",
            "visualizations Synset('visual_image.n.01')\n",
            "vulnerability Synset('vulnerability.n.01')\n",
            "war Synset('war.n.01')\n",
            "water Synset('water.n.01')\n",
            "weather Synset('weather.n.01')\n",
            "wind_energy SIN SYNSET\n",
            "women Synset('woman.n.01')\n",
            "women_in_business SIN SYNSET\n",
            "work Synset('work.n.01')\n",
            "work-life_balance SIN SYNSET\n",
            "writing Synset('writing.n.01')\n",
            "youth Synset('young_person.n.01')\n"
          ],
          "name": "stdout"
        }
      ]
    },
    {
      "cell_type": "code",
      "metadata": {
        "colab": {
          "base_uri": "https://localhost:8080/"
        },
        "id": "ni_Afex28B29",
        "outputId": "9d620ab3-2be5-4a54-c5e9-d280320b2b25"
      },
      "source": [
        "pp.pprint(sin_synset)"
      ],
      "execution_count": 37,
      "outputs": [
        {
          "output_type": "stream",
          "text": [
            "['3d_printing', 'ancient_world', 'anthropocene', 'audacious_project',\n",
            " 'augmented_reality', 'autism_spectrum_disorder', 'behavioral_economics',\n",
            " 'best_of_the_web', 'biomimicry', 'blockchain', 'coronavirus', 'crispr',\n",
            " 'crowdsourcing', 'cryptocurrency', 'cyber_security', 'decision-making',\n",
            " 'deextinction', 'driverless_cars', 'global_issues', 'goal-setting',\n",
            " 'indigenous_peoples', 'industrial_design', 'international_development',\n",
            " 'international_relations', 'justice_system', 'lgbtqia+', 'machine_learning',\n",
            " 'marine_biology', 'medical_imaging', 'medical_research', 'mission_blue',\n",
            " 'natural_disaster', 'online_privacy', 'personal_growth', 'product_design',\n",
            " 'public_health', 'public_space', 'renewable_energy', 'rocket_science',\n",
            " 'sexual_violence', 'social_change', 'social_media', 'storytelling',\n",
            " 'street_art', 'synthetic_biology', 'ux_design', 'wind_energy',\n",
            " 'women_in_business', 'work-life_balance']\n"
          ],
          "name": "stdout"
        }
      ]
    },
    {
      "cell_type": "code",
      "metadata": {
        "colab": {
          "base_uri": "https://localhost:8080/"
        },
        "id": "r3ht-fno7-Na",
        "outputId": "5144c396-30fe-42aa-dda4-fa260869dfe9"
      },
      "source": [
        "temas = [word for word in temas if word not in sin_synset]\n",
        "pp.pprint(temas)"
      ],
      "execution_count": 38,
      "outputs": [
        {
          "output_type": "stream",
          "text": [
            "['activism', 'addiction', 'africa', 'aging', 'agriculture', 'ai', 'aids',\n",
            " 'algorithm', 'aliens', \"alzheimer's\", 'animals', 'animation', 'antarctica',\n",
            " 'anthropology', 'archaeology', 'architecture', 'art', 'asia', 'asteroid',\n",
            " 'astrobiology', 'astronomy', 'atheism', 'bacteria', 'beauty', 'bees',\n",
            " 'big_bang', 'biodiversity', 'bioethics', 'biology', 'bionics', 'biosphere',\n",
            " 'biotech', 'birds', 'blindness', 'body_language', 'books', 'botany', 'brain',\n",
            " 'brazil', 'buddhism', 'bullying', 'business', 'cancer', 'capitalism',\n",
            " 'chemistry', 'china', 'christianity', 'cities', 'climate_change', 'code',\n",
            " 'cognitive_science', 'collaboration', 'comedy', 'communication',\n",
            " 'communications', 'community', 'compassion', 'computers', 'conducting',\n",
            " 'consciousness', 'conservation', 'consumerism', 'coral_reefs', 'corruption',\n",
            " 'countdown', 'creativity', 'crime', 'culture', 'curiosity', 'dance',\n",
            " 'dark_matter', 'data', 'death', 'demo', 'democracy', 'depression', 'design',\n",
            " 'dinosaurs', 'disability', 'discovery', 'disease', 'diversity', 'dna',\n",
            " 'drones', 'drugs', 'ebola', 'ecology', 'economics', 'education', 'egypt',\n",
            " 'electricity', 'emotions', 'empathy', 'encryption', 'energy', 'engineering',\n",
            " 'entertainment', 'entrepreneur', 'environment', 'equality', 'ethics', 'europe',\n",
            " 'evolution', 'exercise', 'exploration', 'family', 'farming', 'fashion', 'fear',\n",
            " 'feminism', 'film', 'finance', 'fish', 'flight', 'food', 'forensics',\n",
            " 'fossil_fuels', 'friendship', 'fungi', 'future', 'gaming', 'gardening',\n",
            " 'gender', 'genetics', 'geology', 'glaciers', 'goals', 'government', 'grammar',\n",
            " 'graphic_design', 'happiness', 'health', 'health_care', 'hearing', 'heart',\n",
            " 'hinduism', 'history', 'homelessness', 'human_body', 'human_rights',\n",
            " 'humanity', 'humor', 'identity', 'illness', 'illusion', 'immigration',\n",
            " 'inclusion', 'india', 'infrastructure', 'innovation', 'insects', 'internet',\n",
            " 'interview', 'invention', 'investing', 'islam', 'journalism', 'judaism',\n",
            " 'kids', 'language', 'law', 'leadership', 'library', 'life', 'literature',\n",
            " 'love', 'magic', 'manufacturing', 'maps', 'marketing', 'mars', 'math', 'media',\n",
            " 'medicine', 'meditation', 'memory', 'mental_health', 'microbes',\n",
            " 'microbiology', 'middle_east', 'military', 'mindfulness', 'money', 'moon',\n",
            " 'motivation', 'museums', 'music', 'nanotechnology', 'nasa',\n",
            " 'natural_resources', 'nature', 'neurology', 'neuroscience', 'nuclear_energy',\n",
            " 'ocean', 'pain', 'painting', 'paleontology', 'pandemic', 'parenting',\n",
            " 'performance', 'personality', 'philanthropy', 'philosophy', 'photography',\n",
            " 'physics', 'planets', 'plants', 'plastic', 'poetry', 'policy', 'politics',\n",
            " 'pollution', 'potential', 'poverty', 'pregnancy', 'primates', 'prison',\n",
            " 'productivity', 'prosthetics', 'protest', 'psychology', 'ptsd',\n",
            " 'public_speaking', 'quantum', 'race', 'refugees', 'relationships', 'religion',\n",
            " 'resources', 'rivers', 'robots', 'science', 'science_fiction', 'self', 'sex',\n",
            " 'shopping', 'sight', 'slavery', 'sleep', 'smell', 'society', 'sociology',\n",
            " 'software', 'solar_energy', 'solar_system', 'sound', 'south_america', 'space',\n",
            " 'spoken_word', 'sports', 'statistics', 'string_theory', 'success', 'suicide',\n",
            " 'sun', 'surgery', 'surveillance', 'sustainability', 'theater', 'time', 'toys',\n",
            " 'transgender', 'transportation', 'travel', 'trees', 'trust', 'typography',\n",
            " 'united_states', 'universe', 'urban_planning', 'vaccines', 'violence',\n",
            " 'virtual_reality', 'virus', 'visualizations', 'vulnerability', 'war', 'water',\n",
            " 'weather', 'women', 'work', 'writing', 'youth']\n"
          ],
          "name": "stdout"
        }
      ]
    },
    {
      "cell_type": "markdown",
      "metadata": {
        "id": "QWRd_7v1-B4f"
      },
      "source": [
        "### Wu-Palmer Similarity\n",
        "\n",
        "Usando la distancia **Wu-Palmer Similarity** y cambiando el parámetro `affinity`."
      ]
    },
    {
      "cell_type": "code",
      "metadata": {
        "colab": {
          "base_uri": "https://localhost:8080/"
        },
        "id": "j2kUs56Y858T",
        "outputId": "59028eda-2566-4bce-8396-3e69d1866ae4"
      },
      "source": [
        "# Aplicando el modelo APC con la distancia Wu-Palmer Similarity\n",
        "\n",
        "words = np.asarray(temas) # So that indexing with a list will work\n",
        "similarity = np.array([[wn.synsets(w1)[0].wup_similarity(wn.synsets(w2)[0]) for w1 in words] for w2 in words])\n",
        "similarity[similarity == None] = 0\n",
        "\n",
        "affprop = AffinityPropagation(affinity=\"precomputed\", damping=0.5)\n",
        "affprop.fit(similarity)\n",
        "for cluster_id in np.unique(affprop.labels_):\n",
        "    exemplar = words[affprop.cluster_centers_indices_[cluster_id]]\n",
        "    cluster = np.unique(words[np.nonzero(affprop.labels_==cluster_id)])\n",
        "    cluster_str = \", \".join(cluster)\n",
        "    print(\" - *%s:* %s\" % (exemplar, cluster_str))"
      ],
      "execution_count": 39,
      "outputs": [
        {
          "output_type": "stream",
          "text": [
            " - *aging:* aging, climate_change, evolution, sex\n",
            " - *animals:* aliens, animals, bacteria, bees, birds, dinosaurs, drones, entrepreneur, fish, insects, kids, microbes, refugees, trees, virus, women, youth\n",
            " - *architecture:* architecture, library, plants, prison, theater\n",
            " - *art:* art, books, dance, film, innovation, maps, museums, painting, transportation\n",
            " - *biodiversity:* biodiversity, diversity\n",
            " - *biology:* astrobiology, biology, biotech, genetics, medicine, microbiology, neurology, neuroscience, prosthetics, surgery\n",
            " - *china:* biosphere, brazil, china, cities, egypt, india, middle_east, united_states\n",
            " - *consciousness:* alzheimer's, consciousness, curiosity, depression, mental_health, self\n",
            " - *creativity:* atheism, consumerism, creativity, democracy, ethics, invention, meditation, pain, smell\n",
            " - *emotions:* animation, compassion, emotions, empathy, fear, happiness, health, life, love, potential, slavery\n",
            " - *energy:* electricity, energy, nuclear_energy, solar_energy, weather\n",
            " - *environment:* ecology, environment, friendship, inclusion\n",
            " - *europe:* africa, antarctica, asia, coral_reefs, europe, south_america\n",
            " - *family:* ai, buddhism, business, family, government, hinduism, judaism, military, nasa\n",
            " - *finance:* agriculture, farming, finance, gardening, investing, marketing\n",
            " - *food:* dark_matter, drugs, food, fossil_fuels, plastic, vaccines\n",
            " - *health_care:* health_care, philanthropy\n",
            " - *illness:* aids, blindness, cancer, disability, disease, ebola, illness\n",
            " - *language:* body_language, code, comedy, demo, graphic_design, humor, language, literature, music, poetry, science_fiction, software\n",
            " - *law:* botany, capitalism, data, flight, fungi, gender, law, primates, solar_system\n",
            " - *media:* computers, glaciers, internet, journalism, media, robots, toys\n",
            " - *nature:* beauty, corruption, equality, humanity, nature, productivity\n",
            " - *ocean:* brain, ocean, rivers\n",
            " - *parenting:* parenting, transgender\n",
            " - *personality:* fashion, future, history, identity, infrastructure, mindfulness, money, personality, sound, space, sustainability\n",
            " - *philosophy:* christianity, feminism, goals, illusion, magic, memory, philosophy, religion, sight, visualizations\n",
            " - *planets:* asteroid, human_body, mars, moon, planets, sun, universe\n",
            " - *policy:* activism, heart, human_rights, policy, quantum, string_theory\n",
            " - *pregnancy:* addiction, homelessness, pollution, poverty, pregnancy, ptsd, sleep, vulnerability\n",
            " - *resources:* natural_resources, politics, relationships, resources, trust\n",
            " - *science:* anthropology, archaeology, astronomy, bioethics, bionics, chemistry, cognitive_science, communications, economics, geology, grammar, math, nanotechnology, paleontology, physics, psychology, science, sociology, statistics, urban_planning\n",
            " - *society:* community, culture, islam, society\n",
            " - *success:* big_bang, conservation, death, motivation, pandemic, performance, race, success, time\n",
            " - *travel:* exploration, immigration, suicide, travel, violence\n",
            " - *water:* dna, spoken_word, water\n",
            " - *work:* algorithm, bullying, collaboration, communication, conducting, countdown, crime, design, discovery, education, encryption, engineering, entertainment, exercise, forensics, gaming, hearing, interview, leadership, manufacturing, photography, protest, public_speaking, shopping, sports, surveillance, typography, virtual_reality, war, work, writing\n"
          ],
          "name": "stdout"
        }
      ]
    },
    {
      "cell_type": "code",
      "metadata": {
        "colab": {
          "base_uri": "https://localhost:8080/"
        },
        "id": "tE1R6fzP9vaG",
        "outputId": "9a324b6d-d056-40eb-fe68-80a1345203b3"
      },
      "source": [
        "affprop = AffinityPropagation(affinity=\"euclidean\", damping=0.5)\n",
        "affprop.fit(similarity)\n",
        "for cluster_id in np.unique(affprop.labels_):\n",
        "    exemplar = words[affprop.cluster_centers_indices_[cluster_id]]\n",
        "    cluster = np.unique(words[np.nonzero(affprop.labels_==cluster_id)])\n",
        "    cluster_str = \", \".join(cluster)\n",
        "    print(\" - *%s:* %s\" % (exemplar, cluster_str))"
      ],
      "execution_count": 40,
      "outputs": [
        {
          "output_type": "stream",
          "text": [
            " - *aids:* aids, alzheimer's, blindness, cancer, disability, disease, ebola, health, illness, ptsd\n",
            " - *antarctica:* africa, antarctica, asia, coral_reefs, europe, glaciers, south_america\n",
            " - *bacteria:* aliens, animals, bacteria, bees, birds, dinosaurs, drones, entrepreneur, fish, insects, kids, microbes, refugees, trees, virus, women, youth\n",
            " - *beauty:* beauty, biodiversity, corruption, diversity, equality, fashion, future, history, humanity, identity, infrastructure, mindfulness, nature, personality, productivity, sound, space, sustainability\n",
            " - *cities:* biosphere, brazil, china, cities, egypt, india, middle_east, united_states\n",
            " - *code:* body_language, code, comedy, demo, graphic_design, humor, language, literature, music, poetry, science_fiction, software\n",
            " - *community:* ai, botany, buddhism, business, capitalism, community, culture, data, family, flight, fungi, gender, government, hinduism, islam, judaism, law, military, nasa, primates, society, solar_system\n",
            " - *electricity:* climate_change, electricity, energy, nuclear_energy, sex, solar_energy, weather\n",
            " - *gaming:* algorithm, bullying, communication, countdown, crime, design, discovery, education, encryption, engineering, entertainment, exercise, forensics, gaming, leadership, manufacturing, photography, sports, surveillance, typography, virtual_reality, work, writing\n",
            " - *geology:* anthropology, archaeology, astrobiology, astronomy, bioethics, biology, bionics, biotech, chemistry, cognitive_science, communications, economics, genetics, geology, grammar, math, medicine, microbiology, nanotechnology, neurology, neuroscience, paleontology, physics, prosthetics, psychology, science, sociology, statistics, surgery, urban_planning\n",
            " - *hearing:* agriculture, big_bang, collaboration, conducting, conservation, death, ethics, exploration, farming, film, finance, gardening, hearing, immigration, interview, investing, marketing, motivation, pandemic, performance, protest, public_speaking, race, shopping, success, suicide, time, travel, violence, war\n",
            " - *heart:* activism, atheism, christianity, consumerism, creativity, democracy, feminism, goals, heart, human_rights, illusion, invention, magic, meditation, memory, pain, philosophy, policy, quantum, religion, sight, smell, string_theory, visualizations\n",
            " - *museums:* architecture, art, asteroid, books, computers, dance, human_body, innovation, internet, journalism, library, maps, mars, media, moon, museums, painting, planets, plants, prison, robots, sun, theater, toys, transportation, universe\n",
            " - *parenting:* parenting, transgender\n",
            " - *plastic:* aging, brain, dark_matter, dna, drugs, evolution, food, fossil_fuels, ocean, plastic, rivers, vaccines, water\n",
            " - *poverty:* addiction, animation, compassion, consciousness, curiosity, depression, ecology, emotions, empathy, environment, fear, friendship, happiness, homelessness, inclusion, life, love, mental_health, pollution, potential, poverty, pregnancy, self, slavery, sleep, vulnerability\n",
            " - *trust:* health_care, money, natural_resources, philanthropy, politics, relationships, resources, spoken_word, trust\n"
          ],
          "name": "stdout"
        }
      ]
    },
    {
      "cell_type": "markdown",
      "metadata": {
        "id": "yDOaBgwr-iOV"
      },
      "source": [
        "### Path similarity"
      ]
    },
    {
      "cell_type": "code",
      "metadata": {
        "colab": {
          "base_uri": "https://localhost:8080/"
        },
        "id": "Ok9ZUCr5-ja-",
        "outputId": "edb760c5-6fbe-42cc-89b8-314fedb8c909"
      },
      "source": [
        "# Aplicando el modelo APC con la distancia Path Similarity\n",
        "\n",
        "words = np.asarray(temas) # So that indexing with a list will work\n",
        "similarity = np.array([[wn.synsets(w1)[0].path_similarity(wn.synsets(w2)[0]) for w1 in words] for w2 in words])\n",
        "similarity[similarity == None] = 0\n",
        "\n",
        "affprop = AffinityPropagation(affinity=\"precomputed\", damping=0.5)\n",
        "affprop.fit(similarity)\n",
        "for cluster_id in np.unique(affprop.labels_):\n",
        "    exemplar = words[affprop.cluster_centers_indices_[cluster_id]]\n",
        "    cluster = np.unique(words[np.nonzero(affprop.labels_==cluster_id)])\n",
        "    cluster_str = \", \".join(cluster)\n",
        "    print(\" - *%s:* %s\" % (exemplar, cluster_str))"
      ],
      "execution_count": 41,
      "outputs": [
        {
          "output_type": "stream",
          "text": [
            " - *activism:* activism, policy\n",
            " - *aging:* aging, climate_change, evolution, sex\n",
            " - *ai:* ai, family, nasa\n",
            " - *architecture:* architecture, library, plants, prison, theater\n",
            " - *art:* art, dance, innovation, maps, museums, painting, toys, transportation\n",
            " - *bacteria:* aliens, bacteria, entrepreneur, kids, microbes, refugees, trees, virus, women, youth\n",
            " - *bees:* bees, drones, insects\n",
            " - *biodiversity:* biodiversity, diversity\n",
            " - *biology:* astrobiology, biology, biotech, genetics, microbiology, neuroscience\n",
            " - *birds:* animals, birds, dinosaurs, fish\n",
            " - *china:* brazil, china, egypt, india, united_states\n",
            " - *consciousness:* alzheimer's, consciousness, curiosity, depression, mental_health, self\n",
            " - *creativity:* consumerism, creativity, democracy, invention, meditation, pain\n",
            " - *disability:* blindness, disability, ebola\n",
            " - *discovery:* collaboration, communication, conducting, discovery, hearing, interview, protest, public_speaking, shopping, violence, war\n",
            " - *disease:* aids, cancer, disease, illness\n",
            " - *emotions:* compassion, emotions, empathy, fear, happiness, love, slavery\n",
            " - *energy:* electricity, energy, nuclear_energy, solar_energy, weather\n",
            " - *environment:* ecology, environment, friendship, inclusion\n",
            " - *europe:* africa, antarctica, asia, coral_reefs, europe, south_america\n",
            " - *film:* books, film, performance, race\n",
            " - *finance:* agriculture, finance, investing, marketing\n",
            " - *food:* dark_matter, drugs, food, fossil_fuels, plastic, vaccines, water\n",
            " - *gaming:* crime, entertainment, gaming, sports, virtual_reality\n",
            " - *gardening:* farming, gardening\n",
            " - *health_care:* health_care, philanthropy\n",
            " - *hinduism:* buddhism, hinduism, judaism\n",
            " - *language:* body_language, code, comedy, demo, graphic_design, humor, language, literature, music, poetry, science_fiction, software\n",
            " - *law:* botany, capitalism, data, flight, fungi, gender, law, primates, solar_system\n",
            " - *life:* animation, life, potential\n",
            " - *media:* computers, glaciers, internet, journalism, media, robots\n",
            " - *medicine:* medicine, neurology, prosthetics, surgery\n",
            " - *memory:* goals, illusion, memory, sight, visualizations\n",
            " - *middle_east:* biosphere, cities, middle_east\n",
            " - *motivation:* atheism, ethics, motivation, smell\n",
            " - *natural_resources:* natural_resources, resources\n",
            " - *nature:* beauty, corruption, equality, humanity, nature, productivity\n",
            " - *ocean:* brain, ocean, rivers\n",
            " - *parenting:* parenting, transgender\n",
            " - *personality:* fashion, future, health, history, identity, infrastructure, mindfulness, money, personality, sound, space, sustainability\n",
            " - *philosophy:* christianity, feminism, heart, magic, philosophy, religion\n",
            " - *planets:* asteroid, human_body, mars, moon, planets, sun, universe\n",
            " - *pregnancy:* addiction, homelessness, pollution, poverty, pregnancy, ptsd, sleep, vulnerability\n",
            " - *quantum:* human_rights, quantum, string_theory\n",
            " - *relationships:* dna, politics, relationships, spoken_word, trust\n",
            " - *science:* anthropology, archaeology, astronomy, bioethics, bionics, chemistry, cognitive_science, communications, economics, geology, grammar, math, nanotechnology, paleontology, physics, psychology, science, sociology, statistics, urban_planning\n",
            " - *society:* business, community, culture, government, islam, military, society\n",
            " - *success:* big_bang, conservation, death, pandemic, success, time\n",
            " - *travel:* exploration, immigration, suicide, travel\n",
            " - *work:* algorithm, bullying, countdown, design, education, encryption, engineering, exercise, forensics, leadership, manufacturing, photography, surveillance, typography, work, writing\n"
          ],
          "name": "stdout"
        }
      ]
    },
    {
      "cell_type": "markdown",
      "metadata": {
        "id": "Oum_KHxM-vi8"
      },
      "source": [
        "### Leacock Chordorow (LCH) similarity"
      ]
    },
    {
      "cell_type": "code",
      "metadata": {
        "colab": {
          "base_uri": "https://localhost:8080/",
          "height": 374
        },
        "id": "a11kkQg3-5bD",
        "outputId": "eb5aacc6-0ae2-415f-9b54-87796cdcc23e"
      },
      "source": [
        "# Aplicando el modelo APC con la distancia Leacock Chordorow (LCH) similarity\n",
        "\n",
        "words = np.asarray(temas) # So that indexing with a list will work\n",
        "similarity = np.array([[wn.synsets(w1)[0].lch_similarity(wn.synsets(w2)[0]) for w1 in words] for w2 in words])\n",
        "similarity[similarity == None] = 0\n",
        "\n",
        "affprop = AffinityPropagation(affinity=\"precomputed\", damping=0.5)\n",
        "affprop.fit(similarity)\n",
        "for cluster_id in np.unique(affprop.labels_):\n",
        "    exemplar = words[affprop.cluster_centers_indices_[cluster_id]]\n",
        "    cluster = np.unique(words[np.nonzero(affprop.labels_==cluster_id)])\n",
        "    cluster_str = \", \".join(cluster)\n",
        "    print(\" - *%s:* %s\" % (exemplar, cluster_str))"
      ],
      "execution_count": 42,
      "outputs": [
        {
          "output_type": "error",
          "ename": "WordNetError",
          "evalue": "ignored",
          "traceback": [
            "\u001b[0;31m---------------------------------------------------------------------------\u001b[0m",
            "\u001b[0;31mWordNetError\u001b[0m                              Traceback (most recent call last)",
            "\u001b[0;32m<ipython-input-42-20db82227a93>\u001b[0m in \u001b[0;36m<module>\u001b[0;34m()\u001b[0m\n\u001b[1;32m      2\u001b[0m \u001b[0;34m\u001b[0m\u001b[0m\n\u001b[1;32m      3\u001b[0m \u001b[0mwords\u001b[0m \u001b[0;34m=\u001b[0m \u001b[0mnp\u001b[0m\u001b[0;34m.\u001b[0m\u001b[0masarray\u001b[0m\u001b[0;34m(\u001b[0m\u001b[0mtemas\u001b[0m\u001b[0;34m)\u001b[0m \u001b[0;31m# So that indexing with a list will work\u001b[0m\u001b[0;34m\u001b[0m\u001b[0;34m\u001b[0m\u001b[0m\n\u001b[0;32m----> 4\u001b[0;31m \u001b[0msimilarity\u001b[0m \u001b[0;34m=\u001b[0m \u001b[0mnp\u001b[0m\u001b[0;34m.\u001b[0m\u001b[0marray\u001b[0m\u001b[0;34m(\u001b[0m\u001b[0;34m[\u001b[0m\u001b[0;34m[\u001b[0m\u001b[0mwn\u001b[0m\u001b[0;34m.\u001b[0m\u001b[0msynsets\u001b[0m\u001b[0;34m(\u001b[0m\u001b[0mw1\u001b[0m\u001b[0;34m)\u001b[0m\u001b[0;34m[\u001b[0m\u001b[0;36m0\u001b[0m\u001b[0;34m]\u001b[0m\u001b[0;34m.\u001b[0m\u001b[0mlch_similarity\u001b[0m\u001b[0;34m(\u001b[0m\u001b[0mwn\u001b[0m\u001b[0;34m.\u001b[0m\u001b[0msynsets\u001b[0m\u001b[0;34m(\u001b[0m\u001b[0mw2\u001b[0m\u001b[0;34m)\u001b[0m\u001b[0;34m[\u001b[0m\u001b[0;36m0\u001b[0m\u001b[0;34m]\u001b[0m\u001b[0;34m)\u001b[0m \u001b[0;32mfor\u001b[0m \u001b[0mw1\u001b[0m \u001b[0;32min\u001b[0m \u001b[0mwords\u001b[0m\u001b[0;34m]\u001b[0m \u001b[0;32mfor\u001b[0m \u001b[0mw2\u001b[0m \u001b[0;32min\u001b[0m \u001b[0mwords\u001b[0m\u001b[0;34m]\u001b[0m\u001b[0;34m)\u001b[0m\u001b[0;34m\u001b[0m\u001b[0;34m\u001b[0m\u001b[0m\n\u001b[0m\u001b[1;32m      5\u001b[0m \u001b[0msimilarity\u001b[0m\u001b[0;34m[\u001b[0m\u001b[0msimilarity\u001b[0m \u001b[0;34m==\u001b[0m \u001b[0;32mNone\u001b[0m\u001b[0;34m]\u001b[0m \u001b[0;34m=\u001b[0m \u001b[0;36m0\u001b[0m\u001b[0;34m\u001b[0m\u001b[0;34m\u001b[0m\u001b[0m\n\u001b[1;32m      6\u001b[0m \u001b[0;34m\u001b[0m\u001b[0m\n",
            "\u001b[0;32m<ipython-input-42-20db82227a93>\u001b[0m in \u001b[0;36m<listcomp>\u001b[0;34m(.0)\u001b[0m\n\u001b[1;32m      2\u001b[0m \u001b[0;34m\u001b[0m\u001b[0m\n\u001b[1;32m      3\u001b[0m \u001b[0mwords\u001b[0m \u001b[0;34m=\u001b[0m \u001b[0mnp\u001b[0m\u001b[0;34m.\u001b[0m\u001b[0masarray\u001b[0m\u001b[0;34m(\u001b[0m\u001b[0mtemas\u001b[0m\u001b[0;34m)\u001b[0m \u001b[0;31m# So that indexing with a list will work\u001b[0m\u001b[0;34m\u001b[0m\u001b[0;34m\u001b[0m\u001b[0m\n\u001b[0;32m----> 4\u001b[0;31m \u001b[0msimilarity\u001b[0m \u001b[0;34m=\u001b[0m \u001b[0mnp\u001b[0m\u001b[0;34m.\u001b[0m\u001b[0marray\u001b[0m\u001b[0;34m(\u001b[0m\u001b[0;34m[\u001b[0m\u001b[0;34m[\u001b[0m\u001b[0mwn\u001b[0m\u001b[0;34m.\u001b[0m\u001b[0msynsets\u001b[0m\u001b[0;34m(\u001b[0m\u001b[0mw1\u001b[0m\u001b[0;34m)\u001b[0m\u001b[0;34m[\u001b[0m\u001b[0;36m0\u001b[0m\u001b[0;34m]\u001b[0m\u001b[0;34m.\u001b[0m\u001b[0mlch_similarity\u001b[0m\u001b[0;34m(\u001b[0m\u001b[0mwn\u001b[0m\u001b[0;34m.\u001b[0m\u001b[0msynsets\u001b[0m\u001b[0;34m(\u001b[0m\u001b[0mw2\u001b[0m\u001b[0;34m)\u001b[0m\u001b[0;34m[\u001b[0m\u001b[0;36m0\u001b[0m\u001b[0;34m]\u001b[0m\u001b[0;34m)\u001b[0m \u001b[0;32mfor\u001b[0m \u001b[0mw1\u001b[0m \u001b[0;32min\u001b[0m \u001b[0mwords\u001b[0m\u001b[0;34m]\u001b[0m \u001b[0;32mfor\u001b[0m \u001b[0mw2\u001b[0m \u001b[0;32min\u001b[0m \u001b[0mwords\u001b[0m\u001b[0;34m]\u001b[0m\u001b[0;34m)\u001b[0m\u001b[0;34m\u001b[0m\u001b[0;34m\u001b[0m\u001b[0m\n\u001b[0m\u001b[1;32m      5\u001b[0m \u001b[0msimilarity\u001b[0m\u001b[0;34m[\u001b[0m\u001b[0msimilarity\u001b[0m \u001b[0;34m==\u001b[0m \u001b[0;32mNone\u001b[0m\u001b[0;34m]\u001b[0m \u001b[0;34m=\u001b[0m \u001b[0;36m0\u001b[0m\u001b[0;34m\u001b[0m\u001b[0;34m\u001b[0m\u001b[0m\n\u001b[1;32m      6\u001b[0m \u001b[0;34m\u001b[0m\u001b[0m\n",
            "\u001b[0;32m<ipython-input-42-20db82227a93>\u001b[0m in \u001b[0;36m<listcomp>\u001b[0;34m(.0)\u001b[0m\n\u001b[1;32m      2\u001b[0m \u001b[0;34m\u001b[0m\u001b[0m\n\u001b[1;32m      3\u001b[0m \u001b[0mwords\u001b[0m \u001b[0;34m=\u001b[0m \u001b[0mnp\u001b[0m\u001b[0;34m.\u001b[0m\u001b[0masarray\u001b[0m\u001b[0;34m(\u001b[0m\u001b[0mtemas\u001b[0m\u001b[0;34m)\u001b[0m \u001b[0;31m# So that indexing with a list will work\u001b[0m\u001b[0;34m\u001b[0m\u001b[0;34m\u001b[0m\u001b[0m\n\u001b[0;32m----> 4\u001b[0;31m \u001b[0msimilarity\u001b[0m \u001b[0;34m=\u001b[0m \u001b[0mnp\u001b[0m\u001b[0;34m.\u001b[0m\u001b[0marray\u001b[0m\u001b[0;34m(\u001b[0m\u001b[0;34m[\u001b[0m\u001b[0;34m[\u001b[0m\u001b[0mwn\u001b[0m\u001b[0;34m.\u001b[0m\u001b[0msynsets\u001b[0m\u001b[0;34m(\u001b[0m\u001b[0mw1\u001b[0m\u001b[0;34m)\u001b[0m\u001b[0;34m[\u001b[0m\u001b[0;36m0\u001b[0m\u001b[0;34m]\u001b[0m\u001b[0;34m.\u001b[0m\u001b[0mlch_similarity\u001b[0m\u001b[0;34m(\u001b[0m\u001b[0mwn\u001b[0m\u001b[0;34m.\u001b[0m\u001b[0msynsets\u001b[0m\u001b[0;34m(\u001b[0m\u001b[0mw2\u001b[0m\u001b[0;34m)\u001b[0m\u001b[0;34m[\u001b[0m\u001b[0;36m0\u001b[0m\u001b[0;34m]\u001b[0m\u001b[0;34m)\u001b[0m \u001b[0;32mfor\u001b[0m \u001b[0mw1\u001b[0m \u001b[0;32min\u001b[0m \u001b[0mwords\u001b[0m\u001b[0;34m]\u001b[0m \u001b[0;32mfor\u001b[0m \u001b[0mw2\u001b[0m \u001b[0;32min\u001b[0m \u001b[0mwords\u001b[0m\u001b[0;34m]\u001b[0m\u001b[0;34m)\u001b[0m\u001b[0;34m\u001b[0m\u001b[0;34m\u001b[0m\u001b[0m\n\u001b[0m\u001b[1;32m      5\u001b[0m \u001b[0msimilarity\u001b[0m\u001b[0;34m[\u001b[0m\u001b[0msimilarity\u001b[0m \u001b[0;34m==\u001b[0m \u001b[0;32mNone\u001b[0m\u001b[0;34m]\u001b[0m \u001b[0;34m=\u001b[0m \u001b[0;36m0\u001b[0m\u001b[0;34m\u001b[0m\u001b[0;34m\u001b[0m\u001b[0m\n\u001b[1;32m      6\u001b[0m \u001b[0;34m\u001b[0m\u001b[0m\n",
            "\u001b[0;32m/usr/local/lib/python3.7/dist-packages/nltk/corpus/reader/wordnet.py\u001b[0m in \u001b[0;36mlch_similarity\u001b[0;34m(self, other, verbose, simulate_root)\u001b[0m\n\u001b[1;32m    836\u001b[0m                 \u001b[0;34m'Computing the lch similarity requires '\u001b[0m\u001b[0;34m\u001b[0m\u001b[0;34m\u001b[0m\u001b[0m\n\u001b[1;32m    837\u001b[0m                 \u001b[0;34m'%s and %s to have the same part of speech.'\u001b[0m \u001b[0;34m%\u001b[0m\u001b[0;34m\u001b[0m\u001b[0;34m\u001b[0m\u001b[0m\n\u001b[0;32m--> 838\u001b[0;31m                 \u001b[0;34m(\u001b[0m\u001b[0mself\u001b[0m\u001b[0;34m,\u001b[0m \u001b[0mother\u001b[0m\u001b[0;34m)\u001b[0m\u001b[0;34m\u001b[0m\u001b[0;34m\u001b[0m\u001b[0m\n\u001b[0m\u001b[1;32m    839\u001b[0m             )\n\u001b[1;32m    840\u001b[0m \u001b[0;34m\u001b[0m\u001b[0m\n",
            "\u001b[0;31mWordNetError\u001b[0m: Computing the lch similarity requires Synset('rear.v.02') and Synset('activism.n.01') to have the same part of speech."
          ]
        }
      ]
    },
    {
      "cell_type": "markdown",
      "metadata": {
        "id": "dPAUWP265Os1"
      },
      "source": [
        "# Código de exploración\n"
      ]
    },
    {
      "cell_type": "code",
      "metadata": {
        "colab": {
          "base_uri": "https://localhost:8080/"
        },
        "id": "bO00fflbA7GL",
        "outputId": "0073bfa7-836e-4d9e-eab0-517b400705c4"
      },
      "source": [
        "# Sinónimos --------------------\n",
        "synonyms = []\n",
        "for syn in wn.synsets('sun'):\n",
        "    for lemma in syn.lemmas():\n",
        "        synonyms.append(lemma.name())\n",
        "pp.pprint(set(synonyms))"
      ],
      "execution_count": null,
      "outputs": [
        {
          "output_type": "stream",
          "text": [
            "{'Dominicus', \"Lord's_Day\", 'Sun', 'Sunday', 'insolate', 'solarise', 'solarize',\n",
            " 'sun', 'sunbathe', 'sunlight', 'sunshine'}\n"
          ],
          "name": "stdout"
        }
      ]
    },
    {
      "cell_type": "code",
      "metadata": {
        "colab": {
          "base_uri": "https://localhost:8080/"
        },
        "id": "I8CXL4QvA-k9",
        "outputId": "33785cdb-18e9-4764-e405-5cdd9bb65cbb"
      },
      "source": [
        "# jugando con los tags de TED\n",
        "cb = wn.synsets('astronomy')[0]\n",
        "ib = wn.synsets('sun')[4]\n",
        "cb.wup_similarity(ib)\n",
        "\n",
        "# 0-0: 10.5%\n",
        "# 0-1:  8.7%\n",
        "# 0-2: 11.1%\n",
        "# 0-3: 10.5%\n",
        "# 0-4: 20.0%\n",
        "# 0-5: nada \n",
        "# 0-6: nada\n",
        "# 0-7: Error, naturalmente"
      ],
      "execution_count": null,
      "outputs": [
        {
          "output_type": "execute_result",
          "data": {
            "text/plain": [
              "0.2"
            ]
          },
          "metadata": {
            "tags": []
          },
          "execution_count": 130
        }
      ]
    },
    {
      "cell_type": "code",
      "metadata": {
        "colab": {
          "base_uri": "https://localhost:8080/"
        },
        "id": "DOw5rwoSBqpf",
        "outputId": "bd7d7f69-1ab9-46ff-89d1-80e1a43bd7f9"
      },
      "source": [
        "wn.synsets('astronomy')"
      ],
      "execution_count": 43,
      "outputs": [
        {
          "output_type": "execute_result",
          "data": {
            "text/plain": [
              "[Synset('astronomy.n.01')]"
            ]
          },
          "metadata": {
            "tags": []
          },
          "execution_count": 43
        }
      ]
    }
  ]
}