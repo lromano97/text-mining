{
  "nbformat": 4,
  "nbformat_minor": 0,
  "metadata": {
    "colab": {
      "name": "Entrenamiento.ipynb",
      "provenance": []
    },
    "kernelspec": {
      "name": "python3",
      "display_name": "Python 3"
    },
    "language_info": {
      "name": "python"
    }
  },
  "cells": [
    {
      "cell_type": "code",
      "metadata": {
        "id": "X1VHiUHld4tZ"
      },
      "source": [
        "from sklearn.linear_model import LogisticRegression\n",
        "from sklearn.svm import LinearSVC\n",
        "from sklearn.naive_bayes import GaussianNB\n",
        "from sklearn.tree import DecisionTreeClassifier\n",
        "from sklearn.ensemble import StackingClassifier, RandomForestClassifier, AdaBoostClassifier\n",
        "\n",
        "estimators = [\n",
        "    ('rf', RandomForestClassifier()),\n",
        "    ('svr', LinearSVC()),\n",
        "    ('nb', GaussianNB()),\n",
        "    ('dt', DecisionTreeClassifier()),\n",
        "    ('ab', AdaBoostClassifier())\n",
        "]\n",
        "\n",
        "model = StackingClassifier(estimators=estimators, final_estimator=LogisticRegression())\n",
        "\n",
        "model.fit(X_train_transform.toarray(), y_train).score(X_test_transform.toarray(), y_test)\n",
        "\n",
        "model.predict(X_test_transform.toarray())"
      ],
      "execution_count": null,
      "outputs": []
    }
  ]
}