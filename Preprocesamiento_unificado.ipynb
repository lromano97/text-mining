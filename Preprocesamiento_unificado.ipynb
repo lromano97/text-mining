{
  "nbformat": 4,
  "nbformat_minor": 0,
  "metadata": {
    "kernelspec": {
      "language": "python",
      "display_name": "Python 3",
      "name": "python3"
    },
    "language_info": {
      "name": "python",
      "version": "3.7.9",
      "mimetype": "text/x-python",
      "codemirror_mode": {
        "name": "ipython",
        "version": 3
      },
      "pygments_lexer": "ipython3",
      "nbconvert_exporter": "python",
      "file_extension": ".py"
    },
    "colab": {
      "name": "Preprocesamiento_unificado.ipynb",
      "provenance": [],
      "collapsed_sections": [
        "XwoLq6VBrCjt",
        "RlET95BVsWvs",
        "5shxu71ks4bR",
        "oWMIj6H-tyjM",
        "uATgZUnBt-PQ",
        "xA-ljomCxSXS",
        "dVVsBEFASRXq",
        "YKHTontv1LDm",
        "d0NQAgmuROle",
        "kNv2YNWG5ZCR",
        "BQ6vZ-KA5ZCW",
        "8gIt3zGT5ZCZ",
        "dnt9co3sNJn6",
        "TQmuXA03EC2L",
        "o1r7H96vFIqG",
        "wV5PW2yXNOoO",
        "UodehxU8N_FO"
      ],
      "toc_visible": true
    }
  },
  "cells": [
    {
      "cell_type": "markdown",
      "metadata": {
        "id": "aY9MeBbDn0hw"
      },
      "source": [
        "<center> <img src=\"https://www.austral.edu.ar/ingenieria-posgrados/wp-content/uploads/2018/06/ua-ingenieria-color-logo.png\"/> </center>\n",
        "\n",
        "## Text Mining\n",
        "## Proyecto: Clasificador de TED Talks\n",
        "\n",
        "\n",
        "\n"
      ]
    },
    {
      "cell_type": "markdown",
      "metadata": {
        "id": "UyJveTWhzzSA"
      },
      "source": [
        "### 01.Preprocesamiento"
      ]
    },
    {
      "cell_type": "markdown",
      "metadata": {
        "id": "XwoLq6VBrCjt"
      },
      "source": [
        "#### 01.00 - Preparación del Entorno"
      ]
    },
    {
      "cell_type": "code",
      "metadata": {
        "trusted": true,
        "id": "mpS-KN-QPcjQ"
      },
      "source": [
        "# Instalación de Bibliotecas y recursos\n",
        "! pip install -U spacy\n",
        "! pip install https://github.com/explosion/spacy-models/releases/download/en_core_web_lg-3.0.0/en_core_web_lg-3.0.0.tar.gz\n",
        "! pip install unidecode\n",
        "! pip install bs4\n",
        "\n",
        "# Importacion de bibliotecas\n",
        "import os\n",
        "import os.path\n",
        "import pprint\n",
        "import string\n",
        "import unidecode\n",
        "import ast\n",
        "import re\n",
        "import bs4\n",
        "import time\n",
        "import requests\n",
        "import json\n",
        "import random\n",
        "import warnings\n",
        "import gc\n",
        "import pprint\n",
        "import warnings\n",
        "import nltk\n",
        "import spacy\n",
        "import pandas as pd\n",
        "import numpy as np\n",
        "import plotly.express as px\n",
        "import matplotlib.pyplot as plt\n",
        "import seaborn as sns\n",
        "\n",
        "# Generales\n",
        "from scipy.stats import gaussian_kde\n",
        "from multiprocessing import Manager, Process\n",
        "from bs4 import BeautifulSoup\n",
        "from datetime import datetime\n",
        "from google.colab import drive\n",
        "from spacy import displacy\n",
        "\n",
        "# NLTK\n",
        "from nltk.text import Text\n",
        "from nltk.tokenize import word_tokenize, sent_tokenize\n",
        "from nltk.corpus import stopwords\n",
        "from nltk.stem import SnowballStemmer\n",
        "from nltk.corpus import wordnet as wn\n",
        "from nltk.collocations import BigramCollocationFinder,BigramAssocMeasures\n",
        "\n",
        "# SKLEARN\n",
        "from sklearn.cluster import AffinityPropagation\n",
        "from sklearn.feature_extraction.text import TfidfVectorizer\n",
        "from sklearn.feature_extraction.text import CountVectorizer\n",
        "from sklearn.model_selection import train_test_split\n",
        "from sklearn.pipeline import Pipeline\n",
        "from sklearn.linear_model import LogisticRegression\n",
        "from sklearn.svm import LinearSVC\n",
        "from sklearn.naive_bayes import GaussianNB\n",
        "from sklearn.tree import DecisionTreeClassifier\n",
        "from sklearn.linear_model import LogisticRegression\n",
        "from sklearn.ensemble import StackingClassifier, RandomForestClassifier, AdaBoostClassifier, GradientBoostingClassifier\n",
        "from sklearn.metrics.pairwise import cosine_similarity\n",
        "from sklearn.multiclass import OneVsRestClassifier\n",
        "from sklearn.preprocessing import MultiLabelBinarizer\n",
        "from sklearn.metrics import accuracy_score, recall_score, precision_score\n",
        "\n",
        "# Variables\n",
        "ted_file = 'Ted_Talk.csv'\n",
        "language = 'english'\n",
        "\n",
        "# PrettyPrinter\n",
        "pp = pprint.PrettyPrinter(compact=True)\n",
        "pp = pprint.PrettyPrinter(indent=4, compact=True)\n",
        "\n",
        "# No mostrar warnings\n",
        "warnings.filterwarnings('ignore')\n",
        "\n",
        "nltk.download('all')\n",
        "nltk.download('wordnet')\n",
        "\n",
        "nlp = spacy.load(\"en_core_web_lg\")\n",
        "\n",
        "language_stops = set(stopwords.words(language))\n",
        "language_stops.update(string.punctuation)"
      ],
      "execution_count": null,
      "outputs": []
    },
    {
      "cell_type": "markdown",
      "metadata": {
        "id": "RlET95BVsWvs"
      },
      "source": [
        "#### 01.01 - Funciones Principales"
      ]
    },
    {
      "cell_type": "code",
      "metadata": {
        "trusted": true,
        "id": "XODk3OYsPcjS"
      },
      "source": [
        "def remove_stop_words(text):\n",
        "  \"\"\"\n",
        "    Remueve stop words en inglés\n",
        "\n",
        "    Attributes\n",
        "    ----------\n",
        "    text: list\n",
        "      lista de palabras (tokens) a filtrar\n",
        "\n",
        "    Returns\n",
        "    -------\n",
        "    list\n",
        "      lista de palabras sin los stop words\n",
        "  \"\"\"\n",
        "  return [token for token in text if token.lower() not in language_stops]"
      ],
      "execution_count": null,
      "outputs": []
    },
    {
      "cell_type": "code",
      "metadata": {
        "trusted": true,
        "id": "RiXgrc6zPcjT"
      },
      "source": [
        "def lematize_words(text):\n",
        "  \"\"\"\n",
        "    Lematización de palabras - aplica lematización de palabras sobre un set de tokens\n",
        "\n",
        "    Attributes\n",
        "    ----------\n",
        "    text: list\n",
        "      lista de palabras (tokens) sobre los cuales se aplicará la lematización\n",
        "    \n",
        "    Returns\n",
        "    -------\n",
        "    list\n",
        "      lista con todas las lematizaciones de las palabras\n",
        "  \"\"\"\n",
        "  doc = nlp(\" \".join(text))\n",
        "  return [token.lemma_ for token in doc]"
      ],
      "execution_count": null,
      "outputs": []
    },
    {
      "cell_type": "code",
      "metadata": {
        "trusted": true,
        "id": "lxBj3K1CPcjT"
      },
      "source": [
        "def remove_meaningless_words(text):\n",
        "  \"\"\"\n",
        "    Remueve palabras sin significado\n",
        "\n",
        "    Attributes\n",
        "    ----------\n",
        "    text: list\n",
        "      lista de palabras (tokens) a filtrar\n",
        "    \n",
        "    Returns\n",
        "    -------\n",
        "    list\n",
        "      lista de palabras filtrada en base a expresiones regulares\n",
        "  \"\"\"\n",
        "  patterns = [r\"(^={1,}=$)\", r'\\u200b']\n",
        "  tokens = text\n",
        "  for pattern in patterns:\n",
        "    regexp = re.compile(pattern)\n",
        "    tokens = [token for token in tokens if not regexp.search(token)]\n",
        "  return tokens"
      ],
      "execution_count": null,
      "outputs": []
    },
    {
      "cell_type": "code",
      "metadata": {
        "id": "N8pyM7nUg5_Y"
      },
      "source": [
        "def clean_short_words(text):\n",
        "  \"\"\"\n",
        "    Limpia palabras con longitud 1\n",
        "\n",
        "    Attributes\n",
        "    ----------\n",
        "    text: str\n",
        "      documento a tokenizar\n",
        "    \n",
        "    Returns\n",
        "    -------\n",
        "    list\n",
        "      lista de tokens\n",
        "  \"\"\"\n",
        "  return [word for word in text if len(word) > 1]"
      ],
      "execution_count": null,
      "outputs": []
    },
    {
      "cell_type": "code",
      "metadata": {
        "trusted": true,
        "id": "oZzaWUJ-PcjU"
      },
      "source": [
        "def tokenize(text, mode='word'): \n",
        "  \"\"\"\n",
        "    Tokenización de documento - tokeniza un documento por palabra o por oración\n",
        "\n",
        "    Attributes\n",
        "    ----------\n",
        "    text: str\n",
        "      documento a tokenizar\n",
        "    mode: str, optional\n",
        "      método de tokenización (default: 'word' (por palabra))\n",
        "    \n",
        "    Returns\n",
        "    -------\n",
        "    list\n",
        "      lista de tokens \n",
        "    \n",
        "    Raises\n",
        "    ------\n",
        "      Exception\n",
        "        si el mode no es 'word' o 'sentence'\n",
        "  \"\"\"\n",
        "  if mode == 'word':\n",
        "    return word_tokenize(text, language=language)\n",
        "  elif mode == 'sentence':\n",
        "    return sent_tokenize(text, language=language)\n",
        "  else:\n",
        "    raise Exception('metodo de tokenizacion no encontrado')"
      ],
      "execution_count": null,
      "outputs": []
    },
    {
      "cell_type": "code",
      "metadata": {
        "id": "W_ztZFXvaJwL"
      },
      "source": [
        "def similarity_btw_docs(matrix):\n",
        "  \"\"\"\n",
        "    Similitud entre documentos - calcula la similitud entre documentos utilizando Similitud del Coseno\n",
        "\n",
        "    Attributes\n",
        "    ----------\n",
        "    matrix: scipy matrix\n",
        "      Matriz dispersa para calcular la similaridad\n",
        "\n",
        "    Returns\n",
        "    -------\n",
        "    pd.DataFrame\n",
        "      retorna un dataframe con el grado de similaridad entre documentos (de 0 a 1)\n",
        "  \"\"\"\n",
        "  matrix_simil = cosine_similarity(matrix)\n",
        "  return pd.DataFrame(matrix_simil)"
      ],
      "execution_count": null,
      "outputs": []
    },
    {
      "cell_type": "code",
      "metadata": {
        "trusted": true,
        "id": "Bf4WsWGvPcjU"
      },
      "source": [
        "def pre_procesamiento_texto(text):\n",
        "  \"\"\"\n",
        "    Pre-procesamiento y obtención de las 20 palabras más significativas\n",
        "\n",
        "    Attributes\n",
        "    ----------\n",
        "    text: str\n",
        "      documento a analizar\n",
        "\n",
        "    Returns\n",
        "    -------\n",
        "    pd.DataFrame\n",
        "      retorna un dataframe con las 20 palabras que más se repiten y su frecuencia\n",
        "  \"\"\"\n",
        "  tokenized = tokenize(text)\n",
        "  without_stops = remove_stop_words(tokenized)\n",
        "  meaningfull_tokens = remove_meaningless_words(without_stops)\n",
        "  without_short_words = clean_short_words(meaningfull_tokens)\n",
        "  lematized_words = lematize_words(without_short_words)\n",
        "  return lematized_words"
      ],
      "execution_count": null,
      "outputs": []
    },
    {
      "cell_type": "code",
      "metadata": {
        "id": "6e-TwcgTfEdm"
      },
      "source": [
        "def remove_character(serie, char):\n",
        "  \"\"\"\n",
        "    Pre-procesamiento y obtención de las 20 palabras más significativas\n",
        "\n",
        "    Attributes\n",
        "    ----------\n",
        "    serie: pd.Serie\n",
        "      columna de dataframe a modificar\n",
        "    char: char\n",
        "      caracter a remover\n",
        "\n",
        "    Returns\n",
        "    -------\n",
        "    pd.Serie\n",
        "      retorna una serie\n",
        "  \"\"\"\n",
        "  return serie.str.replace(char, '')"
      ],
      "execution_count": null,
      "outputs": []
    },
    {
      "cell_type": "code",
      "metadata": {
        "id": "CzoP6oEjAw_S"
      },
      "source": [
        "def get_urls(page_list):\n",
        "  \"\"\"\n",
        "    Obtencion de las urls de las charlas TED\n",
        "\n",
        "    Attributes\n",
        "    ----------\n",
        "    page_list: list\n",
        "      lista de paginas de charlas TED\n",
        "\n",
        "    Returns\n",
        "    -------\n",
        "    list\n",
        "      retorna una lista con todas las urls de las charlas TED\n",
        "  \"\"\"\n",
        "  urls = [\"https://www.ted.com\" + url.select(\"div.media__image a.ga-link\")[0].get(\"href\") for url in page_list]\n",
        "  return urls"
      ],
      "execution_count": null,
      "outputs": []
    },
    {
      "cell_type": "code",
      "metadata": {
        "id": "eEpby7DOCgvL"
      },
      "source": [
        "def get_transcript(url, count):\n",
        "  \"\"\"\n",
        "    Obtiene la transcripcion de una determinada charla ted\n",
        "\n",
        "    Attributes\n",
        "    ----------\n",
        "    url: str\n",
        "      url de la charla TED\n",
        "    count: int\n",
        "      indice de la pagina url\n",
        "\n",
        "    Returns\n",
        "    -------\n",
        "    str\n",
        "      retorna una cadena de caracteres con la transcripcion de la charla TED\n",
        "  \"\"\"\n",
        "  transcript = \"\"\n",
        "  transcript_res = requests.get(url, headers = {'User-agent': 'your bot 0.1'})\n",
        "  soup = BeautifulSoup(transcript_res.text)\n",
        "  e = soup.select('div.Grid.Grid--with-gutter.p-b:4')\n",
        "\n",
        "  for  e_  in e:\n",
        "    classes = e_.get('class')\n",
        "    text = e_.select('p')[0].text\n",
        "    transcript += text.strip().replace('\\t', '').replace('\\n', ' ')\n",
        "                                \n",
        "  if (transcript_res.status_code != 200) or (transcript_res.text == '') or (transcript == ''):\n",
        "    count_=0\n",
        "    while  count_ < 3: \n",
        "      time.sleep(random.randint(0,900)/1000)\n",
        "      transcript_res = requests.get(url, headers = {'User-agent': 'your bot 0.1'})\n",
        "      soup = BeautifulSoup(transcript_res.text)\n",
        "      e = soup.select('div.Grid.Grid--with-gutter.p-b:4')\n",
        "\n",
        "      for  e_  in e:\n",
        "        classes = e_.get('class')\n",
        "        text = e_.select('p')[0].text\n",
        "        transcript += text.strip().replace('\\t', '').replace('\\n', ' ')\n",
        "\n",
        "      count_ += 1\n",
        "      if (transcript_res.status_code == 200) and (transcript_res.text != '') and (transcript != ''):\n",
        "        break\n",
        "\n",
        "  return transcript"
      ],
      "execution_count": null,
      "outputs": []
    },
    {
      "cell_type": "code",
      "metadata": {
        "id": "tbFeF_2QDiht"
      },
      "source": [
        "def get__json_obj(url):\n",
        "  \"\"\"\n",
        "    Obtiene el objecto JSON de una respectiva URL\n",
        "\n",
        "    Attributes\n",
        "    ----------\n",
        "    url: str\n",
        "      url a analizar\n",
        "\n",
        "    Returns\n",
        "    -------\n",
        "    str\n",
        "      retorna una cadena de caracteres que representa el objeto JSON de la URL\n",
        "  \"\"\"\n",
        "  res = requests.get(url.strip(), headers = {'User-agent': 'your bot 0.1'})\n",
        "  start_index = res.text.find('<script data-spec=\"q\">q(\"talkPage.init\",')\n",
        "  end_index = res.text[start_index:].find(')</script>')\n",
        "  script_tag = res.text[start_index: start_index + end_index]\n",
        "  return script_tag[len('<script data-spec=\"q\">q(\"talkPage.init\",'):]"
      ],
      "execution_count": null,
      "outputs": []
    },
    {
      "cell_type": "code",
      "metadata": {
        "id": "kMJpi2ezDl14"
      },
      "source": [
        "def get_value(l, m):\n",
        "  \"\"\"\n",
        "    Obtiene el valor de un elemento HTML\n",
        "\n",
        "    Attributes\n",
        "    ----------\n",
        "    l: list\n",
        "      elementos\n",
        "    m: s\n",
        "      metadata\n",
        "\n",
        "    Returns\n",
        "    -------\n",
        "    str\n",
        "      retorna el valor del elemento HTML\n",
        "  \"\"\"\n",
        "  for i in l:\n",
        "    try:\n",
        "      m = m[i]\n",
        "    except: \n",
        "      return ''\n",
        "  return m"
      ],
      "execution_count": null,
      "outputs": []
    },
    {
      "cell_type": "code",
      "metadata": {
        "id": "gzRUPBOyDnPi"
      },
      "source": [
        "def html_to_text(html):\n",
        "  \"\"\"\n",
        "    Convierte un valor HTML a cadena de caracteres\n",
        "\n",
        "    Attributes\n",
        "    ----------\n",
        "    html: str\n",
        "      valor de elemento HTML\n",
        "\n",
        "    Returns\n",
        "    -------\n",
        "    str\n",
        "      retorna la representacion del valor del elemento HTML en cadena de caracdteres\n",
        "  \"\"\"\n",
        "  if str(html) != 'nan':\n",
        "    soup = BeautifulSoup(html)\n",
        "    return soup.get_text()\n",
        "  else: \n",
        "    return html"
      ],
      "execution_count": null,
      "outputs": []
    },
    {
      "cell_type": "code",
      "metadata": {
        "id": "ic8DxLvnHnJf"
      },
      "source": [
        "def get_elements_dict_from_url(count, url, json_obj):\n",
        "  \"\"\"\n",
        "    Generacion de diccionario de elementos de una URL\n",
        "\n",
        "    Attributes\n",
        "    ----------\n",
        "    count: int\n",
        "      indice de la URL dentro del listado de URLs\n",
        "    url: str\n",
        "      url a analizar\n",
        "    json_obj: str\n",
        "      objeto JSON de la URL\n",
        "\n",
        "    Returns\n",
        "    -------\n",
        "    dict\n",
        "      retorna un diccionario que contiene todos los elementos HTML con sus respectivos valores\n",
        "  \"\"\"\n",
        "  metadata = json.loads(json_obj)[\"__INITIAL_DATA__\"]\n",
        "  language = get_value([\"language\"], metadata)\n",
        "  url__transcript = url + \"/transcript?language=\" + language\n",
        "  temp = get_value([\"talks\", 0, \"recorded_at\"], metadata)\n",
        "  t = get_value([\"talks\", 0, \"player_talks\", 0, \"published\"], metadata)\n",
        "\n",
        "  elements_dict = dict()\n",
        "  elements_dict[\"language\"] = language\n",
        "  elements_dict[\"talk__id\"] = get_value([\"current_talk\"], metadata)\n",
        "  elements_dict[\"talk__name\"] = get_value([\"talks\", 0, \"title\"], metadata)\n",
        "  elements_dict[\"talk__description\"] = get_value([\"description\"], metadata)\n",
        "  elements_dict[\"view_count\"] = get_value([\"viewed_count\"], metadata)\n",
        "  elements_dict[\"duration\"] = get_value([\"talks\", 0, \"duration\"], metadata)\n",
        "  elements_dict[\"transcript\"] = get_transcript(url__transcript,count)\n",
        "  elements_dict[\"video_type_name\"] = get_value([\"talks\", 0, \"video_type\", \"name\"], metadata)\n",
        "  elements_dict[\"event\"] = get_value([\"event\"], metadata)               \n",
        "  elements_dict[\"speaker__id\"] = get_value([\"speakers\", 0, \"id\"], metadata)                        \n",
        "  elements_dict[\"speaker__name\"] = get_value([\"talks\", 0, \"speaker_name\"], metadata)\n",
        "  elements_dict[\"speaker__description\"] = get_value([\"speakers\", 0, \"description\"], metadata)\n",
        "  elements_dict[\"speaker__who_he_is\"] = get_value([\"speakers\", 0, \"whotheyare\"], metadata)\n",
        "  elements_dict[\"speaker__why_listen\"] = html_to_text(get_value([\"speakers\", 0, \"whylisten\"], metadata))\n",
        "  elements_dict[\"all_speakers_details\"] = get_value([\"speakers\"], metadata)                       \n",
        "  elements_dict[\"recording_date\"] = temp if temp == None else temp[:10]                        \n",
        "  elements_dict[\"published_timestamp\"] = datetime.utcfromtimestamp(int(t)).strftime('%Y-%m-%d %H:%M:%S')                      \n",
        "  elements_dict[\"talks__tags\"] = get_value([\"talks\", 0, \"tags\"], metadata)\n",
        "  elements_dict[\"number_of__tags\"] = len(get_value([\"talks\", 0, \"tags\"], metadata) or \"\")                       \n",
        "  elements_dict[\"native_language\"] = get_value([\"talks\", 0, \"player_talks\", 0, \"nativeLanguage\"], metadata)                   \n",
        "  elements_dict[\"url__webpage\"] = get_value([\"url\"], metadata)                    \n",
        "  elements_dict[\"talk__more_resources\"] = get_value([\"talks\", 0, \"more_resources\"], metadata)\n",
        "  elements_dict[\"number_of__talk__more_resources\"] = len(get_value([\"talks\", 0, \"more_resources\"], metadata) or \"\")\n",
        "  elements_dict[\"talk__recommendations__blurb\"] = get_value([\"talks\", 0, \"recommendations\", \"blurb\"], metadata)                    \n",
        "  elements_dict[\"talk__recommendations\"] = get_value([\"talks\", 0, \"recommendations\", \"rec_lists\"], metadata)\n",
        "  elements_dict[\"number_of__talk__recommendations\"] = len(get_value([\"talks\", 0, \"recommendations\", \"rec_lists\"], metadata) or \"\")\n",
        "  elements_dict[\"related_talks\"] = get_value([\"talks\", 0, \"related_talks\"], metadata)\n",
        "  elements_dict[\"number_of__related_talks\"] = len(get_value([\"talks\", 0, \"related_talks\"], metadata) or \"\")\n",
        "\n",
        "  return elements_dict"
      ],
      "execution_count": null,
      "outputs": []
    },
    {
      "cell_type": "code",
      "metadata": {
        "id": "dsGz8F2JBcli"
      },
      "source": [
        "def download(urls, id_, csv_list):\n",
        "  \"\"\"\n",
        "    Descarga toda la informacion respecto a las charlas TED\n",
        "\n",
        "    Attributes\n",
        "    ----------\n",
        "    urls: list\n",
        "      lista de URLs a descargar\n",
        "    id_: int\n",
        "      id de cada pagina dentro de la lista\n",
        "    csv_list: list\n",
        "      csv donde se guardara la informacion respecto a las charlas ted\n",
        "  \"\"\"\n",
        "  for count, url in enumerate(urls):\n",
        "    json_obj = get__json_obj(url)\n",
        "\n",
        "    if not json_obj:\n",
        "      count=0\n",
        "      while count < 3:    \n",
        "        json_obj  =  get__json_obj(url)\n",
        "        count += 1\n",
        "        if json_obj:\n",
        "          break\n",
        "\n",
        "    if not json_obj:\n",
        "      continue\n",
        "    else:\n",
        "      csv_list.append(get_elements_dict_from_url(count, url, json_obj))"
      ],
      "execution_count": null,
      "outputs": []
    },
    {
      "cell_type": "code",
      "metadata": {
        "id": "-zas0aNy_vzU"
      },
      "source": [
        "def scrape_ted_urls(urls, file_name):\n",
        "  \"\"\"\n",
        "    Realiza un proceso de web-scraping sobre todas las charlas TED\n",
        "\n",
        "    Attributes\n",
        "    ----------\n",
        "    urls: list\n",
        "      URL de charlas TED a scrappear\n",
        "    file_name: list\n",
        "      nombre de archivo donde se guardara toda la informacion de las charlas TED\n",
        "  \"\"\"\n",
        "  csv_list_ = []\n",
        "  \n",
        "  with Manager() as manager:\n",
        "      csv_list = manager.list()\n",
        "      Processess = []\n",
        "      \n",
        "      urls_  = [urls[(i*(len(urls)//100)):((i+1)*(len(urls)//100))] for i in range(100)]\n",
        "      \n",
        "      leftovers = urls[(100*(len(urls)//100)):len(urls)]\n",
        "\n",
        "      for i in range(len(leftovers)):\n",
        "        urls_[i] += [leftovers[i]]\n",
        "      \n",
        "      for (id_,urls__) in enumerate(urls_):\n",
        "          p = Process(target=download, args=(urls__,id_,csv_list))\n",
        "          Processess.append(p)\n",
        "          p.start()\n",
        "          \n",
        "      for t in Processess:\n",
        "        t.join()\n",
        "      \n",
        "      csv_list_ = list(csv_list)\n",
        "\n",
        "  dataframe_ted = pd.DataFrame(csv_list_).sort_values(\"view_count\", ascending=False)\n",
        "  dataframe_ted.to_csv(file_name, index=False, encoding='utf-8')"
      ],
      "execution_count": null,
      "outputs": []
    },
    {
      "cell_type": "code",
      "metadata": {
        "id": "OiFhHSnhFsQD"
      },
      "source": [
        "def get_page_text(page_number):\n",
        "  \"\"\"\n",
        "    Obtiene la URL de una charla TED\n",
        "\n",
        "    Attributes\n",
        "    ----------\n",
        "    page_number: int\n",
        "      numero de pagina\n",
        "\n",
        "    Returns\n",
        "    -------\n",
        "    str\n",
        "      retorna la URL de una charla TED\n",
        "  \"\"\"\n",
        "  res = requests.get(\"https://www.ted.com/talks?sort=popular&page=\" + str(page_number), headers = {'User-agent': 'your bot 0.1'})\n",
        "  soup = bs4.BeautifulSoup(res.text)\n",
        "  element = soup.select(\"div.container.results div.col\")\n",
        "  return element"
      ],
      "execution_count": null,
      "outputs": []
    },
    {
      "cell_type": "code",
      "metadata": {
        "id": "qOpNgRMhFZEg"
      },
      "source": [
        "def retrieve_pages_url():\n",
        "  \"\"\"\n",
        "    Obtiene las URL de todas las charlas TED en un determinado idioma\n",
        "\n",
        "    Returns\n",
        "    -------\n",
        "    list\n",
        "      retorna un listado de URL de cada charla TED en un determinado idioma\n",
        "  \"\"\"\n",
        "  urls = []\n",
        "  page_number=1\n",
        "\n",
        "  while 1:\n",
        "    page_list_urls = get_page_text(page_number)\n",
        "    \n",
        "    if len(page_list_urls) == 0:    \n",
        "      break\n",
        "    \n",
        "    page_number += 1\n",
        "    urls += get_urls(page_list_urls)\n",
        "\n",
        "  file_ted = open('TED_Talk_URLs.txt', 'w')\n",
        "  file_ted.write('\\n'.join(urls))\n",
        "  file_ted.close()\n",
        "\n",
        "  return urls"
      ],
      "execution_count": null,
      "outputs": []
    },
    {
      "cell_type": "markdown",
      "metadata": {
        "id": "5shxu71ks4bR"
      },
      "source": [
        "#### 01.02 - Carga de Datos - Web Scrapping"
      ]
    },
    {
      "cell_type": "code",
      "metadata": {
        "id": "ad2Jk-jPAXqP",
        "colab": {
          "base_uri": "https://localhost:8080/"
        },
        "outputId": "19ddb663-dbeb-46a2-b8b9-bff0b199069e"
      },
      "source": [
        "# Activando Google Drive para guardar la información\n",
        "drive.mount('/content/gdrive')\n",
        "\n",
        "# Directorio donde se guardara/buscara el archivo que contiene la informacion de las charlas TED\n",
        "os.chdir('/content/gdrive/My Drive')"
      ],
      "execution_count": null,
      "outputs": [
        {
          "output_type": "stream",
          "text": [
            "Mounted at /content/gdrive\n"
          ],
          "name": "stdout"
        }
      ]
    },
    {
      "cell_type": "code",
      "metadata": {
        "id": "IxEo7dxz-qN5"
      },
      "source": [
        "# Si no existe el archivo de TED, hace toda la falopeada de web-scraping asquerosa copy-pasted (toma 6 minutos aprox)\n",
        "if not os.path.isfile(ted_file):\n",
        "  ted_urls = retrieve_pages_url()\n",
        "  scrape_ted_urls(ted_urls, ted_file)"
      ],
      "execution_count": null,
      "outputs": []
    },
    {
      "cell_type": "code",
      "metadata": {
        "id": "ddpJ2qlb__Ph"
      },
      "source": [
        "tedx_df = pd.read_csv(ted_file)\n",
        "tedx_df.head()"
      ],
      "execution_count": null,
      "outputs": []
    },
    {
      "cell_type": "markdown",
      "metadata": {
        "id": "oWMIj6H-tyjM"
      },
      "source": [
        "#### 01.03 - Exploración de los Datasets (DS)"
      ]
    },
    {
      "cell_type": "markdown",
      "metadata": {
        "id": "uATgZUnBt-PQ"
      },
      "source": [
        "##### *Dataset (DS):*\n",
        " Se genera un DS de trabajo con mas de 5000 observaciones a partir de la aplicación de Web Scrapping en https://www.ted.com/talks?sort=popular&page=1, el ds de trabajo contempla tanto la metadata de las ted talks como las transcripciones.\n",
        "\n",
        "Variables:\n",
        "\n",
        "1. talk__id: N° de ID de la Ted Talk\n",
        "2. talk__name: Nombre de la Ted Talk\n",
        "3. talk__description: Descripción de la Ted Talk\n",
        "4. view_count: Cantidad de Vistas (visitas)\n",
        "5. duration: duración de la Ted Talk en minutos\n",
        "6. transcript: transcripción de la Ted Talk\n",
        "7. video_type_name: Tipo de Ted Talk\n",
        "8. event: evento\n",
        "9. speaker__id: id del speaker\n",
        "10. speaker__name: nombre del speaker\n",
        "11. speaker__description: ocupación del speaker\n",
        "12. speaker__who_he_is: descripción del Speaker\n",
        "13. speaker__why_listen: \n",
        "14. all_speakers_details: \n",
        "15. recording_date: \n",
        "16. published_timestamp: \n",
        "17. talks__tags: Tags (Variable Target)\n",
        "18. number_of__tags: cantidad de Tags\n",
        "19. language: Idioma\n",
        "20. native_language\n",
        "21. url__webpage\n",
        "22. talk__more_resources\n",
        "23. number_of__talk__more_resources\n",
        "24. talk__recommendations__blurb\n",
        "25. talk__recommendations\n",
        "26. number_of__talk__recommendations\n",
        "27. related_talks\n",
        "28. number_of__related_talks"
      ]
    },
    {
      "cell_type": "code",
      "metadata": {
        "colab": {
          "base_uri": "https://localhost:8080/"
        },
        "id": "UDmY7ce0uINv",
        "outputId": "896e2083-9d33-4541-a40c-e3ea5e53a06a"
      },
      "source": [
        "#Dimensiones\n",
        "print(f\"Dimensiones de DS : {tedx_df.shape}\")"
      ],
      "execution_count": null,
      "outputs": [
        {
          "output_type": "stream",
          "text": [
            "Dimensiones de DS : (5122, 28)\n"
          ],
          "name": "stdout"
        }
      ]
    },
    {
      "cell_type": "code",
      "metadata": {
        "colab": {
          "base_uri": "https://localhost:8080/"
        },
        "id": "MF-USd1VuILm",
        "outputId": "ff9e8fd5-4348-444c-8737-111b70294791"
      },
      "source": [
        "#Valores Repetidos\n",
        "tedx_df.loc[: , [\"talk__id\"]].size - np.unique(tedx_df.loc[: , [\"talk__id\"]]).size #Se confirma que hay un (1) valor duplicado"
      ],
      "execution_count": null,
      "outputs": [
        {
          "output_type": "execute_result",
          "data": {
            "text/plain": [
              "1"
            ]
          },
          "metadata": {
            "tags": []
          },
          "execution_count": 24
        }
      ]
    },
    {
      "cell_type": "code",
      "metadata": {
        "colab": {
          "base_uri": "https://localhost:8080/"
        },
        "id": "9RDzk9SNuIH0",
        "outputId": "07097a0f-4a09-418e-ff2b-fa929d238af1"
      },
      "source": [
        "#Verificamos Observación Repetida\n",
        "def repetidos(x):\n",
        "  y = pd.Series(np.sort(x.values.tolist(), axis = None)).value_counts()\n",
        "  return y[y > 1]\n",
        "\n",
        "repetidos(tedx_df.loc[: , [\"talk__id\"]])"
      ],
      "execution_count": null,
      "outputs": [
        {
          "output_type": "execute_result",
          "data": {
            "text/plain": [
              "36409    2\n",
              "dtype: int64"
            ]
          },
          "metadata": {
            "tags": []
          },
          "execution_count": 25
        }
      ]
    },
    {
      "cell_type": "code",
      "metadata": {
        "id": "ZfrS1X3XuIE0"
      },
      "source": [
        "tedx_df[tedx_df.talk__id == 36409] #Considerando que la transcripción es de tipo NaN, se eliminará el duplicado en el siguiente paso."
      ],
      "execution_count": null,
      "outputs": []
    },
    {
      "cell_type": "code",
      "metadata": {
        "id": "9kcESxRfuICK"
      },
      "source": [
        "#Verificamos idioma:\n",
        "def idiomas(x):\n",
        "  y = pd.Series(np.sort(x.values.tolist(), axis = None)).value_counts()\n",
        "  return y\n",
        "\n",
        "idiomas(tedx_df.loc[: , [\"language\"]])\n",
        "\n",
        "#Existen Ted Talks en distintos idiomas, seleccionamos solo las Ted Talks en Inglés"
      ],
      "execution_count": null,
      "outputs": []
    },
    {
      "cell_type": "code",
      "metadata": {
        "id": "nkOVaqahuH_E"
      },
      "source": [
        "tedx_df = tedx_df[tedx_df.language == 'en']"
      ],
      "execution_count": null,
      "outputs": []
    },
    {
      "cell_type": "markdown",
      "metadata": {
        "id": "YjxQWUodSRXl"
      },
      "source": [
        "##### *Valores Ausentes / Missing Values:* \n",
        "\n",
        "Se observa para las siguientes variables una cantidad de NA's considerable (>= 0.5), por lo que se eliminarán del modelo.\n",
        "\n",
        "Para la variable principal del modelo se observan 587 observaciones con datos faltantes, por ello se limpia el dataset."
      ]
    },
    {
      "cell_type": "code",
      "metadata": {
        "id": "0RTioGHEcki5"
      },
      "source": [
        "#Todas las variables\n",
        "tedx_df.isna().sum() / tedx_df.shape[0]"
      ],
      "execution_count": null,
      "outputs": []
    },
    {
      "cell_type": "code",
      "metadata": {
        "execution": {
          "iopub.status.busy": "2021-05-22T15:31:31.250827Z",
          "iopub.execute_input": "2021-05-22T15:31:31.251107Z",
          "iopub.status.idle": "2021-05-22T15:31:31.269141Z",
          "shell.execute_reply.started": "2021-05-22T15:31:31.251079Z",
          "shell.execute_reply": "2021-05-22T15:31:31.268041Z"
        },
        "trusted": true,
        "colab": {
          "base_uri": "https://localhost:8080/"
        },
        "id": "BAWXmOQ-SRXl",
        "outputId": "226a9091-dccc-4c9c-a73a-4b749751a3d4"
      },
      "source": [
        "#Eliminamos NA's en transcription\n",
        "tedx_df = tedx_df.dropna(subset = ['transcript'])\n",
        "tedx_df.shape"
      ],
      "execution_count": null,
      "outputs": [
        {
          "output_type": "execute_result",
          "data": {
            "text/plain": [
              "(4509, 28)"
            ]
          },
          "metadata": {
            "tags": []
          },
          "execution_count": 30
        }
      ]
    },
    {
      "cell_type": "code",
      "metadata": {
        "id": "jtG0W2XKmXOm"
      },
      "source": [
        "y = tedx_df.isna().sum() / tedx_df.shape[0]\n",
        "y[y >= 0.5].index"
      ],
      "execution_count": null,
      "outputs": []
    },
    {
      "cell_type": "code",
      "metadata": {
        "id": "q4j6P79IfXib"
      },
      "source": [
        "#Eliminamos Variables f > 0.5 NA's\n",
        "tedx_df = tedx_df.drop(columns = y[y >= 0.5].index)\n",
        "\n",
        "tedx_df.shape"
      ],
      "execution_count": null,
      "outputs": []
    },
    {
      "cell_type": "markdown",
      "metadata": {
        "id": "xA-ljomCxSXS"
      },
      "source": [
        "#### 01.04 - Preprocesamiento de Dataset\n",
        "\n",
        "Se toma como referencia el pipeline de: https://medium.com/analytics-vidhya/text-preprocessing-for-nlp-natural-language-processing-beginners-to-master-fd82dfecf95 y se complementa con parte del pipeline de: https://towardsdatascience.com/nlp-text-preprocessing-a-practical-guide-and-template-d80874676e79 (no se corre el tratamiento de contracciones ni de números en forma de texto al no poder instalar pip en Kaggle)"
      ]
    },
    {
      "cell_type": "markdown",
      "metadata": {
        "id": "XMu-lv1-SRXl"
      },
      "source": [
        "##### *Limpieza URL's:* \n",
        "Deberia ser irrelevante debido a que son transcripciones directas de charlas, no deberian existir referencias a URL's dentro del texto. No obstante, se ejecuta este paso de forma preventiva."
      ]
    },
    {
      "cell_type": "code",
      "metadata": {
        "execution": {
          "iopub.status.busy": "2021-05-22T15:31:31.271069Z",
          "iopub.execute_input": "2021-05-22T15:31:31.271397Z",
          "iopub.status.idle": "2021-05-22T15:31:31.322133Z",
          "shell.execute_reply.started": "2021-05-22T15:31:31.271369Z",
          "shell.execute_reply": "2021-05-22T15:31:31.321125Z"
        },
        "trusted": true,
        "id": "nFkGGFZPSRXm"
      },
      "source": [
        "def clean_url(text):\n",
        "    return re.sub(r'http\\S+','',text)\n",
        "\n",
        "tedx_df['CleanTranscript'] = tedx_df['transcript'].apply(clean_url)"
      ],
      "execution_count": null,
      "outputs": []
    },
    {
      "cell_type": "markdown",
      "metadata": {
        "id": "9bPBwsrrSRXm"
      },
      "source": [
        "##### *Limpieza de Tildes:* \n",
        "Deberia ser irrelevante debido a que son textos en Inglés, no obstante, se ejecuta este paso de forma preventiva."
      ]
    },
    {
      "cell_type": "code",
      "metadata": {
        "execution": {
          "iopub.status.busy": "2021-05-22T15:31:31.323476Z",
          "iopub.execute_input": "2021-05-22T15:31:31.323786Z",
          "iopub.status.idle": "2021-05-22T15:31:44.634832Z",
          "shell.execute_reply.started": "2021-05-22T15:31:31.323756Z",
          "shell.execute_reply": "2021-05-22T15:31:44.633824Z"
        },
        "trusted": true,
        "id": "7uiZkPBtSRXm"
      },
      "source": [
        "def remove_tildes(text):\n",
        "    return unidecode.unidecode(text)\n",
        "\n",
        "tedx_df['CleanTranscript'] = tedx_df['CleanTranscript'].apply(remove_tildes)"
      ],
      "execution_count": null,
      "outputs": []
    },
    {
      "cell_type": "markdown",
      "metadata": {
        "id": "oLXJ4PiZSRXn"
      },
      "source": [
        "##### *Limpieza de Caracteres Irrelevantes:* \n",
        "\n",
        "Se eliminan números y signos de puntuación. Hay que considerar el impacto sobre it's, i'm, entre otros..."
      ]
    },
    {
      "cell_type": "code",
      "metadata": {
        "execution": {
          "iopub.status.busy": "2021-05-22T15:31:44.636256Z",
          "iopub.execute_input": "2021-05-22T15:31:44.636574Z",
          "iopub.status.idle": "2021-05-22T15:31:47.409295Z",
          "shell.execute_reply.started": "2021-05-22T15:31:44.636542Z",
          "shell.execute_reply": "2021-05-22T15:31:47.408372Z"
        },
        "trusted": true,
        "id": "9i6O3CMiSRXn"
      },
      "source": [
        "def clean_non_alphanumeric(text):\n",
        "   return re.sub('[^a-zA-Z]',' ',text)\n",
        "\n",
        "tedx_df['CleanTranscript'] = tedx_df['CleanTranscript'].apply(clean_non_alphanumeric)"
      ],
      "execution_count": null,
      "outputs": []
    },
    {
      "cell_type": "markdown",
      "metadata": {
        "id": "xBfMgNyvSRXn"
      },
      "source": [
        "##### *Estandarización de tamaño de letras:* \n",
        "\n",
        "Se convierten todos los caracteres a minusculas"
      ]
    },
    {
      "cell_type": "code",
      "metadata": {
        "execution": {
          "iopub.status.busy": "2021-05-22T15:31:47.410448Z",
          "iopub.execute_input": "2021-05-22T15:31:47.410892Z",
          "iopub.status.idle": "2021-05-22T15:31:47.442874Z",
          "shell.execute_reply.started": "2021-05-22T15:31:47.410859Z",
          "shell.execute_reply": "2021-05-22T15:31:47.442097Z"
        },
        "trusted": true,
        "id": "VzsuhSZASRXn"
      },
      "source": [
        "def clean_lowercase(text):\n",
        "    return str(text).lower()\n",
        "\n",
        "tedx_df['CleanTranscript'] = tedx_df['CleanTranscript'].apply(clean_lowercase)"
      ],
      "execution_count": null,
      "outputs": []
    },
    {
      "cell_type": "markdown",
      "metadata": {
        "id": "dVVsBEFASRXq"
      },
      "source": [
        "#### 01.05 - Tags\n",
        "\n",
        "Referencia: https://www.kaggle.com/rounakbanik/ted-data-analysis"
      ]
    },
    {
      "cell_type": "markdown",
      "metadata": {
        "id": "YKHTontv1LDm"
      },
      "source": [
        "##### *Segmentación por TAGS:* "
      ]
    },
    {
      "cell_type": "code",
      "metadata": {
        "id": "huR-2Kyjf_eu"
      },
      "source": [
        "tedx_df = tedx_df[tedx_df['transcript'] != np.nan]\n",
        "tedx_df = tedx_df[[len(ast.literal_eval(tag)) > 0 for tag in tedx_df['talks__tags']]]"
      ],
      "execution_count": null,
      "outputs": []
    },
    {
      "cell_type": "markdown",
      "metadata": {
        "id": "d0NQAgmuROle"
      },
      "source": [
        "##### *Segmentación por TAGS (cont):* \n",
        "\n",
        "Como resultado del web scrapping en la página TED, vemos que la variable `talks_tags` de cada charla puede tener múltiples valores (desde 0 tags hasta charlas que tienen 31).\n",
        "\n",
        "La solución principal a nuestro modelo sería crear modelos que soporten variables target [*multioutput* y *multiclass*](https://scikit-learn.org/stable/modules/multiclass.html)\n",
        "\n",
        "La exploración de la variable `talks_tags` en esta notebook pretende ver la viabilidad de simplificarlo en ese sentido.\n"
      ]
    },
    {
      "cell_type": "code",
      "metadata": {
        "id": "rZw7GA7IWTAk"
      },
      "source": [
        "# Importando base de datos y extrayendo variables de interés\n",
        "datos = tedx_df[['talks__tags', 'number_of__tags']]\n",
        "\n",
        "# Convirtiendo la variable 'talks__tags' en una lista\n",
        "datos['talks__tags'] = datos['talks__tags'].apply(lambda x: ast.literal_eval(x))\n",
        "datos.head(3)"
      ],
      "execution_count": null,
      "outputs": []
    },
    {
      "cell_type": "markdown",
      "metadata": {
        "id": "T227L9wdX6pM"
      },
      "source": [
        "##### *Exploratorio de la variable talks_tags* \n",
        "\n",
        "\n",
        "Las charlas TED tiene múltiples tags, algunas de ella 0 y algunas pocas hasta 31 tags."
      ]
    },
    {
      "cell_type": "code",
      "metadata": {
        "id": "XyoAvtLavGcv"
      },
      "source": [
        "#datos['number_of__tags'].value_counts()\n",
        "sns.distplot(datos[\"number_of__tags\"]\n",
        "             , hist=True, kde=False, bins=30).set_title('Distribución de Tags en cantidad de charlas TED')\n",
        "sns.set(rc={'figure.figsize':(100,8)})"
      ],
      "execution_count": null,
      "outputs": []
    },
    {
      "cell_type": "markdown",
      "metadata": {
        "id": "OjqEUDZNbqrr"
      },
      "source": [
        "El dataset contiene 347 labels, algunos de ellos con presencia en solo una o dos de las más de 5.000 charlas TED."
      ]
    },
    {
      "cell_type": "code",
      "metadata": {
        "id": "YOAKGAyKY8OJ",
        "colab": {
          "base_uri": "https://localhost:8080/"
        },
        "outputId": "8e456538-69d0-4443-89a7-791a8990112a"
      },
      "source": [
        "# generación de data set para análisis de tags.\n",
        "s = datos.apply(lambda x: pd.Series(x['talks__tags']),axis=1).stack().reset_index(level=1, drop=True)\n",
        "s.name = 'temas'\n",
        "temas_df = datos.drop('talks__tags', axis=1).join(s)\n",
        "temas_df = temas_df.dropna()\n",
        "temas_df = temas_df[['temas']]\n",
        "\n",
        "# conteo de valores únicos en la variable theme\n",
        "temas_df['temas'].value_counts()"
      ],
      "execution_count": null,
      "outputs": [
        {
          "output_type": "execute_result",
          "data": {
            "text/plain": [
              "science          1165\n",
              "technology       1159\n",
              "culture           783\n",
              "TED-Ed            749\n",
              "society           677\n",
              "                 ... \n",
              "pain                2\n",
              "microbes            2\n",
              "goal-setting        1\n",
              "Hinduism            1\n",
              "crowdsourcing       1\n",
              "Name: temas, Length: 347, dtype: int64"
            ]
          },
          "metadata": {
            "tags": []
          },
          "execution_count": 31
        }
      ]
    },
    {
      "cell_type": "code",
      "metadata": {
        "id": "mR1-33HOe4K3"
      },
      "source": [
        "#Verificamos el balance de clases\n",
        "pop_temas = pd.DataFrame(temas_df['temas'].value_counts()).reset_index()\n",
        "pop_temas.columns = ['temas', 'talks']"
      ],
      "execution_count": null,
      "outputs": []
    },
    {
      "cell_type": "code",
      "metadata": {
        "colab": {
          "base_uri": "https://localhost:8080/",
          "height": 338
        },
        "id": "LLJmEXWAgqgp",
        "outputId": "86b5b55e-a00b-458c-d4d3-7519c73c41da"
      },
      "source": [
        "plt.figure(figsize=(30,5))\n",
        "sns.barplot(x='temas', y='talks', data=pop_temas.head(60))\n",
        "plt.xticks(rotation=90)\n",
        "plt.show()"
      ],
      "execution_count": null,
      "outputs": [
        {
          "output_type": "display_data",
          "data": {
            "image/png": "[encoded data removed]",
            "text/plain": [
              "<Figure size 2160x360 with 1 Axes>"
            ]
          },
          "metadata": {
            "tags": []
          }
        }
      ]
    },
    {
      "cell_type": "code",
      "metadata": {
        "id": "lWO3f8a3frsr",
        "colab": {
          "base_uri": "https://localhost:8080/",
          "height": 377
        },
        "outputId": "300cf86b-3eb4-4568-9d25-b9c9cbdb9f44"
      },
      "source": [
        "plt.figure(figsize=(30,5))\n",
        "sns.barplot(x='temas', y='talks', data=pop_temas.tail(60))\n",
        "plt.xticks(rotation=90)\n",
        "plt.show()"
      ],
      "execution_count": null,
      "outputs": [
        {
          "output_type": "display_data",
          "data": {
            "image/png": "[encoded data removed]",
            "text/plain": [
              "<Figure size 2160x360 with 1 Axes>"
            ]
          },
          "metadata": {
            "tags": []
          }
        }
      ]
    },
    {
      "cell_type": "markdown",
      "metadata": {
        "id": "Lx6zQPG0vRIV"
      },
      "source": [
        "##### *Preprocesamiento de la variable talks__tags*\n",
        "\n",
        "Para poder reducir la dimensionalidad de la variable `talks__tags`, necesitamos aplicar los siguientes pasos de preprocesamiento:\n",
        "\n",
        "- [ ] Eliminar los espacios (3D printing -> 3d_printing): el uso de synsets no reconoce las ngrams separadas por espacios, pero sí por letras \n",
        "- [ ] Colocar todas las palabras en minúscula: en particular por ordenamiento\n",
        "- [ ] Eliminar algunos tags: como el caso de los referidos a TED*** o que no tengan un Synset asociado"
      ]
    },
    {
      "cell_type": "code",
      "metadata": {
        "id": "AzHTSzUPLjOq"
      },
      "source": [
        "# Creando una lista con los talks__tags\n",
        "temas = list(set(temas_df['temas']))"
      ],
      "execution_count": null,
      "outputs": []
    },
    {
      "cell_type": "code",
      "metadata": {
        "id": "xrDY6UVjm__i"
      },
      "source": [
        "# Eliminando los tags TED*\n",
        "ted = re.compile(\"TED*.\")\n",
        "tedlist = list(filter(ted.match, temas))\n",
        "temas = [word for word in temas if word not in tedlist]"
      ],
      "execution_count": null,
      "outputs": []
    },
    {
      "cell_type": "code",
      "metadata": {
        "id": "5X7dgJfFnBd1"
      },
      "source": [
        "# Colocando todo el texto en minúscula\n",
        "for i in range(len(temas)):\n",
        "    temas[i] = temas[i].lower()"
      ],
      "execution_count": null,
      "outputs": []
    },
    {
      "cell_type": "code",
      "metadata": {
        "id": "OZ0Xgj2gnDbU"
      },
      "source": [
        "# Remplazando espacios por el caracter _\n",
        "temas = [sub.replace(' ', '_') for sub in temas]"
      ],
      "execution_count": null,
      "outputs": []
    },
    {
      "cell_type": "code",
      "metadata": {
        "colab": {
          "base_uri": "https://localhost:8080/"
        },
        "id": "Wd9qn0W_nEFi",
        "outputId": "1730918b-6c5c-4927-a4b9-7465bbb94f17"
      },
      "source": [
        "# Ordenando la lista\n",
        "temas.sort()\n",
        "pp.pprint(temas)"
      ],
      "execution_count": null,
      "outputs": [
        {
          "output_type": "stream",
          "text": [
            "[   '3d_printing', 'activism', 'addiction', 'africa', 'aging', 'agriculture',\n",
            "    'ai', 'aids', 'algorithm', 'aliens', \"alzheimer's\", 'ancient_world',\n",
            "    'animals', 'animation', 'antarctica', 'anthropocene', 'anthropology',\n",
            "    'archaeology', 'architecture', 'art', 'asia', 'asteroid', 'astrobiology',\n",
            "    'astronomy', 'atheism', 'audacious_project', 'augmented_reality',\n",
            "    'autism_spectrum_disorder', 'bacteria', 'beauty', 'bees',\n",
            "    'behavioral_economics', 'best_of_the_web', 'big_bang', 'biodiversity',\n",
            "    'bioethics', 'biology', 'biomimicry', 'bionics', 'biosphere', 'biotech',\n",
            "    'birds', 'blindness', 'blockchain', 'body_language', 'books', 'botany',\n",
            "    'brain', 'brazil', 'buddhism', 'bullying', 'business', 'cancer',\n",
            "    'capitalism', 'chemistry', 'china', 'christianity', 'cities',\n",
            "    'climate_change', 'code', 'cognitive_science', 'collaboration', 'comedy',\n",
            "    'communication', 'communications', 'community', 'compassion', 'computers',\n",
            "    'conducting', 'consciousness', 'conservation', 'consumerism', 'coral_reefs',\n",
            "    'coronavirus', 'corruption', 'countdown', 'creativity', 'crime', 'crispr',\n",
            "    'crowdsourcing', 'cryptocurrency', 'culture', 'curiosity', 'cyber_security',\n",
            "    'dance', 'dark_matter', 'data', 'death', 'decision-making', 'deextinction',\n",
            "    'demo', 'democracy', 'depression', 'design', 'dinosaurs', 'disability',\n",
            "    'discovery', 'disease', 'diversity', 'dna', 'driverless_cars', 'drones',\n",
            "    'drugs', 'ebola', 'ecology', 'economics', 'education', 'egypt',\n",
            "    'electricity', 'emotions', 'empathy', 'encryption', 'energy', 'engineering',\n",
            "    'entertainment', 'entrepreneur', 'environment', 'equality', 'ethics',\n",
            "    'europe', 'evolution', 'exercise', 'exploration', 'family', 'farming',\n",
            "    'fashion', 'fear', 'feminism', 'film', 'finance', 'fish', 'flight', 'food',\n",
            "    'forensics', 'fossil_fuels', 'friendship', 'fungi', 'future', 'gaming',\n",
            "    'gardening', 'gender', 'genetics', 'geology', 'glaciers', 'global_issues',\n",
            "    'goal-setting', 'goals', 'government', 'grammar', 'graphic_design',\n",
            "    'happiness', 'health', 'health_care', 'hearing', 'heart', 'hinduism',\n",
            "    'history', 'homelessness', 'human_body', 'human_rights', 'humanity',\n",
            "    'humor', 'identity', 'illness', 'illusion', 'immigration', 'inclusion',\n",
            "    'india', 'indigenous_peoples', 'industrial_design', 'infrastructure',\n",
            "    'innovation', 'insects', 'international_development',\n",
            "    'international_relations', 'internet', 'interview', 'invention',\n",
            "    'investing', 'islam', 'journalism', 'judaism', 'justice_system', 'kids',\n",
            "    'language', 'law', 'leadership', 'lgbtqia+', 'library', 'life',\n",
            "    'literature', 'love', 'machine_learning', 'magic', 'manufacturing', 'maps',\n",
            "    'marine_biology', 'marketing', 'mars', 'math', 'media', 'medical_imaging',\n",
            "    'medical_research', 'medicine', 'meditation', 'memory', 'mental_health',\n",
            "    'microbes', 'microbiology', 'middle_east', 'military', 'mindfulness',\n",
            "    'mission_blue', 'money', 'moon', 'motivation', 'museums', 'music',\n",
            "    'nanotechnology', 'nasa', 'natural_disaster', 'natural_resources', 'nature',\n",
            "    'neurology', 'neuroscience', 'nuclear_energy', 'ocean', 'online_privacy',\n",
            "    'pain', 'painting', 'paleontology', 'pandemic', 'parenting', 'performance',\n",
            "    'personal_growth', 'personality', 'philanthropy', 'philosophy',\n",
            "    'photography', 'physics', 'planets', 'plants', 'plastic', 'poetry',\n",
            "    'policy', 'politics', 'pollution', 'potential', 'poverty', 'pregnancy',\n",
            "    'primates', 'prison', 'product_design', 'productivity', 'prosthetics',\n",
            "    'protest', 'psychology', 'ptsd', 'public_health', 'public_space',\n",
            "    'public_speaking', 'quantum', 'race', 'refugees', 'relationships',\n",
            "    'religion', 'renewable_energy', 'resources', 'rivers', 'robots',\n",
            "    'rocket_science', 'science', 'science_fiction', 'self', 'sex',\n",
            "    'sexual_violence', 'shopping', 'sight', 'slavery', 'sleep', 'smell',\n",
            "    'social_change', 'social_media', 'society', 'sociology', 'software',\n",
            "    'solar_energy', 'solar_system', 'sound', 'south_america', 'space',\n",
            "    'spoken_word', 'sports', 'statistics', 'storytelling', 'street_art',\n",
            "    'string_theory', 'success', 'suicide', 'sun', 'surgery', 'surveillance',\n",
            "    'sustainability', 'synthetic_biology', 'teaching', 'technology',\n",
            "    'telescopes', 'television', 'terrorism', 'theater', 'time', 'toys',\n",
            "    'transgender', 'transportation', 'travel', 'trees', 'trust', 'typography',\n",
            "    'united_states', 'universe', 'urban_planning', 'ux_design', 'vaccines',\n",
            "    'violence', 'virtual_reality', 'virus', 'visualizations', 'vulnerability',\n",
            "    'war', 'water', 'weather', 'wind_energy', 'women', 'women_in_business',\n",
            "    'work', 'work-life_balance', 'writing', 'youth']\n"
          ],
          "name": "stdout"
        }
      ]
    },
    {
      "cell_type": "markdown",
      "metadata": {
        "id": "wJMXN81X2Byu"
      },
      "source": [
        "##### Reducción de la dimensionalidad"
      ]
    },
    {
      "cell_type": "markdown",
      "metadata": {
        "id": "BhqWO7II1szl"
      },
      "source": [
        "###### Affinity Propagation Clustering Algorithm\n",
        "\n",
        "Usando el algoritmo *Affinity Propagation Clustering Algorithm* de [scikit-learn](https://scikit-learn.org/stable/modules/generated/sklearn.cluster.AffinityPropagation.html) vamos a intentar reducir la dimensionalidad de nuestras 350 tags.\n",
        "\n",
        "Básicamente se va a utilizar los synsets de cada palabra. Es importante en este punto identificar y eliminar o remplazar las palabras que no tengan synset dado que la posterior aplicación del modelo generará error.\n",
        "\n"
      ]
    },
    {
      "cell_type": "code",
      "metadata": {
        "id": "XJvigRRk6_pz"
      },
      "source": [
        "sin_synset = []\n",
        "for tema in temas:\n",
        "    try:\n",
        "        print(tema, wn.synsets(tema)[0])\n",
        "    except:\n",
        "        sin_synset.append(tema)\n",
        "        print(tema, 'SIN SYNSET')"
      ],
      "execution_count": null,
      "outputs": []
    },
    {
      "cell_type": "code",
      "metadata": {
        "colab": {
          "base_uri": "https://localhost:8080/"
        },
        "id": "ni_Afex28B29",
        "outputId": "cea939ba-baeb-484a-a066-dccae8a42772"
      },
      "source": [
        "pp.pprint(sin_synset)"
      ],
      "execution_count": null,
      "outputs": [
        {
          "output_type": "stream",
          "text": [
            "[   '3d_printing', 'ancient_world', 'anthropocene', 'audacious_project',\n",
            "    'augmented_reality', 'autism_spectrum_disorder', 'behavioral_economics',\n",
            "    'best_of_the_web', 'biomimicry', 'blockchain', 'coronavirus', 'crispr',\n",
            "    'crowdsourcing', 'cryptocurrency', 'cyber_security', 'decision-making',\n",
            "    'deextinction', 'driverless_cars', 'global_issues', 'goal-setting',\n",
            "    'indigenous_peoples', 'industrial_design', 'international_development',\n",
            "    'international_relations', 'justice_system', 'lgbtqia+', 'machine_learning',\n",
            "    'marine_biology', 'medical_imaging', 'medical_research', 'mission_blue',\n",
            "    'natural_disaster', 'online_privacy', 'personal_growth', 'product_design',\n",
            "    'public_health', 'public_space', 'renewable_energy', 'rocket_science',\n",
            "    'sexual_violence', 'social_change', 'social_media', 'storytelling',\n",
            "    'street_art', 'synthetic_biology', 'ux_design', 'wind_energy',\n",
            "    'women_in_business', 'work-life_balance']\n"
          ],
          "name": "stdout"
        }
      ]
    },
    {
      "cell_type": "code",
      "metadata": {
        "colab": {
          "base_uri": "https://localhost:8080/"
        },
        "id": "r3ht-fno7-Na",
        "outputId": "944bbd9a-018b-4745-fb83-2f0c289c117d"
      },
      "source": [
        "temas_apc = [word for word in temas if word not in sin_synset]\n",
        "pp.pprint(temas_apc)"
      ],
      "execution_count": null,
      "outputs": [
        {
          "output_type": "stream",
          "text": [
            "[   'activism', 'addiction', 'africa', 'aging', 'agriculture', 'ai', 'aids',\n",
            "    'algorithm', 'aliens', \"alzheimer's\", 'animals', 'animation', 'antarctica',\n",
            "    'anthropology', 'archaeology', 'architecture', 'art', 'asia', 'asteroid',\n",
            "    'astrobiology', 'astronomy', 'atheism', 'bacteria', 'beauty', 'bees',\n",
            "    'big_bang', 'biodiversity', 'bioethics', 'biology', 'bionics', 'biosphere',\n",
            "    'biotech', 'birds', 'blindness', 'body_language', 'books', 'botany',\n",
            "    'brain', 'brazil', 'buddhism', 'bullying', 'business', 'cancer',\n",
            "    'capitalism', 'chemistry', 'china', 'christianity', 'cities',\n",
            "    'climate_change', 'code', 'cognitive_science', 'collaboration', 'comedy',\n",
            "    'communication', 'communications', 'community', 'compassion', 'computers',\n",
            "    'conducting', 'consciousness', 'conservation', 'consumerism', 'coral_reefs',\n",
            "    'corruption', 'countdown', 'creativity', 'crime', 'culture', 'curiosity',\n",
            "    'dance', 'dark_matter', 'data', 'death', 'demo', 'democracy', 'depression',\n",
            "    'design', 'dinosaurs', 'disability', 'discovery', 'disease', 'diversity',\n",
            "    'dna', 'drones', 'drugs', 'ebola', 'ecology', 'economics', 'education',\n",
            "    'egypt', 'electricity', 'emotions', 'empathy', 'encryption', 'energy',\n",
            "    'engineering', 'entertainment', 'entrepreneur', 'environment', 'equality',\n",
            "    'ethics', 'europe', 'evolution', 'exercise', 'exploration', 'family',\n",
            "    'farming', 'fashion', 'fear', 'feminism', 'film', 'finance', 'fish',\n",
            "    'flight', 'food', 'forensics', 'fossil_fuels', 'friendship', 'fungi',\n",
            "    'future', 'gaming', 'gardening', 'gender', 'genetics', 'geology',\n",
            "    'glaciers', 'goals', 'government', 'grammar', 'graphic_design', 'happiness',\n",
            "    'health', 'health_care', 'hearing', 'heart', 'hinduism', 'history',\n",
            "    'homelessness', 'human_body', 'human_rights', 'humanity', 'humor',\n",
            "    'identity', 'illness', 'illusion', 'immigration', 'inclusion', 'india',\n",
            "    'infrastructure', 'innovation', 'insects', 'internet', 'interview',\n",
            "    'invention', 'investing', 'islam', 'journalism', 'judaism', 'kids',\n",
            "    'language', 'law', 'leadership', 'library', 'life', 'literature', 'love',\n",
            "    'magic', 'manufacturing', 'maps', 'marketing', 'mars', 'math', 'media',\n",
            "    'medicine', 'meditation', 'memory', 'mental_health', 'microbes',\n",
            "    'microbiology', 'middle_east', 'military', 'mindfulness', 'money', 'moon',\n",
            "    'motivation', 'museums', 'music', 'nanotechnology', 'nasa',\n",
            "    'natural_resources', 'nature', 'neurology', 'neuroscience',\n",
            "    'nuclear_energy', 'ocean', 'pain', 'painting', 'paleontology', 'pandemic',\n",
            "    'parenting', 'performance', 'personality', 'philanthropy', 'philosophy',\n",
            "    'photography', 'physics', 'planets', 'plants', 'plastic', 'poetry',\n",
            "    'policy', 'politics', 'pollution', 'potential', 'poverty', 'pregnancy',\n",
            "    'primates', 'prison', 'productivity', 'prosthetics', 'protest',\n",
            "    'psychology', 'ptsd', 'public_speaking', 'quantum', 'race', 'refugees',\n",
            "    'relationships', 'religion', 'resources', 'rivers', 'robots', 'science',\n",
            "    'science_fiction', 'self', 'sex', 'shopping', 'sight', 'slavery', 'sleep',\n",
            "    'smell', 'society', 'sociology', 'software', 'solar_energy', 'solar_system',\n",
            "    'sound', 'south_america', 'space', 'spoken_word', 'sports', 'statistics',\n",
            "    'string_theory', 'success', 'suicide', 'sun', 'surgery', 'surveillance',\n",
            "    'sustainability', 'teaching', 'technology', 'telescopes', 'television',\n",
            "    'terrorism', 'theater', 'time', 'toys', 'transgender', 'transportation',\n",
            "    'travel', 'trees', 'trust', 'typography', 'united_states', 'universe',\n",
            "    'urban_planning', 'vaccines', 'violence', 'virtual_reality', 'virus',\n",
            "    'visualizations', 'vulnerability', 'war', 'water', 'weather', 'women',\n",
            "    'work', 'writing', 'youth']\n"
          ],
          "name": "stdout"
        }
      ]
    },
    {
      "cell_type": "markdown",
      "metadata": {
        "id": "QWRd_7v1-B4f"
      },
      "source": [
        "###### Wu-Palmer Similarity\n",
        "\n",
        "Usando la distancia **Wu-Palmer Similarity** y cambiando el parámetro `affinity`."
      ]
    },
    {
      "cell_type": "code",
      "metadata": {
        "id": "gGgp03QRD5Zx"
      },
      "source": [
        "def propagate_affinity(affinity_type, similarity, words_apc):\n",
        "  affprop = AffinityPropagation(affinity=affinity_type, damping=0.5)\n",
        "  affprop.fit(similarity)\n",
        "  for cluster_id in np.unique(affprop.labels_):\n",
        "    exemplar = words_apc[affprop.cluster_centers_indices_[cluster_id]]\n",
        "    cluster = np.unique(words_apc[np.nonzero(affprop.labels_==cluster_id)])\n",
        "    cluster_str = \", \".join(cluster)\n",
        "    print(\" - *%s:* %s\" % (exemplar, cluster_str))"
      ],
      "execution_count": null,
      "outputs": []
    },
    {
      "cell_type": "code",
      "metadata": {
        "id": "j2kUs56Y858T"
      },
      "source": [
        "words_apc = np.asarray(temas_apc)\n",
        "words_path = np.asarray(temas) \n",
        "similarity_wup = np.array([[wn.synsets(w1)[0].wup_similarity(wn.synsets(w2)[0]) for w1 in words_apc] for w2 in words_apc])\n",
        "similarity_path = np.array([[wn.synsets(w1)[0].path_similarity(wn.synsets(w2)[0]) for w1 in words_apc] for w2 in words_apc])\n",
        "similarity_wup[similarity_wup == None] = 0\n",
        "similarity_path[similarity_path == None] = 0"
      ],
      "execution_count": null,
      "outputs": []
    },
    {
      "cell_type": "code",
      "metadata": {
        "id": "2hmIJA_4EjiJ"
      },
      "source": [
        "# Aplicando el modelo APC con la distancia Wu-Palmer Similarity\n",
        "propagate_affinity(\"precomputed\", similarity_wup, words_apc)"
      ],
      "execution_count": null,
      "outputs": []
    },
    {
      "cell_type": "code",
      "metadata": {
        "id": "tE1R6fzP9vaG"
      },
      "source": [
        "propagate_affinity(\"euclidean\", similarity_wup, words_apc)"
      ],
      "execution_count": null,
      "outputs": []
    },
    {
      "cell_type": "code",
      "metadata": {
        "id": "FEU4kqtpFN-J"
      },
      "source": [
        "# Aplicando el modelo APC con la distancia Path Similarity\n",
        "propagate_affinity(\"precomputed\", similarity_path, words_path)"
      ],
      "execution_count": null,
      "outputs": []
    },
    {
      "cell_type": "markdown",
      "metadata": {
        "id": "yDOaBgwr-iOV"
      },
      "source": [
        "###### Path similarity"
      ]
    },
    {
      "cell_type": "markdown",
      "metadata": {
        "id": "NXlNOIvAnPFi"
      },
      "source": [
        "##### Creando Json"
      ]
    },
    {
      "cell_type": "markdown",
      "metadata": {
        "id": "ofYWGg2RtyMa"
      },
      "source": [
        "Se crea un archivo JSON que contiene el resuldato de la reduccion de dimensionalidad aplicada, para ser utilizada en el modelado"
      ]
    },
    {
      "cell_type": "code",
      "metadata": {
        "id": "JM4Cs0i0tzxB"
      },
      "source": [
        "tags_json = {            \n",
        "              \"activism\": [\"activism\", \"policy\"],\n",
        "              \"aging\": [\"aging\", \"climate_change\", \"evolution\", \"sex\"],\n",
        "              \"ai\": [\"ai\", \"family\", \"nasa\"],\n",
        "              \"architecture\": [\"architecture\", \"library\", \"plants\", \"prison\", \"theater\"],\n",
        "              \"art\": [\"art\", \"dance\", \"innovation\", \"maps\", \"museums\", \"painting\", \"toys\", \"transportation\"],\n",
        "              \"bacteria\": [\"aliens\", \"bacteria\", \"entrepreneur\", \"kids\", \"microbes\", \"refugees\", \"trees\", \"virus\", \"women\", \"youth\"],\n",
        "              \"bees\": [\"bees\", \"drones\", \"insects\"],\n",
        "              \"biodiversity\": [\"biodiversity\", \"diversity\"],\n",
        "              \"biology\": [\"astrobiology\", \"biology\", \"biotech\", \"genetics\", \"microbiology\", \"neuroscience\"],\n",
        "              \"birds\": [\"animals\", \"birds\", \"dinosaurs\", \"fish\"],\n",
        "              \"china\": [\"brazil\", \"china\", \"egypt\", \"india\", \"united_states\"],\n",
        "              \"consciousness\": [\"alzheimer's\", \"consciousness\", \"curiosity\", \"depression\", \"mental_health\", \"self\"],\n",
        "              \"creativity\": [\"consumerism\", \"creativity\", \"democracy\", \"invention\", \"meditation\", \"pain\"],\n",
        "              \"disability\": [\"blindness\", \"disability\", \"ebola\"],\n",
        "              \"discovery\": [\"collaboration\", \"communication\", \"conducting\", \"discovery\", \"hearing\", \"interview\", \"protest\", \"public_speaking\", \"shopping\", \"violence\", \"war\"],\n",
        "              \"disease\": [\"aids\", \"cancer\", \"disease\", \"illness\"],\n",
        "              \"emotions\": [\"compassion\", \"emotions\", \"empathy\", \"fear\", \"happiness\", \"love\", \"slavery\"],\n",
        "              \"energy\": [\"electricity\", \"energy\", \"nuclear_energy\", \"solar_energy\", \"weather\"],\n",
        "              \"environment\": [\"ecology\", \"environment\", \"friendship\", \"inclusion\"],\n",
        "              \"europe\": [\"africa\", \"antarctica\", \"asia\", \"coral_reefs\", \"europe\", \"south_america\"],\n",
        "              \"film\": [\"books\", \"film\", \"performance\", \"race\"],\n",
        "              \"finance\": [\"agriculture\", \"finance\", \"investing\", \"marketing\"],\n",
        "              \"food\": [\"dark_matter\", \"drugs\", \"food\", \"fossil_fuels\", \"plastic\", \"vaccines\", \"water\"],\n",
        "              \"gaming\": [\"crime\", \"entertainment\", \"gaming\", \"sports\", \"virtual_reality\"],\n",
        "              \"gardening\": [\"farming\", \"gardening\"],\n",
        "              \"health_care\": [\"health_care\", \"philanthropy\"],\n",
        "              \"hinduism\": [\"buddhism\", \"hinduism\", \"judaism\"],\n",
        "              \"language\": [\"body_language\", \"code\", \"comedy\", \"demo\", \"graphic_design\", \"humor\", \"language\", \"literature\", \"music\", \"poetry\", \"science_fiction\", \"software\"],\n",
        "              \"law\": [\"botany\", \"capitalism\", \"data\", \"flight\", \"fungi\", \"gender\", \"law\", \"primates\", \"solar_system\"],\n",
        "              \"life\": [\"animation\", \"life\", \"potential\"],\n",
        "              \"media\": [\"computers\", \"glaciers\", \"internet\", \"journalism\", \"media\", \"robots\"],\n",
        "              \"medicine\": [\"medicine\", \"neurology\", \"prosthetics\", \"surgery\"],\n",
        "              \"memory\": [\"goals\", \"illusion\", \"memory\", \"sight\", \"visualizations\"],\n",
        "              \"middle_east\": [\"biosphere\", \"cities\", \"middle_east\"],\n",
        "              \"motivation\": [\"atheism\", \"ethics\", \"motivation\", \"smell\"],\n",
        "              \"natural_resources\": [\"natural_resources\", \"resources\"],\n",
        "              \"nature\": [\"beauty\", \"corruption\", \"equality\", \"humanity\", \"nature\", \"productivity\"],\n",
        "              \"ocean\": [\"brain\", \"ocean\", \"rivers\"],\n",
        "              \"parenting\": [\"parenting\", \"transgender\"],\n",
        "              \"personality\": [\"fashion\", \"future\", \"health\", \"history\", \"identity\", \"infrastructure\", \"mindfulness\", \"money\", \"personality\", \"sound\", \"space\", \"sustainability\"],\n",
        "              \"philosophy\": [\"christianity\", \"feminism\", \"heart\", \"magic\", \"philosophy\", \"religion\"],\n",
        "              \"planets\": [\"asteroid\", \"human_body\", \"mars\", \"moon\", \"planets\", \"sun\", \"universe\"],\n",
        "              \"pregnancy\": [\"addiction\", \"homelessness\", \"pollution\", \"poverty\", \"pregnancy\", \"ptsd\", \"sleep\", \"vulnerability\"],\n",
        "              \"quantum\": [\"human_rights\", \"quantum\", \"string_theory\"],\n",
        "              \"relationships\": [\"dna\", \"politics\", \"relationships\", \"spoken_word\", \"trust\"],\n",
        "              \"science\": [\"anthropology\", \"archaeology\", \"astronomy\", \"bioethics\", \"bionics\", \"chemistry\", \"cognitive_science\", \"communications\", \"economics\", \"geology\", \"grammar\", \"math\", \"nanotechnology\", \"paleontology\", \"physics\", \"psychology\", \"science\", \"sociology\", \"statistics\", \"urban_planning\"],\n",
        "              \"society\": [\"business\", \"community\", \"culture\", \"government\", \"islam\", \"military\", \"society\"],\n",
        "              \"success\": [\"big_bang\", \"conservation\", \"death\", \"pandemic\", \"success\", \"time\"],\n",
        "              \"travel\": [\"exploration\", \"immigration\", \"suicide\", \"travel\"],\n",
        "              \"work\": [\"algorithm\", \"bullying\", \"countdown\", \"design\", \"education\", \"encryption\", \"engineering\", \"exercise\", \"forensics\", \"leadership\", \"manufacturing\", \"photography\", \"surveillance\", \"typography\", \"work\", \"writing\"],\n",
        "            }\n",
        "\n",
        "tags_final = json.dumps(tags_json)\n",
        "jsonFile = open(\"tags_final.json\", \"w\")\n",
        "jsonFile.write(tags_final)\n",
        "jsonFile.close()\n"
      ],
      "execution_count": null,
      "outputs": []
    },
    {
      "cell_type": "markdown",
      "metadata": {
        "id": "jf-zna4-AT2A"
      },
      "source": [
        "##### Carga de JSON"
      ]
    },
    {
      "cell_type": "code",
      "metadata": {
        "id": "3Vvyfa0Iwan3"
      },
      "source": [
        "fileObject = open(\"tags_final.json\", \"r\")\n",
        "jsonContent = fileObject.read()\n",
        "df_tags = json.loads(jsonContent)"
      ],
      "execution_count": null,
      "outputs": []
    },
    {
      "cell_type": "code",
      "metadata": {
        "id": "5mh9cmwWGc9-"
      },
      "source": [
        "def reduce_tags(talk__tags):\n",
        "  return [key for key, values in df_tags.items() for value in values if value in talk__tags]\n",
        "\n",
        "tedx_df.talks__tags = tedx_df.apply(lambda x: reduce_tags(x.talks__tags), axis=1)"
      ],
      "execution_count": null,
      "outputs": []
    },
    {
      "cell_type": "markdown",
      "metadata": {
        "id": "kNv2YNWG5ZCR"
      },
      "source": [
        "### 02.Modelado"
      ]
    },
    {
      "cell_type": "markdown",
      "metadata": {
        "id": "BQ6vZ-KA5ZCW"
      },
      "source": [
        "#### 02.00 - Train / Test Split"
      ]
    },
    {
      "cell_type": "code",
      "metadata": {
        "trusted": true,
        "id": "letZrnXm5ZCX"
      },
      "source": [
        "X_train, X_test, y_train, y_test = train_test_split(tedx_df.transcript, tedx_df.talks__tags, test_size=.10)\n",
        "X_train = X_train.values.astype('U')\n",
        "X_test = X_test.values.astype('U')\n",
        "del tedx_df\n",
        "gc.collect()"
      ],
      "execution_count": null,
      "outputs": []
    },
    {
      "cell_type": "code",
      "metadata": {
        "id": "EXLl_vM-5ZCY"
      },
      "source": [
        "tfidf_vectorizer = TfidfVectorizer(tokenizer=pre_procesamiento_texto)"
      ],
      "execution_count": null,
      "outputs": []
    },
    {
      "cell_type": "markdown",
      "metadata": {
        "id": "8gIt3zGT5ZCZ"
      },
      "source": [
        "#### 02.01 - Stacking"
      ]
    },
    {
      "cell_type": "code",
      "metadata": {
        "id": "29JBP0B65ZCZ"
      },
      "source": [
        "mlb = MultiLabelBinarizer()\n",
        "\n",
        "estimators = [\n",
        "    ('rf', RandomForestClassifier()),\n",
        "    ('dt', DecisionTreeClassifier()),\n",
        "    ('ab', AdaBoostClassifier()),\n",
        "    ('nb', GaussianNB()),\n",
        "    ('gb', GradientBoostingClassifier())\n",
        "]\n",
        "\n",
        "# Con Stacking de 5 modelos + decision final con regresion logistica\n",
        "#model = OneVsRestClassifier(StackingClassifier(estimators=estimators, final_estimator=LogisticRegression()))\n",
        "\n",
        "# Con LinearSVC funciona muy bien y tarda menos que todo el stacking\n",
        "model = OneVsRestClassifier(LinearSVC())"
      ],
      "execution_count": null,
      "outputs": []
    },
    {
      "cell_type": "code",
      "metadata": {
        "id": "Y-5_LNIW5ZCZ"
      },
      "source": [
        "class DenseTransformer():\n",
        "    \n",
        "    def fit(self, X, y=None, **fit_params):\n",
        "        return self\n",
        "\n",
        "    def transform(self, X, y=None, **fit_params):\n",
        "        return X.todense()"
      ],
      "execution_count": null,
      "outputs": []
    },
    {
      "cell_type": "code",
      "metadata": {
        "id": "3FclL15w5ZCa"
      },
      "source": [
        "ml_pipeline = Pipeline(steps=[\n",
        "                              ('preprocessor', tfidf_vectorizer),\n",
        "                              ('to_dense', DenseTransformer()), \n",
        "                              ('classifier', model)\n",
        "])"
      ],
      "execution_count": null,
      "outputs": []
    },
    {
      "cell_type": "code",
      "metadata": {
        "id": "bXLcV16G5ZCa"
      },
      "source": [
        "ml_pipeline.fit(X_train, mlb.fit_transform(y_train))"
      ],
      "execution_count": null,
      "outputs": []
    },
    {
      "cell_type": "code",
      "metadata": {
        "id": "P8Bv0SHM5ZCb"
      },
      "source": [
        "# Predice X_test\n",
        "y_pred = [list(predicted_row) for predicted_row in mlb.inverse_transform(ml_pipeline.predict(X_test))]"
      ],
      "execution_count": null,
      "outputs": []
    },
    {
      "cell_type": "code",
      "metadata": {
        "colab": {
          "base_uri": "https://localhost:8080/"
        },
        "id": "v65EO0685ZCc",
        "outputId": "a651ece1-f219-4186-dd6d-7775e82c1f42"
      },
      "source": [
        "pp.pprint(y_pred)"
      ],
      "execution_count": null,
      "outputs": [
        {
          "output_type": "stream",
          "text": [
            "[   ['biology', 'life'], ['ai', 'art', 'film', 'gaming', 'language'],\n",
            "    ['ai', 'language', 'society'], ['discovery', 'nature'],\n",
            "    ['aging', 'biology', 'birds', 'science'], [], ['bacteria', 'personality'],\n",
            "    ['discovery', 'society'], ['finance', 'personality'],\n",
            "    ['film', 'nature', 'society'],\n",
            "    ['discovery', 'language', 'life', 'personality', 'society'], ['science'],\n",
            "    ['bacteria', 'biology', 'personality', 'science'],\n",
            "    ['personality', 'society', 'work'], ['middle_east', 'society'],\n",
            "    ['bees', 'law', 'nature', 'personality', 'science'], [],\n",
            "    ['discovery', 'media'], [], ['energy', 'personality'], [],\n",
            "    ['bacteria', 'biology', 'disease', 'medicine', 'personality', 'science'],\n",
            "    ['disability', 'middle_east', 'personality', 'work'],\n",
            "    ['disease', 'society', 'work'],\n",
            "    ['bacteria', 'disease', 'medicine', 'personality'], ['bees', 'work'],\n",
            "    ['life', 'personality', 'science', 'work'], ['life', 'science'],\n",
            "    ['art', 'discovery', 'disease', 'personality', 'science'],\n",
            "    ['architecture', 'creativity', 'work'], ['life', 'personality', 'work'],\n",
            "    ['discovery'], ['activism', 'discovery', 'food', 'personality', 'society'],\n",
            "    [], ['science', 'society'], [], ['ai', 'film', 'gaming', 'language'],\n",
            "    ['bacteria', 'food'], ['personality'], ['society'],\n",
            "    ['emotions', 'nature', 'society'], ['work'],\n",
            "    ['birds', 'environment', 'ocean'],\n",
            "    ['discovery', 'science', 'society', 'work'], ['ai', 'gaming'],\n",
            "    ['film', 'language', 'life', 'personality'], ['personality', 'society'],\n",
            "    ['birds', 'environment'], ['discovery', 'society', 'success'],\n",
            "    [   'biology', 'finance', 'food', 'gardening', 'personality', 'science',\n",
            "        'society'],\n",
            "    ['biology', 'personality', 'science'], ['law', 'personality'],\n",
            "    ['ai', 'gaming', 'language'], ['ai', 'art', 'film', 'gaming', 'nature'],\n",
            "    ['ai', 'art', 'science'], [], ['work'], ['china', 'society'],\n",
            "    ['bees', 'biology', 'disease', 'personality'], ['emotions', 'society'],\n",
            "    ['ai', 'energy', 'personality'], [],\n",
            "    ['film', 'nature', 'personality', 'society', 'work'],\n",
            "    ['film', 'language', 'work'], [],\n",
            "    ['middle_east', 'personality', 'society', 'work'], ['society'],\n",
            "    ['discovery', 'language', 'media', 'society'],\n",
            "    ['personality', 'planets', 'science'],\n",
            "    ['bacteria', 'biology', 'life', 'personality', 'science'], [],\n",
            "    ['discovery', 'language', 'life', 'personality', 'science', 'work'],\n",
            "    ['personality', 'science'], [],\n",
            "    ['ai', 'finance', 'food', 'gardening', 'personality', 'society'], ['work'],\n",
            "    [], ['society', 'work'], ['work'], ['bacteria', 'work'],\n",
            "    ['discovery', 'media', 'society'], ['life', 'personality'],\n",
            "    ['language', 'society'], ['language', 'society', 'work'],\n",
            "    ['medicine', 'personality', 'science'],\n",
            "    ['biology', 'birds', 'nature', 'personality', 'science', 'work'],\n",
            "    ['art', 'bacteria', 'law', 'society', 'work'], [],\n",
            "    ['art', 'creativity', 'energy', 'law', 'personality', 'work'], [],\n",
            "    ['art', 'society'], ['society'], [], ['personality', 'science', 'society'],\n",
            "    ['ai', 'bacteria', 'biology', 'science'], ['architecture', 'work'],\n",
            "    ['discovery', 'society'], ['media', 'society', 'work'], ['art', 'work'],\n",
            "    ['art', 'creativity', 'disease', 'life', 'medicine', 'personality', 'work'],\n",
            "    [], ['architecture', 'film', 'personality', 'society'],\n",
            "    ['science', 'society'], [], ['biology', 'life', 'personality', 'science'],\n",
            "    ['personality', 'society'], [],\n",
            "    ['activism', 'bacteria', 'china', 'discovery', 'media', 'society'],\n",
            "    ['art', 'biology', 'disease', 'medicine', 'personality', 'science'],\n",
            "    ['discovery', 'relationships', 'society'],\n",
            "    ['ai', 'environment', 'personality', 'science', 'society'],\n",
            "    ['society', 'work'], ['ai', 'art', 'creativity'],\n",
            "    ['language', 'life', 'personality', 'work'], ['society'], [],\n",
            "    ['ai', 'bacteria', 'parenting', 'personality'],\n",
            "    ['nature', 'personality', 'society'],\n",
            "    ['aging', 'bacteria', 'biology', 'law', 'personality', 'science'],\n",
            "    ['medicine', 'personality'], ['science'],\n",
            "    ['art', 'environment', 'middle_east', 'personality', 'pregnancy', 'work'],\n",
            "    ['science', 'work'],\n",
            "    ['discovery', 'language', 'personality', 'philosophy', 'society'], ['work'],\n",
            "    ['gaming', 'language', 'society'], ['discovery', 'language'],\n",
            "    ['media', 'society'], ['discovery', 'language', 'media', 'work'],\n",
            "    ['language', 'life', 'personality', 'society'], [], [],\n",
            "    ['ai', 'film', 'gaming', 'language'], ['emotions', 'work'],\n",
            "    ['medicine', 'science', 'work'], ['architecture', 'discovery', 'society'],\n",
            "    ['biology', 'life', 'science'], ['personality', 'science', 'travel'],\n",
            "    ['discovery', 'personality', 'relationships', 'society'], ['work'],\n",
            "    ['biology', 'science'], [], ['life', 'science'],\n",
            "    ['life', 'personality', 'science', 'work'],\n",
            "    ['art', 'middle_east', 'society', 'work'],\n",
            "    ['biology', 'life', 'personality', 'science'], ['life', 'science'],\n",
            "    ['birds', 'ocean', 'personality', 'science'],\n",
            "    ['ai', 'energy', 'environment', 'personality', 'science', 'work'],\n",
            "    ['biology', 'disease', 'medicine', 'nature', 'personality', 'science'],\n",
            "    ['society', 'work'], ['society'],\n",
            "    ['creativity', 'discovery', 'society', 'work'],\n",
            "    ['bacteria', 'law', 'media', 'society'], ['language', 'society'], [],\n",
            "    ['society'], ['art', 'media', 'personality', 'work'],\n",
            "    ['activism', 'environment', 'nature', 'personality', 'relationships'],\n",
            "    ['biology', 'science', 'work'], ['language', 'society'],\n",
            "    ['ai', 'gaming', 'language', 'science', 'society'],\n",
            "    ['personality', 'society'], ['discovery', 'society'],\n",
            "    ['aging', 'biology', 'disease', 'personality', 'science'],\n",
            "    ['bacteria', 'environment', 'nature', 'work'], ['society', 'work'],\n",
            "    ['life', 'personality', 'science', 'work'], ['society'],\n",
            "    ['nature', 'personality', 'science'], ['personality', 'society', 'work'],\n",
            "    [], ['discovery', 'nature', 'personality'], ['bacteria', 'work'],\n",
            "    ['personality', 'planets', 'science'], [], [],\n",
            "    ['ai', 'discovery', 'language'], ['architecture', 'society', 'work'],\n",
            "    ['discovery', 'personality', 'society', 'work'], ['society'],\n",
            "    ['science', 'society', 'work'], [], ['society'], ['society', 'work'], [],\n",
            "    ['creativity', 'language', 'relationships', 'society', 'work'],\n",
            "    ['personality'], ['personality', 'science'],\n",
            "    ['art', 'media', 'personality', 'society', 'work'],\n",
            "    ['gaming', 'personality', 'science', 'work'], ['bacteria', 'work'],\n",
            "    ['personality', 'planets', 'science'], [], ['society'],\n",
            "    ['personality', 'work'], ['personality', 'work'],\n",
            "    ['bacteria', 'society', 'work'], ['bacteria', 'personality', 'society'],\n",
            "    ['ai', 'work'], [], ['bees', 'science'], [],\n",
            "    ['finance', 'food', 'gardening', 'society'],\n",
            "    ['ai', 'biology', 'ocean', 'personality', 'science'],\n",
            "    ['creativity', 'work'], ['personality', 'science'],\n",
            "    ['architecture', 'society'], ['planets', 'science'],\n",
            "    ['middle_east', 'pregnancy', 'society', 'work'], ['society'], ['language'],\n",
            "    ['film'], ['society'], ['food', 'personality'],\n",
            "    ['art', 'middle_east', 'personality', 'work'],\n",
            "    ['life', 'memory', 'personality', 'science', 'work'], ['life'],\n",
            "    ['personality'], ['science'], [],\n",
            "    ['bacteria', 'discovery', 'nature', 'society'], ['society', 'work'], [], [],\n",
            "    ['personality', 'science', 'society'],\n",
            "    ['aging', 'bacteria', 'discovery', 'law', 'society'], ['language'],\n",
            "    ['science', 'travel'], ['personality', 'science'],\n",
            "    ['personality', 'society', 'work'],\n",
            "    ['life', 'personality', 'philosophy', 'society'], ['art', 'society'],\n",
            "    ['art'], ['art', 'society'], ['discovery', 'media', 'society', 'work'],\n",
            "    ['gaming', 'life', 'personality', 'society', 'work'],\n",
            "    ['ai', 'biology', 'ocean', 'science'], ['ai'],\n",
            "    ['ai', 'biology', 'ocean', 'science'], ['discovery', 'society'],\n",
            "    ['ai', 'film', 'gaming', 'language', 'ocean', 'personality'], ['work'],\n",
            "    ['ai', 'biology', 'life', 'ocean', 'personality', 'science'],\n",
            "    ['bacteria', 'society'], [], ['personality', 'society', 'work'],\n",
            "    ['biology', 'science', 'work'], ['nature'], ['science', 'society', 'work'],\n",
            "    ['science'], ['middle_east'], [], ['discovery', 'law', 'media', 'society'],\n",
            "    ['china', 'society'], ['aging', 'emotions', 'relationships'],\n",
            "    ['biology', 'science'], ['science'], ['science'],\n",
            "    ['ai', 'biology', 'nature', 'personality', 'science', 'work'],\n",
            "    ['science', 'society'], ['personality', 'society'],\n",
            "    ['personality', 'society'], ['disease', 'life', 'personality', 'science'],\n",
            "    [], ['biology', 'science'],\n",
            "    ['birds', 'environment', 'nature', 'ocean', 'personality', 'science'], [],\n",
            "    ['society'], ['bacteria', 'biology', 'science'], [],\n",
            "    ['art', 'discovery', 'society'],\n",
            "    ['architecture', 'art', 'biology', 'nature', 'science', 'work'],\n",
            "    ['society', 'work'], [],\n",
            "    [   'creativity', 'language', 'personality', 'relationships', 'science',\n",
            "        'society'],\n",
            "    ['gaming', 'personality', 'science'],\n",
            "    ['discovery', 'language', 'life', 'personality', 'society', 'work'],\n",
            "    ['biology', 'medicine', 'ocean', 'personality', 'science'],\n",
            "    ['bacteria', 'middle_east', 'work'], ['discovery', 'society'],\n",
            "    ['art', 'creativity', 'work'], ['bees', 'science', 'work'],\n",
            "    ['disease', 'personality'],\n",
            "    ['activism', 'bacteria', 'philosophy', 'society'],\n",
            "    ['personality', 'pregnancy', 'society'],\n",
            "    ['personality', 'science', 'society'], ['ai', 'bacteria', 'society'],\n",
            "    ['biology', 'life', 'personality', 'science', 'work'], [],\n",
            "    ['biology', 'birds', 'nature', 'ocean', 'science'],\n",
            "    ['activism', 'bacteria'], ['work'],\n",
            "    ['activism', 'bacteria', 'nature', 'society', 'work'],\n",
            "    ['biology', 'ocean', 'science'], ['pregnancy', 'science'],\n",
            "    ['life', 'personality', 'work'], ['society', 'work'], ['ai', 'film'],\n",
            "    ['society'], ['gaming'], ['society'],\n",
            "    ['life', 'personality', 'society', 'work'], ['ocean', 'work'],\n",
            "    ['bacteria', 'nature', 'society'],\n",
            "    ['art', 'creativity', 'media', 'personality', 'work'],\n",
            "    ['ai', 'art', 'life', 'personality', 'work'], ['personality', 'society'],\n",
            "    ['personality', 'science'], ['personality', 'society'], ['work'],\n",
            "    ['ai', 'gaming'], ['ai', 'art', 'film', 'gaming', 'language'], [], [],\n",
            "    ['nature', 'society'], ['bacteria', 'birds', 'disease', 'personality'],\n",
            "    ['personality', 'science'], [], ['discovery', 'personality'],\n",
            "    ['personality', 'work'], ['language', 'work'],\n",
            "    ['nature', 'personality', 'society'], ['aging', 'language', 'society'],\n",
            "    ['life', 'science'], ['quantum', 'science'],\n",
            "    ['ai', 'language', 'life', 'science', 'work'], ['emotions', 'science'],\n",
            "    ['consciousness', 'personality', 'society'],\n",
            "    ['life', 'personality', 'science'],\n",
            "    ['creativity', 'language', 'media', 'relationships', 'society', 'work'],\n",
            "    ['biology', 'disease', 'medicine', 'personality', 'science'], [],\n",
            "    ['biology', 'science'], ['personality'], [],\n",
            "    ['art', 'creativity', 'personality', 'science', 'work'],\n",
            "    ['china', 'food', 'society'],\n",
            "    ['art', 'discovery', 'personality', 'philosophy', 'society'],\n",
            "    ['creativity', 'society', 'work'], ['art'],\n",
            "    ['ai', 'architecture', 'bacteria', 'environment', 'nature', 'work'], [],\n",
            "    ['film', 'language', 'life', 'personality', 'science', 'society'],\n",
            "    ['biodiversity', 'biology', 'birds', 'science'], ['science', 'society'],\n",
            "    ['work'], ['biology', 'birds', 'science'], [],\n",
            "    ['food', 'medicine', 'personality'],\n",
            "    ['architecture', 'art', 'middle_east', 'work'], [], ['life'],\n",
            "    ['personality', 'science'], [], [],\n",
            "    ['ai', 'architecture', 'art', 'middle_east', 'personality', 'work'],\n",
            "    ['life', 'personality', 'work'], ['personality'],\n",
            "    ['discovery', 'media', 'society', 'work'], ['law', 'science', 'society'],\n",
            "    ['creativity', 'discovery', 'language', 'relationships', 'society'],\n",
            "    ['biology', 'food', 'personality', 'science'], ['science'],\n",
            "    ['society', 'work'], ['science'], ['society'], ['architecture', 'society'],\n",
            "    ['personality', 'science', 'work'],\n",
            "    ['discovery', 'language', 'society', 'work'],\n",
            "    ['medicine', 'personality', 'science'],\n",
            "    ['bacteria', 'discovery', 'society'], ['birds', 'ocean', 'science'],\n",
            "    ['work'], [], ['ai', 'gaming', 'language', 'relationships'],\n",
            "    ['personality', 'science', 'work'],\n",
            "    ['ai', 'ocean', 'personality', 'science'], ['art', 'personality'],\n",
            "    ['ai', 'biology', 'ocean', 'science'], [],\n",
            "    ['art', 'film', 'relationships', 'society'],\n",
            "    ['philosophy', 'society', 'work'], [], ['society'], ['nature', 'work'], [],\n",
            "    ['life', 'personality', 'society', 'work'],\n",
            "    ['ai', 'personality', 'society'], ['film', 'life', 'work'],\n",
            "    ['discovery', 'society'], ['art', 'gaming'],\n",
            "    ['creativity', 'medicine', 'personality', 'science', 'work'],\n",
            "    ['consciousness', 'personality', 'science'], ['life', 'science', 'work'],\n",
            "    ['biology', 'birds', 'nature', 'ocean', 'science'],\n",
            "    ['personality', 'science', 'travel'], ['bacteria'],\n",
            "    ['activism', 'creativity', 'language', 'relationships', 'society'],\n",
            "    ['discovery', 'personality', 'science'], ['energy'],\n",
            "    ['biology', 'birds', 'nature', 'ocean', 'personality', 'science'], [],\n",
            "    ['bacteria', 'parenting'], ['relationships', 'society'],\n",
            "    ['personality', 'science', 'travel', 'work'],\n",
            "    ['aging', 'biology', 'nature', 'personality', 'science'], ['ai', 'science'],\n",
            "    ['activism', 'relationships', 'work'],\n",
            "    ['ai', 'energy', 'middle_east', 'personality', 'science', 'society'], [],\n",
            "    ['birds', 'environment', 'gaming', 'science'],\n",
            "    ['bacteria', 'personality', 'society', 'work'], [],\n",
            "    ['ai', 'art', 'energy', 'environment', 'personality', 'science', 'society'],\n",
            "    ['ai', 'language', 'personality', 'planets', 'science'], [],\n",
            "    ['ai', 'biology', 'emotions', 'ocean', 'science'],\n",
            "    ['bacteria', 'disability', 'disease', 'medicine', 'personality', 'science'],\n",
            "    ['bacteria', 'society', 'work'],\n",
            "    ['ai', 'architecture', 'biology', 'science'], ['law', 'life', 'work'],\n",
            "    ['personality', 'science', 'society'],\n",
            "    ['aging', 'emotions', 'nature', 'personality', 'science'],\n",
            "    ['personality', 'society', 'travel'],\n",
            "    ['bacteria', 'discovery', 'personality', 'society'],\n",
            "    ['personality', 'society'], ['personality', 'work'],\n",
            "    ['ai', 'environment', 'nature', 'personality', 'science', 'society'],\n",
            "    ['personality'], ['science'], ['nature', 'society'],\n",
            "    ['bacteria', 'personality', 'success'],\n",
            "    ['creativity', 'language', 'relationships', 'society'], ['life', 'society'],\n",
            "    ['life', 'science'], ['language', 'science'], [],\n",
            "    ['bacteria', 'finance', 'nature', 'personality', 'science', 'society'], [],\n",
            "    ['ai', 'film', 'gaming'], ['medicine', 'personality'],\n",
            "    ['discovery', 'gaming', 'language', 'society'],\n",
            "    ['food', 'life', 'personality'], ['personality', 'science', 'success'],\n",
            "    ['language', 'work'], ['law'], ['personality', 'science', 'society'], [],\n",
            "    ['work'], ['personality'], ['art', 'film', 'nature'],\n",
            "    ['aging', 'biology', 'life', 'science', 'work'], [],\n",
            "    ['philosophy', 'society'], ['ai', 'ocean', 'science'], [],\n",
            "    ['ai', 'environment', 'nature', 'personality', 'science', 'travel'],\n",
            "    ['ai', 'life', 'personality', 'science'], ['art', 'gaming', 'work'],\n",
            "    ['art', 'life', 'personality', 'work'],\n",
            "    ['activism', 'discovery', 'personality', 'society'],\n",
            "    ['life', 'personality'], [], [],\n",
            "    ['birds', 'life', 'personality', 'science', 'work'],\n",
            "    ['biology', 'medicine', 'personality', 'science', 'work'],\n",
            "    ['life', 'personality', 'work'], ['ai', 'biology', 'ocean', 'science'],\n",
            "    ['aging', 'biology', 'personality', 'science'], ['society'],\n",
            "    ['medicine', 'personality', 'society'], ['art', 'personality', 'society'],\n",
            "    ['ai'], [], ['art', 'work'], ['personality', 'science'],\n",
            "    ['ai', 'film', 'gaming', 'language'], ['birds', 'food', 'personality'], [],\n",
            "    ['art', 'nature', 'personality', 'work'], ['language', 'society'],\n",
            "    ['personality', 'planets', 'science', 'travel'],\n",
            "    ['ai', 'film', 'gaming', 'language'], ['science', 'society'], ['memory'],\n",
            "    ['bacteria', 'biology', 'personality', 'science'],\n",
            "    ['biology', 'finance', 'gardening', 'nature', 'society'], ['discovery'],\n",
            "    ['science', 'society'], ['film', 'gaming', 'society'],\n",
            "    ['bacteria', 'law', 'society', 'work'], ['life', 'personality', 'society'],\n",
            "    [], ['society', 'work'], ['china', 'food', 'personality'], ['society'],\n",
            "    ['art', 'biology', 'disease', 'medicine', 'personality', 'science'],\n",
            "    ['life', 'personality', 'science', 'work'], ['media', 'society'], [], [],\n",
            "    ['ai', 'biology', 'food', 'ocean', 'personality'],\n",
            "    ['media', 'society', 'work'], ['art', 'creativity', 'work'], ['science'],\n",
            "    [], ['society', 'work'], ['society'],\n",
            "    ['personality', 'science', 'travel', 'work'], ['personality'], ['society']]\n"
          ],
          "name": "stdout"
        }
      ]
    },
    {
      "cell_type": "code",
      "metadata": {
        "colab": {
          "base_uri": "https://localhost:8080/"
        },
        "id": "JGKz_o275ZCc",
        "outputId": "7ee43327-6d53-408e-ecc7-d4d39b863dc2"
      },
      "source": [
        "pp.pprint(y_test)"
      ],
      "execution_count": null,
      "outputs": [
        {
          "output_type": "stream",
          "text": [
            "1092    [architecture, bees, biology, food, life, natu...\n",
            "925                          [ai, film, gaming, language]\n",
            "1828    [ai, creativity, film, gaming, language, langu...\n",
            "3279    [activism, discovery, discovery, emotions, rel...\n",
            "895                               [aging, biology, birds]\n",
            "                              ...                        \n",
            "4909            [art, nature, personality, society, work]\n",
            "3052    [art, language, life, personality, personality...\n",
            "1200                        [energy, personality, travel]\n",
            "2758                               [language, life, work]\n",
            "3290                         [discovery, energy, society]\n",
            "Name: talks__tags, Length: 512, dtype: object\n"
          ],
          "name": "stdout"
        }
      ]
    },
    {
      "cell_type": "markdown",
      "metadata": {
        "id": "dnt9co3sNJn6"
      },
      "source": [
        "### 03.Evaluación del modelo"
      ]
    },
    {
      "cell_type": "markdown",
      "metadata": {
        "id": "TQmuXA03EC2L"
      },
      "source": [
        "#### Puntaje de hamming\n",
        "\n",
        "Al utilizar multi-class multi-label, obtener el accuracy del modelo es una de las opciones que se tienen, pero el apunta a que la totalidad de los tags predichos se encuentre en los tags del set de test.\n",
        "\n",
        "Utilizando el puntaje de hamming buscamos la intersección entre los tags verdaderos (los del set de datos de test) y los tags que se predijeron."
      ]
    },
    {
      "cell_type": "code",
      "metadata": {
        "id": "Sqt-pZlDCbWQ"
      },
      "source": [
        "def hamming_score(y_true, y_pred, normalize=True, sample_weight=None):\n",
        "    acc_list = []\n",
        "    for i in range(y_true.shape[0]):\n",
        "        set_true = set( np.where(y_true[i])[0] )\n",
        "        set_pred = set( np.where(y_pred[i])[0] )\n",
        "        #print('\\nset_true: {0}'.format(set_true))\n",
        "        #print('set_pred: {0}'.format(set_pred))\n",
        "        tmp_a = None\n",
        "        if len(set_true) == 0 and len(set_pred) == 0:\n",
        "            tmp_a = 1\n",
        "        else:\n",
        "            tmp_a = len(set_true.intersection(set_pred))/\\\n",
        "                    float( len(set_true.union(set_pred)) )\n",
        "        #print('tmp_a: {0}'.format(tmp_a))\n",
        "        acc_list.append(tmp_a)\n",
        "    return np.mean(acc_list)"
      ],
      "execution_count": null,
      "outputs": []
    },
    {
      "cell_type": "code",
      "metadata": {
        "colab": {
          "base_uri": "https://localhost:8080/"
        },
        "id": "y2O0Ed7aCryW",
        "outputId": "47f9483a-b709-4fcc-a4a7-185c42a13126"
      },
      "source": [
        "print(f'{hamming_score(np.array(y_test), np.array(y_pred)) * 100}%')"
      ],
      "execution_count": null,
      "outputs": [
        {
          "output_type": "stream",
          "text": [
            "45.07986563084459%\n"
          ],
          "name": "stdout"
        }
      ]
    },
    {
      "cell_type": "markdown",
      "metadata": {
        "id": "o1r7H96vFIqG"
      },
      "source": [
        "#### Accuracy\n",
        "\n",
        "Como se menciono previamente, con el accuracy vamos a buscar obtener la igualdad total entre lo predicho y lo verdadero. Marcando como predicción erronea si de 10 tags que tiene una charla unicamente uno se predijo de manera incorrecta."
      ]
    },
    {
      "cell_type": "code",
      "metadata": {
        "colab": {
          "base_uri": "https://localhost:8080/"
        },
        "id": "VDuB4UuRDOF2",
        "outputId": "35faef00-407b-4a74-869a-0c0c968d91a7"
      },
      "source": [
        "sparse_y_test = mlb.transform(y_test)\n",
        "sparse_y_pred = mlb.transform(y_pred)\n",
        "\n",
        "print(f'{accuracy_score(sparse_y_test, sparse_y_pred) * 100}%')"
      ],
      "execution_count": null,
      "outputs": [
        {
          "output_type": "stream",
          "text": [
            "3.515625%\n"
          ],
          "name": "stdout"
        }
      ]
    },
    {
      "cell_type": "markdown",
      "metadata": {
        "id": "wV5PW2yXNOoO"
      },
      "source": [
        "#### Recall\n",
        "\n",
        "Nos muestra la habilidad del modelo de taggear charlas de manera correcta.\n",
        "\n",
        "<p align=\"center\">\n",
        "<img src=\"https://pinatadata.com/wp-content/uploads/2019/10/recall.png\">\n",
        "</p>\n",
        "\n",
        "Primero procedemos a calcular el recall de manera global sin entrar en detalle en cada una de las etiquetas"
      ]
    },
    {
      "cell_type": "code",
      "metadata": {
        "colab": {
          "base_uri": "https://localhost:8080/"
        },
        "id": "TA7dJedBFj0U",
        "outputId": "995bec77-2097-49a4-c8c8-3e09628b794c"
      },
      "source": [
        "print(f'{recall_score(sparse_y_test, sparse_y_pred, average=\"micro\") * 100}%')"
      ],
      "execution_count": null,
      "outputs": [
        {
          "output_type": "stream",
          "text": [
            "38.38424437299036%\n"
          ],
          "name": "stdout"
        }
      ]
    },
    {
      "cell_type": "markdown",
      "metadata": {
        "id": "gNsh4oIDNyKt"
      },
      "source": [
        "Calculamos el recall de cada una de las etiquetas teniendo en cuenta su peso dentro del dataset."
      ]
    },
    {
      "cell_type": "code",
      "metadata": {
        "colab": {
          "base_uri": "https://localhost:8080/"
        },
        "id": "2Lbm49n5MDZo",
        "outputId": "2087377f-9027-4678-dae7-55e82d96ea2e"
      },
      "source": [
        "print(f'{recall_score(sparse_y_test, sparse_y_pred, average=\"weighted\") * 100}%')"
      ],
      "execution_count": null,
      "outputs": [
        {
          "output_type": "stream",
          "text": [
            "38.38424437299036%\n"
          ],
          "name": "stdout"
        }
      ]
    },
    {
      "cell_type": "markdown",
      "metadata": {
        "id": "UodehxU8N_FO"
      },
      "source": [
        "#### Precision\n",
        "\n",
        "Nos indica la habilidad del modelo para no taggear charlas de manera incorrecta.\n",
        "\n",
        "<p align=\"center\">\n",
        "<img src=\"https://pinatadata.com/wp-content/uploads/2019/10/precision.png\" />\n",
        "</p>\n",
        "\n",
        "Se utilizo los mismos enfoques que para calcular el recall"
      ]
    },
    {
      "cell_type": "code",
      "metadata": {
        "colab": {
          "base_uri": "https://localhost:8080/"
        },
        "id": "owkxY_bwOEon",
        "outputId": "cc795f3d-48f5-491d-f4d1-cb8e4d3fff90"
      },
      "source": [
        "print(f'{precision_score(sparse_y_test, sparse_y_pred, average=\"micro\") * 100}%')"
      ],
      "execution_count": null,
      "outputs": [
        {
          "output_type": "stream",
          "text": [
            "72.18442932728647%\n"
          ],
          "name": "stdout"
        }
      ]
    },
    {
      "cell_type": "code",
      "metadata": {
        "colab": {
          "base_uri": "https://localhost:8080/"
        },
        "id": "82mWsTQmOKSl",
        "outputId": "123f6443-04ea-48ea-8e5f-98cb36eaa18c"
      },
      "source": [
        "print(f'{precision_score(sparse_y_test, sparse_y_pred, average=\"weighted\") * 100}%')"
      ],
      "execution_count": null,
      "outputs": [
        {
          "output_type": "stream",
          "text": [
            "72.67003073686426%\n"
          ],
          "name": "stdout"
        }
      ]
    }
  ]
}