{
  "nbformat": 4,
  "nbformat_minor": 0,
  "metadata": {
    "kernelspec": {
      "language": "python",
      "display_name": "Python 3",
      "name": "python3"
    },
    "language_info": {
      "name": "python",
      "version": "3.7.9",
      "mimetype": "text/x-python",
      "codemirror_mode": {
        "name": "ipython",
        "version": 3
      },
      "pygments_lexer": "ipython3",
      "nbconvert_exporter": "python",
      "file_extension": ".py"
    },
    "colab": {
      "name": "Preprocesamiento_unificado.ipynb",
      "provenance": [],
      "collapsed_sections": [
        "XwoLq6VBrCjt",
        "RlET95BVsWvs",
        "5shxu71ks4bR",
        "oWMIj6H-tyjM",
        "uATgZUnBt-PQ",
        "xA-ljomCxSXS",
        "dVVsBEFASRXq",
        "YKHTontv1LDm",
        "d0NQAgmuROle",
        "kNv2YNWG5ZCR",
        "BQ6vZ-KA5ZCW",
        "8gIt3zGT5ZCZ",
        "dnt9co3sNJn6",
        "TQmuXA03EC2L",
        "o1r7H96vFIqG",
        "wV5PW2yXNOoO",
        "UodehxU8N_FO"
      ],
      "toc_visible": true
    }
  },
  "cells": [
    {
      "cell_type": "markdown",
      "metadata": {
        "id": "aY9MeBbDn0hw"
      },
      "source": [
        "<center> <img src=\"https://www.austral.edu.ar/ingenieria-posgrados/wp-content/uploads/2018/06/ua-ingenieria-color-logo.png\"/> </center>\n",
        "\n",
        "## Text Mining\n",
        "## Proyecto: Clasificador de TED Talks\n",
        "\n",
        "\n",
        "\n"
      ]
    },
    {
      "cell_type": "markdown",
      "metadata": {
        "id": "UyJveTWhzzSA"
      },
      "source": [
        "### 01.Preprocesamiento"
      ]
    },
    {
      "cell_type": "markdown",
      "metadata": {
        "id": "XwoLq6VBrCjt"
      },
      "source": [
        "#### 01.00 - Preparación del Entorno"
      ]
    },
    {
      "cell_type": "code",
      "metadata": {
        "trusted": true,
        "id": "mpS-KN-QPcjQ",
        "colab": {
          "base_uri": "https://localhost:8080/"
        },
        "outputId": "8a24259a-4b3e-4930-d89a-fbf03cc44613"
      },
      "source": [
        "# Instalación de Bibliotecas y recursos\n",
        "! pip install -U spacy\n",
        "! pip install https://github.com/explosion/spacy-models/releases/download/en_core_web_lg-3.0.0/en_core_web_lg-3.0.0.tar.gz\n",
        "! pip install unidecode\n",
        "! pip install bs4\n",
        "\n",
        "# Importacion de bibliotecas\n",
        "import os\n",
        "import os.path\n",
        "import pprint\n",
        "import string\n",
        "import unidecode\n",
        "import ast\n",
        "import re\n",
        "import bs4\n",
        "import time\n",
        "import requests\n",
        "import json\n",
        "import random\n",
        "import warnings\n",
        "import gc\n",
        "import pprint\n",
        "import warnings\n",
        "import nltk\n",
        "import spacy\n",
        "import pandas as pd\n",
        "import numpy as np\n",
        "import plotly.express as px\n",
        "import matplotlib.pyplot as plt\n",
        "import seaborn as sns\n",
        "\n",
        "# Generales\n",
        "from scipy.stats import gaussian_kde\n",
        "from multiprocessing import Manager, Process\n",
        "from bs4 import BeautifulSoup\n",
        "from datetime import datetime\n",
        "from google.colab import drive\n",
        "from spacy import displacy\n",
        "\n",
        "# NLTK\n",
        "from nltk.text import Text\n",
        "from nltk.tokenize import word_tokenize, sent_tokenize\n",
        "from nltk.corpus import stopwords\n",
        "from nltk.stem import SnowballStemmer\n",
        "from nltk.corpus import wordnet as wn\n",
        "from nltk.collocations import BigramCollocationFinder,BigramAssocMeasures\n",
        "\n",
        "# SKLEARN\n",
        "from sklearn.cluster import AffinityPropagation\n",
        "from sklearn.feature_extraction.text import TfidfVectorizer\n",
        "from sklearn.feature_extraction.text import CountVectorizer\n",
        "from sklearn.model_selection import train_test_split\n",
        "from sklearn.pipeline import Pipeline\n",
        "from sklearn.linear_model import LogisticRegression\n",
        "from sklearn.svm import LinearSVC\n",
        "from sklearn.naive_bayes import GaussianNB\n",
        "from sklearn.tree import DecisionTreeClassifier\n",
        "from sklearn.linear_model import LogisticRegression\n",
        "from sklearn.ensemble import StackingClassifier, RandomForestClassifier, AdaBoostClassifier, GradientBoostingClassifier\n",
        "from sklearn.metrics.pairwise import cosine_similarity\n",
        "from sklearn.multiclass import OneVsRestClassifier\n",
        "from sklearn.preprocessing import MultiLabelBinarizer\n",
        "from sklearn.metrics import accuracy_score, recall_score, precision_score\n",
        "\n",
        "# Variables\n",
        "ted_file = 'Ted_Talk.csv'\n",
        "language = 'english'\n",
        "\n",
        "# PrettyPrinter\n",
        "pp = pprint.PrettyPrinter(compact=True)\n",
        "pp = pprint.PrettyPrinter(indent=4, compact=True)\n",
        "\n",
        "# No mostrar warnings\n",
        "warnings.filterwarnings('ignore')\n",
        "\n",
        "nltk.download('all')\n",
        "nltk.download('wordnet')\n",
        "\n",
        "nlp = spacy.load(\"en_core_web_lg\")\n",
        "\n",
        "language_stops = set(stopwords.words(language))\n",
        "language_stops.update(string.punctuation)"
      ],
      "execution_count": 252,
      "outputs": [
        {
          "output_type": "stream",
          "text": [
            "Requirement already up-to-date: spacy in /usr/local/lib/python3.7/dist-packages (3.0.6)\n",
            "Requirement already satisfied, skipping upgrade: tqdm<5.0.0,>=4.38.0 in /usr/local/lib/python3.7/dist-packages (from spacy) (4.41.1)\n",
            "Requirement already satisfied, skipping upgrade: catalogue<2.1.0,>=2.0.3 in /usr/local/lib/python3.7/dist-packages (from spacy) (2.0.4)\n",
            "Requirement already satisfied, skipping upgrade: typing-extensions<4.0.0.0,>=3.7.4; python_version < \"3.8\" in /usr/local/lib/python3.7/dist-packages (from spacy) (3.7.4.3)\n",
            "Requirement already satisfied, skipping upgrade: spacy-legacy<3.1.0,>=3.0.4 in /usr/local/lib/python3.7/dist-packages (from spacy) (3.0.5)\n",
            "Requirement already satisfied, skipping upgrade: cymem<2.1.0,>=2.0.2 in /usr/local/lib/python3.7/dist-packages (from spacy) (2.0.5)\n",
            "Requirement already satisfied, skipping upgrade: requests<3.0.0,>=2.13.0 in /usr/local/lib/python3.7/dist-packages (from spacy) (2.23.0)\n",
            "Requirement already satisfied, skipping upgrade: srsly<3.0.0,>=2.4.1 in /usr/local/lib/python3.7/dist-packages (from spacy) (2.4.1)\n",
            "Requirement already satisfied, skipping upgrade: jinja2 in /usr/local/lib/python3.7/dist-packages (from spacy) (2.11.3)\n",
            "Requirement already satisfied, skipping upgrade: blis<0.8.0,>=0.4.0 in /usr/local/lib/python3.7/dist-packages (from spacy) (0.4.1)\n",
            "Requirement already satisfied, skipping upgrade: preshed<3.1.0,>=3.0.2 in /usr/local/lib/python3.7/dist-packages (from spacy) (3.0.5)\n",
            "Requirement already satisfied, skipping upgrade: numpy>=1.15.0 in /usr/local/lib/python3.7/dist-packages (from spacy) (1.19.5)\n",
            "Requirement already satisfied, skipping upgrade: pydantic<1.8.0,>=1.7.1 in /usr/local/lib/python3.7/dist-packages (from spacy) (1.7.4)\n",
            "Requirement already satisfied, skipping upgrade: wasabi<1.1.0,>=0.8.1 in /usr/local/lib/python3.7/dist-packages (from spacy) (0.8.2)\n",
            "Requirement already satisfied, skipping upgrade: typer<0.4.0,>=0.3.0 in /usr/local/lib/python3.7/dist-packages (from spacy) (0.3.2)\n",
            "Requirement already satisfied, skipping upgrade: pathy>=0.3.5 in /usr/local/lib/python3.7/dist-packages (from spacy) (0.5.2)\n",
            "Requirement already satisfied, skipping upgrade: murmurhash<1.1.0,>=0.28.0 in /usr/local/lib/python3.7/dist-packages (from spacy) (1.0.5)\n",
            "Requirement already satisfied, skipping upgrade: thinc<8.1.0,>=8.0.3 in /usr/local/lib/python3.7/dist-packages (from spacy) (8.0.3)\n",
            "Requirement already satisfied, skipping upgrade: setuptools in /usr/local/lib/python3.7/dist-packages (from spacy) (57.0.0)\n",
            "Requirement already satisfied, skipping upgrade: packaging>=20.0 in /usr/local/lib/python3.7/dist-packages (from spacy) (20.9)\n",
            "Requirement already satisfied, skipping upgrade: zipp>=0.5; python_version < \"3.8\" in /usr/local/lib/python3.7/dist-packages (from catalogue<2.1.0,>=2.0.3->spacy) (3.4.1)\n",
            "Requirement already satisfied, skipping upgrade: chardet<4,>=3.0.2 in /usr/local/lib/python3.7/dist-packages (from requests<3.0.0,>=2.13.0->spacy) (3.0.4)\n",
            "Requirement already satisfied, skipping upgrade: certifi>=2017.4.17 in /usr/local/lib/python3.7/dist-packages (from requests<3.0.0,>=2.13.0->spacy) (2020.12.5)\n",
            "Requirement already satisfied, skipping upgrade: idna<3,>=2.5 in /usr/local/lib/python3.7/dist-packages (from requests<3.0.0,>=2.13.0->spacy) (2.10)\n",
            "Requirement already satisfied, skipping upgrade: urllib3!=1.25.0,!=1.25.1,<1.26,>=1.21.1 in /usr/local/lib/python3.7/dist-packages (from requests<3.0.0,>=2.13.0->spacy) (1.24.3)\n",
            "Requirement already satisfied, skipping upgrade: MarkupSafe>=0.23 in /usr/local/lib/python3.7/dist-packages (from jinja2->spacy) (2.0.1)\n",
            "Requirement already satisfied, skipping upgrade: click<7.2.0,>=7.1.1 in /usr/local/lib/python3.7/dist-packages (from typer<0.4.0,>=0.3.0->spacy) (7.1.2)\n",
            "Requirement already satisfied, skipping upgrade: smart-open<4.0.0,>=2.2.0 in /usr/local/lib/python3.7/dist-packages (from pathy>=0.3.5->spacy) (3.0.0)\n",
            "Requirement already satisfied, skipping upgrade: pyparsing>=2.0.2 in /usr/local/lib/python3.7/dist-packages (from packaging>=20.0->spacy) (2.4.7)\n",
            "Collecting https://github.com/explosion/spacy-models/releases/download/en_core_web_lg-3.0.0/en_core_web_lg-3.0.0.tar.gz\n",
            "\u001b[?25l  Downloading https://github.com/explosion/spacy-models/releases/download/en_core_web_lg-3.0.0/en_core_web_lg-3.0.0.tar.gz (778.7MB)\n",
            "\u001b[K     |████████████████████████████████| 778.7MB 20kB/s \n",
            "\u001b[?25hRequirement already satisfied (use --upgrade to upgrade): en-core-web-lg==3.0.0 from https://github.com/explosion/spacy-models/releases/download/en_core_web_lg-3.0.0/en_core_web_lg-3.0.0.tar.gz in /usr/local/lib/python3.7/dist-packages\n",
            "Requirement already satisfied: spacy<3.1.0,>=3.0.0 in /usr/local/lib/python3.7/dist-packages (from en-core-web-lg==3.0.0) (3.0.6)\n",
            "Requirement already satisfied: tqdm<5.0.0,>=4.38.0 in /usr/local/lib/python3.7/dist-packages (from spacy<3.1.0,>=3.0.0->en-core-web-lg==3.0.0) (4.41.1)\n",
            "Requirement already satisfied: typer<0.4.0,>=0.3.0 in /usr/local/lib/python3.7/dist-packages (from spacy<3.1.0,>=3.0.0->en-core-web-lg==3.0.0) (0.3.2)\n",
            "Requirement already satisfied: packaging>=20.0 in /usr/local/lib/python3.7/dist-packages (from spacy<3.1.0,>=3.0.0->en-core-web-lg==3.0.0) (20.9)\n",
            "Requirement already satisfied: thinc<8.1.0,>=8.0.3 in /usr/local/lib/python3.7/dist-packages (from spacy<3.1.0,>=3.0.0->en-core-web-lg==3.0.0) (8.0.3)\n",
            "Requirement already satisfied: blis<0.8.0,>=0.4.0 in /usr/local/lib/python3.7/dist-packages (from spacy<3.1.0,>=3.0.0->en-core-web-lg==3.0.0) (0.4.1)\n",
            "Requirement already satisfied: cymem<2.1.0,>=2.0.2 in /usr/local/lib/python3.7/dist-packages (from spacy<3.1.0,>=3.0.0->en-core-web-lg==3.0.0) (2.0.5)\n",
            "Requirement already satisfied: spacy-legacy<3.1.0,>=3.0.4 in /usr/local/lib/python3.7/dist-packages (from spacy<3.1.0,>=3.0.0->en-core-web-lg==3.0.0) (3.0.5)\n",
            "Requirement already satisfied: pathy>=0.3.5 in /usr/local/lib/python3.7/dist-packages (from spacy<3.1.0,>=3.0.0->en-core-web-lg==3.0.0) (0.5.2)\n",
            "Requirement already satisfied: wasabi<1.1.0,>=0.8.1 in /usr/local/lib/python3.7/dist-packages (from spacy<3.1.0,>=3.0.0->en-core-web-lg==3.0.0) (0.8.2)\n",
            "Requirement already satisfied: pydantic<1.8.0,>=1.7.1 in /usr/local/lib/python3.7/dist-packages (from spacy<3.1.0,>=3.0.0->en-core-web-lg==3.0.0) (1.7.4)\n",
            "Requirement already satisfied: setuptools in /usr/local/lib/python3.7/dist-packages (from spacy<3.1.0,>=3.0.0->en-core-web-lg==3.0.0) (57.0.0)\n",
            "Requirement already satisfied: preshed<3.1.0,>=3.0.2 in /usr/local/lib/python3.7/dist-packages (from spacy<3.1.0,>=3.0.0->en-core-web-lg==3.0.0) (3.0.5)\n",
            "Requirement already satisfied: srsly<3.0.0,>=2.4.1 in /usr/local/lib/python3.7/dist-packages (from spacy<3.1.0,>=3.0.0->en-core-web-lg==3.0.0) (2.4.1)\n",
            "Requirement already satisfied: numpy>=1.15.0 in /usr/local/lib/python3.7/dist-packages (from spacy<3.1.0,>=3.0.0->en-core-web-lg==3.0.0) (1.19.5)\n",
            "Requirement already satisfied: jinja2 in /usr/local/lib/python3.7/dist-packages (from spacy<3.1.0,>=3.0.0->en-core-web-lg==3.0.0) (2.11.3)\n",
            "Requirement already satisfied: typing-extensions<4.0.0.0,>=3.7.4; python_version < \"3.8\" in /usr/local/lib/python3.7/dist-packages (from spacy<3.1.0,>=3.0.0->en-core-web-lg==3.0.0) (3.7.4.3)\n",
            "Requirement already satisfied: requests<3.0.0,>=2.13.0 in /usr/local/lib/python3.7/dist-packages (from spacy<3.1.0,>=3.0.0->en-core-web-lg==3.0.0) (2.23.0)\n",
            "Requirement already satisfied: murmurhash<1.1.0,>=0.28.0 in /usr/local/lib/python3.7/dist-packages (from spacy<3.1.0,>=3.0.0->en-core-web-lg==3.0.0) (1.0.5)\n",
            "Requirement already satisfied: catalogue<2.1.0,>=2.0.3 in /usr/local/lib/python3.7/dist-packages (from spacy<3.1.0,>=3.0.0->en-core-web-lg==3.0.0) (2.0.4)\n",
            "Requirement already satisfied: click<7.2.0,>=7.1.1 in /usr/local/lib/python3.7/dist-packages (from typer<0.4.0,>=0.3.0->spacy<3.1.0,>=3.0.0->en-core-web-lg==3.0.0) (7.1.2)\n",
            "Requirement already satisfied: pyparsing>=2.0.2 in /usr/local/lib/python3.7/dist-packages (from packaging>=20.0->spacy<3.1.0,>=3.0.0->en-core-web-lg==3.0.0) (2.4.7)\n",
            "Requirement already satisfied: smart-open<4.0.0,>=2.2.0 in /usr/local/lib/python3.7/dist-packages (from pathy>=0.3.5->spacy<3.1.0,>=3.0.0->en-core-web-lg==3.0.0) (3.0.0)\n",
            "Requirement already satisfied: MarkupSafe>=0.23 in /usr/local/lib/python3.7/dist-packages (from jinja2->spacy<3.1.0,>=3.0.0->en-core-web-lg==3.0.0) (2.0.1)\n",
            "Requirement already satisfied: urllib3!=1.25.0,!=1.25.1,<1.26,>=1.21.1 in /usr/local/lib/python3.7/dist-packages (from requests<3.0.0,>=2.13.0->spacy<3.1.0,>=3.0.0->en-core-web-lg==3.0.0) (1.24.3)\n",
            "Requirement already satisfied: chardet<4,>=3.0.2 in /usr/local/lib/python3.7/dist-packages (from requests<3.0.0,>=2.13.0->spacy<3.1.0,>=3.0.0->en-core-web-lg==3.0.0) (3.0.4)\n",
            "Requirement already satisfied: certifi>=2017.4.17 in /usr/local/lib/python3.7/dist-packages (from requests<3.0.0,>=2.13.0->spacy<3.1.0,>=3.0.0->en-core-web-lg==3.0.0) (2020.12.5)\n",
            "Requirement already satisfied: idna<3,>=2.5 in /usr/local/lib/python3.7/dist-packages (from requests<3.0.0,>=2.13.0->spacy<3.1.0,>=3.0.0->en-core-web-lg==3.0.0) (2.10)\n",
            "Requirement already satisfied: zipp>=0.5; python_version < \"3.8\" in /usr/local/lib/python3.7/dist-packages (from catalogue<2.1.0,>=2.0.3->spacy<3.1.0,>=3.0.0->en-core-web-lg==3.0.0) (3.4.1)\n",
            "Building wheels for collected packages: en-core-web-lg\n",
            "  Building wheel for en-core-web-lg (setup.py) ... \u001b[?25l\u001b[?25hdone\n",
            "  Created wheel for en-core-web-lg: filename=en_core_web_lg-3.0.0-cp37-none-any.whl size=778750489 sha256=d0045c61f71131554f53dfa885562527529b477402979edb17bf17e0a63d324a\n",
            "  Stored in directory: /root/.cache/pip/wheels/76/d4/24/e2bbc81bef966db10207f8280a6cdfd45d7a1d2f97657ab1a5\n",
            "Successfully built en-core-web-lg\n",
            "Requirement already satisfied: unidecode in /usr/local/lib/python3.7/dist-packages (1.2.0)\n",
            "Requirement already satisfied: bs4 in /usr/local/lib/python3.7/dist-packages (0.0.1)\n",
            "Requirement already satisfied: beautifulsoup4 in /usr/local/lib/python3.7/dist-packages (from bs4) (4.6.3)\n",
            "[nltk_data] Downloading collection 'all'\n",
            "[nltk_data]    | \n",
            "[nltk_data]    | Downloading package abc to /root/nltk_data...\n",
            "[nltk_data]    |   Package abc is already up-to-date!\n",
            "[nltk_data]    | Downloading package alpino to /root/nltk_data...\n",
            "[nltk_data]    |   Package alpino is already up-to-date!\n",
            "[nltk_data]    | Downloading package biocreative_ppi to\n",
            "[nltk_data]    |     /root/nltk_data...\n",
            "[nltk_data]    |   Package biocreative_ppi is already up-to-date!\n",
            "[nltk_data]    | Downloading package brown to /root/nltk_data...\n",
            "[nltk_data]    |   Package brown is already up-to-date!\n",
            "[nltk_data]    | Downloading package brown_tei to /root/nltk_data...\n",
            "[nltk_data]    |   Package brown_tei is already up-to-date!\n",
            "[nltk_data]    | Downloading package cess_cat to /root/nltk_data...\n",
            "[nltk_data]    |   Package cess_cat is already up-to-date!\n",
            "[nltk_data]    | Downloading package cess_esp to /root/nltk_data...\n",
            "[nltk_data]    |   Package cess_esp is already up-to-date!\n",
            "[nltk_data]    | Downloading package chat80 to /root/nltk_data...\n",
            "[nltk_data]    |   Package chat80 is already up-to-date!\n",
            "[nltk_data]    | Downloading package city_database to\n",
            "[nltk_data]    |     /root/nltk_data...\n",
            "[nltk_data]    |   Package city_database is already up-to-date!\n",
            "[nltk_data]    | Downloading package cmudict to /root/nltk_data...\n",
            "[nltk_data]    |   Package cmudict is already up-to-date!\n",
            "[nltk_data]    | Downloading package comparative_sentences to\n",
            "[nltk_data]    |     /root/nltk_data...\n",
            "[nltk_data]    |   Package comparative_sentences is already up-to-\n",
            "[nltk_data]    |       date!\n",
            "[nltk_data]    | Downloading package comtrans to /root/nltk_data...\n",
            "[nltk_data]    |   Package comtrans is already up-to-date!\n",
            "[nltk_data]    | Downloading package conll2000 to /root/nltk_data...\n",
            "[nltk_data]    |   Package conll2000 is already up-to-date!\n",
            "[nltk_data]    | Downloading package conll2002 to /root/nltk_data...\n",
            "[nltk_data]    |   Package conll2002 is already up-to-date!\n",
            "[nltk_data]    | Downloading package conll2007 to /root/nltk_data...\n",
            "[nltk_data]    |   Package conll2007 is already up-to-date!\n",
            "[nltk_data]    | Downloading package crubadan to /root/nltk_data...\n",
            "[nltk_data]    |   Package crubadan is already up-to-date!\n",
            "[nltk_data]    | Downloading package dependency_treebank to\n",
            "[nltk_data]    |     /root/nltk_data...\n",
            "[nltk_data]    |   Package dependency_treebank is already up-to-date!\n",
            "[nltk_data]    | Downloading package dolch to /root/nltk_data...\n",
            "[nltk_data]    |   Package dolch is already up-to-date!\n",
            "[nltk_data]    | Downloading package europarl_raw to\n",
            "[nltk_data]    |     /root/nltk_data...\n",
            "[nltk_data]    |   Package europarl_raw is already up-to-date!\n",
            "[nltk_data]    | Downloading package floresta to /root/nltk_data...\n",
            "[nltk_data]    |   Package floresta is already up-to-date!\n",
            "[nltk_data]    | Downloading package framenet_v15 to\n",
            "[nltk_data]    |     /root/nltk_data...\n",
            "[nltk_data]    |   Package framenet_v15 is already up-to-date!\n",
            "[nltk_data]    | Downloading package framenet_v17 to\n",
            "[nltk_data]    |     /root/nltk_data...\n",
            "[nltk_data]    |   Package framenet_v17 is already up-to-date!\n",
            "[nltk_data]    | Downloading package gazetteers to /root/nltk_data...\n",
            "[nltk_data]    |   Package gazetteers is already up-to-date!\n",
            "[nltk_data]    | Downloading package genesis to /root/nltk_data...\n",
            "[nltk_data]    |   Package genesis is already up-to-date!\n",
            "[nltk_data]    | Downloading package gutenberg to /root/nltk_data...\n",
            "[nltk_data]    |   Package gutenberg is already up-to-date!\n",
            "[nltk_data]    | Downloading package ieer to /root/nltk_data...\n",
            "[nltk_data]    |   Package ieer is already up-to-date!\n",
            "[nltk_data]    | Downloading package inaugural to /root/nltk_data...\n",
            "[nltk_data]    |   Package inaugural is already up-to-date!\n",
            "[nltk_data]    | Downloading package indian to /root/nltk_data...\n",
            "[nltk_data]    |   Package indian is already up-to-date!\n",
            "[nltk_data]    | Downloading package jeita to /root/nltk_data...\n",
            "[nltk_data]    |   Package jeita is already up-to-date!\n",
            "[nltk_data]    | Downloading package kimmo to /root/nltk_data...\n",
            "[nltk_data]    |   Package kimmo is already up-to-date!\n",
            "[nltk_data]    | Downloading package knbc to /root/nltk_data...\n",
            "[nltk_data]    |   Package knbc is already up-to-date!\n",
            "[nltk_data]    | Downloading package lin_thesaurus to\n",
            "[nltk_data]    |     /root/nltk_data...\n",
            "[nltk_data]    |   Package lin_thesaurus is already up-to-date!\n",
            "[nltk_data]    | Downloading package mac_morpho to /root/nltk_data...\n",
            "[nltk_data]    |   Package mac_morpho is already up-to-date!\n",
            "[nltk_data]    | Downloading package machado to /root/nltk_data...\n",
            "[nltk_data]    |   Package machado is already up-to-date!\n",
            "[nltk_data]    | Downloading package masc_tagged to /root/nltk_data...\n",
            "[nltk_data]    |   Package masc_tagged is already up-to-date!\n",
            "[nltk_data]    | Downloading package moses_sample to\n",
            "[nltk_data]    |     /root/nltk_data...\n",
            "[nltk_data]    |   Package moses_sample is already up-to-date!\n",
            "[nltk_data]    | Downloading package movie_reviews to\n",
            "[nltk_data]    |     /root/nltk_data...\n",
            "[nltk_data]    |   Package movie_reviews is already up-to-date!\n",
            "[nltk_data]    | Downloading package names to /root/nltk_data...\n",
            "[nltk_data]    |   Package names is already up-to-date!\n",
            "[nltk_data]    | Downloading package nombank.1.0 to /root/nltk_data...\n",
            "[nltk_data]    |   Package nombank.1.0 is already up-to-date!\n",
            "[nltk_data]    | Downloading package nps_chat to /root/nltk_data...\n",
            "[nltk_data]    |   Package nps_chat is already up-to-date!\n",
            "[nltk_data]    | Downloading package omw to /root/nltk_data...\n",
            "[nltk_data]    |   Package omw is already up-to-date!\n",
            "[nltk_data]    | Downloading package opinion_lexicon to\n",
            "[nltk_data]    |     /root/nltk_data...\n",
            "[nltk_data]    |   Package opinion_lexicon is already up-to-date!\n",
            "[nltk_data]    | Downloading package paradigms to /root/nltk_data...\n",
            "[nltk_data]    |   Package paradigms is already up-to-date!\n",
            "[nltk_data]    | Downloading package pil to /root/nltk_data...\n",
            "[nltk_data]    |   Package pil is already up-to-date!\n",
            "[nltk_data]    | Downloading package pl196x to /root/nltk_data...\n",
            "[nltk_data]    |   Package pl196x is already up-to-date!\n",
            "[nltk_data]    | Downloading package ppattach to /root/nltk_data...\n",
            "[nltk_data]    |   Package ppattach is already up-to-date!\n",
            "[nltk_data]    | Downloading package problem_reports to\n",
            "[nltk_data]    |     /root/nltk_data...\n",
            "[nltk_data]    |   Package problem_reports is already up-to-date!\n",
            "[nltk_data]    | Downloading package propbank to /root/nltk_data...\n",
            "[nltk_data]    |   Package propbank is already up-to-date!\n",
            "[nltk_data]    | Downloading package ptb to /root/nltk_data...\n",
            "[nltk_data]    |   Package ptb is already up-to-date!\n",
            "[nltk_data]    | Downloading package product_reviews_1 to\n",
            "[nltk_data]    |     /root/nltk_data...\n",
            "[nltk_data]    |   Package product_reviews_1 is already up-to-date!\n",
            "[nltk_data]    | Downloading package product_reviews_2 to\n",
            "[nltk_data]    |     /root/nltk_data...\n",
            "[nltk_data]    |   Package product_reviews_2 is already up-to-date!\n",
            "[nltk_data]    | Downloading package pros_cons to /root/nltk_data...\n",
            "[nltk_data]    |   Package pros_cons is already up-to-date!\n",
            "[nltk_data]    | Downloading package qc to /root/nltk_data...\n",
            "[nltk_data]    |   Package qc is already up-to-date!\n",
            "[nltk_data]    | Downloading package reuters to /root/nltk_data...\n",
            "[nltk_data]    |   Package reuters is already up-to-date!\n",
            "[nltk_data]    | Downloading package rte to /root/nltk_data...\n",
            "[nltk_data]    |   Package rte is already up-to-date!\n",
            "[nltk_data]    | Downloading package semcor to /root/nltk_data...\n",
            "[nltk_data]    |   Package semcor is already up-to-date!\n",
            "[nltk_data]    | Downloading package senseval to /root/nltk_data...\n",
            "[nltk_data]    |   Package senseval is already up-to-date!\n",
            "[nltk_data]    | Downloading package sentiwordnet to\n",
            "[nltk_data]    |     /root/nltk_data...\n",
            "[nltk_data]    |   Package sentiwordnet is already up-to-date!\n",
            "[nltk_data]    | Downloading package sentence_polarity to\n",
            "[nltk_data]    |     /root/nltk_data...\n",
            "[nltk_data]    |   Package sentence_polarity is already up-to-date!\n",
            "[nltk_data]    | Downloading package shakespeare to /root/nltk_data...\n",
            "[nltk_data]    |   Package shakespeare is already up-to-date!\n",
            "[nltk_data]    | Downloading package sinica_treebank to\n",
            "[nltk_data]    |     /root/nltk_data...\n",
            "[nltk_data]    |   Package sinica_treebank is already up-to-date!\n",
            "[nltk_data]    | Downloading package smultron to /root/nltk_data...\n",
            "[nltk_data]    |   Package smultron is already up-to-date!\n",
            "[nltk_data]    | Downloading package state_union to /root/nltk_data...\n",
            "[nltk_data]    |   Package state_union is already up-to-date!\n",
            "[nltk_data]    | Downloading package stopwords to /root/nltk_data...\n",
            "[nltk_data]    |   Package stopwords is already up-to-date!\n",
            "[nltk_data]    | Downloading package subjectivity to\n",
            "[nltk_data]    |     /root/nltk_data...\n",
            "[nltk_data]    |   Package subjectivity is already up-to-date!\n",
            "[nltk_data]    | Downloading package swadesh to /root/nltk_data...\n",
            "[nltk_data]    |   Package swadesh is already up-to-date!\n",
            "[nltk_data]    | Downloading package switchboard to /root/nltk_data...\n",
            "[nltk_data]    |   Package switchboard is already up-to-date!\n",
            "[nltk_data]    | Downloading package timit to /root/nltk_data...\n",
            "[nltk_data]    |   Package timit is already up-to-date!\n",
            "[nltk_data]    | Downloading package toolbox to /root/nltk_data...\n",
            "[nltk_data]    |   Package toolbox is already up-to-date!\n",
            "[nltk_data]    | Downloading package treebank to /root/nltk_data...\n",
            "[nltk_data]    |   Package treebank is already up-to-date!\n",
            "[nltk_data]    | Downloading package twitter_samples to\n",
            "[nltk_data]    |     /root/nltk_data...\n",
            "[nltk_data]    |   Package twitter_samples is already up-to-date!\n",
            "[nltk_data]    | Downloading package udhr to /root/nltk_data...\n",
            "[nltk_data]    |   Package udhr is already up-to-date!\n",
            "[nltk_data]    | Downloading package udhr2 to /root/nltk_data...\n",
            "[nltk_data]    |   Package udhr2 is already up-to-date!\n",
            "[nltk_data]    | Downloading package unicode_samples to\n",
            "[nltk_data]    |     /root/nltk_data...\n",
            "[nltk_data]    |   Package unicode_samples is already up-to-date!\n",
            "[nltk_data]    | Downloading package universal_treebanks_v20 to\n",
            "[nltk_data]    |     /root/nltk_data...\n",
            "[nltk_data]    |   Package universal_treebanks_v20 is already up-to-\n",
            "[nltk_data]    |       date!\n",
            "[nltk_data]    | Downloading package verbnet to /root/nltk_data...\n",
            "[nltk_data]    |   Package verbnet is already up-to-date!\n",
            "[nltk_data]    | Downloading package verbnet3 to /root/nltk_data...\n",
            "[nltk_data]    |   Package verbnet3 is already up-to-date!\n",
            "[nltk_data]    | Downloading package webtext to /root/nltk_data...\n",
            "[nltk_data]    |   Package webtext is already up-to-date!\n",
            "[nltk_data]    | Downloading package wordnet to /root/nltk_data...\n",
            "[nltk_data]    |   Package wordnet is already up-to-date!\n",
            "[nltk_data]    | Downloading package wordnet_ic to /root/nltk_data...\n",
            "[nltk_data]    |   Package wordnet_ic is already up-to-date!\n",
            "[nltk_data]    | Downloading package words to /root/nltk_data...\n",
            "[nltk_data]    |   Package words is already up-to-date!\n",
            "[nltk_data]    | Downloading package ycoe to /root/nltk_data...\n",
            "[nltk_data]    |   Package ycoe is already up-to-date!\n",
            "[nltk_data]    | Downloading package rslp to /root/nltk_data...\n",
            "[nltk_data]    |   Package rslp is already up-to-date!\n",
            "[nltk_data]    | Downloading package maxent_treebank_pos_tagger to\n",
            "[nltk_data]    |     /root/nltk_data...\n",
            "[nltk_data]    |   Package maxent_treebank_pos_tagger is already up-\n",
            "[nltk_data]    |       to-date!\n",
            "[nltk_data]    | Downloading package universal_tagset to\n",
            "[nltk_data]    |     /root/nltk_data...\n",
            "[nltk_data]    |   Package universal_tagset is already up-to-date!\n",
            "[nltk_data]    | Downloading package maxent_ne_chunker to\n",
            "[nltk_data]    |     /root/nltk_data...\n",
            "[nltk_data]    |   Package maxent_ne_chunker is already up-to-date!\n",
            "[nltk_data]    | Downloading package punkt to /root/nltk_data...\n",
            "[nltk_data]    |   Package punkt is already up-to-date!\n",
            "[nltk_data]    | Downloading package book_grammars to\n",
            "[nltk_data]    |     /root/nltk_data...\n",
            "[nltk_data]    |   Package book_grammars is already up-to-date!\n",
            "[nltk_data]    | Downloading package sample_grammars to\n",
            "[nltk_data]    |     /root/nltk_data...\n",
            "[nltk_data]    |   Package sample_grammars is already up-to-date!\n",
            "[nltk_data]    | Downloading package spanish_grammars to\n",
            "[nltk_data]    |     /root/nltk_data...\n",
            "[nltk_data]    |   Package spanish_grammars is already up-to-date!\n",
            "[nltk_data]    | Downloading package basque_grammars to\n",
            "[nltk_data]    |     /root/nltk_data...\n",
            "[nltk_data]    |   Package basque_grammars is already up-to-date!\n",
            "[nltk_data]    | Downloading package large_grammars to\n",
            "[nltk_data]    |     /root/nltk_data...\n",
            "[nltk_data]    |   Package large_grammars is already up-to-date!\n",
            "[nltk_data]    | Downloading package tagsets to /root/nltk_data...\n",
            "[nltk_data]    |   Package tagsets is already up-to-date!\n",
            "[nltk_data]    | Downloading package snowball_data to\n",
            "[nltk_data]    |     /root/nltk_data...\n",
            "[nltk_data]    |   Package snowball_data is already up-to-date!\n",
            "[nltk_data]    | Downloading package bllip_wsj_no_aux to\n",
            "[nltk_data]    |     /root/nltk_data...\n",
            "[nltk_data]    |   Package bllip_wsj_no_aux is already up-to-date!\n",
            "[nltk_data]    | Downloading package word2vec_sample to\n",
            "[nltk_data]    |     /root/nltk_data...\n",
            "[nltk_data]    |   Package word2vec_sample is already up-to-date!\n",
            "[nltk_data]    | Downloading package panlex_swadesh to\n",
            "[nltk_data]    |     /root/nltk_data...\n",
            "[nltk_data]    |   Package panlex_swadesh is already up-to-date!\n",
            "[nltk_data]    | Downloading package mte_teip5 to /root/nltk_data...\n",
            "[nltk_data]    |   Package mte_teip5 is already up-to-date!\n",
            "[nltk_data]    | Downloading package averaged_perceptron_tagger to\n",
            "[nltk_data]    |     /root/nltk_data...\n",
            "[nltk_data]    |   Package averaged_perceptron_tagger is already up-\n",
            "[nltk_data]    |       to-date!\n",
            "[nltk_data]    | Downloading package averaged_perceptron_tagger_ru to\n",
            "[nltk_data]    |     /root/nltk_data...\n",
            "[nltk_data]    |   Package averaged_perceptron_tagger_ru is already\n",
            "[nltk_data]    |       up-to-date!\n",
            "[nltk_data]    | Downloading package perluniprops to\n",
            "[nltk_data]    |     /root/nltk_data...\n",
            "[nltk_data]    |   Package perluniprops is already up-to-date!\n",
            "[nltk_data]    | Downloading package nonbreaking_prefixes to\n",
            "[nltk_data]    |     /root/nltk_data...\n",
            "[nltk_data]    |   Package nonbreaking_prefixes is already up-to-date!\n",
            "[nltk_data]    | Downloading package vader_lexicon to\n",
            "[nltk_data]    |     /root/nltk_data...\n",
            "[nltk_data]    |   Package vader_lexicon is already up-to-date!\n",
            "[nltk_data]    | Downloading package porter_test to /root/nltk_data...\n",
            "[nltk_data]    |   Package porter_test is already up-to-date!\n",
            "[nltk_data]    | Downloading package wmt15_eval to /root/nltk_data...\n",
            "[nltk_data]    |   Package wmt15_eval is already up-to-date!\n",
            "[nltk_data]    | Downloading package mwa_ppdb to /root/nltk_data...\n",
            "[nltk_data]    |   Package mwa_ppdb is already up-to-date!\n",
            "[nltk_data]    | \n",
            "[nltk_data]  Done downloading collection all\n",
            "[nltk_data] Downloading package wordnet to /root/nltk_data...\n",
            "[nltk_data]   Package wordnet is already up-to-date!\n"
          ],
          "name": "stdout"
        }
      ]
    },
    {
      "cell_type": "markdown",
      "metadata": {
        "id": "RlET95BVsWvs"
      },
      "source": [
        "#### 01.01 - Funciones Principales"
      ]
    },
    {
      "cell_type": "code",
      "metadata": {
        "trusted": true,
        "id": "XODk3OYsPcjS"
      },
      "source": [
        "def remove_stop_words(text):\n",
        "  \"\"\"\n",
        "    Remueve stop words en inglés\n",
        "\n",
        "    Attributes\n",
        "    ----------\n",
        "    text: list\n",
        "      lista de palabras (tokens) a filtrar\n",
        "\n",
        "    Returns\n",
        "    -------\n",
        "    list\n",
        "      lista de palabras sin los stop words\n",
        "  \"\"\"\n",
        "  return [token for token in text if token.lower() not in language_stops]"
      ],
      "execution_count": 253,
      "outputs": []
    },
    {
      "cell_type": "code",
      "metadata": {
        "trusted": true,
        "id": "RiXgrc6zPcjT"
      },
      "source": [
        "def lematize_words(text):\n",
        "  \"\"\"\n",
        "    Lematización de palabras - aplica lematización de palabras sobre un set de tokens\n",
        "\n",
        "    Attributes\n",
        "    ----------\n",
        "    text: list\n",
        "      lista de palabras (tokens) sobre los cuales se aplicará la lematización\n",
        "    \n",
        "    Returns\n",
        "    -------\n",
        "    list\n",
        "      lista con todas las lematizaciones de las palabras\n",
        "  \"\"\"\n",
        "  doc = nlp(\" \".join(text))\n",
        "  return [token.lemma_ for token in doc]"
      ],
      "execution_count": 254,
      "outputs": []
    },
    {
      "cell_type": "code",
      "metadata": {
        "trusted": true,
        "id": "lxBj3K1CPcjT"
      },
      "source": [
        "def remove_meaningless_words(text):\n",
        "  \"\"\"\n",
        "    Remueve palabras sin significado\n",
        "\n",
        "    Attributes\n",
        "    ----------\n",
        "    text: list\n",
        "      lista de palabras (tokens) a filtrar\n",
        "    \n",
        "    Returns\n",
        "    -------\n",
        "    list\n",
        "      lista de palabras filtrada en base a expresiones regulares\n",
        "  \"\"\"\n",
        "  patterns = [r\"(^={1,}=$)\", r'\\u200b']\n",
        "  tokens = text\n",
        "  for pattern in patterns:\n",
        "    regexp = re.compile(pattern)\n",
        "    tokens = [token for token in tokens if not regexp.search(token)]\n",
        "  return tokens"
      ],
      "execution_count": 255,
      "outputs": []
    },
    {
      "cell_type": "code",
      "metadata": {
        "id": "N8pyM7nUg5_Y"
      },
      "source": [
        "def clean_short_words(text):\n",
        "  \"\"\"\n",
        "    Limpia palabras con longitud 1\n",
        "\n",
        "    Attributes\n",
        "    ----------\n",
        "    text: str\n",
        "      documento a tokenizar\n",
        "    \n",
        "    Returns\n",
        "    -------\n",
        "    list\n",
        "      lista de tokens\n",
        "  \"\"\"\n",
        "  return [word for word in text if len(word) > 1]"
      ],
      "execution_count": 257,
      "outputs": []
    },
    {
      "cell_type": "code",
      "metadata": {
        "trusted": true,
        "id": "oZzaWUJ-PcjU"
      },
      "source": [
        "def tokenize(text, mode='word'): \n",
        "  \"\"\"\n",
        "    Tokenización de documento - tokeniza un documento por palabra o por oración\n",
        "\n",
        "    Attributes\n",
        "    ----------\n",
        "    text: str\n",
        "      documento a tokenizar\n",
        "    mode: str, optional\n",
        "      método de tokenización (default: 'word' (por palabra))\n",
        "    \n",
        "    Returns\n",
        "    -------\n",
        "    list\n",
        "      lista de tokens \n",
        "    \n",
        "    Raises\n",
        "    ------\n",
        "      Exception\n",
        "        si el mode no es 'word' o 'sentence'\n",
        "  \"\"\"\n",
        "  if mode == 'word':\n",
        "    return word_tokenize(text, language=language)\n",
        "  elif mode == 'sentence':\n",
        "    return sent_tokenize(text, language=language)\n",
        "  else:\n",
        "    raise Exception('metodo de tokenizacion no encontrado')"
      ],
      "execution_count": 259,
      "outputs": []
    },
    {
      "cell_type": "code",
      "metadata": {
        "id": "W_ztZFXvaJwL"
      },
      "source": [
        "def similarity_btw_docs(matrix):\n",
        "  \"\"\"\n",
        "    Similitud entre documentos - calcula la similitud entre documentos utilizando Similitud del Coseno\n",
        "\n",
        "    Attributes\n",
        "    ----------\n",
        "    matrix: scipy matrix\n",
        "      Matriz dispersa para calcular la similaridad\n",
        "\n",
        "    Returns\n",
        "    -------\n",
        "    pd.DataFrame\n",
        "      retorna un dataframe con el grado de similaridad entre documentos (de 0 a 1)\n",
        "  \"\"\"\n",
        "  matrix_simil = cosine_similarity(matrix)\n",
        "  return pd.DataFrame(matrix_simil)"
      ],
      "execution_count": 260,
      "outputs": []
    },
    {
      "cell_type": "code",
      "metadata": {
        "trusted": true,
        "id": "Bf4WsWGvPcjU"
      },
      "source": [
        "def pre_procesamiento_texto(text):\n",
        "  \"\"\"\n",
        "    Pre-procesamiento y obtención de las 20 palabras más significativas\n",
        "\n",
        "    Attributes\n",
        "    ----------\n",
        "    text: str\n",
        "      documento a analizar\n",
        "\n",
        "    Returns\n",
        "    -------\n",
        "    pd.DataFrame\n",
        "      retorna un dataframe con las 20 palabras que más se repiten y su frecuencia\n",
        "  \"\"\"\n",
        "  tokenized = tokenize(text)\n",
        "  without_stops = remove_stop_words(tokenized)\n",
        "  meaningfull_tokens = remove_meaningless_words(without_stops)\n",
        "  without_short_words = clean_short_words(meaningfull_tokens)\n",
        "  lematized_words = lematize_words(without_short_words)\n",
        "  return lematized_words"
      ],
      "execution_count": 261,
      "outputs": []
    },
    {
      "cell_type": "code",
      "metadata": {
        "id": "6e-TwcgTfEdm"
      },
      "source": [
        "def remove_character(serie, char):\n",
        "  \"\"\"\n",
        "    Pre-procesamiento y obtención de las 20 palabras más significativas\n",
        "\n",
        "    Attributes\n",
        "    ----------\n",
        "    serie: pd.Serie\n",
        "      columna de dataframe a modificar\n",
        "    char: char\n",
        "      caracter a remover\n",
        "\n",
        "    Returns\n",
        "    -------\n",
        "    pd.Serie\n",
        "      retorna una serie\n",
        "  \"\"\"\n",
        "  return serie.str.replace(char, '')"
      ],
      "execution_count": 262,
      "outputs": []
    },
    {
      "cell_type": "code",
      "metadata": {
        "id": "CzoP6oEjAw_S"
      },
      "source": [
        "def get_urls(page_list):\n",
        "  \"\"\"\n",
        "    Obtencion de las urls de las charlas TED\n",
        "\n",
        "    Attributes\n",
        "    ----------\n",
        "    page_list: list\n",
        "      lista de paginas de charlas TED\n",
        "\n",
        "    Returns\n",
        "    -------\n",
        "    list\n",
        "      retorna una lista con todas las urls de las charlas TED\n",
        "  \"\"\"\n",
        "  urls = [\"https://www.ted.com\" + url.select(\"div.media__image a.ga-link\")[0].get(\"href\") for url in page_list]\n",
        "  return urls"
      ],
      "execution_count": 263,
      "outputs": []
    },
    {
      "cell_type": "code",
      "metadata": {
        "id": "eEpby7DOCgvL"
      },
      "source": [
        "def get_transcript(url, count):\n",
        "  \"\"\"\n",
        "    Obtiene la transcripcion de una determinada charla ted\n",
        "\n",
        "    Attributes\n",
        "    ----------\n",
        "    url: str\n",
        "      url de la charla TED\n",
        "    count: int\n",
        "      indice de la pagina url\n",
        "\n",
        "    Returns\n",
        "    -------\n",
        "    str\n",
        "      retorna una cadena de caracteres con la transcripcion de la charla TED\n",
        "  \"\"\"\n",
        "  transcript = \"\"\n",
        "  transcript_res = requests.get(url, headers = {'User-agent': 'your bot 0.1'})\n",
        "  soup = BeautifulSoup(transcript_res.text)\n",
        "  e = soup.select('div.Grid.Grid--with-gutter.p-b:4')\n",
        "\n",
        "  for  e_  in e:\n",
        "    classes = e_.get('class')\n",
        "    text = e_.select('p')[0].text\n",
        "    transcript += text.strip().replace('\\t', '').replace('\\n', ' ')\n",
        "                                \n",
        "  if (transcript_res.status_code != 200) or (transcript_res.text == '') or (transcript == ''):\n",
        "    count_=0\n",
        "    while  count_ < 3: \n",
        "      time.sleep(random.randint(0,900)/1000)\n",
        "      transcript_res = requests.get(url, headers = {'User-agent': 'your bot 0.1'})\n",
        "      soup = BeautifulSoup(transcript_res.text)\n",
        "      e = soup.select('div.Grid.Grid--with-gutter.p-b:4')\n",
        "\n",
        "      for  e_  in e:\n",
        "        classes = e_.get('class')\n",
        "        text = e_.select('p')[0].text\n",
        "        transcript += text.strip().replace('\\t', '').replace('\\n', ' ')\n",
        "\n",
        "      count_ += 1\n",
        "      if (transcript_res.status_code == 200) and (transcript_res.text != '') and (transcript != ''):\n",
        "        break\n",
        "\n",
        "  return transcript"
      ],
      "execution_count": 264,
      "outputs": []
    },
    {
      "cell_type": "code",
      "metadata": {
        "id": "tbFeF_2QDiht"
      },
      "source": [
        "def get__json_obj(url):\n",
        "  \"\"\"\n",
        "    Obtiene el objecto JSON de una respectiva URL\n",
        "\n",
        "    Attributes\n",
        "    ----------\n",
        "    url: str\n",
        "      url a analizar\n",
        "\n",
        "    Returns\n",
        "    -------\n",
        "    str\n",
        "      retorna una cadena de caracteres que representa el objeto JSON de la URL\n",
        "  \"\"\"\n",
        "  res = requests.get(url.strip(), headers = {'User-agent': 'your bot 0.1'})\n",
        "  start_index = res.text.find('<script data-spec=\"q\">q(\"talkPage.init\",')\n",
        "  end_index = res.text[start_index:].find(')</script>')\n",
        "  script_tag = res.text[start_index: start_index + end_index]\n",
        "  return script_tag[len('<script data-spec=\"q\">q(\"talkPage.init\",'):]"
      ],
      "execution_count": 265,
      "outputs": []
    },
    {
      "cell_type": "code",
      "metadata": {
        "id": "kMJpi2ezDl14"
      },
      "source": [
        "def get_value(l, m):\n",
        "  \"\"\"\n",
        "    Obtiene el valor de un elemento HTML\n",
        "\n",
        "    Attributes\n",
        "    ----------\n",
        "    l: list\n",
        "      elementos\n",
        "    m: s\n",
        "      metadata\n",
        "\n",
        "    Returns\n",
        "    -------\n",
        "    str\n",
        "      retorna el valor del elemento HTML\n",
        "  \"\"\"\n",
        "  for i in l:\n",
        "    try:\n",
        "      m = m[i]\n",
        "    except: \n",
        "      return ''\n",
        "  return m"
      ],
      "execution_count": 266,
      "outputs": []
    },
    {
      "cell_type": "code",
      "metadata": {
        "id": "gzRUPBOyDnPi"
      },
      "source": [
        "def html_to_text(html):\n",
        "  \"\"\"\n",
        "    Convierte un valor HTML a cadena de caracteres\n",
        "\n",
        "    Attributes\n",
        "    ----------\n",
        "    html: str\n",
        "      valor de elemento HTML\n",
        "\n",
        "    Returns\n",
        "    -------\n",
        "    str\n",
        "      retorna la representacion del valor del elemento HTML en cadena de caracdteres\n",
        "  \"\"\"\n",
        "  if str(html) != 'nan':\n",
        "    soup = BeautifulSoup(html)\n",
        "    return soup.get_text()\n",
        "  else: \n",
        "    return html"
      ],
      "execution_count": 267,
      "outputs": []
    },
    {
      "cell_type": "code",
      "metadata": {
        "id": "ic8DxLvnHnJf"
      },
      "source": [
        "def get_elements_dict_from_url(count, url, json_obj):\n",
        "  \"\"\"\n",
        "    Generacion de diccionario de elementos de una URL\n",
        "\n",
        "    Attributes\n",
        "    ----------\n",
        "    count: int\n",
        "      indice de la URL dentro del listado de URLs\n",
        "    url: str\n",
        "      url a analizar\n",
        "    json_obj: str\n",
        "      objeto JSON de la URL\n",
        "\n",
        "    Returns\n",
        "    -------\n",
        "    dict\n",
        "      retorna un diccionario que contiene todos los elementos HTML con sus respectivos valores\n",
        "  \"\"\"\n",
        "  metadata = json.loads(json_obj)[\"__INITIAL_DATA__\"]\n",
        "  language = get_value([\"language\"], metadata)\n",
        "  url__transcript = url + \"/transcript?language=\" + language\n",
        "  temp = get_value([\"talks\", 0, \"recorded_at\"], metadata)\n",
        "  t = get_value([\"talks\", 0, \"player_talks\", 0, \"published\"], metadata)\n",
        "\n",
        "  elements_dict = dict()\n",
        "  elements_dict[\"language\"] = language\n",
        "  elements_dict[\"talk__id\"] = get_value([\"current_talk\"], metadata)\n",
        "  elements_dict[\"talk__name\"] = get_value([\"talks\", 0, \"title\"], metadata)\n",
        "  elements_dict[\"talk__description\"] = get_value([\"description\"], metadata)\n",
        "  elements_dict[\"view_count\"] = get_value([\"viewed_count\"], metadata)\n",
        "  elements_dict[\"duration\"] = get_value([\"talks\", 0, \"duration\"], metadata)\n",
        "  elements_dict[\"transcript\"] = get_transcript(url__transcript,count)\n",
        "  elements_dict[\"video_type_name\"] = get_value([\"talks\", 0, \"video_type\", \"name\"], metadata)\n",
        "  elements_dict[\"event\"] = get_value([\"event\"], metadata)               \n",
        "  elements_dict[\"speaker__id\"] = get_value([\"speakers\", 0, \"id\"], metadata)                        \n",
        "  elements_dict[\"speaker__name\"] = get_value([\"talks\", 0, \"speaker_name\"], metadata)\n",
        "  elements_dict[\"speaker__description\"] = get_value([\"speakers\", 0, \"description\"], metadata)\n",
        "  elements_dict[\"speaker__who_he_is\"] = get_value([\"speakers\", 0, \"whotheyare\"], metadata)\n",
        "  elements_dict[\"speaker__why_listen\"] = html_to_text(get_value([\"speakers\", 0, \"whylisten\"], metadata))\n",
        "  elements_dict[\"all_speakers_details\"] = get_value([\"speakers\"], metadata)                       \n",
        "  elements_dict[\"recording_date\"] = temp if temp == None else temp[:10]                        \n",
        "  elements_dict[\"published_timestamp\"] = datetime.utcfromtimestamp(int(t)).strftime('%Y-%m-%d %H:%M:%S')                      \n",
        "  elements_dict[\"talks__tags\"] = get_value([\"talks\", 0, \"tags\"], metadata)\n",
        "  elements_dict[\"number_of__tags\"] = len(get_value([\"talks\", 0, \"tags\"], metadata) or \"\")                       \n",
        "  elements_dict[\"native_language\"] = get_value([\"talks\", 0, \"player_talks\", 0, \"nativeLanguage\"], metadata)                   \n",
        "  elements_dict[\"url__webpage\"] = get_value([\"url\"], metadata)                    \n",
        "  elements_dict[\"talk__more_resources\"] = get_value([\"talks\", 0, \"more_resources\"], metadata)\n",
        "  elements_dict[\"number_of__talk__more_resources\"] = len(get_value([\"talks\", 0, \"more_resources\"], metadata) or \"\")\n",
        "  elements_dict[\"talk__recommendations__blurb\"] = get_value([\"talks\", 0, \"recommendations\", \"blurb\"], metadata)                    \n",
        "  elements_dict[\"talk__recommendations\"] = get_value([\"talks\", 0, \"recommendations\", \"rec_lists\"], metadata)\n",
        "  elements_dict[\"number_of__talk__recommendations\"] = len(get_value([\"talks\", 0, \"recommendations\", \"rec_lists\"], metadata) or \"\")\n",
        "  elements_dict[\"related_talks\"] = get_value([\"talks\", 0, \"related_talks\"], metadata)\n",
        "  elements_dict[\"number_of__related_talks\"] = len(get_value([\"talks\", 0, \"related_talks\"], metadata) or \"\")\n",
        "\n",
        "  return elements_dict"
      ],
      "execution_count": 268,
      "outputs": []
    },
    {
      "cell_type": "code",
      "metadata": {
        "id": "dsGz8F2JBcli"
      },
      "source": [
        "def download(urls, id_, csv_list):\n",
        "  \"\"\"\n",
        "    Descarga toda la informacion respecto a las charlas TED\n",
        "\n",
        "    Attributes\n",
        "    ----------\n",
        "    urls: list\n",
        "      lista de URLs a descargar\n",
        "    id_: int\n",
        "      id de cada pagina dentro de la lista\n",
        "    csv_list: list\n",
        "      csv donde se guardara la informacion respecto a las charlas ted\n",
        "  \"\"\"\n",
        "  for count, url in enumerate(urls):\n",
        "    json_obj = get__json_obj(url)\n",
        "\n",
        "    if not json_obj:\n",
        "      count=0\n",
        "      while count < 3:    \n",
        "        json_obj  =  get__json_obj(url)\n",
        "        count += 1\n",
        "        if json_obj:\n",
        "          break\n",
        "\n",
        "    if not json_obj:\n",
        "      continue\n",
        "    else:\n",
        "      csv_list.append(get_elements_dict_from_url(count, url, json_obj))"
      ],
      "execution_count": 269,
      "outputs": []
    },
    {
      "cell_type": "code",
      "metadata": {
        "id": "-zas0aNy_vzU"
      },
      "source": [
        "def scrape_ted_urls(urls, file_name):\n",
        "  \"\"\"\n",
        "    Realiza un proceso de web-scraping sobre todas las charlas TED\n",
        "\n",
        "    Attributes\n",
        "    ----------\n",
        "    urls: list\n",
        "      URL de charlas TED a scrappear\n",
        "    file_name: list\n",
        "      nombre de archivo donde se guardara toda la informacion de las charlas TED\n",
        "  \"\"\"\n",
        "  csv_list_ = []\n",
        "  \n",
        "  with Manager() as manager:\n",
        "      csv_list = manager.list()\n",
        "      Processess = []\n",
        "      \n",
        "      urls_  = [urls[(i*(len(urls)//100)):((i+1)*(len(urls)//100))] for i in range(100)]\n",
        "      \n",
        "      leftovers = urls[(100*(len(urls)//100)):len(urls)]\n",
        "\n",
        "      for i in range(len(leftovers)):\n",
        "        urls_[i] += [leftovers[i]]\n",
        "      \n",
        "      for (id_,urls__) in enumerate(urls_):\n",
        "          p = Process(target=download, args=(urls__,id_,csv_list))\n",
        "          Processess.append(p)\n",
        "          p.start()\n",
        "          \n",
        "      for t in Processess:\n",
        "        t.join()\n",
        "      \n",
        "      csv_list_ = list(csv_list)\n",
        "\n",
        "  dataframe_ted = pd.DataFrame(csv_list_).sort_values(\"view_count\", ascending=False)\n",
        "  dataframe_ted.to_csv(file_name, index=False, encoding='utf-8')"
      ],
      "execution_count": 270,
      "outputs": []
    },
    {
      "cell_type": "code",
      "metadata": {
        "id": "OiFhHSnhFsQD"
      },
      "source": [
        "def get_page_text(page_number):\n",
        "  \"\"\"\n",
        "    Obtiene la URL de una charla TED\n",
        "\n",
        "    Attributes\n",
        "    ----------\n",
        "    page_number: int\n",
        "      numero de pagina\n",
        "\n",
        "    Returns\n",
        "    -------\n",
        "    str\n",
        "      retorna la URL de una charla TED\n",
        "  \"\"\"\n",
        "  res = requests.get(\"https://www.ted.com/talks?sort=popular&page=\" + str(page_number), headers = {'User-agent': 'your bot 0.1'})\n",
        "  soup = bs4.BeautifulSoup(res.text)\n",
        "  element = soup.select(\"div.container.results div.col\")\n",
        "  return element"
      ],
      "execution_count": 271,
      "outputs": []
    },
    {
      "cell_type": "code",
      "metadata": {
        "id": "qOpNgRMhFZEg"
      },
      "source": [
        "def retrieve_pages_url():\n",
        "  \"\"\"\n",
        "    Obtiene las URL de todas las charlas TED en un determinado idioma\n",
        "\n",
        "    Returns\n",
        "    -------\n",
        "    list\n",
        "      retorna un listado de URL de cada charla TED en un determinado idioma\n",
        "  \"\"\"\n",
        "  urls = []\n",
        "  page_number=1\n",
        "\n",
        "  while 1:\n",
        "    page_list_urls = get_page_text(page_number)\n",
        "    \n",
        "    if len(page_list_urls) == 0:    \n",
        "      break\n",
        "    \n",
        "    page_number += 1\n",
        "    urls += get_urls(page_list_urls)\n",
        "\n",
        "  file_ted = open('TED_Talk_URLs.txt', 'w')\n",
        "  file_ted.write('\\n'.join(urls))\n",
        "  file_ted.close()\n",
        "\n",
        "  return urls"
      ],
      "execution_count": 272,
      "outputs": []
    },
    {
      "cell_type": "markdown",
      "metadata": {
        "id": "5shxu71ks4bR"
      },
      "source": [
        "#### 01.02 - Carga de Datos - Web Scrapping"
      ]
    },
    {
      "cell_type": "code",
      "metadata": {
        "id": "ad2Jk-jPAXqP",
        "colab": {
          "base_uri": "https://localhost:8080/"
        },
        "outputId": "457abb87-63a6-4b85-c320-b40430e9c7a6"
      },
      "source": [
        "# Activando Google Drive para guardar la información\n",
        "drive.mount('/content/gdrive')\n",
        "\n",
        "# Directorio donde se guardara/buscara el archivo que contiene la informacion de las charlas TED\n",
        "os.chdir('/content/gdrive/My Drive')"
      ],
      "execution_count": 273,
      "outputs": [
        {
          "output_type": "stream",
          "text": [
            "Drive already mounted at /content/gdrive; to attempt to forcibly remount, call drive.mount(\"/content/gdrive\", force_remount=True).\n"
          ],
          "name": "stdout"
        }
      ]
    },
    {
      "cell_type": "code",
      "metadata": {
        "id": "IxEo7dxz-qN5"
      },
      "source": [
        "# Si no existe el archivo de TED, hace toda la falopeada de web-scraping asquerosa copy-pasted (toma 6 minutos aprox)\n",
        "if not os.path.isfile(ted_file):\n",
        "  ted_urls = retrieve_pages_url()\n",
        "  scrape_ted_urls(ted_urls, ted_file)"
      ],
      "execution_count": 274,
      "outputs": []
    },
    {
      "cell_type": "code",
      "metadata": {
        "id": "ddpJ2qlb__Ph",
        "colab": {
          "base_uri": "https://localhost:8080/",
          "height": 564
        },
        "outputId": "5de67139-8921-4a27-c367-155511cd98a2"
      },
      "source": [
        "tedx_df = pd.read_csv(ted_file)\n",
        "tedx_df.head()"
      ],
      "execution_count": 275,
      "outputs": [
        {
          "output_type": "execute_result",
          "data": {
            "text/html": [
              "<div>\n",
              "<style scoped>\n",
              "    .dataframe tbody tr th:only-of-type {\n",
              "        vertical-align: middle;\n",
              "    }\n",
              "\n",
              "    .dataframe tbody tr th {\n",
              "        vertical-align: top;\n",
              "    }\n",
              "\n",
              "    .dataframe thead th {\n",
              "        text-align: right;\n",
              "    }\n",
              "</style>\n",
              "<table border=\"1\" class=\"dataframe\">\n",
              "  <thead>\n",
              "    <tr style=\"text-align: right;\">\n",
              "      <th></th>\n",
              "      <th>language</th>\n",
              "      <th>talk__id</th>\n",
              "      <th>talk__name</th>\n",
              "      <th>talk__description</th>\n",
              "      <th>view_count</th>\n",
              "      <th>duration</th>\n",
              "      <th>transcript</th>\n",
              "      <th>video_type_name</th>\n",
              "      <th>event</th>\n",
              "      <th>speaker__id</th>\n",
              "      <th>speaker__name</th>\n",
              "      <th>speaker__description</th>\n",
              "      <th>speaker__who_he_is</th>\n",
              "      <th>speaker__why_listen</th>\n",
              "      <th>all_speakers_details</th>\n",
              "      <th>recording_date</th>\n",
              "      <th>published_timestamp</th>\n",
              "      <th>talks__tags</th>\n",
              "      <th>number_of__tags</th>\n",
              "      <th>native_language</th>\n",
              "      <th>url__webpage</th>\n",
              "      <th>talk__more_resources</th>\n",
              "      <th>number_of__talk__more_resources</th>\n",
              "      <th>talk__recommendations__blurb</th>\n",
              "      <th>talk__recommendations</th>\n",
              "      <th>number_of__talk__recommendations</th>\n",
              "      <th>related_talks</th>\n",
              "      <th>number_of__related_talks</th>\n",
              "    </tr>\n",
              "  </thead>\n",
              "  <tbody>\n",
              "    <tr>\n",
              "      <th>0</th>\n",
              "      <td>en</td>\n",
              "      <td>66</td>\n",
              "      <td>Do schools kill creativity?</td>\n",
              "      <td>Sir Ken Robinson makes an entertaining and pro...</td>\n",
              "      <td>70720559</td>\n",
              "      <td>1164</td>\n",
              "      <td>Good morning. How are you?(Audience) Good.It's...</td>\n",
              "      <td>TED Stage Talk</td>\n",
              "      <td>TED2006</td>\n",
              "      <td>69.0</td>\n",
              "      <td>Sir Ken Robinson</td>\n",
              "      <td>Author, educator</td>\n",
              "      <td>Creativity expert Sir Ken Robinson challenged ...</td>\n",
              "      <td>Why don't we get the best out of people? Sir K...</td>\n",
              "      <td>[{'id': '69', 'slug': 'sir_ken_robinson', 'is_...</td>\n",
              "      <td>2006-02-25</td>\n",
              "      <td>2006-06-27 00:11:00</td>\n",
              "      <td>['creativity', 'culture', 'dance', 'education'...</td>\n",
              "      <td>7</td>\n",
              "      <td>en</td>\n",
              "      <td>https://www.ted.com/talks/sir_ken_robinson_do_...</td>\n",
              "      <td>[{'status': 'approved', 'headline': '*You, You...</td>\n",
              "      <td>3</td>\n",
              "      <td>The education expert has a lot to say about th...</td>\n",
              "      <td>[{'title': 'Reading list', 'description': '', ...</td>\n",
              "      <td>1</td>\n",
              "      <td>[{'id': '30217', 'hero': 'https://s3.amazonaws...</td>\n",
              "      <td>6</td>\n",
              "    </tr>\n",
              "    <tr>\n",
              "      <th>1</th>\n",
              "      <td>en</td>\n",
              "      <td>2405</td>\n",
              "      <td>This is what happens when you reply to spam email</td>\n",
              "      <td>Suspicious emails: unclaimed insurance bonds, ...</td>\n",
              "      <td>63748917</td>\n",
              "      <td>588</td>\n",
              "      <td>A few years ago, I got one of those spam email...</td>\n",
              "      <td>TED Stage Talk</td>\n",
              "      <td>TEDGlobal&gt;Geneva</td>\n",
              "      <td>2664.0</td>\n",
              "      <td>James Veitch</td>\n",
              "      <td>Comedian, writer</td>\n",
              "      <td>For James Veitch, spam emails proved the perfe...</td>\n",
              "      <td>James Veitch's correspondence with email spamm...</td>\n",
              "      <td>[{'id': '2664', 'slug': 'james_veitch', 'is_pu...</td>\n",
              "      <td>2015-12-08</td>\n",
              "      <td>2020-10-23 13:51:31</td>\n",
              "      <td>['comedy', 'curiosity', 'communication', 'humo...</td>\n",
              "      <td>5</td>\n",
              "      <td>en</td>\n",
              "      <td>https://www.ted.com/talks/james_veitch_this_is...</td>\n",
              "      <td>[]</td>\n",
              "      <td>0</td>\n",
              "      <td>NaN</td>\n",
              "      <td>NaN</td>\n",
              "      <td>0</td>\n",
              "      <td>[{'id': '2236', 'hero': 'https://pe.tedcdn.com...</td>\n",
              "      <td>4</td>\n",
              "    </tr>\n",
              "    <tr>\n",
              "      <th>2</th>\n",
              "      <td>en</td>\n",
              "      <td>1569</td>\n",
              "      <td>Your body language may shape who you are</td>\n",
              "      <td>(NOTE: Some of the findings presented in this ...</td>\n",
              "      <td>61647643</td>\n",
              "      <td>1262</td>\n",
              "      <td>So I want to start by offering you a free no-t...</td>\n",
              "      <td>TED Stage Talk</td>\n",
              "      <td>TEDGlobal 2012</td>\n",
              "      <td>1284.0</td>\n",
              "      <td>Amy Cuddy</td>\n",
              "      <td>Social psychologist</td>\n",
              "      <td>Amy Cuddy’s research on body language reveals ...</td>\n",
              "      <td>Amy Cuddy wasn’t supposed to become a successf...</td>\n",
              "      <td>[{'id': '1284', 'slug': 'amy_cuddy', 'is_publi...</td>\n",
              "      <td>2012-06-26</td>\n",
              "      <td>2012-10-01 15:00:08</td>\n",
              "      <td>['body language', 'brain', 'business', 'psycho...</td>\n",
              "      <td>7</td>\n",
              "      <td>en</td>\n",
              "      <td>https://www.ted.com/talks/amy_cuddy_your_body_...</td>\n",
              "      <td>[{'status': 'approved', 'headline': 'Presence:...</td>\n",
              "      <td>4</td>\n",
              "      <td>NaN</td>\n",
              "      <td>NaN</td>\n",
              "      <td>0</td>\n",
              "      <td>[{'id': '1042', 'hero': 'https://s3.amazonaws....</td>\n",
              "      <td>5</td>\n",
              "    </tr>\n",
              "    <tr>\n",
              "      <th>3</th>\n",
              "      <td>en</td>\n",
              "      <td>848</td>\n",
              "      <td>How great leaders inspire action</td>\n",
              "      <td>Simon Sinek has a simple but powerful model fo...</td>\n",
              "      <td>55070274</td>\n",
              "      <td>1084</td>\n",
              "      <td>How do you explain when things don't go as we ...</td>\n",
              "      <td>TEDx Talk</td>\n",
              "      <td>TEDxPuget Sound</td>\n",
              "      <td>703.0</td>\n",
              "      <td>Simon Sinek</td>\n",
              "      <td>Leadership expert</td>\n",
              "      <td>Simon Sinek explores how leaders can inspire c...</td>\n",
              "      <td>Fascinated by the leaders who make impact in t...</td>\n",
              "      <td>[{'id': '703', 'slug': 'simon_sinek', 'is_publ...</td>\n",
              "      <td>2009-09-17</td>\n",
              "      <td>2010-05-04 09:31:00</td>\n",
              "      <td>['TEDx', 'business', 'entrepreneur', 'leadersh...</td>\n",
              "      <td>5</td>\n",
              "      <td>en</td>\n",
              "      <td>https://www.ted.com/talks/simon_sinek_how_grea...</td>\n",
              "      <td>[{'status': 'approved', 'headline': '*Start wi...</td>\n",
              "      <td>1</td>\n",
              "      <td>The leadership expert shares books and films t...</td>\n",
              "      <td>[{'title': 'Reading List', 'description': '', ...</td>\n",
              "      <td>1</td>\n",
              "      <td>[{'id': '1998', 'hero': 'https://pe.tedcdn.com...</td>\n",
              "      <td>6</td>\n",
              "    </tr>\n",
              "    <tr>\n",
              "      <th>4</th>\n",
              "      <td>en</td>\n",
              "      <td>1042</td>\n",
              "      <td>The power of vulnerability</td>\n",
              "      <td>Brené Brown studies human connection -- our ab...</td>\n",
              "      <td>53629104</td>\n",
              "      <td>1219</td>\n",
              "      <td>So, I'll start with this: a couple years ago, ...</td>\n",
              "      <td>TEDx Talk</td>\n",
              "      <td>TEDxHouston</td>\n",
              "      <td>914.0</td>\n",
              "      <td>Brené Brown</td>\n",
              "      <td>Vulnerability researcher, storyteller</td>\n",
              "      <td>Dr. Brené Brown studies courage, vulnerability...</td>\n",
              "      <td>Brené Brown is a research professor at the Uni...</td>\n",
              "      <td>[{'id': '914', 'slug': 'brene_brown', 'is_publ...</td>\n",
              "      <td>2010-06-06</td>\n",
              "      <td>2010-12-23 14:45:00</td>\n",
              "      <td>['TEDx', 'communication', 'culture', 'depressi...</td>\n",
              "      <td>10</td>\n",
              "      <td>en</td>\n",
              "      <td>https://www.ted.com/talks/brene_brown_the_powe...</td>\n",
              "      <td>[{'status': 'approved', 'headline': '*Daring G...</td>\n",
              "      <td>2</td>\n",
              "      <td>Dive deeper into shame and vulnerability (in a...</td>\n",
              "      <td>[{'title': 'Reading List', 'description': '', ...</td>\n",
              "      <td>1</td>\n",
              "      <td>[{'id': '1391', 'hero': 'https://s3.amazonaws....</td>\n",
              "      <td>6</td>\n",
              "    </tr>\n",
              "  </tbody>\n",
              "</table>\n",
              "</div>"
            ],
            "text/plain": [
              "  language  ...  number_of__related_talks\n",
              "0       en  ...                         6\n",
              "1       en  ...                         4\n",
              "2       en  ...                         5\n",
              "3       en  ...                         6\n",
              "4       en  ...                         6\n",
              "\n",
              "[5 rows x 28 columns]"
            ]
          },
          "metadata": {
            "tags": []
          },
          "execution_count": 275
        }
      ]
    },
    {
      "cell_type": "markdown",
      "metadata": {
        "id": "oWMIj6H-tyjM"
      },
      "source": [
        "#### 01.03 - Exploración de los Datasets (DS)"
      ]
    },
    {
      "cell_type": "markdown",
      "metadata": {
        "id": "uATgZUnBt-PQ"
      },
      "source": [
        "##### *Dataset (DS):*\n",
        " Se genera un DS de trabajo con mas de 5000 observaciones a partir de la aplicación de Web Scrapping en https://www.ted.com/talks?sort=popular&page=1, el ds de trabajo contempla tanto la metadata de las ted talks como las transcripciones.\n",
        "\n",
        "Variables:\n",
        "\n",
        "1. talk__id: N° de ID de la Ted Talk\n",
        "2. talk__name: Nombre de la Ted Talk\n",
        "3. talk__description: Descripción de la Ted Talk\n",
        "4. view_count: Cantidad de Vistas (visitas)\n",
        "5. duration: duración de la Ted Talk en minutos\n",
        "6. transcript: transcripción de la Ted Talk\n",
        "7. video_type_name: Tipo de Ted Talk\n",
        "8. event: evento\n",
        "9. speaker__id: id del speaker\n",
        "10. speaker__name: nombre del speaker\n",
        "11. speaker__description: ocupación del speaker\n",
        "12. speaker__who_he_is: descripción del Speaker\n",
        "13. speaker__why_listen: \n",
        "14. all_speakers_details: \n",
        "15. recording_date: \n",
        "16. published_timestamp: \n",
        "17. talks__tags: Tags (Variable Target)\n",
        "18. number_of__tags: cantidad de Tags\n",
        "19. language: Idioma\n",
        "20. native_language\n",
        "21. url__webpage\n",
        "22. talk__more_resources\n",
        "23. number_of__talk__more_resources\n",
        "24. talk__recommendations__blurb\n",
        "25. talk__recommendations\n",
        "26. number_of__talk__recommendations\n",
        "27. related_talks\n",
        "28. number_of__related_talks"
      ]
    },
    {
      "cell_type": "code",
      "metadata": {
        "colab": {
          "base_uri": "https://localhost:8080/"
        },
        "id": "UDmY7ce0uINv",
        "outputId": "16c96e0a-1470-4155-e0c0-d2186bbb0c69"
      },
      "source": [
        "#Dimensiones\n",
        "print(f\"Dimensiones de DS : {tedx_df.shape}\")"
      ],
      "execution_count": 276,
      "outputs": [
        {
          "output_type": "stream",
          "text": [
            "Dimensiones de DS : (5127, 28)\n"
          ],
          "name": "stdout"
        }
      ]
    },
    {
      "cell_type": "code",
      "metadata": {
        "colab": {
          "base_uri": "https://localhost:8080/"
        },
        "id": "MF-USd1VuILm",
        "outputId": "5bf36bf3-08cf-4082-f85e-3764ee65129b"
      },
      "source": [
        "#Valores Repetidos\n",
        "tedx_df.loc[: , [\"talk__id\"]].size - np.unique(tedx_df.loc[: , [\"talk__id\"]]).size #Se confirma que hay un (1) valor duplicado"
      ],
      "execution_count": 277,
      "outputs": [
        {
          "output_type": "execute_result",
          "data": {
            "text/plain": [
              "1"
            ]
          },
          "metadata": {
            "tags": []
          },
          "execution_count": 277
        }
      ]
    },
    {
      "cell_type": "code",
      "metadata": {
        "colab": {
          "base_uri": "https://localhost:8080/"
        },
        "id": "9RDzk9SNuIH0",
        "outputId": "6a346da9-9212-4af2-9dfc-700ababe8db9"
      },
      "source": [
        "#Verificamos Observación Repetida\n",
        "def repetidos(x):\n",
        "  y = pd.Series(np.sort(x.values.tolist(), axis = None)).value_counts()\n",
        "  return y[y > 1]\n",
        "\n",
        "repetidos(tedx_df.loc[: , [\"talk__id\"]])"
      ],
      "execution_count": 278,
      "outputs": [
        {
          "output_type": "execute_result",
          "data": {
            "text/plain": [
              "36409    2\n",
              "dtype: int64"
            ]
          },
          "metadata": {
            "tags": []
          },
          "execution_count": 278
        }
      ]
    },
    {
      "cell_type": "code",
      "metadata": {
        "id": "ZfrS1X3XuIE0",
        "colab": {
          "base_uri": "https://localhost:8080/",
          "height": 0
        },
        "outputId": "ec44d7e7-6ef0-4fa6-8c51-cfbb09d31138"
      },
      "source": [
        "tedx_df[tedx_df.talk__id == 36409] #Considerando que la transcripción es de tipo NaN, se eliminará el duplicado en el siguiente paso."
      ],
      "execution_count": 279,
      "outputs": [
        {
          "output_type": "execute_result",
          "data": {
            "text/html": [
              "<div>\n",
              "<style scoped>\n",
              "    .dataframe tbody tr th:only-of-type {\n",
              "        vertical-align: middle;\n",
              "    }\n",
              "\n",
              "    .dataframe tbody tr th {\n",
              "        vertical-align: top;\n",
              "    }\n",
              "\n",
              "    .dataframe thead th {\n",
              "        text-align: right;\n",
              "    }\n",
              "</style>\n",
              "<table border=\"1\" class=\"dataframe\">\n",
              "  <thead>\n",
              "    <tr style=\"text-align: right;\">\n",
              "      <th></th>\n",
              "      <th>language</th>\n",
              "      <th>talk__id</th>\n",
              "      <th>talk__name</th>\n",
              "      <th>talk__description</th>\n",
              "      <th>view_count</th>\n",
              "      <th>duration</th>\n",
              "      <th>transcript</th>\n",
              "      <th>video_type_name</th>\n",
              "      <th>event</th>\n",
              "      <th>speaker__id</th>\n",
              "      <th>speaker__name</th>\n",
              "      <th>speaker__description</th>\n",
              "      <th>speaker__who_he_is</th>\n",
              "      <th>speaker__why_listen</th>\n",
              "      <th>all_speakers_details</th>\n",
              "      <th>recording_date</th>\n",
              "      <th>published_timestamp</th>\n",
              "      <th>talks__tags</th>\n",
              "      <th>number_of__tags</th>\n",
              "      <th>native_language</th>\n",
              "      <th>url__webpage</th>\n",
              "      <th>talk__more_resources</th>\n",
              "      <th>number_of__talk__more_resources</th>\n",
              "      <th>talk__recommendations__blurb</th>\n",
              "      <th>talk__recommendations</th>\n",
              "      <th>number_of__talk__recommendations</th>\n",
              "      <th>related_talks</th>\n",
              "      <th>number_of__related_talks</th>\n",
              "    </tr>\n",
              "  </thead>\n",
              "  <tbody>\n",
              "    <tr>\n",
              "      <th>3949</th>\n",
              "      <td>en</td>\n",
              "      <td>36409</td>\n",
              "      <td>An unexpected tool for understanding inequalit...</td>\n",
              "      <td>How do we make sense of a world that doesn't? ...</td>\n",
              "      <td>565745</td>\n",
              "      <td>679</td>\n",
              "      <td>The world is awash with divisive arguments, co...</td>\n",
              "      <td>TEDx Talk</td>\n",
              "      <td>TEDxLondon</td>\n",
              "      <td>5215.0</td>\n",
              "      <td>Eugenia Cheng</td>\n",
              "      <td>Mathematician, pianist</td>\n",
              "      <td>Eugenia Cheng devotes her life to mathematics,...</td>\n",
              "      <td>Dr. Eugenia Cheng quit her tenured academic jo...</td>\n",
              "      <td>[{'id': '5215', 'slug': 'eugenia_cheng', 'is_p...</td>\n",
              "      <td>2018-07-01</td>\n",
              "      <td>2019-03-08 15:47:37</td>\n",
              "      <td>['math', 'communication', 'visualizations', 'T...</td>\n",
              "      <td>7</td>\n",
              "      <td>en</td>\n",
              "      <td>https://www.ted.com/talks/eugenia_cheng_an_une...</td>\n",
              "      <td>[{'status': 'approved', 'headline': '*The Art ...</td>\n",
              "      <td>1</td>\n",
              "      <td>NaN</td>\n",
              "      <td>NaN</td>\n",
              "      <td>0</td>\n",
              "      <td>[{'id': '23865', 'hero': 'https://s3.amazonaws...</td>\n",
              "      <td>6</td>\n",
              "    </tr>\n",
              "    <tr>\n",
              "      <th>3950</th>\n",
              "      <td>en</td>\n",
              "      <td>36409</td>\n",
              "      <td>An unexpected tool for understanding inequalit...</td>\n",
              "      <td>How do we make sense of a world that doesn't? ...</td>\n",
              "      <td>565745</td>\n",
              "      <td>679</td>\n",
              "      <td>NaN</td>\n",
              "      <td>TEDx Talk</td>\n",
              "      <td>TEDxLondon</td>\n",
              "      <td>5215.0</td>\n",
              "      <td>Eugenia Cheng</td>\n",
              "      <td>Mathematician, pianist</td>\n",
              "      <td>Eugenia Cheng devotes her life to mathematics,...</td>\n",
              "      <td>Dr. Eugenia Cheng quit her tenured academic jo...</td>\n",
              "      <td>[{'id': '5215', 'slug': 'eugenia_cheng', 'is_p...</td>\n",
              "      <td>2018-07-01</td>\n",
              "      <td>2019-03-08 15:47:37</td>\n",
              "      <td>['math', 'communication', 'visualizations', 'T...</td>\n",
              "      <td>7</td>\n",
              "      <td>en</td>\n",
              "      <td>https://www.ted.com/talks/eugenia_cheng_an_une...</td>\n",
              "      <td>[{'status': 'approved', 'headline': '*The Art ...</td>\n",
              "      <td>1</td>\n",
              "      <td>NaN</td>\n",
              "      <td>NaN</td>\n",
              "      <td>0</td>\n",
              "      <td>[{'id': '23865', 'hero': 'https://s3.amazonaws...</td>\n",
              "      <td>6</td>\n",
              "    </tr>\n",
              "  </tbody>\n",
              "</table>\n",
              "</div>"
            ],
            "text/plain": [
              "     language  ...  number_of__related_talks\n",
              "3949       en  ...                         6\n",
              "3950       en  ...                         6\n",
              "\n",
              "[2 rows x 28 columns]"
            ]
          },
          "metadata": {
            "tags": []
          },
          "execution_count": 279
        }
      ]
    },
    {
      "cell_type": "code",
      "metadata": {
        "id": "9kcESxRfuICK",
        "colab": {
          "base_uri": "https://localhost:8080/"
        },
        "outputId": "486cb49f-4d1a-4fe9-fef7-26427ecf4fd9"
      },
      "source": [
        "#Verificamos idioma:\n",
        "def idiomas(x):\n",
        "  y = pd.Series(np.sort(x.values.tolist(), axis = None)).value_counts()\n",
        "  return y\n",
        "\n",
        "idiomas(tedx_df.loc[: , [\"language\"]])\n",
        "\n",
        "#Existen Ted Talks en distintos idiomas, seleccionamos solo las Ted Talks en Inglés"
      ],
      "execution_count": 280,
      "outputs": [
        {
          "output_type": "execute_result",
          "data": {
            "text/plain": [
              "en    5107\n",
              "es      19\n",
              "fr       1\n",
              "dtype: int64"
            ]
          },
          "metadata": {
            "tags": []
          },
          "execution_count": 280
        }
      ]
    },
    {
      "cell_type": "code",
      "metadata": {
        "id": "nkOVaqahuH_E"
      },
      "source": [
        "tedx_df = tedx_df[tedx_df.language == 'en']"
      ],
      "execution_count": 281,
      "outputs": []
    },
    {
      "cell_type": "markdown",
      "metadata": {
        "id": "YjxQWUodSRXl"
      },
      "source": [
        "##### *Valores Ausentes / Missing Values:* \n",
        "\n",
        "Se observa para las siguientes variables una cantidad de NA's considerable (>= 0.5), por lo que se eliminarán del modelo.\n",
        "\n",
        "Para la variable principal del modelo se observan 587 observaciones con datos faltantes, por ello se limpia el dataset."
      ]
    },
    {
      "cell_type": "code",
      "metadata": {
        "id": "0RTioGHEcki5",
        "colab": {
          "base_uri": "https://localhost:8080/"
        },
        "outputId": "111115a8-f9af-4d1e-af65-831e4a512b58"
      },
      "source": [
        "#Todas las variables\n",
        "tedx_df.isna().sum() / tedx_df.shape[0]"
      ],
      "execution_count": 282,
      "outputs": [
        {
          "output_type": "execute_result",
          "data": {
            "text/plain": [
              "language                            0.000000\n",
              "talk__id                            0.000000\n",
              "talk__name                          0.000000\n",
              "talk__description                   0.000000\n",
              "view_count                          0.000000\n",
              "duration                            0.000000\n",
              "transcript                          0.116115\n",
              "video_type_name                     0.000000\n",
              "event                               0.000000\n",
              "speaker__id                         0.002350\n",
              "speaker__name                       0.000196\n",
              "speaker__description                0.150186\n",
              "speaker__who_he_is                  0.135109\n",
              "speaker__why_listen                 0.229685\n",
              "all_speakers_details                0.000000\n",
              "recording_date                      0.000392\n",
              "published_timestamp                 0.000000\n",
              "talks__tags                         0.000000\n",
              "number_of__tags                     0.000000\n",
              "native_language                     0.000000\n",
              "url__webpage                        0.000000\n",
              "talk__more_resources                0.525553\n",
              "number_of__talk__more_resources     0.000000\n",
              "talk__recommendations__blurb        0.774036\n",
              "talk__recommendations               0.773840\n",
              "number_of__talk__recommendations    0.000000\n",
              "related_talks                       0.000000\n",
              "number_of__related_talks            0.000000\n",
              "dtype: float64"
            ]
          },
          "metadata": {
            "tags": []
          },
          "execution_count": 282
        }
      ]
    },
    {
      "cell_type": "code",
      "metadata": {
        "execution": {
          "iopub.status.busy": "2021-05-22T15:31:31.250827Z",
          "iopub.execute_input": "2021-05-22T15:31:31.251107Z",
          "iopub.status.idle": "2021-05-22T15:31:31.269141Z",
          "shell.execute_reply.started": "2021-05-22T15:31:31.251079Z",
          "shell.execute_reply": "2021-05-22T15:31:31.268041Z"
        },
        "trusted": true,
        "colab": {
          "base_uri": "https://localhost:8080/"
        },
        "id": "BAWXmOQ-SRXl",
        "outputId": "894f10f8-ed0b-49b9-ae51-5e5753e33588"
      },
      "source": [
        "#Eliminamos NA's en transcription\n",
        "tedx_df = tedx_df.dropna(subset = ['transcript'])\n",
        "tedx_df.shape"
      ],
      "execution_count": 283,
      "outputs": [
        {
          "output_type": "execute_result",
          "data": {
            "text/plain": [
              "(4514, 28)"
            ]
          },
          "metadata": {
            "tags": []
          },
          "execution_count": 283
        }
      ]
    },
    {
      "cell_type": "code",
      "metadata": {
        "id": "jtG0W2XKmXOm",
        "colab": {
          "base_uri": "https://localhost:8080/"
        },
        "outputId": "03cb35e8-f1b7-4fad-94a7-15673afb9834"
      },
      "source": [
        "y = tedx_df.isna().sum() / tedx_df.shape[0]\n",
        "y[y >= 0.5].index"
      ],
      "execution_count": 284,
      "outputs": [
        {
          "output_type": "execute_result",
          "data": {
            "text/plain": [
              "Index(['talk__recommendations__blurb', 'talk__recommendations'], dtype='object')"
            ]
          },
          "metadata": {
            "tags": []
          },
          "execution_count": 284
        }
      ]
    },
    {
      "cell_type": "code",
      "metadata": {
        "id": "q4j6P79IfXib",
        "colab": {
          "base_uri": "https://localhost:8080/"
        },
        "outputId": "db2fda12-e3d1-445c-dc21-67c857d8a6a0"
      },
      "source": [
        "#Eliminamos Variables f > 0.5 NA's\n",
        "tedx_df = tedx_df.drop(columns = y[y >= 0.5].index)\n",
        "\n",
        "tedx_df.shape"
      ],
      "execution_count": 285,
      "outputs": [
        {
          "output_type": "execute_result",
          "data": {
            "text/plain": [
              "(4514, 26)"
            ]
          },
          "metadata": {
            "tags": []
          },
          "execution_count": 285
        }
      ]
    },
    {
      "cell_type": "markdown",
      "metadata": {
        "id": "xA-ljomCxSXS"
      },
      "source": [
        "#### 01.04 - Preprocesamiento de Dataset\n",
        "\n",
        "Se toma como referencia el pipeline de: https://medium.com/analytics-vidhya/text-preprocessing-for-nlp-natural-language-processing-beginners-to-master-fd82dfecf95 y se complementa con parte del pipeline de: https://towardsdatascience.com/nlp-text-preprocessing-a-practical-guide-and-template-d80874676e79 (no se corre el tratamiento de contracciones ni de números en forma de texto al no poder instalar pip en Kaggle)"
      ]
    },
    {
      "cell_type": "markdown",
      "metadata": {
        "id": "XMu-lv1-SRXl"
      },
      "source": [
        "##### *Limpieza URL's:* \n",
        "Deberia ser irrelevante debido a que son transcripciones directas de charlas, no deberian existir referencias a URL's dentro del texto. No obstante, se ejecuta este paso de forma preventiva."
      ]
    },
    {
      "cell_type": "code",
      "metadata": {
        "execution": {
          "iopub.status.busy": "2021-05-22T15:31:31.271069Z",
          "iopub.execute_input": "2021-05-22T15:31:31.271397Z",
          "iopub.status.idle": "2021-05-22T15:31:31.322133Z",
          "shell.execute_reply.started": "2021-05-22T15:31:31.271369Z",
          "shell.execute_reply": "2021-05-22T15:31:31.321125Z"
        },
        "trusted": true,
        "id": "nFkGGFZPSRXm"
      },
      "source": [
        "def clean_url(text):\n",
        "    return re.sub(r'http\\S+','',text)\n",
        "\n",
        "tedx_df['CleanTranscript'] = tedx_df['transcript'].apply(clean_url)"
      ],
      "execution_count": 286,
      "outputs": []
    },
    {
      "cell_type": "markdown",
      "metadata": {
        "id": "9bPBwsrrSRXm"
      },
      "source": [
        "##### *Limpieza de Tildes:* \n",
        "Deberia ser irrelevante debido a que son textos en Inglés, no obstante, se ejecuta este paso de forma preventiva."
      ]
    },
    {
      "cell_type": "code",
      "metadata": {
        "execution": {
          "iopub.status.busy": "2021-05-22T15:31:31.323476Z",
          "iopub.execute_input": "2021-05-22T15:31:31.323786Z",
          "iopub.status.idle": "2021-05-22T15:31:44.634832Z",
          "shell.execute_reply.started": "2021-05-22T15:31:31.323756Z",
          "shell.execute_reply": "2021-05-22T15:31:44.633824Z"
        },
        "trusted": true,
        "id": "7uiZkPBtSRXm"
      },
      "source": [
        "def remove_tildes(text):\n",
        "    return unidecode.unidecode(text)\n",
        "\n",
        "tedx_df['CleanTranscript'] = tedx_df['CleanTranscript'].apply(remove_tildes)"
      ],
      "execution_count": 287,
      "outputs": []
    },
    {
      "cell_type": "markdown",
      "metadata": {
        "id": "oLXJ4PiZSRXn"
      },
      "source": [
        "##### *Limpieza de Caracteres Irrelevantes:* \n",
        "\n",
        "Se eliminan números y signos de puntuación. Hay que considerar el impacto sobre it's, i'm, entre otros..."
      ]
    },
    {
      "cell_type": "code",
      "metadata": {
        "execution": {
          "iopub.status.busy": "2021-05-22T15:31:44.636256Z",
          "iopub.execute_input": "2021-05-22T15:31:44.636574Z",
          "iopub.status.idle": "2021-05-22T15:31:47.409295Z",
          "shell.execute_reply.started": "2021-05-22T15:31:44.636542Z",
          "shell.execute_reply": "2021-05-22T15:31:47.408372Z"
        },
        "trusted": true,
        "id": "9i6O3CMiSRXn"
      },
      "source": [
        "def clean_non_alphanumeric(text):\n",
        "   return re.sub('[^a-zA-Z]',' ',text)\n",
        "\n",
        "tedx_df['CleanTranscript'] = tedx_df['CleanTranscript'].apply(clean_non_alphanumeric)"
      ],
      "execution_count": 288,
      "outputs": []
    },
    {
      "cell_type": "markdown",
      "metadata": {
        "id": "xBfMgNyvSRXn"
      },
      "source": [
        "##### *Estandarización de tamaño de letras:* \n",
        "\n",
        "Se convierten todos los caracteres a minusculas"
      ]
    },
    {
      "cell_type": "code",
      "metadata": {
        "execution": {
          "iopub.status.busy": "2021-05-22T15:31:47.410448Z",
          "iopub.execute_input": "2021-05-22T15:31:47.410892Z",
          "iopub.status.idle": "2021-05-22T15:31:47.442874Z",
          "shell.execute_reply.started": "2021-05-22T15:31:47.410859Z",
          "shell.execute_reply": "2021-05-22T15:31:47.442097Z"
        },
        "trusted": true,
        "id": "VzsuhSZASRXn"
      },
      "source": [
        "def clean_lowercase(text):\n",
        "    return str(text).lower()\n",
        "\n",
        "tedx_df['CleanTranscript'] = tedx_df['CleanTranscript'].apply(clean_lowercase)"
      ],
      "execution_count": 289,
      "outputs": []
    },
    {
      "cell_type": "markdown",
      "metadata": {
        "id": "dVVsBEFASRXq"
      },
      "source": [
        "#### 01.05 - Tags\n",
        "\n",
        "Referencia: https://www.kaggle.com/rounakbanik/ted-data-analysis"
      ]
    },
    {
      "cell_type": "markdown",
      "metadata": {
        "id": "YKHTontv1LDm"
      },
      "source": [
        "##### *Segmentación por TAGS:* "
      ]
    },
    {
      "cell_type": "code",
      "metadata": {
        "id": "huR-2Kyjf_eu"
      },
      "source": [
        "tedx_df = tedx_df[tedx_df['transcript'] != np.nan]\n",
        "tedx_df = tedx_df[[len(ast.literal_eval(tag)) > 0 for tag in tedx_df['talks__tags']]]"
      ],
      "execution_count": 290,
      "outputs": []
    },
    {
      "cell_type": "markdown",
      "metadata": {
        "id": "d0NQAgmuROle"
      },
      "source": [
        "##### *Segmentación por TAGS (cont):* \n",
        "\n",
        "Como resultado del web scrapping en la página TED, vemos que la variable `talks_tags` de cada charla puede tener múltiples valores (desde 0 tags hasta charlas que tienen 31).\n",
        "\n",
        "La solución principal a nuestro modelo sería crear modelos que soporten variables target [*multioutput* y *multiclass*](https://scikit-learn.org/stable/modules/multiclass.html)\n",
        "\n",
        "La exploración de la variable `talks_tags` en esta notebook pretende ver la viabilidad de simplificarlo en ese sentido.\n"
      ]
    },
    {
      "cell_type": "code",
      "metadata": {
        "id": "rZw7GA7IWTAk",
        "colab": {
          "base_uri": "https://localhost:8080/",
          "height": 0
        },
        "outputId": "1902950c-8632-44bb-cfdd-2833d338f14b"
      },
      "source": [
        "# Importando base de datos y extrayendo variables de interés\n",
        "datos = tedx_df[['talks__tags', 'number_of__tags']]\n",
        "\n",
        "# Convirtiendo la variable 'talks__tags' en una lista\n",
        "datos['talks__tags'] = datos['talks__tags'].apply(lambda x: ast.literal_eval(x))\n",
        "datos.head(3)"
      ],
      "execution_count": 291,
      "outputs": [
        {
          "output_type": "execute_result",
          "data": {
            "text/html": [
              "<div>\n",
              "<style scoped>\n",
              "    .dataframe tbody tr th:only-of-type {\n",
              "        vertical-align: middle;\n",
              "    }\n",
              "\n",
              "    .dataframe tbody tr th {\n",
              "        vertical-align: top;\n",
              "    }\n",
              "\n",
              "    .dataframe thead th {\n",
              "        text-align: right;\n",
              "    }\n",
              "</style>\n",
              "<table border=\"1\" class=\"dataframe\">\n",
              "  <thead>\n",
              "    <tr style=\"text-align: right;\">\n",
              "      <th></th>\n",
              "      <th>talks__tags</th>\n",
              "      <th>number_of__tags</th>\n",
              "    </tr>\n",
              "  </thead>\n",
              "  <tbody>\n",
              "    <tr>\n",
              "      <th>0</th>\n",
              "      <td>[creativity, culture, dance, education, parent...</td>\n",
              "      <td>7</td>\n",
              "    </tr>\n",
              "    <tr>\n",
              "      <th>1</th>\n",
              "      <td>[comedy, curiosity, communication, humor, tech...</td>\n",
              "      <td>5</td>\n",
              "    </tr>\n",
              "    <tr>\n",
              "      <th>2</th>\n",
              "      <td>[body language, brain, business, psychology, s...</td>\n",
              "      <td>7</td>\n",
              "    </tr>\n",
              "  </tbody>\n",
              "</table>\n",
              "</div>"
            ],
            "text/plain": [
              "                                         talks__tags  number_of__tags\n",
              "0  [creativity, culture, dance, education, parent...                7\n",
              "1  [comedy, curiosity, communication, humor, tech...                5\n",
              "2  [body language, brain, business, psychology, s...                7"
            ]
          },
          "metadata": {
            "tags": []
          },
          "execution_count": 291
        }
      ]
    },
    {
      "cell_type": "markdown",
      "metadata": {
        "id": "T227L9wdX6pM"
      },
      "source": [
        "##### *Exploratorio de la variable talks_tags* \n",
        "\n",
        "\n",
        "Las charlas TED tiene múltiples tags, algunas de ella 0 y algunas pocas hasta 31 tags."
      ]
    },
    {
      "cell_type": "code",
      "metadata": {
        "id": "XyoAvtLavGcv",
        "colab": {
          "base_uri": "https://localhost:8080/",
          "height": 150
        },
        "outputId": "1335584e-9ff4-4965-afa2-61b407491c3c"
      },
      "source": [
        "#datos['number_of__tags'].value_counts()\n",
        "sns.distplot(datos[\"number_of__tags\"]\n",
        "             , hist=True, kde=False, bins=30).set_title('Distribución de Tags en cantidad de charlas TED')\n",
        "sns.set(rc={'figure.figsize':(100,8)})"
      ],
      "execution_count": 292,
      "outputs": [
        {
          "output_type": "display_data",
          "data": {
            "image/png": "[encoded data removed]",
            "text/plain": [
              "<Figure size 7200x576 with 1 Axes>"
            ]
          },
          "metadata": {
            "tags": []
          }
        }
      ]
    },
    {
      "cell_type": "markdown",
      "metadata": {
        "id": "OjqEUDZNbqrr"
      },
      "source": [
        "El dataset contiene 347 labels, algunos de ellos con presencia en solo una o dos de las más de 5.000 charlas TED."
      ]
    },
    {
      "cell_type": "code",
      "metadata": {
        "id": "YOAKGAyKY8OJ",
        "colab": {
          "base_uri": "https://localhost:8080/"
        },
        "outputId": "f13c106d-0b3d-4848-a90a-84ae72398f70"
      },
      "source": [
        "# generación de data set para análisis de tags.\n",
        "s = datos.apply(lambda x: pd.Series(x['talks__tags']),axis=1).stack().reset_index(level=1, drop=True)\n",
        "s.name = 'temas'\n",
        "temas_df = datos.drop('talks__tags', axis=1).join(s)\n",
        "temas_df = temas_df.dropna()\n",
        "temas_df = temas_df[['temas']]\n",
        "\n",
        "# conteo de valores únicos en la variable theme\n",
        "temas_df['temas'].value_counts()"
      ],
      "execution_count": 293,
      "outputs": [
        {
          "output_type": "execute_result",
          "data": {
            "text/plain": [
              "science          1107\n",
              "technology       1050\n",
              "TED-Ed            744\n",
              "culture           738\n",
              "animation         671\n",
              "                 ... \n",
              "pain                2\n",
              "NASA                1\n",
              "goal-setting        1\n",
              "Hinduism            1\n",
              "crowdsourcing       1\n",
              "Name: temas, Length: 347, dtype: int64"
            ]
          },
          "metadata": {
            "tags": []
          },
          "execution_count": 293
        }
      ]
    },
    {
      "cell_type": "code",
      "metadata": {
        "id": "mR1-33HOe4K3"
      },
      "source": [
        "#Verificamos el balance de clases\n",
        "pop_temas = pd.DataFrame(temas_df['temas'].value_counts()).reset_index()\n",
        "pop_temas.columns = ['temas', 'talks']"
      ],
      "execution_count": 294,
      "outputs": []
    },
    {
      "cell_type": "code",
      "metadata": {
        "colab": {
          "base_uri": "https://localhost:8080/",
          "height": 368
        },
        "id": "LLJmEXWAgqgp",
        "outputId": "0a034a0a-aeb5-4f98-adfb-d1df060db3a6"
      },
      "source": [
        "plt.figure(figsize=(30,5))\n",
        "sns.barplot(x='temas', y='talks', data=pop_temas.head(60))\n",
        "plt.xticks(rotation=90)\n",
        "plt.show()"
      ],
      "execution_count": 295,
      "outputs": [
        {
          "output_type": "display_data",
          "data": {
            "image/png": "[encoded data removed]",
            "text/plain": [
              "<Figure size 2160x360 with 1 Axes>"
            ]
          },
          "metadata": {
            "tags": []
          }
        }
      ]
    },
    {
      "cell_type": "code",
      "metadata": {
        "id": "lWO3f8a3frsr",
        "colab": {
          "base_uri": "https://localhost:8080/",
          "height": 411
        },
        "outputId": "ee99194c-019c-476b-816b-92e98abee6a2"
      },
      "source": [
        "plt.figure(figsize=(30,5))\n",
        "sns.barplot(x='temas', y='talks', data=pop_temas.tail(60))\n",
        "plt.xticks(rotation=90)\n",
        "plt.show()"
      ],
      "execution_count": 296,
      "outputs": [
        {
          "output_type": "display_data",
          "data": {
            "image/png": "[encoded data removed]",
            "text/plain": [
              "<Figure size 2160x360 with 1 Axes>"
            ]
          },
          "metadata": {
            "tags": []
          }
        }
      ]
    },
    {
      "cell_type": "markdown",
      "metadata": {
        "id": "Lx6zQPG0vRIV"
      },
      "source": [
        "##### *Preprocesamiento de la variable talks__tags*\n",
        "\n",
        "Para poder reducir la dimensionalidad de la variable `talks__tags`, necesitamos aplicar los siguientes pasos de preprocesamiento:\n",
        "\n",
        "- [ ] Eliminar los espacios (3D printing -> 3d_printing): el uso de synsets no reconoce las ngrams separadas por espacios, pero sí por letras \n",
        "- [ ] Colocar todas las palabras en minúscula: en particular por ordenamiento\n",
        "- [ ] Eliminar algunos tags: como el caso de los referidos a TED*** o que no tengan un Synset asociado"
      ]
    },
    {
      "cell_type": "code",
      "metadata": {
        "id": "AzHTSzUPLjOq"
      },
      "source": [
        "# Creando una lista con los talks__tags\n",
        "temas = list(set(temas_df['temas']))"
      ],
      "execution_count": 297,
      "outputs": []
    },
    {
      "cell_type": "code",
      "metadata": {
        "id": "xrDY6UVjm__i"
      },
      "source": [
        "# Eliminando los tags TED*\n",
        "ted = re.compile(\"TED*.\")\n",
        "tedlist = list(filter(ted.match, temas))\n",
        "temas = [word for word in temas if word not in tedlist]"
      ],
      "execution_count": 298,
      "outputs": []
    },
    {
      "cell_type": "code",
      "metadata": {
        "id": "5X7dgJfFnBd1"
      },
      "source": [
        "# Colocando todo el texto en minúscula\n",
        "for i in range(len(temas)):\n",
        "    temas[i] = temas[i].lower()"
      ],
      "execution_count": 299,
      "outputs": []
    },
    {
      "cell_type": "code",
      "metadata": {
        "id": "OZ0Xgj2gnDbU"
      },
      "source": [
        "# Remplazando espacios por el caracter _\n",
        "temas = [sub.replace(' ', '_') for sub in temas]"
      ],
      "execution_count": 300,
      "outputs": []
    },
    {
      "cell_type": "code",
      "metadata": {
        "colab": {
          "base_uri": "https://localhost:8080/"
        },
        "id": "Wd9qn0W_nEFi",
        "outputId": "e6553642-6c11-4174-f1bb-e7a18599367b"
      },
      "source": [
        "# Ordenando la lista\n",
        "temas.sort()\n",
        "pp.pprint(temas)"
      ],
      "execution_count": 301,
      "outputs": [
        {
          "output_type": "stream",
          "text": [
            "[   '3d_printing', 'activism', 'addiction', 'africa', 'aging', 'agriculture',\n",
            "    'ai', 'aids', 'algorithm', 'aliens', \"alzheimer's\", 'ancient_world',\n",
            "    'animals', 'animation', 'antarctica', 'anthropocene', 'anthropology',\n",
            "    'archaeology', 'architecture', 'art', 'asia', 'asteroid', 'astrobiology',\n",
            "    'astronomy', 'atheism', 'audacious_project', 'augmented_reality',\n",
            "    'autism_spectrum_disorder', 'bacteria', 'beauty', 'bees',\n",
            "    'behavioral_economics', 'best_of_the_web', 'big_bang', 'biodiversity',\n",
            "    'bioethics', 'biology', 'biomimicry', 'bionics', 'biosphere', 'biotech',\n",
            "    'birds', 'blindness', 'blockchain', 'body_language', 'books', 'botany',\n",
            "    'brain', 'brazil', 'buddhism', 'bullying', 'business', 'cancer',\n",
            "    'capitalism', 'chemistry', 'china', 'christianity', 'cities',\n",
            "    'climate_change', 'code', 'cognitive_science', 'collaboration', 'comedy',\n",
            "    'communication', 'communications', 'community', 'compassion', 'computers',\n",
            "    'conducting', 'consciousness', 'conservation', 'consumerism', 'coral_reefs',\n",
            "    'coronavirus', 'corruption', 'countdown', 'creativity', 'crime', 'crispr',\n",
            "    'crowdsourcing', 'cryptocurrency', 'culture', 'curiosity', 'cyber_security',\n",
            "    'dance', 'dark_matter', 'data', 'death', 'decision-making', 'deextinction',\n",
            "    'demo', 'democracy', 'depression', 'design', 'dinosaurs', 'disability',\n",
            "    'discovery', 'disease', 'diversity', 'dna', 'driverless_cars', 'drones',\n",
            "    'drugs', 'ebola', 'ecology', 'economics', 'education', 'egypt',\n",
            "    'electricity', 'emotions', 'empathy', 'encryption', 'energy', 'engineering',\n",
            "    'entertainment', 'entrepreneur', 'environment', 'equality', 'ethics',\n",
            "    'europe', 'evolution', 'exercise', 'exploration', 'family', 'farming',\n",
            "    'fashion', 'fear', 'feminism', 'film', 'finance', 'fish', 'flight', 'food',\n",
            "    'forensics', 'fossil_fuels', 'friendship', 'fungi', 'future', 'gaming',\n",
            "    'gardening', 'gender', 'genetics', 'geology', 'glaciers', 'global_issues',\n",
            "    'goal-setting', 'goals', 'government', 'grammar', 'graphic_design',\n",
            "    'happiness', 'health', 'health_care', 'hearing', 'heart', 'hinduism',\n",
            "    'history', 'homelessness', 'human_body', 'human_rights', 'humanity',\n",
            "    'humor', 'identity', 'illness', 'illusion', 'immigration', 'inclusion',\n",
            "    'india', 'indigenous_peoples', 'industrial_design', 'infrastructure',\n",
            "    'innovation', 'insects', 'international_development',\n",
            "    'international_relations', 'internet', 'interview', 'invention',\n",
            "    'investing', 'islam', 'journalism', 'judaism', 'justice_system', 'kids',\n",
            "    'language', 'law', 'leadership', 'lgbtqia+', 'library', 'life',\n",
            "    'literature', 'love', 'machine_learning', 'magic', 'manufacturing', 'maps',\n",
            "    'marine_biology', 'marketing', 'mars', 'math', 'media', 'medical_imaging',\n",
            "    'medical_research', 'medicine', 'meditation', 'memory', 'mental_health',\n",
            "    'microbes', 'microbiology', 'middle_east', 'military', 'mindfulness',\n",
            "    'mission_blue', 'money', 'moon', 'motivation', 'museums', 'music',\n",
            "    'nanotechnology', 'nasa', 'natural_disaster', 'natural_resources', 'nature',\n",
            "    'neurology', 'neuroscience', 'nuclear_energy', 'ocean', 'online_privacy',\n",
            "    'pain', 'painting', 'paleontology', 'pandemic', 'parenting', 'performance',\n",
            "    'personal_growth', 'personality', 'philanthropy', 'philosophy',\n",
            "    'photography', 'physics', 'planets', 'plants', 'plastic', 'poetry',\n",
            "    'policy', 'politics', 'pollution', 'potential', 'poverty', 'pregnancy',\n",
            "    'primates', 'prison', 'product_design', 'productivity', 'prosthetics',\n",
            "    'protest', 'psychology', 'ptsd', 'public_health', 'public_space',\n",
            "    'public_speaking', 'quantum', 'race', 'refugees', 'relationships',\n",
            "    'religion', 'renewable_energy', 'resources', 'rivers', 'robots',\n",
            "    'rocket_science', 'science', 'science_fiction', 'self', 'sex',\n",
            "    'sexual_violence', 'shopping', 'sight', 'slavery', 'sleep', 'smell',\n",
            "    'social_change', 'social_media', 'society', 'sociology', 'software',\n",
            "    'solar_energy', 'solar_system', 'sound', 'south_america', 'space',\n",
            "    'spoken_word', 'sports', 'statistics', 'storytelling', 'street_art',\n",
            "    'string_theory', 'success', 'suicide', 'sun', 'surgery', 'surveillance',\n",
            "    'sustainability', 'synthetic_biology', 'teaching', 'technology',\n",
            "    'telescopes', 'television', 'terrorism', 'theater', 'time', 'toys',\n",
            "    'transgender', 'transportation', 'travel', 'trees', 'trust', 'typography',\n",
            "    'united_states', 'universe', 'urban_planning', 'ux_design', 'vaccines',\n",
            "    'violence', 'virtual_reality', 'virus', 'visualizations', 'vulnerability',\n",
            "    'war', 'water', 'weather', 'wind_energy', 'women', 'women_in_business',\n",
            "    'work', 'work-life_balance', 'writing', 'youth']\n"
          ],
          "name": "stdout"
        }
      ]
    },
    {
      "cell_type": "markdown",
      "metadata": {
        "id": "wJMXN81X2Byu"
      },
      "source": [
        "##### Reducción de la dimensionalidad"
      ]
    },
    {
      "cell_type": "markdown",
      "metadata": {
        "id": "BhqWO7II1szl"
      },
      "source": [
        "###### Affinity Propagation Clustering Algorithm\n",
        "\n",
        "Usando el algoritmo *Affinity Propagation Clustering Algorithm* de [scikit-learn](https://scikit-learn.org/stable/modules/generated/sklearn.cluster.AffinityPropagation.html) vamos a intentar reducir la dimensionalidad de nuestras 350 tags.\n",
        "\n",
        "Básicamente se va a utilizar los synsets de cada palabra. Es importante en este punto identificar y eliminar o remplazar las palabras que no tengan synset dado que la posterior aplicación del modelo generará error.\n",
        "\n"
      ]
    },
    {
      "cell_type": "code",
      "metadata": {
        "id": "XJvigRRk6_pz",
        "colab": {
          "base_uri": "https://localhost:8080/"
        },
        "outputId": "a65e4d44-a8a3-4420-b268-678470ac96bc"
      },
      "source": [
        "sin_synset = []\n",
        "for tema in temas:\n",
        "    try:\n",
        "        print(tema, wn.synsets(tema)[0])\n",
        "    except:\n",
        "        sin_synset.append(tema)\n",
        "        print(tema, 'SIN SYNSET')"
      ],
      "execution_count": 302,
      "outputs": [
        {
          "output_type": "stream",
          "text": [
            "3d_printing SIN SYNSET\n",
            "activism Synset('activism.n.01')\n",
            "addiction Synset('addiction.n.01')\n",
            "africa Synset('africa.n.01')\n",
            "aging Synset('ripening.n.02')\n",
            "agriculture Synset('agribusiness.n.01')\n",
            "ai Synset('army_intelligence.n.01')\n",
            "aids Synset('aids.n.01')\n",
            "algorithm Synset('algorithm.n.01')\n",
            "aliens Synset('foreigner.n.01')\n",
            "alzheimer's Synset('alzheimer's_disease.n.01')\n",
            "ancient_world SIN SYNSET\n",
            "animals Synset('animal.n.01')\n",
            "animation Synset('animation.n.01')\n",
            "antarctica Synset('antarctica.n.01')\n",
            "anthropocene SIN SYNSET\n",
            "anthropology Synset('anthropology.n.01')\n",
            "archaeology Synset('archeology.n.01')\n",
            "architecture Synset('architecture.n.01')\n",
            "art Synset('art.n.01')\n",
            "asia Synset('asia.n.01')\n",
            "asteroid Synset('asteroid.n.01')\n",
            "astrobiology Synset('exobiology.n.01')\n",
            "astronomy Synset('astronomy.n.01')\n",
            "atheism Synset('atheism.n.01')\n",
            "audacious_project SIN SYNSET\n",
            "augmented_reality SIN SYNSET\n",
            "autism_spectrum_disorder SIN SYNSET\n",
            "bacteria Synset('bacteria.n.01')\n",
            "beauty Synset('beauty.n.01')\n",
            "bees Synset('bee.n.01')\n",
            "behavioral_economics SIN SYNSET\n",
            "best_of_the_web SIN SYNSET\n",
            "big_bang Synset('big_bang.n.01')\n",
            "biodiversity Synset('biodiversity.n.01')\n",
            "bioethics Synset('bioethics.n.01')\n",
            "biology Synset('biology.n.01')\n",
            "biomimicry SIN SYNSET\n",
            "bionics Synset('bionics.n.01')\n",
            "biosphere Synset('biosphere.n.01')\n",
            "biotech Synset('biotechnology.n.01')\n",
            "birds Synset('bird.n.01')\n",
            "blindness Synset('blindness.n.01')\n",
            "blockchain SIN SYNSET\n",
            "body_language Synset('body_language.n.01')\n",
            "books Synset('book.n.01')\n",
            "botany Synset('vegetation.n.01')\n",
            "brain Synset('brain.n.01')\n",
            "brazil Synset('brazil.n.01')\n",
            "buddhism Synset('buddhism.n.01')\n",
            "bullying Synset('bullying.n.01')\n",
            "business Synset('business.n.01')\n",
            "cancer Synset('cancer.n.01')\n",
            "capitalism Synset('capitalism.n.01')\n",
            "chemistry Synset('chemistry.n.01')\n",
            "china Synset('china.n.01')\n",
            "christianity Synset('christianity.n.01')\n",
            "cities Synset('city.n.01')\n",
            "climate_change Synset('climate_change.n.01')\n",
            "code Synset('code.n.01')\n",
            "cognitive_science Synset('cognitive_science.n.01')\n",
            "collaboration Synset('collaboration.n.01')\n",
            "comedy Synset('comedy.n.01')\n",
            "communication Synset('communication.n.01')\n",
            "communications Synset('communications.n.01')\n",
            "community Synset('community.n.01')\n",
            "compassion Synset('compassion.n.01')\n",
            "computers Synset('computer.n.01')\n",
            "conducting Synset('conducting.n.01')\n",
            "consciousness Synset('consciousness.n.01')\n",
            "conservation Synset('conservation.n.01')\n",
            "consumerism Synset('consumerism.n.01')\n",
            "coral_reefs Synset('coral_reef.n.01')\n",
            "coronavirus SIN SYNSET\n",
            "corruption Synset('corruptness.n.02')\n",
            "countdown Synset('countdown.n.01')\n",
            "creativity Synset('creativity.n.01')\n",
            "crime Synset('crime.n.01')\n",
            "crispr SIN SYNSET\n",
            "crowdsourcing SIN SYNSET\n",
            "cryptocurrency SIN SYNSET\n",
            "culture Synset('culture.n.01')\n",
            "curiosity Synset('curiosity.n.01')\n",
            "cyber_security SIN SYNSET\n",
            "dance Synset('dance.n.01')\n",
            "dark_matter Synset('dark_matter.n.01')\n",
            "data Synset('data.n.01')\n",
            "death Synset('death.n.01')\n",
            "decision-making SIN SYNSET\n",
            "deextinction SIN SYNSET\n",
            "demo Synset('demonstration.n.05')\n",
            "democracy Synset('democracy.n.01')\n",
            "depression Synset('depression.n.01')\n",
            "design Synset('design.n.01')\n",
            "dinosaurs Synset('dinosaur.n.01')\n",
            "disability Synset('disability.n.01')\n",
            "discovery Synset('discovery.n.01')\n",
            "disease Synset('disease.n.01')\n",
            "diversity Synset('diverseness.n.01')\n",
            "dna Synset('deoxyribonucleic_acid.n.01')\n",
            "driverless_cars SIN SYNSET\n",
            "drones Synset('drone.n.01')\n",
            "drugs Synset('drug.n.01')\n",
            "ebola Synset('ebola_hemorrhagic_fever.n.01')\n",
            "ecology Synset('ecology.n.01')\n",
            "economics Synset('economics.n.01')\n",
            "education Synset('education.n.01')\n",
            "egypt Synset('egypt.n.01')\n",
            "electricity Synset('electricity.n.01')\n",
            "emotions Synset('emotion.n.01')\n",
            "empathy Synset('empathy.n.01')\n",
            "encryption Synset('encoding.n.01')\n",
            "energy Synset('energy.n.01')\n",
            "engineering Synset('technology.n.01')\n",
            "entertainment Synset('entertainment.n.01')\n",
            "entrepreneur Synset('entrepreneur.n.01')\n",
            "environment Synset('environment.n.01')\n",
            "equality Synset('equality.n.01')\n",
            "ethics Synset('ethical_motive.n.01')\n",
            "europe Synset('europe.n.01')\n",
            "evolution Synset('development.n.02')\n",
            "exercise Synset('exercise.n.01')\n",
            "exploration Synset('exploration.n.01')\n",
            "family Synset('family.n.01')\n",
            "farming Synset('farming.n.01')\n",
            "fashion Synset('manner.n.01')\n",
            "fear Synset('fear.n.01')\n",
            "feminism Synset('feminism.n.01')\n",
            "film Synset('movie.n.01')\n",
            "finance Synset('finance.n.01')\n",
            "fish Synset('fish.n.01')\n",
            "flight Synset('flight.n.01')\n",
            "food Synset('food.n.01')\n",
            "forensics Synset('forensics.n.01')\n",
            "fossil_fuels Synset('fossil_fuel.n.01')\n",
            "friendship Synset('friendship.n.01')\n",
            "fungi Synset('fungi.n.01')\n",
            "future Synset('future.n.01')\n",
            "gaming Synset('gambling.n.01')\n",
            "gardening Synset('gardening.n.01')\n",
            "gender Synset('gender.n.01')\n",
            "genetics Synset('genetics.n.01')\n",
            "geology Synset('geology.n.01')\n",
            "glaciers Synset('glacier.n.01')\n",
            "global_issues SIN SYNSET\n",
            "goal-setting SIN SYNSET\n",
            "goals Synset('goal.n.01')\n",
            "government Synset('government.n.01')\n",
            "grammar Synset('grammar.n.01')\n",
            "graphic_design Synset('graphic_design.n.01')\n",
            "happiness Synset('happiness.n.01')\n",
            "health Synset('health.n.01')\n",
            "health_care Synset('health_care.n.01')\n",
            "hearing Synset('hearing.n.01')\n",
            "heart Synset('heart.n.01')\n",
            "hinduism Synset('hinduism.n.01')\n",
            "history Synset('history.n.01')\n",
            "homelessness Synset('homelessness.n.01')\n",
            "human_body Synset('human_body.n.01')\n",
            "human_rights Synset('human_right.n.01')\n",
            "humanity Synset('humanity.n.01')\n",
            "humor Synset('wit.n.01')\n",
            "identity Synset('identity.n.01')\n",
            "illness Synset('illness.n.01')\n",
            "illusion Synset('illusion.n.01')\n",
            "immigration Synset('immigration.n.01')\n",
            "inclusion Synset('inclusion.n.01')\n",
            "india Synset('india.n.01')\n",
            "indigenous_peoples SIN SYNSET\n",
            "industrial_design SIN SYNSET\n",
            "infrastructure Synset('infrastructure.n.01')\n",
            "innovation Synset('invention.n.02')\n",
            "insects Synset('insect.n.01')\n",
            "international_development SIN SYNSET\n",
            "international_relations SIN SYNSET\n",
            "internet Synset('internet.n.01')\n",
            "interview Synset('interview.n.01')\n",
            "invention Synset('invention.n.01')\n",
            "investing Synset('investing.n.01')\n",
            "islam Synset('islam.n.01')\n",
            "journalism Synset('journalism.n.01')\n",
            "judaism Synset('judaism.n.01')\n",
            "justice_system SIN SYNSET\n",
            "kids Synset('child.n.01')\n",
            "language Synset('language.n.01')\n",
            "law Synset('law.n.01')\n",
            "leadership Synset('leadership.n.01')\n",
            "lgbtqia+ SIN SYNSET\n",
            "library Synset('library.n.01')\n",
            "life Synset('life.n.01')\n",
            "literature Synset('literature.n.01')\n",
            "love Synset('love.n.01')\n",
            "machine_learning SIN SYNSET\n",
            "magic Synset('magic.n.01')\n",
            "manufacturing Synset('fabrication.n.03')\n",
            "maps Synset('map.n.01')\n",
            "marine_biology SIN SYNSET\n",
            "marketing Synset('selling.n.01')\n",
            "mars Synset('mars.n.01')\n",
            "math Synset('mathematics.n.01')\n",
            "media Synset('medium.n.01')\n",
            "medical_imaging SIN SYNSET\n",
            "medical_research SIN SYNSET\n",
            "medicine Synset('medicine.n.01')\n",
            "meditation Synset('meditation.n.01')\n",
            "memory Synset('memory.n.01')\n",
            "mental_health Synset('mental_health.n.01')\n",
            "microbes Synset('microbe.n.01')\n",
            "microbiology Synset('microbiology.n.01')\n",
            "middle_east Synset('middle_east.n.01')\n",
            "military Synset('military.n.01')\n",
            "mindfulness Synset('mindfulness.n.01')\n",
            "mission_blue SIN SYNSET\n",
            "money Synset('money.n.01')\n",
            "moon Synset('moon.n.01')\n",
            "motivation Synset('motivation.n.01')\n",
            "museums Synset('museum.n.01')\n",
            "music Synset('music.n.01')\n",
            "nanotechnology Synset('nanotechnology.n.01')\n",
            "nasa Synset('national_aeronautics_and_space_administration.n.01')\n",
            "natural_disaster SIN SYNSET\n",
            "natural_resources Synset('natural_resource.n.01')\n",
            "nature Synset('nature.n.01')\n",
            "neurology Synset('neurology.n.01')\n",
            "neuroscience Synset('neuroscience.n.01')\n",
            "nuclear_energy Synset('atomic_energy.n.01')\n",
            "ocean Synset('ocean.n.01')\n",
            "online_privacy SIN SYNSET\n",
            "pain Synset('pain.n.01')\n",
            "painting Synset('painting.n.01')\n",
            "paleontology Synset('paleontology.n.01')\n",
            "pandemic Synset('pandemic.n.01')\n",
            "parenting Synset('rear.v.02')\n",
            "performance Synset('performance.n.01')\n",
            "personal_growth SIN SYNSET\n",
            "personality Synset('personality.n.01')\n",
            "philanthropy Synset('philanthropy.n.01')\n",
            "philosophy Synset('doctrine.n.01')\n",
            "photography Synset('photography.n.01')\n",
            "physics Synset('physics.n.01')\n",
            "planets Synset('planet.n.01')\n",
            "plants Synset('plant.n.01')\n",
            "plastic Synset('plastic.n.01')\n",
            "poetry Synset('poetry.n.01')\n",
            "policy Synset('policy.n.01')\n",
            "politics Synset('politics.n.01')\n",
            "pollution Synset('pollution.n.01')\n",
            "potential Synset('potential.n.01')\n",
            "poverty Synset('poverty.n.01')\n",
            "pregnancy Synset('pregnancy.n.01')\n",
            "primates Synset('primates.n.01')\n",
            "prison Synset('prison.n.01')\n",
            "product_design SIN SYNSET\n",
            "productivity Synset('productiveness.n.01')\n",
            "prosthetics Synset('prosthetics.n.01')\n",
            "protest Synset('protest.n.01')\n",
            "psychology Synset('psychology.n.01')\n",
            "ptsd Synset('posttraumatic_stress_disorder.n.01')\n",
            "public_health SIN SYNSET\n",
            "public_space SIN SYNSET\n",
            "public_speaking Synset('public_speaking.n.01')\n",
            "quantum Synset('quantum.n.01')\n",
            "race Synset('race.n.01')\n",
            "refugees Synset('refugee.n.01')\n",
            "relationships Synset('relationship.n.01')\n",
            "religion Synset('religion.n.01')\n",
            "renewable_energy SIN SYNSET\n",
            "resources Synset('resource.n.01')\n",
            "rivers Synset('river.n.01')\n",
            "robots Synset('automaton.n.02')\n",
            "rocket_science SIN SYNSET\n",
            "science Synset('science.n.01')\n",
            "science_fiction Synset('science_fiction.n.01')\n",
            "self Synset('self.n.01')\n",
            "sex Synset('sexual_activity.n.01')\n",
            "sexual_violence SIN SYNSET\n",
            "shopping Synset('shopping.n.01')\n",
            "sight Synset('sight.n.01')\n",
            "slavery Synset('bondage.n.02')\n",
            "sleep Synset('sleep.n.01')\n",
            "smell Synset('smell.n.01')\n",
            "social_change SIN SYNSET\n",
            "social_media SIN SYNSET\n",
            "society Synset('society.n.01')\n",
            "sociology Synset('sociology.n.01')\n",
            "software Synset('software.n.01')\n",
            "solar_energy Synset('solar_energy.n.01')\n",
            "solar_system Synset('solar_system.n.01')\n",
            "sound Synset('sound.n.01')\n",
            "south_america Synset('south_america.n.01')\n",
            "space Synset('space.n.01')\n",
            "spoken_word Synset('vocable.n.01')\n",
            "sports Synset('sport.n.01')\n",
            "statistics Synset('statistics.n.01')\n",
            "storytelling SIN SYNSET\n",
            "street_art SIN SYNSET\n",
            "string_theory Synset('string_theory.n.01')\n",
            "success Synset('success.n.01')\n",
            "suicide Synset('suicide.n.01')\n",
            "sun Synset('sun.n.01')\n",
            "surgery Synset('surgery.n.01')\n",
            "surveillance Synset('surveillance.n.01')\n",
            "sustainability Synset('sustainability.n.01')\n",
            "synthetic_biology SIN SYNSET\n",
            "teaching Synset('teaching.n.01')\n",
            "technology Synset('technology.n.01')\n",
            "telescopes Synset('telescope.n.01')\n",
            "television Synset('television.n.01')\n",
            "terrorism Synset('terrorism.n.01')\n",
            "theater Synset('theater.n.01')\n",
            "time Synset('time.n.01')\n",
            "toys Synset('plaything.n.01')\n",
            "transgender Synset('transgender.s.01')\n",
            "transportation Synset('transportation_system.n.01')\n",
            "travel Synset('travel.n.01')\n",
            "trees Synset('tree.n.01')\n",
            "trust Synset('trust.n.01')\n",
            "typography Synset('typography.n.01')\n",
            "united_states Synset('united_states.n.01')\n",
            "universe Synset('universe.n.01')\n",
            "urban_planning Synset('urban_planning.n.01')\n",
            "ux_design SIN SYNSET\n",
            "vaccines Synset('vaccine.n.01')\n",
            "violence Synset('violence.n.01')\n",
            "virtual_reality Synset('virtual_reality.n.01')\n",
            "virus Synset('virus.n.01')\n",
            "visualizations Synset('visual_image.n.01')\n",
            "vulnerability Synset('vulnerability.n.01')\n",
            "war Synset('war.n.01')\n",
            "water Synset('water.n.01')\n",
            "weather Synset('weather.n.01')\n",
            "wind_energy SIN SYNSET\n",
            "women Synset('woman.n.01')\n",
            "women_in_business SIN SYNSET\n",
            "work Synset('work.n.01')\n",
            "work-life_balance SIN SYNSET\n",
            "writing Synset('writing.n.01')\n",
            "youth Synset('young_person.n.01')\n"
          ],
          "name": "stdout"
        }
      ]
    },
    {
      "cell_type": "code",
      "metadata": {
        "colab": {
          "base_uri": "https://localhost:8080/"
        },
        "id": "ni_Afex28B29",
        "outputId": "1da36362-3141-4d7b-cef3-d1c42e70d873"
      },
      "source": [
        "pp.pprint(sin_synset)"
      ],
      "execution_count": 303,
      "outputs": [
        {
          "output_type": "stream",
          "text": [
            "[   '3d_printing', 'ancient_world', 'anthropocene', 'audacious_project',\n",
            "    'augmented_reality', 'autism_spectrum_disorder', 'behavioral_economics',\n",
            "    'best_of_the_web', 'biomimicry', 'blockchain', 'coronavirus', 'crispr',\n",
            "    'crowdsourcing', 'cryptocurrency', 'cyber_security', 'decision-making',\n",
            "    'deextinction', 'driverless_cars', 'global_issues', 'goal-setting',\n",
            "    'indigenous_peoples', 'industrial_design', 'international_development',\n",
            "    'international_relations', 'justice_system', 'lgbtqia+', 'machine_learning',\n",
            "    'marine_biology', 'medical_imaging', 'medical_research', 'mission_blue',\n",
            "    'natural_disaster', 'online_privacy', 'personal_growth', 'product_design',\n",
            "    'public_health', 'public_space', 'renewable_energy', 'rocket_science',\n",
            "    'sexual_violence', 'social_change', 'social_media', 'storytelling',\n",
            "    'street_art', 'synthetic_biology', 'ux_design', 'wind_energy',\n",
            "    'women_in_business', 'work-life_balance']\n"
          ],
          "name": "stdout"
        }
      ]
    },
    {
      "cell_type": "code",
      "metadata": {
        "colab": {
          "base_uri": "https://localhost:8080/"
        },
        "id": "r3ht-fno7-Na",
        "outputId": "9884079a-2804-403f-c26d-23ea2b8b1207"
      },
      "source": [
        "temas_apc = [word for word in temas if word not in sin_synset]\n",
        "pp.pprint(temas_apc)"
      ],
      "execution_count": 304,
      "outputs": [
        {
          "output_type": "stream",
          "text": [
            "[   'activism', 'addiction', 'africa', 'aging', 'agriculture', 'ai', 'aids',\n",
            "    'algorithm', 'aliens', \"alzheimer's\", 'animals', 'animation', 'antarctica',\n",
            "    'anthropology', 'archaeology', 'architecture', 'art', 'asia', 'asteroid',\n",
            "    'astrobiology', 'astronomy', 'atheism', 'bacteria', 'beauty', 'bees',\n",
            "    'big_bang', 'biodiversity', 'bioethics', 'biology', 'bionics', 'biosphere',\n",
            "    'biotech', 'birds', 'blindness', 'body_language', 'books', 'botany',\n",
            "    'brain', 'brazil', 'buddhism', 'bullying', 'business', 'cancer',\n",
            "    'capitalism', 'chemistry', 'china', 'christianity', 'cities',\n",
            "    'climate_change', 'code', 'cognitive_science', 'collaboration', 'comedy',\n",
            "    'communication', 'communications', 'community', 'compassion', 'computers',\n",
            "    'conducting', 'consciousness', 'conservation', 'consumerism', 'coral_reefs',\n",
            "    'corruption', 'countdown', 'creativity', 'crime', 'culture', 'curiosity',\n",
            "    'dance', 'dark_matter', 'data', 'death', 'demo', 'democracy', 'depression',\n",
            "    'design', 'dinosaurs', 'disability', 'discovery', 'disease', 'diversity',\n",
            "    'dna', 'drones', 'drugs', 'ebola', 'ecology', 'economics', 'education',\n",
            "    'egypt', 'electricity', 'emotions', 'empathy', 'encryption', 'energy',\n",
            "    'engineering', 'entertainment', 'entrepreneur', 'environment', 'equality',\n",
            "    'ethics', 'europe', 'evolution', 'exercise', 'exploration', 'family',\n",
            "    'farming', 'fashion', 'fear', 'feminism', 'film', 'finance', 'fish',\n",
            "    'flight', 'food', 'forensics', 'fossil_fuels', 'friendship', 'fungi',\n",
            "    'future', 'gaming', 'gardening', 'gender', 'genetics', 'geology',\n",
            "    'glaciers', 'goals', 'government', 'grammar', 'graphic_design', 'happiness',\n",
            "    'health', 'health_care', 'hearing', 'heart', 'hinduism', 'history',\n",
            "    'homelessness', 'human_body', 'human_rights', 'humanity', 'humor',\n",
            "    'identity', 'illness', 'illusion', 'immigration', 'inclusion', 'india',\n",
            "    'infrastructure', 'innovation', 'insects', 'internet', 'interview',\n",
            "    'invention', 'investing', 'islam', 'journalism', 'judaism', 'kids',\n",
            "    'language', 'law', 'leadership', 'library', 'life', 'literature', 'love',\n",
            "    'magic', 'manufacturing', 'maps', 'marketing', 'mars', 'math', 'media',\n",
            "    'medicine', 'meditation', 'memory', 'mental_health', 'microbes',\n",
            "    'microbiology', 'middle_east', 'military', 'mindfulness', 'money', 'moon',\n",
            "    'motivation', 'museums', 'music', 'nanotechnology', 'nasa',\n",
            "    'natural_resources', 'nature', 'neurology', 'neuroscience',\n",
            "    'nuclear_energy', 'ocean', 'pain', 'painting', 'paleontology', 'pandemic',\n",
            "    'parenting', 'performance', 'personality', 'philanthropy', 'philosophy',\n",
            "    'photography', 'physics', 'planets', 'plants', 'plastic', 'poetry',\n",
            "    'policy', 'politics', 'pollution', 'potential', 'poverty', 'pregnancy',\n",
            "    'primates', 'prison', 'productivity', 'prosthetics', 'protest',\n",
            "    'psychology', 'ptsd', 'public_speaking', 'quantum', 'race', 'refugees',\n",
            "    'relationships', 'religion', 'resources', 'rivers', 'robots', 'science',\n",
            "    'science_fiction', 'self', 'sex', 'shopping', 'sight', 'slavery', 'sleep',\n",
            "    'smell', 'society', 'sociology', 'software', 'solar_energy', 'solar_system',\n",
            "    'sound', 'south_america', 'space', 'spoken_word', 'sports', 'statistics',\n",
            "    'string_theory', 'success', 'suicide', 'sun', 'surgery', 'surveillance',\n",
            "    'sustainability', 'teaching', 'technology', 'telescopes', 'television',\n",
            "    'terrorism', 'theater', 'time', 'toys', 'transgender', 'transportation',\n",
            "    'travel', 'trees', 'trust', 'typography', 'united_states', 'universe',\n",
            "    'urban_planning', 'vaccines', 'violence', 'virtual_reality', 'virus',\n",
            "    'visualizations', 'vulnerability', 'war', 'water', 'weather', 'women',\n",
            "    'work', 'writing', 'youth']\n"
          ],
          "name": "stdout"
        }
      ]
    },
    {
      "cell_type": "markdown",
      "metadata": {
        "id": "QWRd_7v1-B4f"
      },
      "source": [
        "###### Wu-Palmer Similarity\n",
        "\n",
        "Usando la distancia **Wu-Palmer Similarity** y cambiando el parámetro `affinity`."
      ]
    },
    {
      "cell_type": "code",
      "metadata": {
        "id": "gGgp03QRD5Zx"
      },
      "source": [
        "def propagate_affinity(affinity_type, similarity, words_apc):\n",
        "  affprop = AffinityPropagation(affinity=affinity_type, damping=0.5)\n",
        "  affprop.fit(similarity)\n",
        "  for cluster_id in np.unique(affprop.labels_):\n",
        "    exemplar = words_apc[affprop.cluster_centers_indices_[cluster_id]]\n",
        "    cluster = np.unique(words_apc[np.nonzero(affprop.labels_==cluster_id)])\n",
        "    cluster_str = \", \".join(cluster)\n",
        "    print(\" - *%s:* %s\" % (exemplar, cluster_str))"
      ],
      "execution_count": 305,
      "outputs": []
    },
    {
      "cell_type": "code",
      "metadata": {
        "id": "j2kUs56Y858T"
      },
      "source": [
        "words_apc = np.asarray(temas_apc)\n",
        "words_path = np.asarray(temas) \n",
        "similarity_wup = np.array([[wn.synsets(w1)[0].wup_similarity(wn.synsets(w2)[0]) for w1 in words_apc] for w2 in words_apc])\n",
        "similarity_path = np.array([[wn.synsets(w1)[0].path_similarity(wn.synsets(w2)[0]) for w1 in words_apc] for w2 in words_apc])\n",
        "similarity_wup[similarity_wup == None] = 0\n",
        "similarity_path[similarity_path == None] = 0"
      ],
      "execution_count": 306,
      "outputs": []
    },
    {
      "cell_type": "code",
      "metadata": {
        "id": "2hmIJA_4EjiJ",
        "colab": {
          "base_uri": "https://localhost:8080/"
        },
        "outputId": "0cf2ce32-978f-4e49-f8f1-50f908abce8e"
      },
      "source": [
        "# Aplicando el modelo APC con la distancia Wu-Palmer Similarity\n",
        "propagate_affinity(\"precomputed\", similarity_wup, words_apc)"
      ],
      "execution_count": 307,
      "outputs": [
        {
          "output_type": "stream",
          "text": [
            " - *aging:* aging, climate_change, evolution, sex\n",
            " - *animals:* aliens, animals, bacteria, bees, birds, dinosaurs, drones, entrepreneur, fish, insects, kids, microbes, refugees, trees, virus, women, youth\n",
            " - *antarctica:* africa, antarctica, asia, europe, south_america\n",
            " - *architecture:* architecture, library, plants, prison, theater\n",
            " - *art:* art, books, dance, film, glaciers, innovation, maps, painting, toys\n",
            " - *biodiversity:* biodiversity, diversity\n",
            " - *biology:* astrobiology, biology, biotech, genetics, medicine, microbiology, neurology, neuroscience, prosthetics, surgery\n",
            " - *consciousness:* alzheimer's, consciousness, curiosity, depression, mental_health, self\n",
            " - *creativity:* atheism, consumerism, creativity, democracy, ethics, invention, meditation, motivation, pain, smell\n",
            " - *data:* botany, capitalism, data, flight, fungi, gender, law, primates, solar_system\n",
            " - *dna:* dna, spoken_word, water\n",
            " - *emotions:* compassion, emotions, empathy, fear, happiness, health, life, love, slavery\n",
            " - *energy:* electricity, energy, nuclear_energy, solar_energy, weather\n",
            " - *environment:* animation, ecology, environment, friendship, inclusion, potential\n",
            " - *family:* ai, buddhism, business, family, government, hinduism, judaism, military, nasa\n",
            " - *finance:* agriculture, farming, finance, gardening, investing, marketing\n",
            " - *food:* dark_matter, drugs, food, fossil_fuels, plastic, vaccines\n",
            " - *illness:* aids, blindness, cancer, disability, disease, ebola, illness\n",
            " - *india:* biosphere, brazil, china, cities, egypt, india, middle_east, united_states\n",
            " - *language:* body_language, code, comedy, demo, graphic_design, humor, language, literature, money, music, poetry, science_fiction, software\n",
            " - *media:* computers, coral_reefs, internet, journalism, media, museums, robots, telescopes, television, transportation\n",
            " - *nature:* beauty, corruption, equality, humanity, nature, productivity\n",
            " - *ocean:* brain, ocean, rivers\n",
            " - *parenting:* parenting, transgender\n",
            " - *personality:* fashion, future, history, identity, infrastructure, mindfulness, personality, sound, space, sustainability\n",
            " - *philanthropy:* health_care, philanthropy\n",
            " - *philosophy:* christianity, feminism, goals, illusion, magic, memory, philosophy, religion, sight, visualizations\n",
            " - *planets:* asteroid, human_body, mars, moon, planets, sun, universe\n",
            " - *policy:* activism, heart, human_rights, policy, quantum, string_theory\n",
            " - *pregnancy:* addiction, homelessness, pollution, poverty, pregnancy, ptsd, sleep, vulnerability\n",
            " - *resources:* natural_resources, politics, relationships, resources, trust\n",
            " - *science:* anthropology, archaeology, astronomy, bioethics, bionics, chemistry, cognitive_science, communications, economics, geology, grammar, math, nanotechnology, paleontology, physics, psychology, science, sociology, statistics, urban_planning\n",
            " - *society:* community, culture, islam, society\n",
            " - *success:* big_bang, conservation, death, pandemic, performance, race, success, time\n",
            " - *travel:* exploration, immigration, suicide, travel, violence\n",
            " - *work:* algorithm, bullying, collaboration, communication, conducting, countdown, crime, design, discovery, education, encryption, engineering, entertainment, exercise, forensics, gaming, hearing, interview, leadership, manufacturing, photography, protest, public_speaking, shopping, sports, surveillance, teaching, technology, terrorism, typography, virtual_reality, war, work, writing\n"
          ],
          "name": "stdout"
        }
      ]
    },
    {
      "cell_type": "code",
      "metadata": {
        "id": "tE1R6fzP9vaG",
        "colab": {
          "base_uri": "https://localhost:8080/"
        },
        "outputId": "dfe5c1cd-17f0-4e39-f4eb-6604d7911a67"
      },
      "source": [
        "propagate_affinity(\"euclidean\", similarity_wup, words_apc)"
      ],
      "execution_count": 308,
      "outputs": [
        {
          "output_type": "stream",
          "text": [
            " - *aids:* aids, alzheimer's, blindness, cancer, disability, disease, ebola, health, illness, ptsd\n",
            " - *bacteria:* aliens, animals, bacteria, bees, birds, dinosaurs, drones, entrepreneur, fish, insects, kids, microbes, refugees, trees, virus, women, youth\n",
            " - *cities:* biosphere, brazil, china, cities, egypt, india, middle_east, united_states\n",
            " - *code:* body_language, code, comedy, demo, graphic_design, humor, language, literature, music, poetry, science_fiction, software\n",
            " - *community:* ai, botany, buddhism, business, capitalism, community, culture, data, family, flight, fungi, gender, government, hinduism, islam, judaism, law, military, nasa, primates, society, solar_system\n",
            " - *electricity:* climate_change, electricity, energy, nuclear_energy, sex, solar_energy, weather\n",
            " - *europe:* africa, antarctica, asia, coral_reefs, europe, glaciers, south_america\n",
            " - *geology:* anthropology, archaeology, astrobiology, astronomy, bioethics, biology, bionics, biotech, chemistry, cognitive_science, communications, economics, genetics, geology, grammar, math, medicine, microbiology, nanotechnology, neurology, neuroscience, paleontology, physics, prosthetics, psychology, science, sociology, statistics, surgery, urban_planning\n",
            " - *hearing:* agriculture, big_bang, collaboration, communication, conducting, conservation, death, discovery, ethics, exploration, farming, film, finance, gardening, hearing, immigration, interview, investing, marketing, motivation, pandemic, performance, protest, public_speaking, race, shopping, success, suicide, terrorism, time, travel, violence, war\n",
            " - *heart:* activism, atheism, christianity, consumerism, creativity, democracy, feminism, goals, heart, human_rights, illusion, invention, magic, meditation, memory, pain, philosophy, policy, quantum, religion, sight, smell, string_theory, visualizations\n",
            " - *museums:* architecture, art, asteroid, books, computers, dance, human_body, innovation, internet, journalism, library, maps, mars, media, moon, museums, painting, planets, plants, prison, robots, sun, telescopes, television, theater, toys, transportation, universe\n",
            " - *plastic:* aging, brain, dark_matter, dna, drugs, evolution, food, fossil_fuels, ocean, plastic, rivers, vaccines, water\n",
            " - *pollution:* addiction, animation, compassion, consciousness, curiosity, depression, ecology, emotions, empathy, environment, fear, friendship, happiness, homelessness, inclusion, life, love, mental_health, pollution, potential, poverty, pregnancy, self, slavery, sleep, vulnerability\n",
            " - *productivity:* beauty, biodiversity, corruption, diversity, equality, fashion, future, history, humanity, identity, infrastructure, mindfulness, nature, personality, productivity, sound, space, sustainability\n",
            " - *transgender:* parenting, transgender\n",
            " - *trust:* health_care, money, natural_resources, philanthropy, politics, relationships, resources, spoken_word, trust\n",
            " - *typography:* algorithm, bullying, countdown, crime, design, education, encryption, engineering, entertainment, exercise, forensics, gaming, leadership, manufacturing, photography, sports, surveillance, teaching, technology, typography, virtual_reality, work, writing\n"
          ],
          "name": "stdout"
        }
      ]
    },
    {
      "cell_type": "code",
      "metadata": {
        "id": "FEU4kqtpFN-J",
        "colab": {
          "base_uri": "https://localhost:8080/"
        },
        "outputId": "8806ecb3-d86a-401b-e312-79f8e9fb1fe3"
      },
      "source": [
        "# Aplicando el modelo APC con la distancia Path Similarity\n",
        "propagate_affinity(\"precomputed\", similarity_path, words_path)"
      ],
      "execution_count": 309,
      "outputs": [
        {
          "output_type": "stream",
          "text": [
            " - *activism:* activism, future, mission_blue, moon, motivation, nature, physics, social_change\n",
            " - *agriculture:* agriculture, economics, library\n",
            " - *ancient_world:* ancient_world, illness, money\n",
            " - *animals:* addiction, animals, archaeology, drones, potential\n",
            " - *anthropocene:* anthropocene, identity, microbes, music, relationships\n",
            " - *anthropology:* anthropology, consciousness, graphic_design, indigenous_peoples, marine_biology, renewable_energy\n",
            " - *atheism:* atheism, cyber_security, happiness\n",
            " - *augmented_reality:* augmented_reality, culture\n",
            " - *bacteria:* art, bacteria, behavioral_economics, family, investing, machine_learning\n",
            " - *best_of_the_web:* alzheimer's, best_of_the_web, crime, energy\n",
            " - *big_bang:* big_bang, crispr\n",
            " - *code:* aliens, code, conducting, countdown, interview, personal_growth\n",
            " - *community:* asteroid, community, hearing, maps, planets\n",
            " - *crowdsourcing:* business, capitalism, climate_change, crowdsourcing, forensics, health_care, natural_disaster, neurology, philanthropy, refugees, sight, social_media\n",
            " - *cryptocurrency:* ai, blindness, cryptocurrency, dark_matter, glaciers\n",
            " - *democracy:* christianity, democracy, depression, electricity, fish, flight, immigration, photography\n",
            " - *dinosaurs:* demo, dinosaurs, magic, policy, sociology\n",
            " - *disability:* disability, public_space, public_speaking, science_fiction\n",
            " - *diversity:* data, diversity, goals\n",
            " - *drugs:* africa, brazil, comedy, drugs, fashion, personality\n",
            " - *education:* education, exercise\n",
            " - *empathy:* bioethics, empathy, media, nuclear_energy\n",
            " - *encryption:* aging, encryption, heart, industrial_design\n",
            " - *entertainment:* conservation, curiosity, dance, entertainment, environment, microbiology, shopping, society\n",
            " - *evolution:* compassion, discovery, evolution, primates, slavery\n",
            " - *food:* food, medical_research\n",
            " - *government:* bionics, books, deextinction, government, self\n",
            " - *human_rights:* biodiversity, buddhism, cancer, coronavirus, finance, genetics, human_rights, illusion, justice_system, leadership, middle_east, performance, poetry\n",
            " - *insects:* cities, health, history, insects, law, pandemic, quantum, race, rivers\n",
            " - *international_development:* international_development, love, nasa, psychology\n",
            " - *internet:* fear, global_issues, internet, philosophy, smell\n",
            " - *invention:* algorithm, astrobiology, disease, human_body, invention, ocean, rocket_science, sleep, software, sound\n",
            " - *islam:* bees, brain, islam\n",
            " - *language:* collaboration, corruption, driverless_cars, international_relations, language\n",
            " - *literature:* astronomy, communication, dna, gender, literature, nanotechnology\n",
            " - *manufacturing:* biomimicry, manufacturing, paleontology\n",
            " - *math:* math, resources\n",
            " - *medical_imaging:* egypt, equality, europe, fungi, geology, grammar, judaism, medical_imaging, pollution, poverty, public_health\n",
            " - *mental_health:* architecture, gaming, infrastructure, kids, mental_health, protest, sex\n",
            " - *military:* 3d_printing, fossil_fuels, military\n",
            " - *neuroscience:* gardening, neuroscience, product_design\n",
            " - *online_privacy:* mindfulness, online_privacy, pregnancy\n",
            " - *pain:* botany, emotions, inclusion, medicine, pain\n",
            " - *painting:* life, painting, science\n",
            " - *parenting:* animation, antarctica, asia, autism_spectrum_disorder, beauty, body_language, bullying, chemistry, death, farming, film, innovation, lgbtqia+, marketing, memory, natural_resources, parenting, plastic, prison, sexual_violence\n",
            " - *plants:* biology, biosphere, birds, blockchain, china, computers, consumerism, engineering, ethics, exploration, feminism, friendship, hinduism, homelessness, humanity, journalism, museums, plants, politics\n",
            " - *productivity:* audacious_project, cognitive_science, coral_reefs, mars, productivity, religion\n",
            " - *robots:* ecology, goal-setting, prosthetics, robots\n",
            " - *solar_energy:* aids, biotech, communications, creativity, decision-making, design, ebola, entrepreneur, humor, india, meditation, ptsd, solar_energy, solar_system\n"
          ],
          "name": "stdout"
        }
      ]
    },
    {
      "cell_type": "markdown",
      "metadata": {
        "id": "yDOaBgwr-iOV"
      },
      "source": [
        "###### Path similarity"
      ]
    },
    {
      "cell_type": "markdown",
      "metadata": {
        "id": "NXlNOIvAnPFi"
      },
      "source": [
        "##### Creando Json"
      ]
    },
    {
      "cell_type": "markdown",
      "metadata": {
        "id": "ofYWGg2RtyMa"
      },
      "source": [
        "Se crea un archivo JSON que contiene el resuldato de la reduccion de dimensionalidad aplicada, para ser utilizada en el modelado"
      ]
    },
    {
      "cell_type": "code",
      "metadata": {
        "id": "JM4Cs0i0tzxB"
      },
      "source": [
        "tags_json = {            \n",
        "              \"activism\": [\"activism\", \"policy\"],\n",
        "              \"aging\": [\"aging\", \"climate_change\", \"evolution\", \"sex\"],\n",
        "              \"ai\": [\"ai\", \"family\", \"nasa\"],\n",
        "              \"architecture\": [\"architecture\", \"library\", \"plants\", \"prison\", \"theater\"],\n",
        "              \"art\": [\"art\", \"dance\", \"innovation\", \"maps\", \"museums\", \"painting\", \"toys\", \"transportation\"],\n",
        "              \"bacteria\": [\"aliens\", \"bacteria\", \"entrepreneur\", \"kids\", \"microbes\", \"refugees\", \"trees\", \"virus\", \"women\", \"youth\"],\n",
        "              \"bees\": [\"bees\", \"drones\", \"insects\"],\n",
        "              \"biodiversity\": [\"biodiversity\", \"diversity\"],\n",
        "              \"biology\": [\"astrobiology\", \"biology\", \"biotech\", \"genetics\", \"microbiology\", \"neuroscience\"],\n",
        "              \"birds\": [\"animals\", \"birds\", \"dinosaurs\", \"fish\"],\n",
        "              \"china\": [\"brazil\", \"china\", \"egypt\", \"india\", \"united_states\"],\n",
        "              \"consciousness\": [\"alzheimer's\", \"consciousness\", \"curiosity\", \"depression\", \"mental_health\", \"self\"],\n",
        "              \"creativity\": [\"consumerism\", \"creativity\", \"democracy\", \"invention\", \"meditation\", \"pain\"],\n",
        "              \"disability\": [\"blindness\", \"disability\", \"ebola\"],\n",
        "              \"discovery\": [\"collaboration\", \"communication\", \"conducting\", \"discovery\", \"hearing\", \"interview\", \"protest\", \"public_speaking\", \"shopping\", \"violence\", \"war\"],\n",
        "              \"disease\": [\"aids\", \"cancer\", \"disease\", \"illness\"],\n",
        "              \"emotions\": [\"compassion\", \"emotions\", \"empathy\", \"fear\", \"happiness\", \"love\", \"slavery\"],\n",
        "              \"energy\": [\"electricity\", \"energy\", \"nuclear_energy\", \"solar_energy\", \"weather\"],\n",
        "              \"environment\": [\"ecology\", \"environment\", \"friendship\", \"inclusion\"],\n",
        "              \"europe\": [\"africa\", \"antarctica\", \"asia\", \"coral_reefs\", \"europe\", \"south_america\"],\n",
        "              \"film\": [\"books\", \"film\", \"performance\", \"race\"],\n",
        "              \"finance\": [\"agriculture\", \"finance\", \"investing\", \"marketing\"],\n",
        "              \"food\": [\"dark_matter\", \"drugs\", \"food\", \"fossil_fuels\", \"plastic\", \"vaccines\", \"water\"],\n",
        "              \"gaming\": [\"crime\", \"entertainment\", \"gaming\", \"sports\", \"virtual_reality\"],\n",
        "              \"gardening\": [\"farming\", \"gardening\"],\n",
        "              \"health_care\": [\"health_care\", \"philanthropy\"],\n",
        "              \"hinduism\": [\"buddhism\", \"hinduism\", \"judaism\"],\n",
        "              \"language\": [\"body_language\", \"code\", \"comedy\", \"demo\", \"graphic_design\", \"humor\", \"language\", \"literature\", \"music\", \"poetry\", \"science_fiction\", \"software\"],\n",
        "              \"law\": [\"botany\", \"capitalism\", \"data\", \"flight\", \"fungi\", \"gender\", \"law\", \"primates\", \"solar_system\"],\n",
        "              \"life\": [\"animation\", \"life\", \"potential\"],\n",
        "              \"media\": [\"computers\", \"glaciers\", \"internet\", \"journalism\", \"media\", \"robots\"],\n",
        "              \"medicine\": [\"medicine\", \"neurology\", \"prosthetics\", \"surgery\"],\n",
        "              \"memory\": [\"goals\", \"illusion\", \"memory\", \"sight\", \"visualizations\"],\n",
        "              \"middle_east\": [\"biosphere\", \"cities\", \"middle_east\"],\n",
        "              \"motivation\": [\"atheism\", \"ethics\", \"motivation\", \"smell\"],\n",
        "              \"natural_resources\": [\"natural_resources\", \"resources\"],\n",
        "              \"nature\": [\"beauty\", \"corruption\", \"equality\", \"humanity\", \"nature\", \"productivity\"],\n",
        "              \"ocean\": [\"brain\", \"ocean\", \"rivers\"],\n",
        "              \"parenting\": [\"parenting\", \"transgender\"],\n",
        "              \"personality\": [\"fashion\", \"future\", \"health\", \"history\", \"identity\", \"infrastructure\", \"mindfulness\", \"money\", \"personality\", \"sound\", \"space\", \"sustainability\"],\n",
        "              \"philosophy\": [\"christianity\", \"feminism\", \"heart\", \"magic\", \"philosophy\", \"religion\"],\n",
        "              \"planets\": [\"asteroid\", \"human_body\", \"mars\", \"moon\", \"planets\", \"sun\", \"universe\"],\n",
        "              \"pregnancy\": [\"addiction\", \"homelessness\", \"pollution\", \"poverty\", \"pregnancy\", \"ptsd\", \"sleep\", \"vulnerability\"],\n",
        "              \"quantum\": [\"human_rights\", \"quantum\", \"string_theory\"],\n",
        "              \"relationships\": [\"dna\", \"politics\", \"relationships\", \"spoken_word\", \"trust\"],\n",
        "              \"science\": [\"anthropology\", \"archaeology\", \"astronomy\", \"bioethics\", \"bionics\", \"chemistry\", \"cognitive_science\", \"communications\", \"economics\", \"geology\", \"grammar\", \"math\", \"nanotechnology\", \"paleontology\", \"physics\", \"psychology\", \"science\", \"sociology\", \"statistics\", \"urban_planning\"],\n",
        "              \"society\": [\"business\", \"community\", \"culture\", \"government\", \"islam\", \"military\", \"society\"],\n",
        "              \"success\": [\"big_bang\", \"conservation\", \"death\", \"pandemic\", \"success\", \"time\"],\n",
        "              \"travel\": [\"exploration\", \"immigration\", \"suicide\", \"travel\"],\n",
        "              \"work\": [\"algorithm\", \"bullying\", \"countdown\", \"design\", \"education\", \"encryption\", \"engineering\", \"exercise\", \"forensics\", \"leadership\", \"manufacturing\", \"photography\", \"surveillance\", \"typography\", \"work\", \"writing\"],\n",
        "            }\n",
        "\n",
        "tags_final = json.dumps(tags_json)\n",
        "jsonFile = open(\"tags_final.json\", \"w\")\n",
        "jsonFile.write(tags_final)\n",
        "jsonFile.close()\n"
      ],
      "execution_count": 310,
      "outputs": []
    },
    {
      "cell_type": "markdown",
      "metadata": {
        "id": "jf-zna4-AT2A"
      },
      "source": [
        "##### Carga de JSON"
      ]
    },
    {
      "cell_type": "code",
      "metadata": {
        "id": "3Vvyfa0Iwan3"
      },
      "source": [
        "fileObject = open(\"tags_final.json\", \"r\")\n",
        "jsonContent = fileObject.read()\n",
        "df_tags = json.loads(jsonContent)"
      ],
      "execution_count": 311,
      "outputs": []
    },
    {
      "cell_type": "code",
      "metadata": {
        "id": "5mh9cmwWGc9-"
      },
      "source": [
        "def reduce_tags(talk__tags):\n",
        "  return [key for key, values in df_tags.items() for value in values if value in talk__tags]\n",
        "\n",
        "tedx_df.talks__tags = tedx_df.apply(lambda x: reduce_tags(x.talks__tags), axis=1)"
      ],
      "execution_count": 312,
      "outputs": []
    },
    {
      "cell_type": "markdown",
      "metadata": {
        "id": "kNv2YNWG5ZCR"
      },
      "source": [
        "### 02.Modelado"
      ]
    },
    {
      "cell_type": "markdown",
      "metadata": {
        "id": "BQ6vZ-KA5ZCW"
      },
      "source": [
        "#### 02.00 - Train / Test Split"
      ]
    },
    {
      "cell_type": "code",
      "metadata": {
        "trusted": true,
        "id": "letZrnXm5ZCX",
        "colab": {
          "base_uri": "https://localhost:8080/"
        },
        "outputId": "757d76ee-3c21-4339-ee1f-add8c5f1014f"
      },
      "source": [
        "X_train, X_test, y_train, y_test = train_test_split(tedx_df.transcript, tedx_df.talks__tags, test_size=.10)\n",
        "X_train = X_train.values.astype('U')\n",
        "X_test = X_test.values.astype('U')\n",
        "del tedx_df\n",
        "gc.collect()"
      ],
      "execution_count": 313,
      "outputs": [
        {
          "output_type": "execute_result",
          "data": {
            "text/plain": [
              "26909"
            ]
          },
          "metadata": {
            "tags": []
          },
          "execution_count": 313
        }
      ]
    },
    {
      "cell_type": "code",
      "metadata": {
        "id": "EXLl_vM-5ZCY"
      },
      "source": [
        "tfidf_vectorizer = TfidfVectorizer(tokenizer=pre_procesamiento_texto)"
      ],
      "execution_count": 314,
      "outputs": []
    },
    {
      "cell_type": "markdown",
      "metadata": {
        "id": "8gIt3zGT5ZCZ"
      },
      "source": [
        "#### 02.01 - Stacking"
      ]
    },
    {
      "cell_type": "code",
      "metadata": {
        "id": "29JBP0B65ZCZ"
      },
      "source": [
        "mlb = MultiLabelBinarizer()\n",
        "\n",
        "estimators = [\n",
        "    ('rf', RandomForestClassifier()),\n",
        "    ('dt', DecisionTreeClassifier()),\n",
        "    ('ab', AdaBoostClassifier()),\n",
        "    ('nb', GaussianNB()),\n",
        "    ('gb', GradientBoostingClassifier())\n",
        "]\n",
        "\n",
        "# Con Stacking de 5 modelos + decision final con regresion logistica\n",
        "#model = OneVsRestClassifier(StackingClassifier(estimators=estimators, final_estimator=LogisticRegression()))\n",
        "\n",
        "# Con LinearSVC funciona muy bien y tarda menos que todo el stacking\n",
        "model = OneVsRestClassifier(LinearSVC())"
      ],
      "execution_count": 315,
      "outputs": []
    },
    {
      "cell_type": "code",
      "metadata": {
        "id": "Y-5_LNIW5ZCZ"
      },
      "source": [
        "class DenseTransformer():\n",
        "    \n",
        "    def fit(self, X, y=None, **fit_params):\n",
        "        return self\n",
        "\n",
        "    def transform(self, X, y=None, **fit_params):\n",
        "        return X.todense()"
      ],
      "execution_count": 316,
      "outputs": []
    },
    {
      "cell_type": "code",
      "metadata": {
        "id": "3FclL15w5ZCa"
      },
      "source": [
        "ml_pipeline = Pipeline(steps=[\n",
        "                              ('preprocessor', tfidf_vectorizer),\n",
        "                              ('to_dense', DenseTransformer()), \n",
        "                              ('classifier', model)\n",
        "])"
      ],
      "execution_count": 317,
      "outputs": []
    },
    {
      "cell_type": "code",
      "metadata": {
        "id": "bXLcV16G5ZCa",
        "colab": {
          "base_uri": "https://localhost:8080/"
        },
        "outputId": "4a6bc042-5d37-43a0-b396-0285d0b83f95"
      },
      "source": [
        "ml_pipeline.fit(X_train, mlb.fit_transform(y_train))"
      ],
      "execution_count": 318,
      "outputs": [
        {
          "output_type": "execute_result",
          "data": {
            "text/plain": [
              "Pipeline(memory=None,\n",
              "         steps=[('preprocessor',\n",
              "                 TfidfVectorizer(analyzer='word', binary=False,\n",
              "                                 decode_error='strict',\n",
              "                                 dtype=<class 'numpy.float64'>,\n",
              "                                 encoding='utf-8', input='content',\n",
              "                                 lowercase=True, max_df=1.0, max_features=None,\n",
              "                                 min_df=1, ngram_range=(1, 1), norm='l2',\n",
              "                                 preprocessor=None, smooth_idf=True,\n",
              "                                 stop_words=None, strip_accents=None,\n",
              "                                 sublinear_tf=False,\n",
              "                                 token_pa...\n",
              "                                 use_idf=True, vocabulary=None)),\n",
              "                ('to_dense',\n",
              "                 <__main__.DenseTransformer object at 0x7f7e354e9910>),\n",
              "                ('classifier',\n",
              "                 OneVsRestClassifier(estimator=LinearSVC(C=1.0,\n",
              "                                                         class_weight=None,\n",
              "                                                         dual=True,\n",
              "                                                         fit_intercept=True,\n",
              "                                                         intercept_scaling=1,\n",
              "                                                         loss='squared_hinge',\n",
              "                                                         max_iter=1000,\n",
              "                                                         multi_class='ovr',\n",
              "                                                         penalty='l2',\n",
              "                                                         random_state=None,\n",
              "                                                         tol=0.0001,\n",
              "                                                         verbose=0),\n",
              "                                     n_jobs=None))],\n",
              "         verbose=False)"
            ]
          },
          "metadata": {
            "tags": []
          },
          "execution_count": 318
        }
      ]
    },
    {
      "cell_type": "code",
      "metadata": {
        "id": "P8Bv0SHM5ZCb"
      },
      "source": [
        "# Predice X_test\n",
        "y_pred = [list(predicted_row) for predicted_row in mlb.inverse_transform(ml_pipeline.predict(X_test))]"
      ],
      "execution_count": 319,
      "outputs": []
    },
    {
      "cell_type": "code",
      "metadata": {
        "id": "v65EO0685ZCc"
      },
      "source": [
        "pp.pprint(y_pred)"
      ],
      "execution_count": null,
      "outputs": []
    },
    {
      "cell_type": "code",
      "metadata": {
        "colab": {
          "base_uri": "https://localhost:8080/"
        },
        "id": "JGKz_o275ZCc",
        "outputId": "50b6031a-5668-40b1-d8e4-1d9107667822"
      },
      "source": [
        "pp.pprint(y_test)"
      ],
      "execution_count": 322,
      "outputs": [
        {
          "output_type": "stream",
          "text": [
            "3759    [creativity, language, media, relationships, s...\n",
            "148     [ai, biology, biology, consciousness, memory, ...\n",
            "4801    [ai, environment, personality, personality, work]\n",
            "2070    [consciousness, memory, philosophy, science, s...\n",
            "1981    [finance, nature, relationships, science, soci...\n",
            "                              ...                        \n",
            "2733                                   [science, science]\n",
            "349                                [media, science, work]\n",
            "2128                   [life, personality, society, work]\n",
            "4054    [art, creativity, creativity, discovery, life,...\n",
            "884         [discovery, emotions, science, society, work]\n",
            "Name: talks__tags, Length: 452, dtype: object\n"
          ],
          "name": "stdout"
        }
      ]
    },
    {
      "cell_type": "markdown",
      "metadata": {
        "id": "dnt9co3sNJn6"
      },
      "source": [
        "### 03.Evaluación del modelo"
      ]
    },
    {
      "cell_type": "markdown",
      "metadata": {
        "id": "TQmuXA03EC2L"
      },
      "source": [
        "#### Puntaje de hamming\n",
        "\n",
        "Al utilizar multi-class multi-label, obtener el accuracy del modelo es una de las opciones que se tienen, pero el apunta a que la totalidad de los tags predichos se encuentre en los tags del set de test.\n",
        "\n",
        "Utilizando el puntaje de hamming buscamos la intersección entre los tags verdaderos (los del set de datos de test) y los tags que se predijeron."
      ]
    },
    {
      "cell_type": "code",
      "metadata": {
        "id": "Sqt-pZlDCbWQ"
      },
      "source": [
        "def hamming_score(y_true, y_pred, normalize=True, sample_weight=None):\n",
        "    acc_list = []\n",
        "    for i in range(y_true.shape[0]):\n",
        "        set_true = set( np.where(y_true[i])[0] )\n",
        "        set_pred = set( np.where(y_pred[i])[0] )\n",
        "        #print('\\nset_true: {0}'.format(set_true))\n",
        "        #print('set_pred: {0}'.format(set_pred))\n",
        "        tmp_a = None\n",
        "        if len(set_true) == 0 and len(set_pred) == 0:\n",
        "            tmp_a = 1\n",
        "        else:\n",
        "            tmp_a = len(set_true.intersection(set_pred))/\\\n",
        "                    float( len(set_true.union(set_pred)) )\n",
        "        #print('tmp_a: {0}'.format(tmp_a))\n",
        "        acc_list.append(tmp_a)\n",
        "    return np.mean(acc_list)"
      ],
      "execution_count": 323,
      "outputs": []
    },
    {
      "cell_type": "code",
      "metadata": {
        "colab": {
          "base_uri": "https://localhost:8080/"
        },
        "id": "y2O0Ed7aCryW",
        "outputId": "2cdcc893-0517-4bcd-dd03-8c6ee32011cc"
      },
      "source": [
        "print(f'{hamming_score(np.array(y_test), np.array(y_pred)) * 100}%')"
      ],
      "execution_count": 324,
      "outputs": [
        {
          "output_type": "stream",
          "text": [
            "50.387832697887426%\n"
          ],
          "name": "stdout"
        }
      ]
    },
    {
      "cell_type": "markdown",
      "metadata": {
        "id": "o1r7H96vFIqG"
      },
      "source": [
        "#### Accuracy\n",
        "\n",
        "Como se menciono previamente, con el accuracy vamos a buscar obtener la igualdad total entre lo predicho y lo verdadero. Marcando como predicción erronea si de 10 tags que tiene una charla unicamente uno se predijo de manera incorrecta."
      ]
    },
    {
      "cell_type": "code",
      "metadata": {
        "colab": {
          "base_uri": "https://localhost:8080/"
        },
        "id": "VDuB4UuRDOF2",
        "outputId": "57a47645-7dc2-4b5c-e977-4cf63bf443de"
      },
      "source": [
        "sparse_y_test = mlb.transform(y_test)\n",
        "sparse_y_pred = mlb.transform(y_pred)\n",
        "\n",
        "print(f'{accuracy_score(sparse_y_test, sparse_y_pred) * 100}%')"
      ],
      "execution_count": 325,
      "outputs": [
        {
          "output_type": "stream",
          "text": [
            "3.761061946902655%\n"
          ],
          "name": "stdout"
        }
      ]
    },
    {
      "cell_type": "markdown",
      "metadata": {
        "id": "wV5PW2yXNOoO"
      },
      "source": [
        "#### Recall\n",
        "\n",
        "Nos muestra la habilidad del modelo de taggear charlas de manera correcta.\n",
        "\n",
        "<p align=\"center\">\n",
        "<img src=\"https://pinatadata.com/wp-content/uploads/2019/10/recall.png\">\n",
        "</p>\n",
        "\n",
        "Primero procedemos a calcular el recall de manera global sin entrar en detalle en cada una de las etiquetas"
      ]
    },
    {
      "cell_type": "code",
      "metadata": {
        "colab": {
          "base_uri": "https://localhost:8080/"
        },
        "id": "TA7dJedBFj0U",
        "outputId": "f888ebdf-c735-4862-c7ee-48342c43fe2d"
      },
      "source": [
        "print(f'{recall_score(sparse_y_test, sparse_y_pred, average=\"micro\") * 100}%')"
      ],
      "execution_count": 326,
      "outputs": [
        {
          "output_type": "stream",
          "text": [
            "40.33391915641476%\n"
          ],
          "name": "stdout"
        }
      ]
    },
    {
      "cell_type": "markdown",
      "metadata": {
        "id": "gNsh4oIDNyKt"
      },
      "source": [
        "Calculamos el recall de cada una de las etiquetas teniendo en cuenta su peso dentro del dataset."
      ]
    },
    {
      "cell_type": "code",
      "metadata": {
        "colab": {
          "base_uri": "https://localhost:8080/"
        },
        "id": "2Lbm49n5MDZo",
        "outputId": "7864ca9d-5403-454c-e3e6-e31f7b3dc09a"
      },
      "source": [
        "print(f'{recall_score(sparse_y_test, sparse_y_pred, average=\"weighted\") * 100}%')"
      ],
      "execution_count": 327,
      "outputs": [
        {
          "output_type": "stream",
          "text": [
            "40.33391915641476%\n"
          ],
          "name": "stdout"
        }
      ]
    },
    {
      "cell_type": "markdown",
      "metadata": {
        "id": "UodehxU8N_FO"
      },
      "source": [
        "#### Precision\n",
        "\n",
        "Nos indica la habilidad del modelo para no taggear charlas de manera incorrecta.\n",
        "\n",
        "<p align=\"center\">\n",
        "<img src=\"https://pinatadata.com/wp-content/uploads/2019/10/precision.png\" />\n",
        "</p>\n",
        "\n",
        "Se utilizo los mismos enfoques que para calcular el recall"
      ]
    },
    {
      "cell_type": "code",
      "metadata": {
        "colab": {
          "base_uri": "https://localhost:8080/"
        },
        "id": "owkxY_bwOEon",
        "outputId": "330b511e-6606-40ad-f57c-ff7d4b194d74"
      },
      "source": [
        "print(f'{precision_score(sparse_y_test, sparse_y_pred, average=\"micro\") * 100}%')"
      ],
      "execution_count": 328,
      "outputs": [
        {
          "output_type": "stream",
          "text": [
            "68.81559220389805%\n"
          ],
          "name": "stdout"
        }
      ]
    },
    {
      "cell_type": "code",
      "metadata": {
        "colab": {
          "base_uri": "https://localhost:8080/"
        },
        "id": "82mWsTQmOKSl",
        "outputId": "f23d721a-8d65-4386-e784-75ed5e3d3273"
      },
      "source": [
        "print(f'{precision_score(sparse_y_test, sparse_y_pred, average=\"weighted\") * 100}%')"
      ],
      "execution_count": 329,
      "outputs": [
        {
          "output_type": "stream",
          "text": [
            "67.76613007782878%\n"
          ],
          "name": "stdout"
        }
      ]
    },
    {
      "cell_type": "markdown",
      "metadata": {
        "id": "brDJQ85vT8UM"
      },
      "source": [
        "#### CURVA ROC Multilabel"
      ]
    },
    {
      "cell_type": "code",
      "metadata": {
        "id": "FdcR4g8zT7gH"
      },
      "source": [
        "#Tags Fit\n",
        "y_score = ml_pipeline.fit(X_train, mlb.fit_transform(y_train)).decision_function(X_test)\n",
        "\n",
        "y_test_fit = mlb.fit_transform(y_test)"
      ],
      "execution_count": 355,
      "outputs": []
    },
    {
      "cell_type": "code",
      "metadata": {
        "id": "_JoMSO_zZ3Zt"
      },
      "source": [
        "#Complementos\n",
        "from sklearn.metrics import roc_curve, auc\n",
        "from scipy import interp\n",
        "from itertools import cycle\n",
        "\n",
        "#Definiciones\n",
        "n_classes = len(y_test_fit[0])\n",
        "fpr = dict()\n",
        "tpr = dict()\n",
        "roc_auc = dict()"
      ],
      "execution_count": 452,
      "outputs": []
    },
    {
      "cell_type": "code",
      "metadata": {
        "id": "XiCM6TBrT7zA"
      },
      "source": [
        "#Curva ROC\n",
        "for i in range(n_classes):\n",
        "    fpr[i], tpr[i], _ = roc_curve(y_test_fit[:, i], y_score[:, i])\n",
        "    roc_auc[i] = auc(fpr[i], tpr[i])\n",
        "\n",
        "# Compute micro-average ROC curve and ROC area\n",
        "fpr[\"micro\"], tpr[\"micro\"], _ = roc_curve(y_test_fit.ravel(), y_score.ravel())\n",
        "roc_auc[\"micro\"] = auc(fpr[\"micro\"], tpr[\"micro\"])"
      ],
      "execution_count": 453,
      "outputs": []
    },
    {
      "cell_type": "code",
      "metadata": {
        "colab": {
          "base_uri": "https://localhost:8080/",
          "height": 355
        },
        "id": "Ss7hChfijfM7",
        "outputId": "191d183c-c4dc-4fe0-e045-11d6756ba723"
      },
      "source": [
        "#Ploteo Clase n\n",
        "\n",
        "ClasePlot = 5\n",
        "\n",
        "plt.figure(figsize=(20,5))\n",
        "lw = 2\n",
        "plt.plot(fpr[ClasePlot], tpr[ClasePlot], color='darkorange',\n",
        "         lw=lw, label='ROC curve (area = %0.2f)' % roc_auc[ClasePlot])\n",
        "plt.plot([0, 1], [0, 1], color='navy', lw=lw, linestyle='--')\n",
        "plt.xlim([0.0, 1.0])\n",
        "plt.ylim([0.0, 1.05])\n",
        "plt.xlabel('False Positive Rate')\n",
        "plt.ylabel('True Positive Rate')\n",
        "plt.title((f'Curva ROC de clase {lw}'))\n",
        "plt.legend(loc=\"lower right\")\n",
        "plt.show()"
      ],
      "execution_count": 454,
      "outputs": [
        {
          "output_type": "display_data",
          "data": {
            "image/png": "[encoded data removed]",
            "text/plain": [
              "<Figure size 1440x360 with 1 Axes>"
            ]
          },
          "metadata": {
            "tags": []
          }
        }
      ]
    },
    {
      "cell_type": "code",
      "metadata": {
        "colab": {
          "base_uri": "https://localhost:8080/",
          "height": 1000
        },
        "id": "Bx_WSz1FcT9H",
        "outputId": "01ddac76-35be-46b7-b6e8-21a98f595e44"
      },
      "source": [
        "#Ploteo Global\n",
        "\n",
        "# First aggregate all false positive rates\n",
        "all_fpr = np.unique(np.concatenate([fpr[i] for i in range(n_classes)]))\n",
        "\n",
        "# Then interpolate all ROC curves at this points\n",
        "mean_tpr = np.zeros_like(all_fpr)\n",
        "for i in range(n_classes):\n",
        "    mean_tpr += interp(all_fpr, fpr[i], tpr[i])\n",
        "\n",
        "# Finally average it and compute AUC\n",
        "mean_tpr /= n_classes\n",
        "\n",
        "fpr[\"macro\"] = all_fpr\n",
        "tpr[\"macro\"] = mean_tpr\n",
        "roc_auc[\"macro\"] = auc(fpr[\"macro\"], tpr[\"macro\"])\n",
        "\n",
        "# Plot all ROC curves\n",
        "plt.figure(figsize=(20,20))\n",
        "plt.plot(fpr[\"micro\"], tpr[\"micro\"],\n",
        "         label='micro-average ROC curve (area = {0:0.2f})'\n",
        "               ''.format(roc_auc[\"micro\"]),\n",
        "         color='deeppink', linestyle=':', linewidth=4)\n",
        "\n",
        "plt.plot(fpr[\"macro\"], tpr[\"macro\"],\n",
        "         label='macro-average ROC curve (area = {0:0.2f})'\n",
        "               ''.format(roc_auc[\"macro\"]),\n",
        "         color='navy', linestyle=':', linewidth=4)\n",
        "\n",
        "colors = cycle(['aqua', 'darkorange', 'cornflowerblue'])\n",
        "for i, color in zip(range(n_classes), colors):\n",
        "    plt.plot(fpr[i], tpr[i], color=color, lw=lw,\n",
        "             label='ROC curve of class {0} (area = {1:0.2f})'\n",
        "             ''.format(i, roc_auc[i]))\n",
        "\n",
        "plt.plot([0, 1], [0, 1], 'k--', lw=lw)\n",
        "plt.xlim([0.0, 1.0])\n",
        "plt.ylim([0.0, 1.05])\n",
        "plt.xlabel('False Positive Rate')\n",
        "plt.ylabel('True Positive Rate')\n",
        "plt.title('Multi-class ROC')\n",
        "plt.legend(loc=\"lower right\")\n",
        "plt.show()"
      ],
      "execution_count": 455,
      "outputs": [
        {
          "output_type": "display_data",
          "data": {
            "image/png": "[encoded data removed]",
            "text/plain": [
              "<Figure size 1440x1440 with 1 Axes>"
            ]
          },
          "metadata": {
            "tags": []
          }
        }
      ]
    }
  ]
}