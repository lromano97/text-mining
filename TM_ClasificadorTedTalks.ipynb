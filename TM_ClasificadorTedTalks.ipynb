{
  "nbformat": 4,
  "nbformat_minor": 0,
  "metadata": {
    "kernelspec": {
      "language": "python",
      "display_name": "Python 3",
      "name": "python3"
    },
    "language_info": {
      "name": "python",
      "version": "3.7.10",
      "mimetype": "text/x-python",
      "codemirror_mode": {
        "name": "ipython",
        "version": 3
      },
      "pygments_lexer": "ipython3",
      "nbconvert_exporter": "python",
      "file_extension": ".py"
    },
    "colab": {
      "name": "TM-01.Preprocesamiento.ipynb",
      "provenance": [],
      "toc_visible": true
    }
  },
  "cells": [
    {
      "cell_type": "markdown",
      "metadata": {
        "_uuid": "8f2839f25d086af736a60e9eeb907d3b93b6e0e5",
        "_cell_guid": "b1076dfc-b9ad-4769-8c92-a6c4dae69d19",
        "id": "H6cHjEUXSRXV"
      },
      "source": [
        "## Text Mining\n",
        "## Proyecto: Clasificador de TED Talks\n",
        "\n",
        "### 01.Preprocessing Stage"
      ]
    },
    {
      "cell_type": "markdown",
      "metadata": {
        "id": "mIAoBXYXSRXY"
      },
      "source": [
        "#### 01.00 - Preparación del Entorno"
      ]
    },
    {
      "cell_type": "code",
      "metadata": {
        "colab": {
          "base_uri": "https://localhost:8080/"
        },
        "id": "3I1GCfAwSwhE",
        "outputId": "43db46d8-6590-4d3a-b447-b1d6d6a08278"
      },
      "source": [
        "#Instalación de Librerias\n",
        "!pip install unidecode"
      ],
      "execution_count": 3,
      "outputs": [
        {
          "output_type": "stream",
          "text": [
            "Collecting unidecode\n",
            "\u001b[?25l  Downloading https://files.pythonhosted.org/packages/9e/25/723487ca2a52ebcee88a34d7d1f5a4b80b793f179ee0f62d5371938dfa01/Unidecode-1.2.0-py2.py3-none-any.whl (241kB)\n",
            "\r\u001b[K     |█▍                              | 10kB 20.0MB/s eta 0:00:01\r\u001b[K     |██▊                             | 20kB 27.4MB/s eta 0:00:01\r\u001b[K     |████                            | 30kB 33.6MB/s eta 0:00:01\r\u001b[K     |█████▍                          | 40kB 25.0MB/s eta 0:00:01\r\u001b[K     |██████▉                         | 51kB 14.0MB/s eta 0:00:01\r\u001b[K     |████████▏                       | 61kB 13.1MB/s eta 0:00:01\r\u001b[K     |█████████▌                      | 71kB 11.4MB/s eta 0:00:01\r\u001b[K     |██████████▉                     | 81kB 12.5MB/s eta 0:00:01\r\u001b[K     |████████████▏                   | 92kB 13.7MB/s eta 0:00:01\r\u001b[K     |█████████████▋                  | 102kB 15.0MB/s eta 0:00:01\r\u001b[K     |███████████████                 | 112kB 15.0MB/s eta 0:00:01\r\u001b[K     |████████████████▎               | 122kB 15.0MB/s eta 0:00:01\r\u001b[K     |█████████████████▋              | 133kB 15.0MB/s eta 0:00:01\r\u001b[K     |███████████████████             | 143kB 15.0MB/s eta 0:00:01\r\u001b[K     |████████████████████▍           | 153kB 15.0MB/s eta 0:00:01\r\u001b[K     |█████████████████████▊          | 163kB 15.0MB/s eta 0:00:01\r\u001b[K     |███████████████████████         | 174kB 15.0MB/s eta 0:00:01\r\u001b[K     |████████████████████████▍       | 184kB 15.0MB/s eta 0:00:01\r\u001b[K     |█████████████████████████▊      | 194kB 15.0MB/s eta 0:00:01\r\u001b[K     |███████████████████████████▏    | 204kB 15.0MB/s eta 0:00:01\r\u001b[K     |████████████████████████████▌   | 215kB 15.0MB/s eta 0:00:01\r\u001b[K     |█████████████████████████████▉  | 225kB 15.0MB/s eta 0:00:01\r\u001b[K     |███████████████████████████████▏| 235kB 15.0MB/s eta 0:00:01\r\u001b[K     |████████████████████████████████| 245kB 15.0MB/s \n",
            "\u001b[?25hInstalling collected packages: unidecode\n",
            "Successfully installed unidecode-1.2.0\n"
          ],
          "name": "stdout"
        }
      ]
    },
    {
      "cell_type": "code",
      "metadata": {
        "execution": {
          "iopub.status.busy": "2021-05-25T16:07:24.345450Z",
          "iopub.execute_input": "2021-05-25T16:07:24.345836Z",
          "iopub.status.idle": "2021-05-25T16:07:24.373953Z",
          "shell.execute_reply.started": "2021-05-25T16:07:24.345805Z",
          "shell.execute_reply": "2021-05-25T16:07:24.372326Z"
        },
        "trusted": true,
        "id": "GDg1gjyOSRXZ"
      },
      "source": [
        "#Importamos Librerias:\n",
        "#Generales:\n",
        "import pandas as pd\n",
        "import numpy as np\n",
        "import gc\n",
        "import nltk\n",
        "import spacy\n",
        "import matplotlib.pyplot as plt\n",
        "import seaborn as sns\n",
        "\n",
        "#Particulares\n",
        "import re #para eliminar url, números y signos de puntuación\n",
        "import unidecode\n",
        "from nltk.tokenize import word_tokenize\n",
        "from nltk.tokenize import sent_tokenize\n",
        "from nltk.corpus import stopwords\n",
        "from nltk.stem import WordNetLemmatizer\n",
        "import ast\n",
        "from sklearn.feature_extraction.text import TfidfVectorizer\n",
        "from sklearn.metrics.pairwise import cosine_similarity\n",
        "\n",
        "#Web Scrapping\n",
        "import time, requests, bs4, json, random\n",
        "from multiprocessing import Manager, Process\n",
        "from bs4 import BeautifulSoup\n",
        "from datetime import datetime\n",
        "\n",
        "#Modelo\n",
        "from sklearn.linear_model import LogisticRegression\n",
        "from sklearn.svm import LinearSVC\n",
        "from sklearn.naive_bayes import GaussianNB\n",
        "from sklearn.tree import DecisionTreeClassifier\n",
        "from sklearn.ensemble import StackingClassifier, RandomForestClassifier, AdaBoostClassifier\n",
        "\n",
        "#No Warnings\n",
        "import warnings\n",
        "warnings.filterwarnings('ignore')"
      ],
      "execution_count": 130,
      "outputs": []
    },
    {
      "cell_type": "code",
      "metadata": {
        "colab": {
          "base_uri": "https://localhost:8080/"
        },
        "id": "4HQRAj0doEC0",
        "outputId": "0bb6eedd-9ff4-451e-b6b3-113f71c57a4e"
      },
      "source": [
        "#Instalamos componentes de nltk en Colab\n",
        "nltk.download('punkt')\n",
        "nltk.download('stopwords')\n",
        "nltk.download('wordnet')"
      ],
      "execution_count": 113,
      "outputs": [
        {
          "output_type": "stream",
          "text": [
            "[nltk_data] Downloading package punkt to /root/nltk_data...\n",
            "[nltk_data]   Package punkt is already up-to-date!\n",
            "[nltk_data] Downloading package stopwords to /root/nltk_data...\n",
            "[nltk_data]   Package stopwords is already up-to-date!\n",
            "[nltk_data] Downloading package wordnet to /root/nltk_data...\n",
            "[nltk_data]   Unzipping corpora/wordnet.zip.\n"
          ],
          "name": "stdout"
        },
        {
          "output_type": "execute_result",
          "data": {
            "text/plain": [
              "True"
            ]
          },
          "metadata": {
            "tags": []
          },
          "execution_count": 113
        }
      ]
    },
    {
      "cell_type": "markdown",
      "metadata": {
        "id": "sPuqTVGyT7vr"
      },
      "source": [
        "#### 01.01 - Carga de Datos - Web Scrapping\n",
        "\n",
        "Metadata y Transcripciones"
      ]
    },
    {
      "cell_type": "code",
      "metadata": {
        "id": "Tyb_daNsSRXb"
      },
      "source": [
        "time__  =  time.time()\n",
        "\n",
        "def get_page_text(page_number):\n",
        "  res  =  requests.get(\"https://www.ted.com/talks?sort=popular&page=\" + str(page_number), \n",
        "                         headers = {'User-agent': 'your bot 0.1'})\n",
        "\n",
        "  soup = bs4.BeautifulSoup(res.text)\n",
        "  e = soup.select(\"div.container.results div.col\")\n",
        "  \n",
        "  return e\n",
        "\n",
        "def get_urls(page_list):\n",
        "  page_urls = []\n",
        "  for url in page_list:\n",
        "    page_urls.append(\"https://www.ted.com\" + url.select(\"div.media__image a.ga-link\")[0].get(\"href\"))\n",
        "  \n",
        "  return page_urls"
      ],
      "execution_count": 75,
      "outputs": []
    },
    {
      "cell_type": "code",
      "metadata": {
        "id": "C8KpPvrqSRXb"
      },
      "source": [
        "urls = []\n",
        "page_number=1\n",
        "\n",
        "while 1:\n",
        "    page_list_urls = get_page_text(page_number)\n",
        "    \n",
        "    if len(page_list_urls) == 0:    \n",
        "      break\n",
        "    \n",
        "    page_number += 1\n",
        "    urls += get_urls(page_list_urls)\n",
        "\n",
        "# Saving.\n",
        "f = open('TED_Talk_URLs.txt', 'w')\n",
        "f.write('\\n'.join(urls))\n",
        "f.close()"
      ],
      "execution_count": 76,
      "outputs": []
    },
    {
      "cell_type": "code",
      "metadata": {
        "colab": {
          "base_uri": "https://localhost:8080/"
        },
        "id": "ziA2oA73SRXc",
        "outputId": "526ae7d8-f25e-4276-f993-4f3a5f0b0745"
      },
      "source": [
        "def download(urls, id_, csv_list):\n",
        "                for count, url in enumerate(urls):\n",
        "\n",
        "                        def get_transcript(url):\n",
        "                                transcript = \"\"\n",
        "                                transcript_res = requests.get(url, headers = {'User-agent': 'your bot 0.1'})\n",
        "                                \n",
        "                                soup = BeautifulSoup(transcript_res.text)\n",
        "                                e = soup.select('div.Grid.Grid--with-gutter.p-b:4')\n",
        "\n",
        "                                for  e_  in e:\n",
        "                                    classes = e_.get('class')\n",
        "                                    text = e_.select('p')[0].text\n",
        "                                    transcript += text.strip().replace('\\t', '').replace('\\n', ' ')\n",
        "                                \n",
        "                                if (transcript_res.status_code!=200) or (transcript_res.text=='') or (transcript==''):\n",
        "                                    count_=0\n",
        "                                    while  count_ < 3:    # Check 3 more times\n",
        "                                        time.sleep(random.randint(0,900)/1000)     # Randomly wait for 0-0.9 seconds.\n",
        "                                        transcript_res = requests.get(url, headers = {'User-agent': 'your bot 0.1'})\n",
        "\n",
        "                                        soup = BeautifulSoup(transcript_res.text)\n",
        "                                        e = soup.select('div.Grid.Grid--with-gutter.p-b:4')\n",
        "\n",
        "                                        for  e_  in e:\n",
        "                                            classes = e_.get('class')\n",
        "                                            text = e_.select('p')[0].text\n",
        "                                            transcript += text.strip().replace('\\t', '').replace('\\n', ' ')\n",
        "\n",
        "                                        count_ += 1\n",
        "                                        if (transcript_res.status_code==200) and (transcript_res.text!='') and (transcript!=''):    break\n",
        "\n",
        "                                return transcript\n",
        "\n",
        "\n",
        "\n",
        "                        def get__json_obj(url):\n",
        "                            res = requests.get(url.strip(), headers = {'User-agent': 'your bot 0.1'})\n",
        "                            html = res.text\n",
        "\n",
        "                            start_index  =  html.find('<script data-spec=\"q\">q(\"talkPage.init\",')\n",
        "                            end_index    =  html[start_index:].find(')</script>')\n",
        "                            script_tag   =  html[start_index: start_index + end_index]\n",
        "                            json_obj  =  script_tag[len('<script data-spec=\"q\">q(\"talkPage.init\",'):]\n",
        "                            return json_obj\n",
        "\n",
        "                        json_obj  =  get__json_obj(url)\n",
        "\n",
        "                        if not json_obj:\n",
        "                            count=0\n",
        "                            while  count < 3:    # Check 3 more times\n",
        "                                json_obj  =  get__json_obj(url)\n",
        "                                count += 1\n",
        "                                if json_obj:    break\n",
        "\n",
        "                        if not json_obj:    print(url);continue;\n",
        "                        else:               metadata = json.loads(json_obj)[\"__INITIAL_DATA__\"]\n",
        "\n",
        "\n",
        "\n",
        "                        def get_value(l, m=metadata):\n",
        "                            for i in l:\n",
        "                                try:    m = m[i]\n",
        "                                except: return ''\n",
        "                            return m\n",
        "\n",
        "\n",
        "\n",
        "\n",
        "\n",
        "                        def html_to_text(html):\n",
        "                            if str(html)!='nan':\n",
        "                                soup = BeautifulSoup(html)\n",
        "                                return soup.get_text()\n",
        "                            else: return html\n",
        "\n",
        "\n",
        "                        d = dict()\n",
        "\n",
        "                        # Acerca de la Charla\n",
        "                        d[\"talk__id\"]  =  get_value([\"current_talk\"], metadata)\n",
        "                        d[\"talk__name\"]  =  get_value([\"talks\", 0, \"title\"], metadata)\n",
        "                        d[\"talk__description\"]  =  get_value([\"description\"], metadata)\n",
        "                        d[\"view_count\"]  =  get_value([\"viewed_count\"], metadata)\n",
        "                        d[\"duration\"]  =  get_value([\"talks\", 0, \"duration\"], metadata)    # In seconds.\n",
        "\n",
        "                        language  =  get_value([\"language\"], metadata)\n",
        "                        url__transcript  =  url + \"/transcript?language=\" + language\n",
        "                        d[\"transcript\"]  =  get_transcript(url__transcript)\n",
        "\n",
        "                        d[\"video_type_name\"]  =  get_value([\"talks\", 0, \"video_type\", \"name\"], metadata)    # One of:  TED Stage Talk, TEDx Talk, TED-Ed Original, TED Institute Talk, Best of Web, Original Content, TED Salon Talk (partner), Custom sponsored content\n",
        "                        d[\"event\"]  =  get_value([\"event\"], metadata)\n",
        "                    \n",
        "\n",
        "                        # Acerca del conferencista\n",
        "                        d[\"speaker__id\"]  =  get_value([\"speakers\", 0, \"id\"], metadata)                        \n",
        "                        d[\"speaker__name\"]  =  get_value([\"talks\", 0, \"speaker_name\"], metadata)\n",
        "                        d[\"speaker__description\"]  =  get_value([\"speakers\", 0, \"description\"], metadata)\n",
        "                        d[\"speaker__who_he_is\"]  =  get_value([\"speakers\", 0, \"whotheyare\"], metadata)\n",
        "                        d[\"speaker__why_listen\"]  =  html_to_text(get_value([\"speakers\", 0, \"whylisten\"], metadata))\n",
        "                        d[\"all_speakers_details\"]  =  get_value([\"speakers\"], metadata)\n",
        "                        \n",
        "\n",
        "                        # Recorded and Published time.\n",
        "                        temp  =  get_value([\"talks\", 0, \"recorded_at\"], metadata)\n",
        "                        d[\"recording_date\"]  =  temp  if temp==None  else temp[:10]\n",
        "                        \n",
        "                        t  =  get_value([\"talks\", 0, \"player_talks\", 0, \"published\"], metadata)\n",
        "                        d[\"published_timestamp\"]  =  datetime.utcfromtimestamp(int(t)).strftime('%Y-%m-%d %H:%M:%S')\n",
        "                        \n",
        "\n",
        "                        # Tags\n",
        "                        d[\"talks__tags\"]  =  get_value([\"talks\", 0, \"tags\"], metadata)\n",
        "                        d[\"number_of__tags\"]  =  len(get_value([\"talks\", 0, \"tags\"], metadata) or \"\")\n",
        "                        \n",
        "\n",
        "                        d[\"language\"]  =  language\n",
        "                        d[\"native_language\"]  =  get_value([\"talks\", 0, \"player_talks\", 0, \"nativeLanguage\"], metadata)\n",
        "\n",
        "                        \n",
        "                        # URLs.\n",
        "                        d[\"url__webpage\"]  =  get_value([\"url\"], metadata)\n",
        "                        \n",
        "\n",
        "                        # More resources.\n",
        "                        d[\"talk__more_resources\"]  =  get_value([\"talks\", 0, \"more_resources\"], metadata)\n",
        "                        d[\"number_of__talk__more_resources\"]  =  len(get_value([\"talks\", 0, \"more_resources\"], metadata) or \"\")\n",
        "\n",
        "\n",
        "                        # Recommendations.\n",
        "                        d[\"talk__recommendations__blurb\"]  =  get_value([\"talks\", 0, \"recommendations\", \"blurb\"], metadata)\n",
        "                        \n",
        "                        d[\"talk__recommendations\"]  =  get_value([\"talks\", 0, \"recommendations\", \"rec_lists\"], metadata)\n",
        "                        d[\"number_of__talk__recommendations\"]  =  len(get_value([\"talks\", 0, \"recommendations\", \"rec_lists\"], metadata) or \"\")\n",
        "\n",
        "\n",
        "                        # Related Talks.\n",
        "                        d[\"related_talks\"]  =  get_value([\"talks\", 0, \"related_talks\"], metadata)\n",
        "                        d[\"number_of__related_talks\"]  =  len(get_value([\"talks\", 0, \"related_talks\"], metadata) or \"\")\n",
        "\n",
        "\n",
        "                        csv_list.append(d)\n",
        "\n",
        "csv_list_ = []\n",
        "with  Manager()  as manager:\n",
        "    csv_list = manager.list()    # SPECIAL variable - can be used only locally\n",
        "    Processess = []\n",
        "    \n",
        "    concurreny_count  =  100\n",
        "    urls_  =  [urls[(i* (len(urls)//concurreny_count)):((i+1)* (len(urls)//concurreny_count))]    for i in range(concurreny_count)]\n",
        "    \n",
        "    leftovers  =  urls[(concurreny_count * (len(urls)//concurreny_count))  :  len(urls)]\n",
        "    for i in range(len(leftovers)):    urls_[i] += [leftovers[i]]\n",
        "    \n",
        "    for  (id_,urls__)  in enumerate(urls_):\n",
        "        p = Process(target=download, args=(urls__,id_,csv_list))\n",
        "        Processess.append(p)\n",
        "        p.start()\n",
        "        \n",
        "    # block until all the threads finish (i.e. block until all **download** function calls finish)\n",
        "    for t in Processess:    t.join()\n",
        "    \n",
        "    csv_list_ = list(csv_list)\n",
        "\n",
        "# Creating DataFrame.\n",
        "df  =  pd.DataFrame(csv_list_)\n",
        "\n",
        "# Sort - most popular first.\n",
        "df = df.sort_values(\"view_count\", ascending=False)\n",
        "\n",
        "# Saving.\n",
        "df.to_excel('TED_Talk.xlsx', encoding='utf-8', index=False)\n",
        "df.to_csv('TED_Talk.csv', index=False, encoding='utf-8')\n",
        "\n",
        "print(round(time.time()  -  time__))"
      ],
      "execution_count": 77,
      "outputs": [
        {
          "output_type": "stream",
          "text": [
            "320\n"
          ],
          "name": "stdout"
        }
      ]
    },
    {
      "cell_type": "code",
      "metadata": {
        "execution": {
          "iopub.status.busy": "2021-05-22T15:31:30.401527Z",
          "iopub.execute_input": "2021-05-22T15:31:30.402251Z",
          "iopub.status.idle": "2021-05-22T15:31:30.836415Z",
          "shell.execute_reply.started": "2021-05-22T15:31:30.402208Z",
          "shell.execute_reply": "2021-05-22T15:31:30.835384Z"
        },
        "trusted": true,
        "colab": {
          "base_uri": "https://localhost:8080/",
          "height": 564
        },
        "id": "zsqxNAt9SRXh",
        "outputId": "d509d995-64f8-4c93-ffa6-7c4b71b27f53"
      },
      "source": [
        "#Cargamos Datos\n",
        "tedx_df  = pd.read_csv('/content/TED_Talk.csv')\n",
        "\n",
        "tedx_df.head()"
      ],
      "execution_count": 78,
      "outputs": [
        {
          "output_type": "execute_result",
          "data": {
            "text/html": [
              "<div>\n",
              "<style scoped>\n",
              "    .dataframe tbody tr th:only-of-type {\n",
              "        vertical-align: middle;\n",
              "    }\n",
              "\n",
              "    .dataframe tbody tr th {\n",
              "        vertical-align: top;\n",
              "    }\n",
              "\n",
              "    .dataframe thead th {\n",
              "        text-align: right;\n",
              "    }\n",
              "</style>\n",
              "<table border=\"1\" class=\"dataframe\">\n",
              "  <thead>\n",
              "    <tr style=\"text-align: right;\">\n",
              "      <th></th>\n",
              "      <th>talk__id</th>\n",
              "      <th>talk__name</th>\n",
              "      <th>talk__description</th>\n",
              "      <th>view_count</th>\n",
              "      <th>duration</th>\n",
              "      <th>transcript</th>\n",
              "      <th>video_type_name</th>\n",
              "      <th>event</th>\n",
              "      <th>speaker__id</th>\n",
              "      <th>speaker__name</th>\n",
              "      <th>speaker__description</th>\n",
              "      <th>speaker__who_he_is</th>\n",
              "      <th>speaker__why_listen</th>\n",
              "      <th>all_speakers_details</th>\n",
              "      <th>recording_date</th>\n",
              "      <th>published_timestamp</th>\n",
              "      <th>talks__tags</th>\n",
              "      <th>number_of__tags</th>\n",
              "      <th>language</th>\n",
              "      <th>native_language</th>\n",
              "      <th>url__webpage</th>\n",
              "      <th>talk__more_resources</th>\n",
              "      <th>number_of__talk__more_resources</th>\n",
              "      <th>talk__recommendations__blurb</th>\n",
              "      <th>talk__recommendations</th>\n",
              "      <th>number_of__talk__recommendations</th>\n",
              "      <th>related_talks</th>\n",
              "      <th>number_of__related_talks</th>\n",
              "    </tr>\n",
              "  </thead>\n",
              "  <tbody>\n",
              "    <tr>\n",
              "      <th>0</th>\n",
              "      <td>66</td>\n",
              "      <td>Do schools kill creativity?</td>\n",
              "      <td>Sir Ken Robinson makes an entertaining and pro...</td>\n",
              "      <td>70669861</td>\n",
              "      <td>1164</td>\n",
              "      <td>Good morning. How are you?(Audience) Good.It's...</td>\n",
              "      <td>TED Stage Talk</td>\n",
              "      <td>TED2006</td>\n",
              "      <td>69.0</td>\n",
              "      <td>Sir Ken Robinson</td>\n",
              "      <td>Author, educator</td>\n",
              "      <td>Creativity expert Sir Ken Robinson challenged ...</td>\n",
              "      <td>Why don't we get the best out of people? Sir K...</td>\n",
              "      <td>[{'id': '69', 'slug': 'sir_ken_robinson', 'is_...</td>\n",
              "      <td>2006-02-25</td>\n",
              "      <td>2006-06-27 00:11:00</td>\n",
              "      <td>['creativity', 'culture', 'dance', 'education'...</td>\n",
              "      <td>7</td>\n",
              "      <td>en</td>\n",
              "      <td>en</td>\n",
              "      <td>https://www.ted.com/talks/sir_ken_robinson_do_...</td>\n",
              "      <td>[{'status': 'approved', 'headline': '*You, You...</td>\n",
              "      <td>3</td>\n",
              "      <td>The education expert has a lot to say about th...</td>\n",
              "      <td>[{'title': 'Reading list', 'description': '', ...</td>\n",
              "      <td>1</td>\n",
              "      <td>[{'id': '30217', 'hero': 'https://s3.amazonaws...</td>\n",
              "      <td>6</td>\n",
              "    </tr>\n",
              "    <tr>\n",
              "      <th>1</th>\n",
              "      <td>2405</td>\n",
              "      <td>This is what happens when you reply to spam email</td>\n",
              "      <td>Suspicious emails: unclaimed insurance bonds, ...</td>\n",
              "      <td>63743088</td>\n",
              "      <td>588</td>\n",
              "      <td>A few years ago, I got one of those spam email...</td>\n",
              "      <td>TED Stage Talk</td>\n",
              "      <td>TEDGlobal&gt;Geneva</td>\n",
              "      <td>2664.0</td>\n",
              "      <td>James Veitch</td>\n",
              "      <td>Comedian, writer</td>\n",
              "      <td>For James Veitch, spam emails proved the perfe...</td>\n",
              "      <td>James Veitch's correspondence with email spamm...</td>\n",
              "      <td>[{'id': '2664', 'slug': 'james_veitch', 'is_pu...</td>\n",
              "      <td>2015-12-08</td>\n",
              "      <td>2020-10-23 13:51:31</td>\n",
              "      <td>['comedy', 'curiosity', 'communication', 'humo...</td>\n",
              "      <td>5</td>\n",
              "      <td>en</td>\n",
              "      <td>en</td>\n",
              "      <td>https://www.ted.com/talks/james_veitch_this_is...</td>\n",
              "      <td>[]</td>\n",
              "      <td>0</td>\n",
              "      <td>NaN</td>\n",
              "      <td>NaN</td>\n",
              "      <td>0</td>\n",
              "      <td>[{'id': '2236', 'hero': 'https://pe.tedcdn.com...</td>\n",
              "      <td>4</td>\n",
              "    </tr>\n",
              "    <tr>\n",
              "      <th>2</th>\n",
              "      <td>1569</td>\n",
              "      <td>Your body language may shape who you are</td>\n",
              "      <td>(NOTE: Some of the findings presented in this ...</td>\n",
              "      <td>61593019</td>\n",
              "      <td>1262</td>\n",
              "      <td>So I want to start by offering you a free no-t...</td>\n",
              "      <td>TED Stage Talk</td>\n",
              "      <td>TEDGlobal 2012</td>\n",
              "      <td>1284.0</td>\n",
              "      <td>Amy Cuddy</td>\n",
              "      <td>Social psychologist</td>\n",
              "      <td>Amy Cuddy’s research on body language reveals ...</td>\n",
              "      <td>Amy Cuddy wasn’t supposed to become a successf...</td>\n",
              "      <td>[{'id': '1284', 'slug': 'amy_cuddy', 'is_publi...</td>\n",
              "      <td>2012-06-26</td>\n",
              "      <td>2012-10-01 15:00:08</td>\n",
              "      <td>['body language', 'brain', 'business', 'psycho...</td>\n",
              "      <td>7</td>\n",
              "      <td>en</td>\n",
              "      <td>en</td>\n",
              "      <td>https://www.ted.com/talks/amy_cuddy_your_body_...</td>\n",
              "      <td>[{'status': 'approved', 'headline': 'Presence:...</td>\n",
              "      <td>4</td>\n",
              "      <td>NaN</td>\n",
              "      <td>NaN</td>\n",
              "      <td>0</td>\n",
              "      <td>[{'id': '1042', 'hero': 'https://s3.amazonaws....</td>\n",
              "      <td>5</td>\n",
              "    </tr>\n",
              "    <tr>\n",
              "      <th>3</th>\n",
              "      <td>848</td>\n",
              "      <td>How great leaders inspire action</td>\n",
              "      <td>Simon Sinek has a simple but powerful model fo...</td>\n",
              "      <td>55004578</td>\n",
              "      <td>1084</td>\n",
              "      <td>How do you explain when things don't go as we ...</td>\n",
              "      <td>TEDx Talk</td>\n",
              "      <td>TEDxPuget Sound</td>\n",
              "      <td>703.0</td>\n",
              "      <td>Simon Sinek</td>\n",
              "      <td>Leadership expert</td>\n",
              "      <td>Simon Sinek explores how leaders can inspire c...</td>\n",
              "      <td>Fascinated by the leaders who make impact in t...</td>\n",
              "      <td>[{'id': '703', 'slug': 'simon_sinek', 'is_publ...</td>\n",
              "      <td>2009-09-17</td>\n",
              "      <td>2010-05-04 09:31:00</td>\n",
              "      <td>['TEDx', 'business', 'entrepreneur', 'leadersh...</td>\n",
              "      <td>5</td>\n",
              "      <td>en</td>\n",
              "      <td>en</td>\n",
              "      <td>https://www.ted.com/talks/simon_sinek_how_grea...</td>\n",
              "      <td>[{'status': 'approved', 'headline': '*Start wi...</td>\n",
              "      <td>1</td>\n",
              "      <td>The leadership expert shares books and films t...</td>\n",
              "      <td>[{'title': 'Reading List', 'description': '', ...</td>\n",
              "      <td>1</td>\n",
              "      <td>[{'id': '1998', 'hero': 'https://pe.tedcdn.com...</td>\n",
              "      <td>6</td>\n",
              "    </tr>\n",
              "    <tr>\n",
              "      <th>4</th>\n",
              "      <td>1042</td>\n",
              "      <td>The power of vulnerability</td>\n",
              "      <td>Brené Brown studies human connection -- our ab...</td>\n",
              "      <td>53561883</td>\n",
              "      <td>1219</td>\n",
              "      <td>So, I'll start with this: a couple years ago, ...</td>\n",
              "      <td>TEDx Talk</td>\n",
              "      <td>TEDxHouston</td>\n",
              "      <td>914.0</td>\n",
              "      <td>Brené Brown</td>\n",
              "      <td>Vulnerability researcher, storyteller</td>\n",
              "      <td>Dr. Brené Brown studies courage, vulnerability...</td>\n",
              "      <td>Brené Brown is a research professor at the Uni...</td>\n",
              "      <td>[{'id': '914', 'slug': 'brene_brown', 'is_publ...</td>\n",
              "      <td>2010-06-06</td>\n",
              "      <td>2010-12-23 14:45:00</td>\n",
              "      <td>['TEDx', 'communication', 'culture', 'depressi...</td>\n",
              "      <td>10</td>\n",
              "      <td>en</td>\n",
              "      <td>en</td>\n",
              "      <td>https://www.ted.com/talks/brene_brown_the_powe...</td>\n",
              "      <td>[{'status': 'approved', 'headline': '*Daring G...</td>\n",
              "      <td>2</td>\n",
              "      <td>Dive deeper into shame and vulnerability (in a...</td>\n",
              "      <td>[{'title': 'Reading List', 'description': '', ...</td>\n",
              "      <td>1</td>\n",
              "      <td>[{'id': '1391', 'hero': 'https://s3.amazonaws....</td>\n",
              "      <td>6</td>\n",
              "    </tr>\n",
              "  </tbody>\n",
              "</table>\n",
              "</div>"
            ],
            "text/plain": [
              "   talk__id  ... number_of__related_talks\n",
              "0        66  ...                        6\n",
              "1      2405  ...                        4\n",
              "2      1569  ...                        5\n",
              "3       848  ...                        6\n",
              "4      1042  ...                        6\n",
              "\n",
              "[5 rows x 28 columns]"
            ]
          },
          "metadata": {
            "tags": []
          },
          "execution_count": 78
        }
      ]
    },
    {
      "cell_type": "code",
      "metadata": {
        "execution": {
          "iopub.status.busy": "2021-05-22T15:31:30.838446Z",
          "iopub.execute_input": "2021-05-22T15:31:30.83878Z",
          "iopub.status.idle": "2021-05-22T15:31:30.843098Z",
          "shell.execute_reply.started": "2021-05-22T15:31:30.838731Z",
          "shell.execute_reply": "2021-05-22T15:31:30.841806Z"
        },
        "trusted": true,
        "id": "sXWHrEDnSRXi"
      },
      "source": [
        "#Parámetros del Modelo:\n",
        "\n",
        "#Tipo de Tokenization\n",
        "tipo_token = \"word\" #Palabras = \"word\", Oraciones = \"sentence\"\n"
      ],
      "execution_count": 79,
      "outputs": []
    },
    {
      "cell_type": "markdown",
      "metadata": {
        "id": "9EmLF2RfSRXi"
      },
      "source": [
        "#### 01.02 - Exploración de los Datasets (DS)"
      ]
    },
    {
      "cell_type": "markdown",
      "metadata": {
        "id": "x_Zxmm-BSRXi"
      },
      "source": [
        "#### *Dataset (DS):*\n",
        "Se genera un DS de trabajo con 5043 observaciones a partir de la aplicación de Web Scrapping en https://www.ted.com/talks?sort=popular&page=1, el ds de trabajo contempla tanto la metadata de las ted talks como las transcripciones.\n",
        "\n",
        "Variables:\n",
        "\n",
        "1. talk__id: N° de ID de la Ted Talk\n",
        "2. talk__name: Nombre de la Ted Talk\n",
        "3. talk__description: Descripción de la Ted Talk\n",
        "4. view_count: Cantidad de Vistas (visitas)\n",
        "5. duration: duración de la Ted Talk en minutos\n",
        "6. transcript: transcripción de la Ted Talk\n",
        "7. video_type_name: Tipo de Ted Talk\n",
        "8. event: evento\n",
        "9. speaker__id: id del speaker\n",
        "10. speaker__name: nombre del speaker\n",
        "11. speaker__description: ocupación del speaker\n",
        "12. speaker__who_he_is: descripción del Speaker\n",
        "13. speaker__why_listen: \n",
        "14. all_speakers_details: \n",
        "15. recording_date: \n",
        "16. published_timestamp: \n",
        "17. talks__tags: Tags (Variable Target)\n",
        "18. number_of__tags: cantidad de Tags\n",
        "19. language: Idioma\n",
        "20. native_language\n",
        "21. url__webpage\n",
        "22. talk__more_resources\n",
        "23. number_of__talk__more_resources\n",
        "24. talk__recommendations__blurb\n",
        "25. talk__recommendations\n",
        "26. number_of__talk__recommendations\n",
        "27. related_talks\n",
        "28. number_of__related_talks\n",
        "\n"
      ]
    },
    {
      "cell_type": "code",
      "metadata": {
        "execution": {
          "iopub.status.busy": "2021-05-22T15:31:30.844566Z",
          "iopub.execute_input": "2021-05-22T15:31:30.844873Z",
          "iopub.status.idle": "2021-05-22T15:31:30.858395Z",
          "shell.execute_reply.started": "2021-05-22T15:31:30.844844Z",
          "shell.execute_reply": "2021-05-22T15:31:30.857283Z"
        },
        "trusted": true,
        "colab": {
          "base_uri": "https://localhost:8080/"
        },
        "id": "j6n5-q0sSRXj",
        "outputId": "57333c5b-ebd4-4406-a01f-725887c6d613"
      },
      "source": [
        "#Dimensiones\n",
        "print(f\"Dimensiones de DS : {tedx_df.shape}\")"
      ],
      "execution_count": 80,
      "outputs": [
        {
          "output_type": "stream",
          "text": [
            "Dimensiones de DS : (5122, 28)\n"
          ],
          "name": "stdout"
        }
      ]
    },
    {
      "cell_type": "code",
      "metadata": {
        "execution": {
          "iopub.status.busy": "2021-05-22T15:31:30.892273Z",
          "iopub.execute_input": "2021-05-22T15:31:30.892597Z",
          "iopub.status.idle": "2021-05-22T15:31:30.903621Z",
          "shell.execute_reply.started": "2021-05-22T15:31:30.892567Z",
          "shell.execute_reply": "2021-05-22T15:31:30.902863Z"
        },
        "trusted": true,
        "colab": {
          "base_uri": "https://localhost:8080/"
        },
        "id": "zFvsrvcmSRXk",
        "outputId": "13bad602-10b6-47fd-aa6e-e276475b7592"
      },
      "source": [
        "#Valores Repetidos\n",
        "tedx_df.loc[: , [\"talk__id\"]].size - np.unique(tedx_df.loc[: , [\"talk__id\"]]).size #Se confirma que hay un (1) valor duplicado"
      ],
      "execution_count": 81,
      "outputs": [
        {
          "output_type": "execute_result",
          "data": {
            "text/plain": [
              "1"
            ]
          },
          "metadata": {
            "tags": []
          },
          "execution_count": 81
        }
      ]
    },
    {
      "cell_type": "code",
      "metadata": {
        "colab": {
          "base_uri": "https://localhost:8080/"
        },
        "id": "gtX8wtnCYwxS",
        "outputId": "1e9e6e87-aee0-463f-dbbd-02d939ee2a22"
      },
      "source": [
        "#Verificamos Observación Repetida\n",
        "def repetidos(x):\n",
        "  y = pd.Series(np.sort(x.values.tolist(), axis = None)).value_counts()\n",
        "  return y[y > 1]\n",
        "\n",
        "repetidos(tedx_df.loc[: , [\"talk__id\"]])"
      ],
      "execution_count": 82,
      "outputs": [
        {
          "output_type": "execute_result",
          "data": {
            "text/plain": [
              "36409    2\n",
              "dtype: int64"
            ]
          },
          "metadata": {
            "tags": []
          },
          "execution_count": 82
        }
      ]
    },
    {
      "cell_type": "code",
      "metadata": {
        "colab": {
          "base_uri": "https://localhost:8080/",
          "height": 267
        },
        "id": "C3UjrL5saZes",
        "outputId": "3998cecf-c643-4002-e409-f502db3e6d41"
      },
      "source": [
        "tedx_df[tedx_df.talk__id == 36409] #Considerando que la transcripción es de tipo NaN, se eliminará el duplicado en el siguiente paso."
      ],
      "execution_count": 83,
      "outputs": [
        {
          "output_type": "execute_result",
          "data": {
            "text/html": [
              "<div>\n",
              "<style scoped>\n",
              "    .dataframe tbody tr th:only-of-type {\n",
              "        vertical-align: middle;\n",
              "    }\n",
              "\n",
              "    .dataframe tbody tr th {\n",
              "        vertical-align: top;\n",
              "    }\n",
              "\n",
              "    .dataframe thead th {\n",
              "        text-align: right;\n",
              "    }\n",
              "</style>\n",
              "<table border=\"1\" class=\"dataframe\">\n",
              "  <thead>\n",
              "    <tr style=\"text-align: right;\">\n",
              "      <th></th>\n",
              "      <th>talk__id</th>\n",
              "      <th>talk__name</th>\n",
              "      <th>talk__description</th>\n",
              "      <th>view_count</th>\n",
              "      <th>duration</th>\n",
              "      <th>transcript</th>\n",
              "      <th>video_type_name</th>\n",
              "      <th>event</th>\n",
              "      <th>speaker__id</th>\n",
              "      <th>speaker__name</th>\n",
              "      <th>speaker__description</th>\n",
              "      <th>speaker__who_he_is</th>\n",
              "      <th>speaker__why_listen</th>\n",
              "      <th>all_speakers_details</th>\n",
              "      <th>recording_date</th>\n",
              "      <th>published_timestamp</th>\n",
              "      <th>talks__tags</th>\n",
              "      <th>number_of__tags</th>\n",
              "      <th>language</th>\n",
              "      <th>native_language</th>\n",
              "      <th>url__webpage</th>\n",
              "      <th>talk__more_resources</th>\n",
              "      <th>number_of__talk__more_resources</th>\n",
              "      <th>talk__recommendations__blurb</th>\n",
              "      <th>talk__recommendations</th>\n",
              "      <th>number_of__talk__recommendations</th>\n",
              "      <th>related_talks</th>\n",
              "      <th>number_of__related_talks</th>\n",
              "    </tr>\n",
              "  </thead>\n",
              "  <tbody>\n",
              "    <tr>\n",
              "      <th>3946</th>\n",
              "      <td>36409</td>\n",
              "      <td>An unexpected tool for understanding inequalit...</td>\n",
              "      <td>How do we make sense of a world that doesn't? ...</td>\n",
              "      <td>565240</td>\n",
              "      <td>679</td>\n",
              "      <td>The world is awash with divisive arguments, co...</td>\n",
              "      <td>TEDx Talk</td>\n",
              "      <td>TEDxLondon</td>\n",
              "      <td>5215.0</td>\n",
              "      <td>Eugenia Cheng</td>\n",
              "      <td>Mathematician, pianist</td>\n",
              "      <td>Eugenia Cheng devotes her life to mathematics,...</td>\n",
              "      <td>Dr. Eugenia Cheng quit her tenured academic jo...</td>\n",
              "      <td>[{'id': '5215', 'slug': 'eugenia_cheng', 'is_p...</td>\n",
              "      <td>2018-07-01</td>\n",
              "      <td>2019-03-08 15:47:37</td>\n",
              "      <td>['math', 'communication', 'visualizations', 'T...</td>\n",
              "      <td>7</td>\n",
              "      <td>en</td>\n",
              "      <td>en</td>\n",
              "      <td>https://www.ted.com/talks/eugenia_cheng_an_une...</td>\n",
              "      <td>[{'status': 'approved', 'headline': '*The Art ...</td>\n",
              "      <td>1</td>\n",
              "      <td>NaN</td>\n",
              "      <td>NaN</td>\n",
              "      <td>0</td>\n",
              "      <td>[{'id': '23865', 'hero': 'https://s3.amazonaws...</td>\n",
              "      <td>6</td>\n",
              "    </tr>\n",
              "    <tr>\n",
              "      <th>3947</th>\n",
              "      <td>36409</td>\n",
              "      <td>An unexpected tool for understanding inequalit...</td>\n",
              "      <td>How do we make sense of a world that doesn't? ...</td>\n",
              "      <td>565240</td>\n",
              "      <td>679</td>\n",
              "      <td>NaN</td>\n",
              "      <td>TEDx Talk</td>\n",
              "      <td>TEDxLondon</td>\n",
              "      <td>5215.0</td>\n",
              "      <td>Eugenia Cheng</td>\n",
              "      <td>Mathematician, pianist</td>\n",
              "      <td>Eugenia Cheng devotes her life to mathematics,...</td>\n",
              "      <td>Dr. Eugenia Cheng quit her tenured academic jo...</td>\n",
              "      <td>[{'id': '5215', 'slug': 'eugenia_cheng', 'is_p...</td>\n",
              "      <td>2018-07-01</td>\n",
              "      <td>2019-03-08 15:47:37</td>\n",
              "      <td>['math', 'communication', 'visualizations', 'T...</td>\n",
              "      <td>7</td>\n",
              "      <td>en</td>\n",
              "      <td>en</td>\n",
              "      <td>https://www.ted.com/talks/eugenia_cheng_an_une...</td>\n",
              "      <td>[{'status': 'approved', 'headline': '*The Art ...</td>\n",
              "      <td>1</td>\n",
              "      <td>NaN</td>\n",
              "      <td>NaN</td>\n",
              "      <td>0</td>\n",
              "      <td>[{'id': '23865', 'hero': 'https://s3.amazonaws...</td>\n",
              "      <td>6</td>\n",
              "    </tr>\n",
              "  </tbody>\n",
              "</table>\n",
              "</div>"
            ],
            "text/plain": [
              "      talk__id  ... number_of__related_talks\n",
              "3946     36409  ...                        6\n",
              "3947     36409  ...                        6\n",
              "\n",
              "[2 rows x 28 columns]"
            ]
          },
          "metadata": {
            "tags": []
          },
          "execution_count": 83
        }
      ]
    },
    {
      "cell_type": "code",
      "metadata": {
        "colab": {
          "base_uri": "https://localhost:8080/"
        },
        "id": "HOnkiS-oj6-4",
        "outputId": "2a96a22e-e533-44b1-a630-1cd07dc2ac1a"
      },
      "source": [
        "#Verificamos idioma:\n",
        "def idiomas(x):\n",
        "  y = pd.Series(np.sort(x.values.tolist(), axis = None)).value_counts()\n",
        "  return y\n",
        "\n",
        "idiomas(tedx_df.loc[: , [\"language\"]])\n",
        "\n",
        "#Existen Ted Talks en distintos idiomas, seleccionamos solo las Ted Talks en Inglés"
      ],
      "execution_count": 84,
      "outputs": [
        {
          "output_type": "execute_result",
          "data": {
            "text/plain": [
              "en    5102\n",
              "es      19\n",
              "fr       1\n",
              "dtype: int64"
            ]
          },
          "metadata": {
            "tags": []
          },
          "execution_count": 84
        }
      ]
    },
    {
      "cell_type": "code",
      "metadata": {
        "id": "MPiFSikAkM0V"
      },
      "source": [
        "tedx_df = tedx_df[tedx_df.language == 'en']"
      ],
      "execution_count": 85,
      "outputs": []
    },
    {
      "cell_type": "markdown",
      "metadata": {
        "id": "YjxQWUodSRXl"
      },
      "source": [
        "#### *Valores Ausentes / Missing Values:* \n",
        "\n",
        "Se observa para las siguientes variables una cantidad de NA's considerable (>= 0.5), por lo que se eliminarán del modelo.\n",
        "\n",
        "Para la variable principal del modelo se observan 587 observaciones con datos faltantes, por ello se limpia el dataset."
      ]
    },
    {
      "cell_type": "code",
      "metadata": {
        "colab": {
          "base_uri": "https://localhost:8080/"
        },
        "id": "0RTioGHEcki5",
        "outputId": "f2462957-d787-4e30-bd92-e98310527459"
      },
      "source": [
        "#Todas las variables\n",
        "tedx_df.isna().sum() / tedx_df.shape[0]"
      ],
      "execution_count": 86,
      "outputs": [
        {
          "output_type": "execute_result",
          "data": {
            "text/plain": [
              "talk__id                            0.000000\n",
              "talk__name                          0.000000\n",
              "talk__description                   0.000000\n",
              "view_count                          0.000000\n",
              "duration                            0.000000\n",
              "transcript                          0.116229\n",
              "video_type_name                     0.000000\n",
              "event                               0.000000\n",
              "speaker__id                         0.002352\n",
              "speaker__name                       0.000196\n",
              "speaker__description                0.150137\n",
              "speaker__who_he_is                  0.135045\n",
              "speaker__why_listen                 0.229714\n",
              "all_speakers_details                0.000000\n",
              "recording_date                      0.000392\n",
              "published_timestamp                 0.000000\n",
              "talks__tags                         0.000000\n",
              "number_of__tags                     0.000000\n",
              "language                            0.000000\n",
              "native_language                     0.000000\n",
              "url__webpage                        0.000000\n",
              "talk__more_resources                0.525872\n",
              "number_of__talk__more_resources     0.000000\n",
              "talk__recommendations__blurb        0.774010\n",
              "talk__recommendations               0.773814\n",
              "number_of__talk__recommendations    0.000000\n",
              "related_talks                       0.000000\n",
              "number_of__related_talks            0.000000\n",
              "dtype: float64"
            ]
          },
          "metadata": {
            "tags": []
          },
          "execution_count": 86
        }
      ]
    },
    {
      "cell_type": "code",
      "metadata": {
        "execution": {
          "iopub.status.busy": "2021-05-22T15:31:31.250827Z",
          "iopub.execute_input": "2021-05-22T15:31:31.251107Z",
          "iopub.status.idle": "2021-05-22T15:31:31.269141Z",
          "shell.execute_reply.started": "2021-05-22T15:31:31.251079Z",
          "shell.execute_reply": "2021-05-22T15:31:31.268041Z"
        },
        "trusted": true,
        "colab": {
          "base_uri": "https://localhost:8080/"
        },
        "id": "BAWXmOQ-SRXl",
        "outputId": "9ba7724a-1a90-4de8-a949-c6f3b74e143b"
      },
      "source": [
        "#Eliminamos NA's en transcription\n",
        "tedx_df = tedx_df.dropna(subset = ['transcript'])\n",
        "\n",
        "tedx_df.shape"
      ],
      "execution_count": 87,
      "outputs": [
        {
          "output_type": "execute_result",
          "data": {
            "text/plain": [
              "(4509, 28)"
            ]
          },
          "metadata": {
            "tags": []
          },
          "execution_count": 87
        }
      ]
    },
    {
      "cell_type": "code",
      "metadata": {
        "colab": {
          "base_uri": "https://localhost:8080/"
        },
        "id": "jtG0W2XKmXOm",
        "outputId": "e935cd81-e011-46e3-97e4-eaeceef0e961"
      },
      "source": [
        "y = tedx_df.isna().sum() / tedx_df.shape[0]\n",
        "y[y >= 0.5].index"
      ],
      "execution_count": 97,
      "outputs": [
        {
          "output_type": "execute_result",
          "data": {
            "text/plain": [
              "Index(['talk__recommendations__blurb', 'talk__recommendations'], dtype='object')"
            ]
          },
          "metadata": {
            "tags": []
          },
          "execution_count": 97
        }
      ]
    },
    {
      "cell_type": "code",
      "metadata": {
        "colab": {
          "base_uri": "https://localhost:8080/"
        },
        "id": "q4j6P79IfXib",
        "outputId": "00abb9b5-7d71-475a-f2f7-e70f98e3be7a"
      },
      "source": [
        "#Eliminamos Variables f > 0.5 NA's\n",
        "tedx_df = tedx_df.drop(columns = y[y >= 0.5].index)\n",
        "\n",
        "tedx_df.shape"
      ],
      "execution_count": 98,
      "outputs": [
        {
          "output_type": "execute_result",
          "data": {
            "text/plain": [
              "(4509, 26)"
            ]
          },
          "metadata": {
            "tags": []
          },
          "execution_count": 98
        }
      ]
    },
    {
      "cell_type": "markdown",
      "metadata": {
        "id": "glmw3AWESRXl"
      },
      "source": [
        "#### 01.03 - Preprocesamiento\n",
        "\n",
        "Se toma como referencia el pipeline de: https://medium.com/analytics-vidhya/text-preprocessing-for-nlp-natural-language-processing-beginners-to-master-fd82dfecf95 y se complementa con parte del pipeline de: https://towardsdatascience.com/nlp-text-preprocessing-a-practical-guide-and-template-d80874676e79 (no se corre el tratamiento de contracciones ni de números en forma de texto al no poder instalar pip en Kaggle)"
      ]
    },
    {
      "cell_type": "markdown",
      "metadata": {
        "id": "XMu-lv1-SRXl"
      },
      "source": [
        "#### *Limpieza URL's:* \n",
        "Deberia ser irrelevante debido a que son transcripciones directas de charlas, no deberian existir referencias a URL's dentro del texto. No obstante, se ejecuta este paso de forma preventiva."
      ]
    },
    {
      "cell_type": "code",
      "metadata": {
        "execution": {
          "iopub.status.busy": "2021-05-22T15:31:31.271069Z",
          "iopub.execute_input": "2021-05-22T15:31:31.271397Z",
          "iopub.status.idle": "2021-05-22T15:31:31.322133Z",
          "shell.execute_reply.started": "2021-05-22T15:31:31.271369Z",
          "shell.execute_reply": "2021-05-22T15:31:31.321125Z"
        },
        "trusted": true,
        "id": "nFkGGFZPSRXm"
      },
      "source": [
        "def clean_url(text):\n",
        "    return re.sub(r'http\\S+','',text) #Definimos función (cortesia de bibliografía referencial)\n",
        "\n",
        "tedx_df['CleanTranscript'] = tedx_df['transcript'].apply(clean_url)"
      ],
      "execution_count": 99,
      "outputs": []
    },
    {
      "cell_type": "markdown",
      "metadata": {
        "id": "9bPBwsrrSRXm"
      },
      "source": [
        "#### *Limpieza de Tildes:* \n",
        "Deberia ser irrelevante debido a que son textos en Inglés, no obstante, se ejecuta este paso de forma preventiva."
      ]
    },
    {
      "cell_type": "code",
      "metadata": {
        "execution": {
          "iopub.status.busy": "2021-05-22T15:31:31.323476Z",
          "iopub.execute_input": "2021-05-22T15:31:31.323786Z",
          "iopub.status.idle": "2021-05-22T15:31:44.634832Z",
          "shell.execute_reply.started": "2021-05-22T15:31:31.323756Z",
          "shell.execute_reply": "2021-05-22T15:31:44.633824Z"
        },
        "trusted": true,
        "id": "7uiZkPBtSRXm"
      },
      "source": [
        "def remove_tildes(text):\n",
        "    text = unidecode.unidecode(text)\n",
        "    return text\n",
        "\n",
        "tedx_df['CleanTranscript'] = tedx_df['CleanTranscript'].apply(remove_tildes)"
      ],
      "execution_count": 100,
      "outputs": []
    },
    {
      "cell_type": "markdown",
      "metadata": {
        "id": "oLXJ4PiZSRXn"
      },
      "source": [
        "#### *Limpieza de Caracteres Irrelevantes:* \n",
        "\n",
        "Se eliminan números y signos de puntuación. Hay que considerar el impacto sobre it's, i'm, entre otros..."
      ]
    },
    {
      "cell_type": "code",
      "metadata": {
        "execution": {
          "iopub.status.busy": "2021-05-22T15:31:44.636256Z",
          "iopub.execute_input": "2021-05-22T15:31:44.636574Z",
          "iopub.status.idle": "2021-05-22T15:31:47.409295Z",
          "shell.execute_reply.started": "2021-05-22T15:31:44.636542Z",
          "shell.execute_reply": "2021-05-22T15:31:47.408372Z"
        },
        "trusted": true,
        "id": "9i6O3CMiSRXn"
      },
      "source": [
        "def clean_non_alphanumeric(text):\n",
        "   return re.sub('[^a-zA-Z]',' ',text) #Definimos función (cortesia de bibliografía referencial)\n",
        "\n",
        "tedx_df['CleanTranscript'] = tedx_df['CleanTranscript'].apply(clean_non_alphanumeric)"
      ],
      "execution_count": 101,
      "outputs": []
    },
    {
      "cell_type": "markdown",
      "metadata": {
        "id": "xBfMgNyvSRXn"
      },
      "source": [
        "#### *Estandarización de tamaño de letras:* \n",
        "\n",
        "Se convierten todos los caracteres a minusculas"
      ]
    },
    {
      "cell_type": "code",
      "metadata": {
        "execution": {
          "iopub.status.busy": "2021-05-22T15:31:47.410448Z",
          "iopub.execute_input": "2021-05-22T15:31:47.410892Z",
          "iopub.status.idle": "2021-05-22T15:31:47.442874Z",
          "shell.execute_reply.started": "2021-05-22T15:31:47.410859Z",
          "shell.execute_reply": "2021-05-22T15:31:47.442097Z"
        },
        "trusted": true,
        "id": "VzsuhSZASRXn"
      },
      "source": [
        "def clean_lowercase(text):\n",
        "    return str(text).lower() #Definimos función (cortesia de bibliografía referencial)\n",
        "\n",
        "tedx_df['CleanTranscript'] = tedx_df['CleanTranscript'].apply(clean_lowercase)"
      ],
      "execution_count": 102,
      "outputs": []
    },
    {
      "cell_type": "markdown",
      "metadata": {
        "id": "wH5T35B0SRXo"
      },
      "source": [
        "#### *Tokenization:* "
      ]
    },
    {
      "cell_type": "code",
      "metadata": {
        "execution": {
          "iopub.status.busy": "2021-05-22T15:31:47.443926Z",
          "iopub.execute_input": "2021-05-22T15:31:47.444318Z",
          "iopub.status.idle": "2021-05-22T15:31:47.449486Z",
          "shell.execute_reply.started": "2021-05-22T15:31:47.44429Z",
          "shell.execute_reply": "2021-05-22T15:31:47.448838Z"
        },
        "trusted": true,
        "id": "WgBWSkUcSRXo"
      },
      "source": [
        "def tokenize(text, mode = tipo_token): \n",
        "  if mode == 'word':\n",
        "    return word_tokenize(text, language='english')\n",
        "  elif mode == 'sentence':\n",
        "    return sent_tokenize(text, language='english')\n",
        "  else:\n",
        "    raise Exception('metodo de tokenizacion no encontrado')\n",
        "\n",
        "tedx_df['CleanTranscript'] = tedx_df['CleanTranscript'].apply(tokenize)"
      ],
      "execution_count": 108,
      "outputs": []
    },
    {
      "cell_type": "markdown",
      "metadata": {
        "id": "hySYuP2qSRXo"
      },
      "source": [
        "#### *Stop Words:* "
      ]
    },
    {
      "cell_type": "code",
      "metadata": {
        "execution": {
          "iopub.status.busy": "2021-05-22T15:32:24.67509Z",
          "iopub.execute_input": "2021-05-22T15:32:24.67543Z",
          "iopub.status.idle": "2021-05-22T15:32:25.500235Z",
          "shell.execute_reply.started": "2021-05-22T15:32:24.675398Z",
          "shell.execute_reply": "2021-05-22T15:32:25.499124Z"
        },
        "trusted": true,
        "id": "_3FpoV3mSRXp"
      },
      "source": [
        "sw = set(stopwords.words('english'))\n",
        "\n",
        "def clean_stopwords(text):\n",
        "    return [item for item in text if item not in sw]\n",
        "\n",
        "tedx_df['CleanTranscript'] = tedx_df['CleanTranscript'].apply(clean_stopwords)"
      ],
      "execution_count": 111,
      "outputs": []
    },
    {
      "cell_type": "markdown",
      "metadata": {
        "id": "pinya9qWSRXp"
      },
      "source": [
        "#### *Lemmatization:* "
      ]
    },
    {
      "cell_type": "code",
      "metadata": {
        "execution": {
          "iopub.status.busy": "2021-05-22T15:32:25.50171Z",
          "iopub.execute_input": "2021-05-22T15:32:25.502081Z",
          "iopub.status.idle": "2021-05-22T15:32:38.906164Z",
          "shell.execute_reply.started": "2021-05-22T15:32:25.502048Z",
          "shell.execute_reply": "2021-05-22T15:32:38.905128Z"
        },
        "trusted": true,
        "id": "In-YkDYRSRXp"
      },
      "source": [
        "lemma = WordNetLemmatizer()\n",
        "\n",
        "def clean_lemmatization(text):\n",
        "    return [lemma.lemmatize(word = w, pos = 'v') for w in text]\n",
        "\n",
        "tedx_df['CleanTranscript'] = tedx_df['CleanTranscript'].apply(clean_lemmatization)"
      ],
      "execution_count": 114,
      "outputs": []
    },
    {
      "cell_type": "markdown",
      "metadata": {
        "id": "bPDKK8J2SRXp"
      },
      "source": [
        "#### *Limpieza de Monosilabas:* "
      ]
    },
    {
      "cell_type": "code",
      "metadata": {
        "execution": {
          "iopub.status.busy": "2021-05-22T15:32:38.907974Z",
          "iopub.execute_input": "2021-05-22T15:32:38.908452Z",
          "iopub.status.idle": "2021-05-22T15:32:39.441694Z",
          "shell.execute_reply.started": "2021-05-22T15:32:38.908401Z",
          "shell.execute_reply": "2021-05-22T15:32:39.440536Z"
        },
        "trusted": true,
        "id": "OF_3W4a1SRXq"
      },
      "source": [
        "def Clean_length(text):\n",
        "    return [i for i in text if len(i) >1]\n",
        "\n",
        "tedx_df['CleanTranscript'] = tedx_df['CleanTranscript'].apply(Clean_length)"
      ],
      "execution_count": 115,
      "outputs": []
    },
    {
      "cell_type": "markdown",
      "metadata": {
        "id": "AZU3BVK2SRXq"
      },
      "source": [
        "#### *Reconversión a String:* "
      ]
    },
    {
      "cell_type": "code",
      "metadata": {
        "execution": {
          "iopub.status.busy": "2021-05-22T15:32:39.443365Z",
          "iopub.execute_input": "2021-05-22T15:32:39.443685Z",
          "iopub.status.idle": "2021-05-22T15:32:39.649367Z",
          "shell.execute_reply.started": "2021-05-22T15:32:39.443654Z",
          "shell.execute_reply": "2021-05-22T15:32:39.648335Z"
        },
        "trusted": true,
        "id": "t8DqEnkNSRXq"
      },
      "source": [
        "def convert_to_string(text):\n",
        "    return ' '.join(text)\n",
        "\n",
        "tedx_df['CleanTranscript'] = tedx_df['CleanTranscript'].apply(convert_to_string)"
      ],
      "execution_count": 116,
      "outputs": []
    },
    {
      "cell_type": "markdown",
      "metadata": {
        "id": "dVVsBEFASRXq"
      },
      "source": [
        "#### 01.04 - Tags\n",
        "\n",
        "Referencia: https://www.kaggle.com/rounakbanik/ted-data-analysis"
      ]
    },
    {
      "cell_type": "markdown",
      "metadata": {
        "id": "pkZuDUeQSRXq"
      },
      "source": [
        "#### *Segmentación por TAGS:* \n",
        "\n",
        "Split en Filas: 416 etiquetas / temas distintos - Generamos un nuevo DS de trabajo aperturado por tema / tag \"theme_df\""
      ]
    },
    {
      "cell_type": "code",
      "metadata": {
        "execution": {
          "iopub.status.busy": "2021-05-22T15:32:39.650813Z",
          "iopub.execute_input": "2021-05-22T15:32:39.651118Z",
          "iopub.status.idle": "2021-05-22T15:32:40.720222Z",
          "shell.execute_reply.started": "2021-05-22T15:32:39.651088Z",
          "shell.execute_reply": "2021-05-22T15:32:40.719174Z"
        },
        "trusted": true,
        "id": "9Q_ORbRlSRXr"
      },
      "source": [
        "tedx_df['talks__tags'] = tedx_df['talks__tags'].apply(lambda x: ast.literal_eval(x))\n",
        "\n",
        "s = tedx_df.apply(lambda x: pd.Series(x['talks__tags']),axis=1).stack().reset_index(level=1, drop=True)\n",
        "s.name = 'theme'"
      ],
      "execution_count": 120,
      "outputs": []
    },
    {
      "cell_type": "code",
      "metadata": {
        "execution": {
          "iopub.status.busy": "2021-05-22T15:32:40.7215Z",
          "iopub.execute_input": "2021-05-22T15:32:40.721795Z",
          "iopub.status.idle": "2021-05-22T15:32:40.777946Z",
          "shell.execute_reply.started": "2021-05-22T15:32:40.721766Z",
          "shell.execute_reply": "2021-05-22T15:32:40.776939Z"
        },
        "trusted": true,
        "colab": {
          "base_uri": "https://localhost:8080/",
          "height": 649
        },
        "id": "Qt7ZkWciSRXr",
        "outputId": "b48e1b00-4f53-4f0c-a413-676a22ff42ee"
      },
      "source": [
        "theme_df = tedx_df.drop('talks__tags', axis=1).join(s)\n",
        "theme_df.head()"
      ],
      "execution_count": 121,
      "outputs": [
        {
          "output_type": "execute_result",
          "data": {
            "text/html": [
              "<div>\n",
              "<style scoped>\n",
              "    .dataframe tbody tr th:only-of-type {\n",
              "        vertical-align: middle;\n",
              "    }\n",
              "\n",
              "    .dataframe tbody tr th {\n",
              "        vertical-align: top;\n",
              "    }\n",
              "\n",
              "    .dataframe thead th {\n",
              "        text-align: right;\n",
              "    }\n",
              "</style>\n",
              "<table border=\"1\" class=\"dataframe\">\n",
              "  <thead>\n",
              "    <tr style=\"text-align: right;\">\n",
              "      <th></th>\n",
              "      <th>talk__id</th>\n",
              "      <th>talk__name</th>\n",
              "      <th>talk__description</th>\n",
              "      <th>view_count</th>\n",
              "      <th>duration</th>\n",
              "      <th>transcript</th>\n",
              "      <th>video_type_name</th>\n",
              "      <th>event</th>\n",
              "      <th>speaker__id</th>\n",
              "      <th>speaker__name</th>\n",
              "      <th>speaker__description</th>\n",
              "      <th>speaker__who_he_is</th>\n",
              "      <th>speaker__why_listen</th>\n",
              "      <th>all_speakers_details</th>\n",
              "      <th>recording_date</th>\n",
              "      <th>published_timestamp</th>\n",
              "      <th>number_of__tags</th>\n",
              "      <th>language</th>\n",
              "      <th>native_language</th>\n",
              "      <th>url__webpage</th>\n",
              "      <th>talk__more_resources</th>\n",
              "      <th>number_of__talk__more_resources</th>\n",
              "      <th>number_of__talk__recommendations</th>\n",
              "      <th>related_talks</th>\n",
              "      <th>number_of__related_talks</th>\n",
              "      <th>CleanTranscript</th>\n",
              "      <th>tagtalks__tags</th>\n",
              "      <th>theme</th>\n",
              "    </tr>\n",
              "  </thead>\n",
              "  <tbody>\n",
              "    <tr>\n",
              "      <th>0</th>\n",
              "      <td>66</td>\n",
              "      <td>Do schools kill creativity?</td>\n",
              "      <td>Sir Ken Robinson makes an entertaining and pro...</td>\n",
              "      <td>70669861</td>\n",
              "      <td>1164</td>\n",
              "      <td>Good morning. How are you?(Audience) Good.It's...</td>\n",
              "      <td>TED Stage Talk</td>\n",
              "      <td>TED2006</td>\n",
              "      <td>69.0</td>\n",
              "      <td>Sir Ken Robinson</td>\n",
              "      <td>Author, educator</td>\n",
              "      <td>Creativity expert Sir Ken Robinson challenged ...</td>\n",
              "      <td>Why don't we get the best out of people? Sir K...</td>\n",
              "      <td>[{'id': '69', 'slug': 'sir_ken_robinson', 'is_...</td>\n",
              "      <td>2006-02-25</td>\n",
              "      <td>2006-06-27 00:11:00</td>\n",
              "      <td>7</td>\n",
              "      <td>en</td>\n",
              "      <td>en</td>\n",
              "      <td>https://www.ted.com/talks/sir_ken_robinson_do_...</td>\n",
              "      <td>[{'status': 'approved', 'headline': '*You, You...</td>\n",
              "      <td>3</td>\n",
              "      <td>1</td>\n",
              "      <td>[{'id': '30217', 'hero': 'https://s3.amazonaws...</td>\n",
              "      <td>6</td>\n",
              "      <td>good morning audience good great blow away who...</td>\n",
              "      <td>[creativity, culture, dance, education, parent...</td>\n",
              "      <td>creativity</td>\n",
              "    </tr>\n",
              "    <tr>\n",
              "      <th>0</th>\n",
              "      <td>66</td>\n",
              "      <td>Do schools kill creativity?</td>\n",
              "      <td>Sir Ken Robinson makes an entertaining and pro...</td>\n",
              "      <td>70669861</td>\n",
              "      <td>1164</td>\n",
              "      <td>Good morning. How are you?(Audience) Good.It's...</td>\n",
              "      <td>TED Stage Talk</td>\n",
              "      <td>TED2006</td>\n",
              "      <td>69.0</td>\n",
              "      <td>Sir Ken Robinson</td>\n",
              "      <td>Author, educator</td>\n",
              "      <td>Creativity expert Sir Ken Robinson challenged ...</td>\n",
              "      <td>Why don't we get the best out of people? Sir K...</td>\n",
              "      <td>[{'id': '69', 'slug': 'sir_ken_robinson', 'is_...</td>\n",
              "      <td>2006-02-25</td>\n",
              "      <td>2006-06-27 00:11:00</td>\n",
              "      <td>7</td>\n",
              "      <td>en</td>\n",
              "      <td>en</td>\n",
              "      <td>https://www.ted.com/talks/sir_ken_robinson_do_...</td>\n",
              "      <td>[{'status': 'approved', 'headline': '*You, You...</td>\n",
              "      <td>3</td>\n",
              "      <td>1</td>\n",
              "      <td>[{'id': '30217', 'hero': 'https://s3.amazonaws...</td>\n",
              "      <td>6</td>\n",
              "      <td>good morning audience good great blow away who...</td>\n",
              "      <td>[creativity, culture, dance, education, parent...</td>\n",
              "      <td>culture</td>\n",
              "    </tr>\n",
              "    <tr>\n",
              "      <th>0</th>\n",
              "      <td>66</td>\n",
              "      <td>Do schools kill creativity?</td>\n",
              "      <td>Sir Ken Robinson makes an entertaining and pro...</td>\n",
              "      <td>70669861</td>\n",
              "      <td>1164</td>\n",
              "      <td>Good morning. How are you?(Audience) Good.It's...</td>\n",
              "      <td>TED Stage Talk</td>\n",
              "      <td>TED2006</td>\n",
              "      <td>69.0</td>\n",
              "      <td>Sir Ken Robinson</td>\n",
              "      <td>Author, educator</td>\n",
              "      <td>Creativity expert Sir Ken Robinson challenged ...</td>\n",
              "      <td>Why don't we get the best out of people? Sir K...</td>\n",
              "      <td>[{'id': '69', 'slug': 'sir_ken_robinson', 'is_...</td>\n",
              "      <td>2006-02-25</td>\n",
              "      <td>2006-06-27 00:11:00</td>\n",
              "      <td>7</td>\n",
              "      <td>en</td>\n",
              "      <td>en</td>\n",
              "      <td>https://www.ted.com/talks/sir_ken_robinson_do_...</td>\n",
              "      <td>[{'status': 'approved', 'headline': '*You, You...</td>\n",
              "      <td>3</td>\n",
              "      <td>1</td>\n",
              "      <td>[{'id': '30217', 'hero': 'https://s3.amazonaws...</td>\n",
              "      <td>6</td>\n",
              "      <td>good morning audience good great blow away who...</td>\n",
              "      <td>[creativity, culture, dance, education, parent...</td>\n",
              "      <td>dance</td>\n",
              "    </tr>\n",
              "    <tr>\n",
              "      <th>0</th>\n",
              "      <td>66</td>\n",
              "      <td>Do schools kill creativity?</td>\n",
              "      <td>Sir Ken Robinson makes an entertaining and pro...</td>\n",
              "      <td>70669861</td>\n",
              "      <td>1164</td>\n",
              "      <td>Good morning. How are you?(Audience) Good.It's...</td>\n",
              "      <td>TED Stage Talk</td>\n",
              "      <td>TED2006</td>\n",
              "      <td>69.0</td>\n",
              "      <td>Sir Ken Robinson</td>\n",
              "      <td>Author, educator</td>\n",
              "      <td>Creativity expert Sir Ken Robinson challenged ...</td>\n",
              "      <td>Why don't we get the best out of people? Sir K...</td>\n",
              "      <td>[{'id': '69', 'slug': 'sir_ken_robinson', 'is_...</td>\n",
              "      <td>2006-02-25</td>\n",
              "      <td>2006-06-27 00:11:00</td>\n",
              "      <td>7</td>\n",
              "      <td>en</td>\n",
              "      <td>en</td>\n",
              "      <td>https://www.ted.com/talks/sir_ken_robinson_do_...</td>\n",
              "      <td>[{'status': 'approved', 'headline': '*You, You...</td>\n",
              "      <td>3</td>\n",
              "      <td>1</td>\n",
              "      <td>[{'id': '30217', 'hero': 'https://s3.amazonaws...</td>\n",
              "      <td>6</td>\n",
              "      <td>good morning audience good great blow away who...</td>\n",
              "      <td>[creativity, culture, dance, education, parent...</td>\n",
              "      <td>education</td>\n",
              "    </tr>\n",
              "    <tr>\n",
              "      <th>0</th>\n",
              "      <td>66</td>\n",
              "      <td>Do schools kill creativity?</td>\n",
              "      <td>Sir Ken Robinson makes an entertaining and pro...</td>\n",
              "      <td>70669861</td>\n",
              "      <td>1164</td>\n",
              "      <td>Good morning. How are you?(Audience) Good.It's...</td>\n",
              "      <td>TED Stage Talk</td>\n",
              "      <td>TED2006</td>\n",
              "      <td>69.0</td>\n",
              "      <td>Sir Ken Robinson</td>\n",
              "      <td>Author, educator</td>\n",
              "      <td>Creativity expert Sir Ken Robinson challenged ...</td>\n",
              "      <td>Why don't we get the best out of people? Sir K...</td>\n",
              "      <td>[{'id': '69', 'slug': 'sir_ken_robinson', 'is_...</td>\n",
              "      <td>2006-02-25</td>\n",
              "      <td>2006-06-27 00:11:00</td>\n",
              "      <td>7</td>\n",
              "      <td>en</td>\n",
              "      <td>en</td>\n",
              "      <td>https://www.ted.com/talks/sir_ken_robinson_do_...</td>\n",
              "      <td>[{'status': 'approved', 'headline': '*You, You...</td>\n",
              "      <td>3</td>\n",
              "      <td>1</td>\n",
              "      <td>[{'id': '30217', 'hero': 'https://s3.amazonaws...</td>\n",
              "      <td>6</td>\n",
              "      <td>good morning audience good great blow away who...</td>\n",
              "      <td>[creativity, culture, dance, education, parent...</td>\n",
              "      <td>parenting</td>\n",
              "    </tr>\n",
              "  </tbody>\n",
              "</table>\n",
              "</div>"
            ],
            "text/plain": [
              "   talk__id  ...       theme\n",
              "0        66  ...  creativity\n",
              "0        66  ...     culture\n",
              "0        66  ...       dance\n",
              "0        66  ...   education\n",
              "0        66  ...   parenting\n",
              "\n",
              "[5 rows x 28 columns]"
            ]
          },
          "metadata": {
            "tags": []
          },
          "execution_count": 121
        }
      ]
    },
    {
      "cell_type": "code",
      "metadata": {
        "execution": {
          "iopub.status.busy": "2021-05-22T15:32:40.821202Z",
          "iopub.execute_input": "2021-05-22T15:32:40.821525Z",
          "iopub.status.idle": "2021-05-22T15:32:41.152109Z",
          "shell.execute_reply.started": "2021-05-22T15:32:40.821493Z",
          "shell.execute_reply": "2021-05-22T15:32:41.151327Z"
        },
        "trusted": true,
        "colab": {
          "base_uri": "https://localhost:8080/",
          "height": 291
        },
        "id": "HqkFokuFSRXs",
        "outputId": "beb2dd0e-4277-4e09-a59d-d2d9f30e14b5"
      },
      "source": [
        "#Verificamos el balance de clases\n",
        "pop_themes = pd.DataFrame(theme_df['theme'].value_counts()).reset_index()\n",
        "pop_themes.columns = ['theme', 'talks']\n",
        "\n",
        "plt.figure(figsize=(30,5))\n",
        "sns.barplot(x='theme', y='talks', data=pop_themes.head(20))\n",
        "plt.show()"
      ],
      "execution_count": 128,
      "outputs": [
        {
          "output_type": "display_data",
          "data": {
            "image/png": "[encoded data removed]",
            "text/plain": [
              "<Figure size 2160x360 with 1 Axes>"
            ]
          },
          "metadata": {
            "tags": [],
            "needs_background": "light"
          }
        }
      ]
    },
    {
      "cell_type": "markdown",
      "metadata": {
        "id": "QYl32jAvSRXs"
      },
      "source": [
        "#### 01.05 - Distancias - Similitud del Coseno\n"
      ]
    },
    {
      "cell_type": "code",
      "metadata": {
        "execution": {
          "iopub.status.busy": "2021-05-22T15:53:20.94992Z",
          "iopub.execute_input": "2021-05-22T15:53:20.950288Z",
          "iopub.status.idle": "2021-05-22T15:53:20.958359Z",
          "shell.execute_reply.started": "2021-05-22T15:53:20.950258Z",
          "shell.execute_reply": "2021-05-22T15:53:20.956967Z"
        },
        "trusted": true,
        "id": "bS3_7qt0SRXt"
      },
      "source": [
        "#Preparamos los datos para calcular la Matriz de Frecuencias\n",
        "Text = theme_df[\"CleanTranscript\"].tolist()"
      ],
      "execution_count": 142,
      "outputs": []
    },
    {
      "cell_type": "code",
      "metadata": {
        "execution": {
          "iopub.status.busy": "2021-05-22T15:53:23.045858Z",
          "iopub.execute_input": "2021-05-22T15:53:23.046469Z",
          "iopub.status.idle": "2021-05-22T15:53:25.929698Z",
          "shell.execute_reply.started": "2021-05-22T15:53:23.046432Z",
          "shell.execute_reply": "2021-05-22T15:53:25.928623Z"
        },
        "trusted": true,
        "id": "AYQZ29RtSRXt"
      },
      "source": [
        "#Generamos Matriz de Frecuencias\n",
        "vectorizer = TfidfVectorizer()\n",
        "tfidf = vectorizer.fit_transform(Text)"
      ],
      "execution_count": null,
      "outputs": []
    },
    {
      "cell_type": "code",
      "metadata": {
        "execution": {
          "iopub.status.busy": "2021-05-22T15:53:29.4196Z",
          "iopub.execute_input": "2021-05-22T15:53:29.420115Z",
          "iopub.status.idle": "2021-05-22T15:53:31.382403Z",
          "shell.execute_reply.started": "2021-05-22T15:53:29.420083Z",
          "shell.execute_reply": "2021-05-22T15:53:31.381381Z"
        },
        "trusted": true,
        "id": "ww44n08vSRXt"
      },
      "source": [
        "#matrix_simil = cosine_similarity(tfidf)\n",
        "#df_simil = pd.DataFrame(matrix_simil)\n",
        "#df_simil\n",
        "#Muriose, no ejecutar"
      ],
      "execution_count": null,
      "outputs": []
    },
    {
      "cell_type": "markdown",
      "metadata": {
        "id": "gsMM2MOpre3d"
      },
      "source": [
        "### 02.Modelado"
      ]
    },
    {
      "cell_type": "markdown",
      "metadata": {
        "id": "dJ4F7tCSrCpi"
      },
      "source": [
        "02.00 - Train / Test Split"
      ]
    },
    {
      "cell_type": "code",
      "metadata": {
        "id": "Rx9Jx-48rFnw"
      },
      "source": [
        "X_train, X_test, y_train, y_test = train_test_split(theme_df.CleanTranscript, theme_df.theme, test_size=.30)\n",
        "X_train.head()"
      ],
      "execution_count": null,
      "outputs": []
    },
    {
      "cell_type": "markdown",
      "metadata": {
        "id": "FIR0zjq3r7WG"
      },
      "source": [
        "02.01 - Stacking"
      ]
    },
    {
      "cell_type": "code",
      "metadata": {
        "id": "ibmQQrMzrzD1"
      },
      "source": [
        "estimators = [\n",
        "    ('rf', RandomForestClassifier()),\n",
        "    ('svr', LinearSVC()),\n",
        "    ('nb', GaussianNB()),\n",
        "    ('dt', DecisionTreeClassifier()),\n",
        "    ('ab', AdaBoostClassifier())\n",
        "]\n",
        "\n",
        "model = StackingClassifier(estimators=estimators, final_estimator=LogisticRegression())\n",
        "\n",
        "model.fit(X_train_transform.toarray(), y_train).score(X_test_transform.toarray(), y_test)\n",
        "\n",
        "model.predict(X_test_transform.toarray())"
      ],
      "execution_count": null,
      "outputs": []
    }
  ]
}