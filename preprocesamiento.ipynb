{
  "nbformat": 4,
  "nbformat_minor": 0,
  "metadata": {
    "kernelspec": {
      "language": "python",
      "display_name": "Python 3",
      "name": "python3"
    },
    "language_info": {
      "name": "python",
      "version": "3.7.9",
      "mimetype": "text/x-python",
      "codemirror_mode": {
        "name": "ipython",
        "version": 3
      },
      "pygments_lexer": "ipython3",
      "nbconvert_exporter": "python",
      "file_extension": ".py"
    },
    "colab": {
      "name": "preprocesamiento.ipynb",
      "provenance": []
    }
  },
  "cells": [
    {
      "cell_type": "code",
      "metadata": {
        "trusted": true,
        "id": "mpS-KN-QPcjQ"
      },
      "source": [
        "! pip install -U spacy\n",
        "! pip install https://github.com/explosion/spacy-models/releases/download/en_core_web_lg-3.0.0/en_core_web_lg-3.0.0.tar.gz\n",
        "\n",
        "import os\n",
        "import os.path\n",
        "import pprint\n",
        "import string\n",
        "import re\n",
        "import bs4\n",
        "import time\n",
        "import requests\n",
        "import json\n",
        "import random\n",
        "import warnings\n",
        "import gc\n",
        "import pandas as pd\n",
        "import numpy as np\n",
        "import plotly.express as px\n",
        "\n",
        "from multiprocessing import Manager, Process\n",
        "from bs4 import BeautifulSoup\n",
        "from datetime import datetime\n",
        "from google.colab import drive\n",
        "\n",
        "import nltk\n",
        "from nltk.text import Text\n",
        "from nltk.tokenize import word_tokenize, sent_tokenize\n",
        "from nltk.corpus import stopwords\n",
        "from nltk.stem import SnowballStemmer\n",
        "from nltk.collocations import BigramCollocationFinder,BigramAssocMeasures\n",
        "\n",
        "import spacy\n",
        "from spacy import displacy\n",
        "\n",
        "from sklearn.feature_extraction.text import TfidfVectorizer\n",
        "from sklearn.feature_extraction.text import CountVectorizer\n",
        "from sklearn.model_selection import train_test_split\n",
        "from sklearn.pipeline import Pipeline\n",
        "from sklearn.linear_model import LogisticRegression\n",
        "from sklearn.svm import LinearSVC\n",
        "from sklearn.naive_bayes import GaussianNB\n",
        "from sklearn.tree import DecisionTreeClassifier\n",
        "from sklearn.ensemble import StackingClassifier, RandomForestClassifier, AdaBoostClassifier\n",
        "from sklearn.metrics.pairwise import cosine_similarity\n",
        "\n",
        "warnings.filterwarnings('ignore')\n",
        "\n",
        "nltk.download('all')\n",
        "pp = pprint.PrettyPrinter(indent=4, compact=True)\n",
        "nlp = spacy.load(\"en_core_web_lg\")\n",
        "\n",
        "ted_file = 'Ted_Talk.csv'\n",
        "\n",
        "language = 'english'\n",
        "\n",
        "language_stops = set(stopwords.words(language))\n",
        "language_stops.update(string.punctuation)"
      ],
      "execution_count": null,
      "outputs": []
    },
    {
      "cell_type": "code",
      "metadata": {
        "trusted": true,
        "id": "XODk3OYsPcjS"
      },
      "source": [
        "def remove_stop_words(text):\n",
        "  \"\"\"\n",
        "    Remueve stop words en inglés\n",
        "\n",
        "    Attributes\n",
        "    ----------\n",
        "    text: list\n",
        "      lista de palabras (tokens) a filtrar\n",
        "\n",
        "    Returns\n",
        "    -------\n",
        "    list\n",
        "      lista de palabras sin los stop words\n",
        "  \"\"\"\n",
        "  return [token for token in text if token.lower() not in language_stops]"
      ],
      "execution_count": 6,
      "outputs": []
    },
    {
      "cell_type": "code",
      "metadata": {
        "trusted": true,
        "id": "RiXgrc6zPcjT"
      },
      "source": [
        "def lematize_words(text):\n",
        "  \"\"\"\n",
        "    Lematización de palabras - aplica lematización de palabras sobre un set de tokens\n",
        "\n",
        "    Attributes\n",
        "    ----------\n",
        "    text: list\n",
        "      lista de palabras (tokens) sobre los cuales se aplicará la lematización\n",
        "    \n",
        "    Returns\n",
        "    -------\n",
        "    list\n",
        "      lista con todas las lematizaciones de las palabras\n",
        "  \"\"\"\n",
        "  doc = nlp(\" \".join(text))\n",
        "  return [token.lemma_ for token in doc]"
      ],
      "execution_count": 7,
      "outputs": []
    },
    {
      "cell_type": "code",
      "metadata": {
        "trusted": true,
        "id": "lxBj3K1CPcjT"
      },
      "source": [
        "def remove_meaningless_words(text):\n",
        "  \"\"\"\n",
        "    Remueve palabras sin significado\n",
        "\n",
        "    Attributes\n",
        "    ----------\n",
        "    text: list\n",
        "      lista de palabras (tokens) a filtrar\n",
        "    \n",
        "    Returns\n",
        "    -------\n",
        "    list\n",
        "      lista de palabras filtrada en base a expresiones regulares\n",
        "  \"\"\"\n",
        "  patterns = [r\"(^={1,}=$)\", r'\\u200b']\n",
        "  tokens = text\n",
        "  for pattern in patterns:\n",
        "    regexp = re.compile(pattern)\n",
        "    tokens = [token for token in tokens if not regexp.search(token)]\n",
        "  return tokens"
      ],
      "execution_count": 8,
      "outputs": []
    },
    {
      "cell_type": "code",
      "metadata": {
        "id": "N8pyM7nUg5_Y"
      },
      "source": [
        "def clean_short_words(text):\n",
        "  \"\"\"\n",
        "    Limpia palabras con longitud 1\n",
        "\n",
        "    Attributes\n",
        "    ----------\n",
        "    text: str\n",
        "      documento a tokenizar\n",
        "    \n",
        "    Returns\n",
        "    -------\n",
        "    list\n",
        "      lista de tokens\n",
        "  \"\"\"\n",
        "  return [word for word in text if len(word) > 1]"
      ],
      "execution_count": 9,
      "outputs": []
    },
    {
      "cell_type": "code",
      "metadata": {
        "trusted": true,
        "id": "oZzaWUJ-PcjU"
      },
      "source": [
        "def tokenize(text, mode='word'): \n",
        "  \"\"\"\n",
        "    Tokenización de documento - tokeniza un documento por palabra o por oración\n",
        "\n",
        "    Attributes\n",
        "    ----------\n",
        "    text: str\n",
        "      documento a tokenizar\n",
        "    mode: str, optional\n",
        "      método de tokenización (default: 'word' (por palabra))\n",
        "    \n",
        "    Returns\n",
        "    -------\n",
        "    list\n",
        "      lista de tokens \n",
        "    \n",
        "    Raises\n",
        "    ------\n",
        "      Exception\n",
        "        si el mode no es 'word' o 'sentence'\n",
        "  \"\"\"\n",
        "  if mode == 'word':\n",
        "    return word_tokenize(text, language=language)\n",
        "  elif mode == 'sentence':\n",
        "    return sent_tokenize(text, language=language)\n",
        "  else:\n",
        "    raise Exception('metodo de tokenizacion no encontrado')"
      ],
      "execution_count": 10,
      "outputs": []
    },
    {
      "cell_type": "code",
      "metadata": {
        "id": "W_ztZFXvaJwL"
      },
      "source": [
        "def similarity_btw_docs(matrix):\n",
        "  \"\"\"\n",
        "    Similitud entre documentos - calcula la similitud entre documentos utilizando Similitud del Coseno\n",
        "\n",
        "    Attributes\n",
        "    ----------\n",
        "    matrix: scipy matrix\n",
        "      Matriz dispersa para calcular la similaridad\n",
        "\n",
        "    Returns\n",
        "    -------\n",
        "    pd.DataFrame\n",
        "      retorna un dataframe con el grado de similaridad entre documentos (de 0 a 1)\n",
        "  \"\"\"\n",
        "  matrix_simil = cosine_similarity(matrix)\n",
        "  return pd.DataFrame(matrix_simil)"
      ],
      "execution_count": 11,
      "outputs": []
    },
    {
      "cell_type": "code",
      "metadata": {
        "trusted": true,
        "id": "Bf4WsWGvPcjU"
      },
      "source": [
        "def pre_procesamiento_texto(text):\n",
        "  \"\"\"\n",
        "    Pre-procesamiento y obtención de las 20 palabras más significativas\n",
        "\n",
        "    Attributes\n",
        "    ----------\n",
        "    text: str\n",
        "      documento a analizar\n",
        "\n",
        "    Returns\n",
        "    -------\n",
        "    pd.DataFrame\n",
        "      retorna un dataframe con las 20 palabras que más se repiten y su frecuencia\n",
        "  \"\"\"\n",
        "  tokenized = tokenize(text)\n",
        "  without_stops = remove_stop_words(tokenized)\n",
        "  meaningfull_tokens = remove_meaningless_words(without_stops)\n",
        "  without_short_words = clean_short_words(meaningfull_tokens)\n",
        "  lematized_words = lematize_words(without_short_words)\n",
        "  return lematized_words"
      ],
      "execution_count": 12,
      "outputs": []
    },
    {
      "cell_type": "code",
      "metadata": {
        "id": "6e-TwcgTfEdm"
      },
      "source": [
        "def remove_character(serie, char):\n",
        "  \"\"\"\n",
        "    Pre-procesamiento y obtención de las 20 palabras más significativas\n",
        "\n",
        "    Attributes\n",
        "    ----------\n",
        "    serie: pd.Serie\n",
        "      columna de dataframe a modificar\n",
        "    char: char\n",
        "      caracter a remover\n",
        "\n",
        "    Returns\n",
        "    -------\n",
        "    pd.Serie\n",
        "      retorna una serie\n",
        "  \"\"\"\n",
        "  return serie.str.replace(char, '')"
      ],
      "execution_count": 13,
      "outputs": []
    },
    {
      "cell_type": "code",
      "metadata": {
        "id": "CzoP6oEjAw_S"
      },
      "source": [
        "def get_urls(page_list):\n",
        "  \"\"\"\n",
        "    Obtencion de las urls de las charlas TED\n",
        "\n",
        "    Attributes\n",
        "    ----------\n",
        "    page_list: list\n",
        "      lista de paginas de charlas TED\n",
        "\n",
        "    Returns\n",
        "    -------\n",
        "    list\n",
        "      retorna una lista con todas las urls de las charlas TED\n",
        "  \"\"\"\n",
        "  urls = [\"https://www.ted.com\" + url.select(\"div.media__image a.ga-link\")[0].get(\"href\") for url in page_list]\n",
        "  return urls"
      ],
      "execution_count": 14,
      "outputs": []
    },
    {
      "cell_type": "code",
      "metadata": {
        "id": "eEpby7DOCgvL"
      },
      "source": [
        "def get_transcript(url, count):\n",
        "  \"\"\"\n",
        "    Obtiene la transcripcion de una determinada charla ted\n",
        "\n",
        "    Attributes\n",
        "    ----------\n",
        "    url: str\n",
        "      url de la charla TED\n",
        "    count: int\n",
        "      indice de la pagina url\n",
        "\n",
        "    Returns\n",
        "    -------\n",
        "    str\n",
        "      retorna una cadena de caracteres con la transcripcion de la charla TED\n",
        "  \"\"\"\n",
        "  transcript = \"\"\n",
        "  transcript_res = requests.get(url, headers = {'User-agent': 'your bot 0.1'})\n",
        "  soup = BeautifulSoup(transcript_res.text)\n",
        "  e = soup.select('div.Grid.Grid--with-gutter.p-b:4')\n",
        "\n",
        "  for  e_  in e:\n",
        "    classes = e_.get('class')\n",
        "    text = e_.select('p')[0].text\n",
        "    transcript += text.strip().replace('\\t', '').replace('\\n', ' ')\n",
        "                                \n",
        "  if (transcript_res.status_code!=200) or (transcript_res.text=='') or (transcript==''):\n",
        "    count_=0\n",
        "    while  count_ < 3: \n",
        "      time.sleep(random.randint(0,900)/1000)\n",
        "      transcript_res = requests.get(url, headers = {'User-agent': 'your bot 0.1'})\n",
        "      soup = BeautifulSoup(transcript_res.text)\n",
        "      e = soup.select('div.Grid.Grid--with-gutter.p-b:4')\n",
        "\n",
        "      for  e_  in e:\n",
        "        classes = e_.get('class')\n",
        "        text = e_.select('p')[0].text\n",
        "        transcript += text.strip().replace('\\t', '').replace('\\n', ' ')\n",
        "\n",
        "      count_ += 1\n",
        "      if (transcript_res.status_code==200) and (transcript_res.text!='') and (transcript!=''):\n",
        "        break\n",
        "\n",
        "  return transcript"
      ],
      "execution_count": 15,
      "outputs": []
    },
    {
      "cell_type": "code",
      "metadata": {
        "id": "tbFeF_2QDiht"
      },
      "source": [
        "def get__json_obj(url):\n",
        "  \"\"\"\n",
        "    Obtiene el objecto JSON de una respectiva URL\n",
        "\n",
        "    Attributes\n",
        "    ----------\n",
        "    url: str\n",
        "      url a analizar\n",
        "\n",
        "    Returns\n",
        "    -------\n",
        "    str\n",
        "      retorna una cadena de caracteres que representa el objeto JSON de la URL\n",
        "  \"\"\"\n",
        "  res = requests.get(url.strip(), headers = {'User-agent': 'your bot 0.1'})\n",
        "  start_index = res.text.find('<script data-spec=\"q\">q(\"talkPage.init\",')\n",
        "  end_index = res.text[start_index:].find(')</script>')\n",
        "  script_tag = res.text[start_index: start_index + end_index]\n",
        "  return script_tag[len('<script data-spec=\"q\">q(\"talkPage.init\",'):]"
      ],
      "execution_count": 16,
      "outputs": []
    },
    {
      "cell_type": "code",
      "metadata": {
        "id": "kMJpi2ezDl14"
      },
      "source": [
        "def get_value(l, m):\n",
        "  \"\"\"\n",
        "    Obtiene el valor de un elemento HTML\n",
        "\n",
        "    Attributes\n",
        "    ----------\n",
        "    l: list\n",
        "      elementos\n",
        "    m: s\n",
        "      metadata\n",
        "\n",
        "    Returns\n",
        "    -------\n",
        "    str\n",
        "      retorna el valor del elemento HTML\n",
        "  \"\"\"\n",
        "  for i in l:\n",
        "    try:\n",
        "      m = m[i]\n",
        "    except: \n",
        "      return ''\n",
        "  return m"
      ],
      "execution_count": 19,
      "outputs": []
    },
    {
      "cell_type": "code",
      "metadata": {
        "id": "gzRUPBOyDnPi"
      },
      "source": [
        "def html_to_text(html):\n",
        "  \"\"\"\n",
        "    Convierte un valor HTML a cadena de caracteres\n",
        "\n",
        "    Attributes\n",
        "    ----------\n",
        "    html: str\n",
        "      valor de elemento HTML\n",
        "\n",
        "    Returns\n",
        "    -------\n",
        "    str\n",
        "      retorna la representacion del valor del elemento HTML en cadena de caracdteres\n",
        "  \"\"\"\n",
        "  if str(html)!='nan':\n",
        "    soup = BeautifulSoup(html)\n",
        "    return soup.get_text()\n",
        "  else: \n",
        "    return html"
      ],
      "execution_count": 20,
      "outputs": []
    },
    {
      "cell_type": "code",
      "metadata": {
        "id": "ic8DxLvnHnJf"
      },
      "source": [
        "def get_elements_dict_from_url(count, url, json_obj):\n",
        "  \"\"\"\n",
        "    Generacion de diccionario de elementos de una URL\n",
        "\n",
        "    Attributes\n",
        "    ----------\n",
        "    count: int\n",
        "      indice de la URL dentro del listado de URLs\n",
        "    url: str\n",
        "      url a analizar\n",
        "    json_obj: str\n",
        "      objeto JSON de la URL\n",
        "\n",
        "    Returns\n",
        "    -------\n",
        "    dict\n",
        "      retorna un diccionario que contiene todos los elementos HTML con sus respectivos valores\n",
        "  \"\"\"\n",
        "  metadata = json.loads(json_obj)[\"__INITIAL_DATA__\"]\n",
        "  language = get_value([\"language\"], metadata)\n",
        "  url__transcript = url + \"/transcript?language=\" + language\n",
        "  temp = get_value([\"talks\", 0, \"recorded_at\"], metadata)\n",
        "  t = get_value([\"talks\", 0, \"player_talks\", 0, \"published\"], metadata)\n",
        "\n",
        "  d = dict()\n",
        "  d[\"language\"]  =  language\n",
        "  d[\"talk__id\"]  =  get_value([\"current_talk\"], metadata)\n",
        "  d[\"talk__name\"]  =  get_value([\"talks\", 0, \"title\"], metadata)\n",
        "  d[\"talk__description\"]  =  get_value([\"description\"], metadata)\n",
        "  d[\"view_count\"]  =  get_value([\"viewed_count\"], metadata)\n",
        "  d[\"duration\"]  =  get_value([\"talks\", 0, \"duration\"], metadata)\n",
        "  d[\"transcript\"]  =  get_transcript(url__transcript,count)\n",
        "  d[\"video_type_name\"]  =  get_value([\"talks\", 0, \"video_type\", \"name\"], metadata)\n",
        "  d[\"event\"]  =  get_value([\"event\"], metadata)               \n",
        "  d[\"speaker__id\"]  =  get_value([\"speakers\", 0, \"id\"], metadata)                        \n",
        "  d[\"speaker__name\"]  =  get_value([\"talks\", 0, \"speaker_name\"], metadata)\n",
        "  d[\"speaker__description\"]  =  get_value([\"speakers\", 0, \"description\"], metadata)\n",
        "  d[\"speaker__who_he_is\"]  =  get_value([\"speakers\", 0, \"whotheyare\"], metadata)\n",
        "  d[\"speaker__why_listen\"]  =  html_to_text(get_value([\"speakers\", 0, \"whylisten\"], metadata))\n",
        "  d[\"all_speakers_details\"]  =  get_value([\"speakers\"], metadata)                       \n",
        "  d[\"recording_date\"]  =  temp  if temp==None  else temp[:10]                        \n",
        "  d[\"published_timestamp\"]  =  datetime.utcfromtimestamp(int(t)).strftime('%Y-%m-%d %H:%M:%S')                      \n",
        "  d[\"talks__tags\"]  =  get_value([\"talks\", 0, \"tags\"], metadata)\n",
        "  d[\"number_of__tags\"]  =  len(get_value([\"talks\", 0, \"tags\"], metadata) or \"\")                       \n",
        "  d[\"native_language\"]  =  get_value([\"talks\", 0, \"player_talks\", 0, \"nativeLanguage\"], metadata)                   \n",
        "  d[\"url__webpage\"]  =  get_value([\"url\"], metadata)                    \n",
        "  d[\"talk__more_resources\"]  =  get_value([\"talks\", 0, \"more_resources\"], metadata)\n",
        "  d[\"number_of__talk__more_resources\"]  =  len(get_value([\"talks\", 0, \"more_resources\"], metadata) or \"\")\n",
        "  d[\"talk__recommendations__blurb\"]  =  get_value([\"talks\", 0, \"recommendations\", \"blurb\"], metadata)                    \n",
        "  d[\"talk__recommendations\"]  =  get_value([\"talks\", 0, \"recommendations\", \"rec_lists\"], metadata)\n",
        "  d[\"number_of__talk__recommendations\"]  =  len(get_value([\"talks\", 0, \"recommendations\", \"rec_lists\"], metadata) or \"\")\n",
        "  d[\"related_talks\"]  =  get_value([\"talks\", 0, \"related_talks\"], metadata)\n",
        "  d[\"number_of__related_talks\"]  =  len(get_value([\"talks\", 0, \"related_talks\"], metadata) or \"\")\n",
        "\n",
        "  return d"
      ],
      "execution_count": 22,
      "outputs": []
    },
    {
      "cell_type": "code",
      "metadata": {
        "id": "dsGz8F2JBcli"
      },
      "source": [
        "def download(urls, id_, csv_list):\n",
        "  \"\"\"\n",
        "    Descarga toda la informacion respecto a las charlas TED\n",
        "\n",
        "    Attributes\n",
        "    ----------\n",
        "    urls: list\n",
        "      lista de URLs a descargar\n",
        "    id_: int\n",
        "      lorem ipsum dolor\n",
        "    csv_list: list\n",
        "      csv donde se guardara la informacion respecto a las charlas ted\n",
        "  \"\"\"\n",
        "  for count, url in enumerate(urls):\n",
        "    json_obj = get__json_obj(url)\n",
        "\n",
        "    if not json_obj:\n",
        "      count=0\n",
        "      while count < 3:    \n",
        "        json_obj  =  get__json_obj(url)\n",
        "        count += 1\n",
        "        if json_obj:\n",
        "          break\n",
        "\n",
        "    if not json_obj:\n",
        "      continue\n",
        "    else:\n",
        "      csv_list.append(get_elements_dict_from_url(count, url, json_obj))"
      ],
      "execution_count": 23,
      "outputs": []
    },
    {
      "cell_type": "code",
      "metadata": {
        "id": "-zas0aNy_vzU"
      },
      "source": [
        "def scrape_ted_urls(urls, file_name):\n",
        "  \"\"\"\n",
        "    Realiza un proceso de web-scraping sobre todas las charlas TED\n",
        "\n",
        "    Attributes\n",
        "    ----------\n",
        "    urls: list\n",
        "      URL de charlas TED a scrappear\n",
        "    file_name: list\n",
        "      nombre de archivo donde se guardara toda la informacion de las charlas TED\n",
        "  \"\"\"\n",
        "  csv_list_ = []\n",
        "  \n",
        "  with Manager() as manager:\n",
        "      csv_list = manager.list()\n",
        "      Processess = []\n",
        "      \n",
        "      urls_  = [urls[(i*(len(urls)//100)):((i+1)*(len(urls)//100))] for i in range(100)]\n",
        "      \n",
        "      leftovers = urls[(100*(len(urls)//100)):len(urls)]\n",
        "\n",
        "      for i in range(len(leftovers)):\n",
        "        urls_[i] += [leftovers[i]]\n",
        "      \n",
        "      for (id_,urls__) in enumerate(urls_):\n",
        "          p = Process(target=download, args=(urls__,id_,csv_list))\n",
        "          Processess.append(p)\n",
        "          p.start()\n",
        "          \n",
        "      for t in Processess:\n",
        "        t.join()\n",
        "      \n",
        "      csv_list_ = list(csv_list)\n",
        "\n",
        "  dataframe_ted = pd.DataFrame(csv_list_)\n",
        "  dataframe_ted = dataframe_ted.sort_values(\"view_count\", ascending=False)\n",
        "  dataframe_ted.to_csv(file_name, index=False, encoding='utf-8')"
      ],
      "execution_count": 37,
      "outputs": []
    },
    {
      "cell_type": "code",
      "metadata": {
        "id": "OiFhHSnhFsQD"
      },
      "source": [
        "def get_page_text(page_number):\n",
        "  \"\"\"\n",
        "    Obtiene la URL de una charla TED\n",
        "\n",
        "    Attributes\n",
        "    ----------\n",
        "    page_number: int\n",
        "      numero de pagina\n",
        "\n",
        "    Returns\n",
        "    -------\n",
        "    str\n",
        "      retorna la URL de una charla TED\n",
        "  \"\"\"\n",
        "  res = requests.get(\"https://www.ted.com/talks?sort=popular&page=\" + str(page_number), headers = {'User-agent': 'your bot 0.1'})\n",
        "  soup = bs4.BeautifulSoup(res.text)\n",
        "  element = soup.select(\"div.container.results div.col\")\n",
        "  return element"
      ],
      "execution_count": 25,
      "outputs": []
    },
    {
      "cell_type": "code",
      "metadata": {
        "id": "qOpNgRMhFZEg"
      },
      "source": [
        "def retrieve_pages_url():\n",
        "  \"\"\"\n",
        "    Obtiene las URL de todas las charlas TED en un determinado idioma\n",
        "\n",
        "    Returns\n",
        "    -------\n",
        "    list\n",
        "      retorna un listado de URL de cada charla TED en un determinado idioma\n",
        "  \"\"\"\n",
        "  urls = []\n",
        "  page_number=1\n",
        "\n",
        "  while 1:\n",
        "    page_list_urls = get_page_text(page_number)\n",
        "    \n",
        "    if len(page_list_urls) == 0:    \n",
        "      break\n",
        "    \n",
        "    page_number += 1\n",
        "    urls += get_urls(page_list_urls)\n",
        "\n",
        "  file_ted = open('TED_Talk_URLs.txt', 'w')\n",
        "  file_ted.write('\\n'.join(urls))\n",
        "  file_ted.close()\n",
        "\n",
        "  return urls"
      ],
      "execution_count": 27,
      "outputs": []
    },
    {
      "cell_type": "code",
      "metadata": {
        "id": "ad2Jk-jPAXqP"
      },
      "source": [
        "# Activando Google Drive para guardar la información\n",
        "drive.mount('/content/gdrive')\n",
        "\n",
        "# Directorio donde se guardara/buscara el archivo que contiene la informacion de las charlas TED\n",
        "os.chdir('/content/gdrive/My Drive')"
      ],
      "execution_count": null,
      "outputs": []
    },
    {
      "cell_type": "code",
      "metadata": {
        "id": "IxEo7dxz-qN5"
      },
      "source": [
        "# Si no existe el archivo de TED, hace toda la falopeada de web-scraping asquerosa copy-pasted (toma 6 minutos aprox)\n",
        "if not os.path.isfile(ted_file):\n",
        "  ted_urls = retrieve_pages_url()\n",
        "  scrape_ted_urls(ted_urls, ted_file)"
      ],
      "execution_count": 42,
      "outputs": []
    },
    {
      "cell_type": "code",
      "metadata": {
        "id": "KWbUBsdd-iIQ"
      },
      "source": [
        "tedx_df = pd.read_csv(ted_file)\n",
        "tedx_df.head()"
      ],
      "execution_count": null,
      "outputs": []
    },
    {
      "cell_type": "code",
      "metadata": {
        "id": "GkD-qoC0cgR9"
      },
      "source": [
        "tedx_df = tedx_df.assign(talks__tags=tedx_df['talks__tags'].str.split(',')).explode('talks__tags')\n",
        "tedx_df['tag'] = remove_character(remove_character(remove_character(tedx_df['talks__tags'], \"[\"), \"'\"), \"]\")"
      ],
      "execution_count": null,
      "outputs": []
    },
    {
      "cell_type": "code",
      "metadata": {
        "id": "huR-2Kyjf_eu"
      },
      "source": [
        "tedx_df = tedx_df[tedx_df['transcript'] != np.nan]"
      ],
      "execution_count": 45,
      "outputs": []
    },
    {
      "cell_type": "code",
      "metadata": {
        "trusted": true,
        "id": "0qZKCaymPcjV"
      },
      "source": [
        "X_train, X_test, y_train, y_test = train_test_split(tedx_df.transcript, tedx_df.tag, test_size=.30)\n",
        "X_train = X_train.values.astype('U')\n",
        "X_test = X_test.values.astype('U')\n",
        "del tedx_df\n",
        "gc.collect()"
      ],
      "execution_count": 47,
      "outputs": []
    },
    {
      "cell_type": "code",
      "metadata": {
        "id": "wxFMDOhJkZTI"
      },
      "source": [
        "tfidf_vectorizer = TfidfVectorizer(tokenizer=pre_procesamiento_texto)"
      ],
      "execution_count": 49,
      "outputs": []
    },
    {
      "cell_type": "code",
      "metadata": {
        "id": "_8iREclvk6tJ"
      },
      "source": [
        "estimators = [\n",
        "    ('rf', RandomForestClassifier()),\n",
        "    ('svr', LinearSVC()),\n",
        "    ('nb', GaussianNB()),\n",
        "    ('dt', DecisionTreeClassifier()),\n",
        "    ('ab', AdaBoostClassifier())\n",
        "]\n",
        "\n",
        "model = StackingClassifier(estimators=estimators, final_estimator=LogisticRegression())"
      ],
      "execution_count": 50,
      "outputs": []
    },
    {
      "cell_type": "code",
      "metadata": {
        "id": "-ihsaieSkHG5"
      },
      "source": [
        "ml_pipeline = Pipeline(steps=[\n",
        "                              ('preprocessor', tfidf_vectorizer),\n",
        "                              ('classifier', model)\n",
        "])"
      ],
      "execution_count": 51,
      "outputs": []
    },
    {
      "cell_type": "code",
      "metadata": {
        "id": "tljVtYrnmxrd"
      },
      "source": [
        "ml_pipeline.fit(X_train, y_train)"
      ],
      "execution_count": null,
      "outputs": []
    },
    {
      "cell_type": "code",
      "metadata": {
        "id": "U1jnluBwtd44"
      },
      "source": [
        "# TODO: Aplicar la función de similarity_btw_docs"
      ],
      "execution_count": null,
      "outputs": []
    }
  ]
}