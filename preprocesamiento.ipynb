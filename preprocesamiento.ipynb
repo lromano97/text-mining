{
  "nbformat": 4,
  "nbformat_minor": 0,
  "metadata": {
    "kernelspec": {
      "language": "python",
      "display_name": "Python 3",
      "name": "python3"
    },
    "language_info": {
      "name": "python",
      "version": "3.7.9",
      "mimetype": "text/x-python",
      "codemirror_mode": {
        "name": "ipython",
        "version": 3
      },
      "pygments_lexer": "ipython3",
      "nbconvert_exporter": "python",
      "file_extension": ".py"
    },
    "colab": {
      "name": "preprocesamiento.ipynb",
      "provenance": [],
      "collapsed_sections": [],
      "toc_visible": true
    }
  },
  "cells": [
    {
      "cell_type": "markdown",
      "metadata": {
        "id": "aY9MeBbDn0hw"
      },
      "source": [
        "<center> <img src=\"https://www.austral.edu.ar/ingenieria-posgrados/wp-content/uploads/2018/06/ua-ingenieria-color-logo.png\"/> </center>\n",
        "\n",
        "## Text Mining\n",
        "## Proyecto: Clasificador de TED Talks\n",
        "\n",
        "\n",
        "\n"
      ]
    },
    {
      "cell_type": "markdown",
      "metadata": {
        "id": "UyJveTWhzzSA"
      },
      "source": [
        "### 01.Preprocesamiento"
      ]
    },
    {
      "cell_type": "markdown",
      "metadata": {
        "id": "XwoLq6VBrCjt"
      },
      "source": [
        "#### 01.00 - Preparación del Entorno"
      ]
    },
    {
      "cell_type": "code",
      "metadata": {
        "trusted": true,
        "id": "mpS-KN-QPcjQ",
        "colab": {
          "base_uri": "https://localhost:8080/"
        },
        "outputId": "ee62c8a4-7528-4319-93ad-f74491521cf0"
      },
      "source": [
        "#Instalación de Bibliotecas y recursos\n",
        "! pip install -U spacy\n",
        "! pip install https://github.com/explosion/spacy-models/releases/download/en_core_web_lg-3.0.0/en_core_web_lg-3.0.0.tar.gz\n",
        "! pip install unidecode\n",
        "\n",
        "#Generales:\n",
        "import os\n",
        "import os.path\n",
        "import pprint\n",
        "import string\n",
        "import unidecode\n",
        "import re\n",
        "import bs4\n",
        "import time\n",
        "import requests\n",
        "import json\n",
        "import random\n",
        "import warnings\n",
        "import gc\n",
        "import pandas as pd\n",
        "import numpy as np\n",
        "import plotly.express as px\n",
        "import ast\n",
        "import matplotlib.pyplot as plt\n",
        "import seaborn as sns\n",
        "import pprint\n",
        "\n",
        "#WebScraping\n",
        "from multiprocessing import Manager, Process\n",
        "from bs4 import BeautifulSoup\n",
        "from datetime import datetime\n",
        "from google.colab import drive\n",
        "\n",
        "#Particulares\n",
        "import nltk\n",
        "from nltk.text import Text\n",
        "from nltk.tokenize import word_tokenize, sent_tokenize\n",
        "from nltk.corpus import stopwords\n",
        "from nltk.stem import SnowballStemmer\n",
        "from nltk.collocations import BigramCollocationFinder,BigramAssocMeasures\n",
        "import spacy\n",
        "from spacy import displacy\n",
        "\n",
        "#Modelo\n",
        "from sklearn.feature_extraction.text import TfidfVectorizer\n",
        "from sklearn.feature_extraction.text import CountVectorizer\n",
        "from sklearn.model_selection import train_test_split\n",
        "from sklearn.pipeline import Pipeline\n",
        "from sklearn.linear_model import LogisticRegression\n",
        "from sklearn.svm import LinearSVC\n",
        "from sklearn.naive_bayes import GaussianNB\n",
        "from sklearn.tree import DecisionTreeClassifier\n",
        "from sklearn.ensemble import StackingClassifier, RandomForestClassifier, AdaBoostClassifier\n",
        "from sklearn.metrics.pairwise import cosine_similarity\n",
        "from sklearn.multiclass import OneVsRestClassifier\n",
        "from sklearn.preprocessing import MultiLabelBinarizer\n",
        "from sklearn.metrics import accuracy_score, recall_score, precision_score\n",
        "\n",
        "ted_file = 'Ted_Talk.csv'\n",
        "language = 'english'\n",
        "\n",
        "warnings.filterwarnings('ignore')\n",
        "\n",
        "nltk.download('all')\n",
        "pp = pprint.PrettyPrinter(indent=4, compact=True)\n",
        "nlp = spacy.load(\"en_core_web_lg\")\n",
        "\n",
        "language_stops = set(stopwords.words(language))\n",
        "language_stops.update(string.punctuation)\n",
        "\n",
        "pp = pprint.PrettyPrinter(compact=True)"
      ],
      "execution_count": 70,
      "outputs": [
        {
          "output_type": "stream",
          "text": [
            "Requirement already up-to-date: spacy in /usr/local/lib/python3.7/dist-packages (3.0.6)\n",
            "Requirement already satisfied, skipping upgrade: thinc<8.1.0,>=8.0.3 in /usr/local/lib/python3.7/dist-packages (from spacy) (8.0.3)\n",
            "Requirement already satisfied, skipping upgrade: catalogue<2.1.0,>=2.0.3 in /usr/local/lib/python3.7/dist-packages (from spacy) (2.0.4)\n",
            "Requirement already satisfied, skipping upgrade: packaging>=20.0 in /usr/local/lib/python3.7/dist-packages (from spacy) (20.9)\n",
            "Requirement already satisfied, skipping upgrade: blis<0.8.0,>=0.4.0 in /usr/local/lib/python3.7/dist-packages (from spacy) (0.4.1)\n",
            "Requirement already satisfied, skipping upgrade: pathy>=0.3.5 in /usr/local/lib/python3.7/dist-packages (from spacy) (0.5.2)\n",
            "Requirement already satisfied, skipping upgrade: cymem<2.1.0,>=2.0.2 in /usr/local/lib/python3.7/dist-packages (from spacy) (2.0.5)\n",
            "Requirement already satisfied, skipping upgrade: jinja2 in /usr/local/lib/python3.7/dist-packages (from spacy) (2.11.3)\n",
            "Requirement already satisfied, skipping upgrade: preshed<3.1.0,>=3.0.2 in /usr/local/lib/python3.7/dist-packages (from spacy) (3.0.5)\n",
            "Requirement already satisfied, skipping upgrade: murmurhash<1.1.0,>=0.28.0 in /usr/local/lib/python3.7/dist-packages (from spacy) (1.0.5)\n",
            "Requirement already satisfied, skipping upgrade: spacy-legacy<3.1.0,>=3.0.4 in /usr/local/lib/python3.7/dist-packages (from spacy) (3.0.5)\n",
            "Requirement already satisfied, skipping upgrade: typer<0.4.0,>=0.3.0 in /usr/local/lib/python3.7/dist-packages (from spacy) (0.3.2)\n",
            "Requirement already satisfied, skipping upgrade: setuptools in /usr/local/lib/python3.7/dist-packages (from spacy) (56.1.0)\n",
            "Requirement already satisfied, skipping upgrade: tqdm<5.0.0,>=4.38.0 in /usr/local/lib/python3.7/dist-packages (from spacy) (4.41.1)\n",
            "Requirement already satisfied, skipping upgrade: srsly<3.0.0,>=2.4.1 in /usr/local/lib/python3.7/dist-packages (from spacy) (2.4.1)\n",
            "Requirement already satisfied, skipping upgrade: wasabi<1.1.0,>=0.8.1 in /usr/local/lib/python3.7/dist-packages (from spacy) (0.8.2)\n",
            "Requirement already satisfied, skipping upgrade: pydantic<1.8.0,>=1.7.1 in /usr/local/lib/python3.7/dist-packages (from spacy) (1.7.4)\n",
            "Requirement already satisfied, skipping upgrade: requests<3.0.0,>=2.13.0 in /usr/local/lib/python3.7/dist-packages (from spacy) (2.23.0)\n",
            "Requirement already satisfied, skipping upgrade: numpy>=1.15.0 in /usr/local/lib/python3.7/dist-packages (from spacy) (1.19.5)\n",
            "Requirement already satisfied, skipping upgrade: typing-extensions<4.0.0.0,>=3.7.4; python_version < \"3.8\" in /usr/local/lib/python3.7/dist-packages (from spacy) (3.7.4.3)\n",
            "Requirement already satisfied, skipping upgrade: zipp>=0.5; python_version < \"3.8\" in /usr/local/lib/python3.7/dist-packages (from catalogue<2.1.0,>=2.0.3->spacy) (3.4.1)\n",
            "Requirement already satisfied, skipping upgrade: pyparsing>=2.0.2 in /usr/local/lib/python3.7/dist-packages (from packaging>=20.0->spacy) (2.4.7)\n",
            "Requirement already satisfied, skipping upgrade: smart-open<4.0.0,>=2.2.0 in /usr/local/lib/python3.7/dist-packages (from pathy>=0.3.5->spacy) (3.0.0)\n",
            "Requirement already satisfied, skipping upgrade: MarkupSafe>=0.23 in /usr/local/lib/python3.7/dist-packages (from jinja2->spacy) (2.0.1)\n",
            "Requirement already satisfied, skipping upgrade: click<7.2.0,>=7.1.1 in /usr/local/lib/python3.7/dist-packages (from typer<0.4.0,>=0.3.0->spacy) (7.1.2)\n",
            "Requirement already satisfied, skipping upgrade: certifi>=2017.4.17 in /usr/local/lib/python3.7/dist-packages (from requests<3.0.0,>=2.13.0->spacy) (2020.12.5)\n",
            "Requirement already satisfied, skipping upgrade: idna<3,>=2.5 in /usr/local/lib/python3.7/dist-packages (from requests<3.0.0,>=2.13.0->spacy) (2.10)\n",
            "Requirement already satisfied, skipping upgrade: chardet<4,>=3.0.2 in /usr/local/lib/python3.7/dist-packages (from requests<3.0.0,>=2.13.0->spacy) (3.0.4)\n",
            "Requirement already satisfied, skipping upgrade: urllib3!=1.25.0,!=1.25.1,<1.26,>=1.21.1 in /usr/local/lib/python3.7/dist-packages (from requests<3.0.0,>=2.13.0->spacy) (1.24.3)\n",
            "Collecting https://github.com/explosion/spacy-models/releases/download/en_core_web_lg-3.0.0/en_core_web_lg-3.0.0.tar.gz\n",
            "\u001b[?25l  Downloading https://github.com/explosion/spacy-models/releases/download/en_core_web_lg-3.0.0/en_core_web_lg-3.0.0.tar.gz (778.7MB)\n",
            "\u001b[K     |████████████████████████████████| 778.7MB 18kB/s \n",
            "\u001b[?25hRequirement already satisfied (use --upgrade to upgrade): en-core-web-lg==3.0.0 from https://github.com/explosion/spacy-models/releases/download/en_core_web_lg-3.0.0/en_core_web_lg-3.0.0.tar.gz in /usr/local/lib/python3.7/dist-packages\n",
            "Requirement already satisfied: spacy<3.1.0,>=3.0.0 in /usr/local/lib/python3.7/dist-packages (from en-core-web-lg==3.0.0) (3.0.6)\n",
            "Requirement already satisfied: numpy>=1.15.0 in /usr/local/lib/python3.7/dist-packages (from spacy<3.1.0,>=3.0.0->en-core-web-lg==3.0.0) (1.19.5)\n",
            "Requirement already satisfied: pathy>=0.3.5 in /usr/local/lib/python3.7/dist-packages (from spacy<3.1.0,>=3.0.0->en-core-web-lg==3.0.0) (0.5.2)\n",
            "Requirement already satisfied: srsly<3.0.0,>=2.4.1 in /usr/local/lib/python3.7/dist-packages (from spacy<3.1.0,>=3.0.0->en-core-web-lg==3.0.0) (2.4.1)\n",
            "Requirement already satisfied: preshed<3.1.0,>=3.0.2 in /usr/local/lib/python3.7/dist-packages (from spacy<3.1.0,>=3.0.0->en-core-web-lg==3.0.0) (3.0.5)\n",
            "Requirement already satisfied: typing-extensions<4.0.0.0,>=3.7.4; python_version < \"3.8\" in /usr/local/lib/python3.7/dist-packages (from spacy<3.1.0,>=3.0.0->en-core-web-lg==3.0.0) (3.7.4.3)\n",
            "Requirement already satisfied: thinc<8.1.0,>=8.0.3 in /usr/local/lib/python3.7/dist-packages (from spacy<3.1.0,>=3.0.0->en-core-web-lg==3.0.0) (8.0.3)\n",
            "Requirement already satisfied: pydantic<1.8.0,>=1.7.1 in /usr/local/lib/python3.7/dist-packages (from spacy<3.1.0,>=3.0.0->en-core-web-lg==3.0.0) (1.7.4)\n",
            "Requirement already satisfied: blis<0.8.0,>=0.4.0 in /usr/local/lib/python3.7/dist-packages (from spacy<3.1.0,>=3.0.0->en-core-web-lg==3.0.0) (0.4.1)\n",
            "Requirement already satisfied: cymem<2.1.0,>=2.0.2 in /usr/local/lib/python3.7/dist-packages (from spacy<3.1.0,>=3.0.0->en-core-web-lg==3.0.0) (2.0.5)\n",
            "Requirement already satisfied: spacy-legacy<3.1.0,>=3.0.4 in /usr/local/lib/python3.7/dist-packages (from spacy<3.1.0,>=3.0.0->en-core-web-lg==3.0.0) (3.0.5)\n",
            "Requirement already satisfied: setuptools in /usr/local/lib/python3.7/dist-packages (from spacy<3.1.0,>=3.0.0->en-core-web-lg==3.0.0) (56.1.0)\n",
            "Requirement already satisfied: packaging>=20.0 in /usr/local/lib/python3.7/dist-packages (from spacy<3.1.0,>=3.0.0->en-core-web-lg==3.0.0) (20.9)\n",
            "Requirement already satisfied: requests<3.0.0,>=2.13.0 in /usr/local/lib/python3.7/dist-packages (from spacy<3.1.0,>=3.0.0->en-core-web-lg==3.0.0) (2.23.0)\n",
            "Requirement already satisfied: jinja2 in /usr/local/lib/python3.7/dist-packages (from spacy<3.1.0,>=3.0.0->en-core-web-lg==3.0.0) (2.11.3)\n",
            "Requirement already satisfied: tqdm<5.0.0,>=4.38.0 in /usr/local/lib/python3.7/dist-packages (from spacy<3.1.0,>=3.0.0->en-core-web-lg==3.0.0) (4.41.1)\n",
            "Requirement already satisfied: catalogue<2.1.0,>=2.0.3 in /usr/local/lib/python3.7/dist-packages (from spacy<3.1.0,>=3.0.0->en-core-web-lg==3.0.0) (2.0.4)\n",
            "Requirement already satisfied: murmurhash<1.1.0,>=0.28.0 in /usr/local/lib/python3.7/dist-packages (from spacy<3.1.0,>=3.0.0->en-core-web-lg==3.0.0) (1.0.5)\n",
            "Requirement already satisfied: typer<0.4.0,>=0.3.0 in /usr/local/lib/python3.7/dist-packages (from spacy<3.1.0,>=3.0.0->en-core-web-lg==3.0.0) (0.3.2)\n",
            "Requirement already satisfied: wasabi<1.1.0,>=0.8.1 in /usr/local/lib/python3.7/dist-packages (from spacy<3.1.0,>=3.0.0->en-core-web-lg==3.0.0) (0.8.2)\n",
            "Requirement already satisfied: smart-open<4.0.0,>=2.2.0 in /usr/local/lib/python3.7/dist-packages (from pathy>=0.3.5->spacy<3.1.0,>=3.0.0->en-core-web-lg==3.0.0) (3.0.0)\n",
            "Requirement already satisfied: pyparsing>=2.0.2 in /usr/local/lib/python3.7/dist-packages (from packaging>=20.0->spacy<3.1.0,>=3.0.0->en-core-web-lg==3.0.0) (2.4.7)\n",
            "Requirement already satisfied: urllib3!=1.25.0,!=1.25.1,<1.26,>=1.21.1 in /usr/local/lib/python3.7/dist-packages (from requests<3.0.0,>=2.13.0->spacy<3.1.0,>=3.0.0->en-core-web-lg==3.0.0) (1.24.3)\n",
            "Requirement already satisfied: certifi>=2017.4.17 in /usr/local/lib/python3.7/dist-packages (from requests<3.0.0,>=2.13.0->spacy<3.1.0,>=3.0.0->en-core-web-lg==3.0.0) (2020.12.5)\n",
            "Requirement already satisfied: idna<3,>=2.5 in /usr/local/lib/python3.7/dist-packages (from requests<3.0.0,>=2.13.0->spacy<3.1.0,>=3.0.0->en-core-web-lg==3.0.0) (2.10)\n",
            "Requirement already satisfied: chardet<4,>=3.0.2 in /usr/local/lib/python3.7/dist-packages (from requests<3.0.0,>=2.13.0->spacy<3.1.0,>=3.0.0->en-core-web-lg==3.0.0) (3.0.4)\n",
            "Requirement already satisfied: MarkupSafe>=0.23 in /usr/local/lib/python3.7/dist-packages (from jinja2->spacy<3.1.0,>=3.0.0->en-core-web-lg==3.0.0) (2.0.1)\n",
            "Requirement already satisfied: zipp>=0.5; python_version < \"3.8\" in /usr/local/lib/python3.7/dist-packages (from catalogue<2.1.0,>=2.0.3->spacy<3.1.0,>=3.0.0->en-core-web-lg==3.0.0) (3.4.1)\n",
            "Requirement already satisfied: click<7.2.0,>=7.1.1 in /usr/local/lib/python3.7/dist-packages (from typer<0.4.0,>=0.3.0->spacy<3.1.0,>=3.0.0->en-core-web-lg==3.0.0) (7.1.2)\n",
            "Building wheels for collected packages: en-core-web-lg\n",
            "  Building wheel for en-core-web-lg (setup.py) ... \u001b[?25l\u001b[?25hdone\n",
            "  Created wheel for en-core-web-lg: filename=en_core_web_lg-3.0.0-cp37-none-any.whl size=778750482 sha256=1ac0de81fa4383e4aba7882031ba446316ac1e39dc8eec77f8d69a2feb60a47e\n",
            "  Stored in directory: /root/.cache/pip/wheels/76/d4/24/e2bbc81bef966db10207f8280a6cdfd45d7a1d2f97657ab1a5\n",
            "Successfully built en-core-web-lg\n",
            "Requirement already satisfied: unidecode in /usr/local/lib/python3.7/dist-packages (1.2.0)\n",
            "[nltk_data] Downloading collection 'all'\n",
            "[nltk_data]    | \n",
            "[nltk_data]    | Downloading package abc to /root/nltk_data...\n",
            "[nltk_data]    |   Package abc is already up-to-date!\n",
            "[nltk_data]    | Downloading package alpino to /root/nltk_data...\n",
            "[nltk_data]    |   Package alpino is already up-to-date!\n",
            "[nltk_data]    | Downloading package biocreative_ppi to\n",
            "[nltk_data]    |     /root/nltk_data...\n",
            "[nltk_data]    |   Package biocreative_ppi is already up-to-date!\n",
            "[nltk_data]    | Downloading package brown to /root/nltk_data...\n",
            "[nltk_data]    |   Package brown is already up-to-date!\n",
            "[nltk_data]    | Downloading package brown_tei to /root/nltk_data...\n",
            "[nltk_data]    |   Package brown_tei is already up-to-date!\n",
            "[nltk_data]    | Downloading package cess_cat to /root/nltk_data...\n",
            "[nltk_data]    |   Package cess_cat is already up-to-date!\n",
            "[nltk_data]    | Downloading package cess_esp to /root/nltk_data...\n",
            "[nltk_data]    |   Package cess_esp is already up-to-date!\n",
            "[nltk_data]    | Downloading package chat80 to /root/nltk_data...\n",
            "[nltk_data]    |   Package chat80 is already up-to-date!\n",
            "[nltk_data]    | Downloading package city_database to\n",
            "[nltk_data]    |     /root/nltk_data...\n",
            "[nltk_data]    |   Package city_database is already up-to-date!\n",
            "[nltk_data]    | Downloading package cmudict to /root/nltk_data...\n",
            "[nltk_data]    |   Package cmudict is already up-to-date!\n",
            "[nltk_data]    | Downloading package comparative_sentences to\n",
            "[nltk_data]    |     /root/nltk_data...\n",
            "[nltk_data]    |   Package comparative_sentences is already up-to-\n",
            "[nltk_data]    |       date!\n",
            "[nltk_data]    | Downloading package comtrans to /root/nltk_data...\n",
            "[nltk_data]    |   Package comtrans is already up-to-date!\n",
            "[nltk_data]    | Downloading package conll2000 to /root/nltk_data...\n",
            "[nltk_data]    |   Package conll2000 is already up-to-date!\n",
            "[nltk_data]    | Downloading package conll2002 to /root/nltk_data...\n",
            "[nltk_data]    |   Package conll2002 is already up-to-date!\n",
            "[nltk_data]    | Downloading package conll2007 to /root/nltk_data...\n",
            "[nltk_data]    |   Package conll2007 is already up-to-date!\n",
            "[nltk_data]    | Downloading package crubadan to /root/nltk_data...\n",
            "[nltk_data]    |   Package crubadan is already up-to-date!\n",
            "[nltk_data]    | Downloading package dependency_treebank to\n",
            "[nltk_data]    |     /root/nltk_data...\n",
            "[nltk_data]    |   Package dependency_treebank is already up-to-date!\n",
            "[nltk_data]    | Downloading package dolch to /root/nltk_data...\n",
            "[nltk_data]    |   Package dolch is already up-to-date!\n",
            "[nltk_data]    | Downloading package europarl_raw to\n",
            "[nltk_data]    |     /root/nltk_data...\n",
            "[nltk_data]    |   Package europarl_raw is already up-to-date!\n",
            "[nltk_data]    | Downloading package floresta to /root/nltk_data...\n",
            "[nltk_data]    |   Package floresta is already up-to-date!\n",
            "[nltk_data]    | Downloading package framenet_v15 to\n",
            "[nltk_data]    |     /root/nltk_data...\n",
            "[nltk_data]    |   Package framenet_v15 is already up-to-date!\n",
            "[nltk_data]    | Downloading package framenet_v17 to\n",
            "[nltk_data]    |     /root/nltk_data...\n",
            "[nltk_data]    |   Package framenet_v17 is already up-to-date!\n",
            "[nltk_data]    | Downloading package gazetteers to /root/nltk_data...\n",
            "[nltk_data]    |   Package gazetteers is already up-to-date!\n",
            "[nltk_data]    | Downloading package genesis to /root/nltk_data...\n",
            "[nltk_data]    |   Package genesis is already up-to-date!\n",
            "[nltk_data]    | Downloading package gutenberg to /root/nltk_data...\n",
            "[nltk_data]    |   Package gutenberg is already up-to-date!\n",
            "[nltk_data]    | Downloading package ieer to /root/nltk_data...\n",
            "[nltk_data]    |   Package ieer is already up-to-date!\n",
            "[nltk_data]    | Downloading package inaugural to /root/nltk_data...\n",
            "[nltk_data]    |   Package inaugural is already up-to-date!\n",
            "[nltk_data]    | Downloading package indian to /root/nltk_data...\n",
            "[nltk_data]    |   Package indian is already up-to-date!\n",
            "[nltk_data]    | Downloading package jeita to /root/nltk_data...\n",
            "[nltk_data]    |   Package jeita is already up-to-date!\n",
            "[nltk_data]    | Downloading package kimmo to /root/nltk_data...\n",
            "[nltk_data]    |   Package kimmo is already up-to-date!\n",
            "[nltk_data]    | Downloading package knbc to /root/nltk_data...\n",
            "[nltk_data]    |   Package knbc is already up-to-date!\n",
            "[nltk_data]    | Downloading package lin_thesaurus to\n",
            "[nltk_data]    |     /root/nltk_data...\n",
            "[nltk_data]    |   Package lin_thesaurus is already up-to-date!\n",
            "[nltk_data]    | Downloading package mac_morpho to /root/nltk_data...\n",
            "[nltk_data]    |   Package mac_morpho is already up-to-date!\n",
            "[nltk_data]    | Downloading package machado to /root/nltk_data...\n",
            "[nltk_data]    |   Package machado is already up-to-date!\n",
            "[nltk_data]    | Downloading package masc_tagged to /root/nltk_data...\n",
            "[nltk_data]    |   Package masc_tagged is already up-to-date!\n",
            "[nltk_data]    | Downloading package moses_sample to\n",
            "[nltk_data]    |     /root/nltk_data...\n",
            "[nltk_data]    |   Package moses_sample is already up-to-date!\n",
            "[nltk_data]    | Downloading package movie_reviews to\n",
            "[nltk_data]    |     /root/nltk_data...\n",
            "[nltk_data]    |   Package movie_reviews is already up-to-date!\n",
            "[nltk_data]    | Downloading package names to /root/nltk_data...\n",
            "[nltk_data]    |   Package names is already up-to-date!\n",
            "[nltk_data]    | Downloading package nombank.1.0 to /root/nltk_data...\n",
            "[nltk_data]    |   Package nombank.1.0 is already up-to-date!\n",
            "[nltk_data]    | Downloading package nps_chat to /root/nltk_data...\n",
            "[nltk_data]    |   Package nps_chat is already up-to-date!\n",
            "[nltk_data]    | Downloading package omw to /root/nltk_data...\n",
            "[nltk_data]    |   Package omw is already up-to-date!\n",
            "[nltk_data]    | Downloading package opinion_lexicon to\n",
            "[nltk_data]    |     /root/nltk_data...\n",
            "[nltk_data]    |   Package opinion_lexicon is already up-to-date!\n",
            "[nltk_data]    | Downloading package paradigms to /root/nltk_data...\n",
            "[nltk_data]    |   Package paradigms is already up-to-date!\n",
            "[nltk_data]    | Downloading package pil to /root/nltk_data...\n",
            "[nltk_data]    |   Package pil is already up-to-date!\n",
            "[nltk_data]    | Downloading package pl196x to /root/nltk_data...\n",
            "[nltk_data]    |   Package pl196x is already up-to-date!\n",
            "[nltk_data]    | Downloading package ppattach to /root/nltk_data...\n",
            "[nltk_data]    |   Package ppattach is already up-to-date!\n",
            "[nltk_data]    | Downloading package problem_reports to\n",
            "[nltk_data]    |     /root/nltk_data...\n",
            "[nltk_data]    |   Package problem_reports is already up-to-date!\n",
            "[nltk_data]    | Downloading package propbank to /root/nltk_data...\n",
            "[nltk_data]    |   Package propbank is already up-to-date!\n",
            "[nltk_data]    | Downloading package ptb to /root/nltk_data...\n",
            "[nltk_data]    |   Package ptb is already up-to-date!\n",
            "[nltk_data]    | Downloading package product_reviews_1 to\n",
            "[nltk_data]    |     /root/nltk_data...\n",
            "[nltk_data]    |   Package product_reviews_1 is already up-to-date!\n",
            "[nltk_data]    | Downloading package product_reviews_2 to\n",
            "[nltk_data]    |     /root/nltk_data...\n",
            "[nltk_data]    |   Package product_reviews_2 is already up-to-date!\n",
            "[nltk_data]    | Downloading package pros_cons to /root/nltk_data...\n",
            "[nltk_data]    |   Package pros_cons is already up-to-date!\n",
            "[nltk_data]    | Downloading package qc to /root/nltk_data...\n",
            "[nltk_data]    |   Package qc is already up-to-date!\n",
            "[nltk_data]    | Downloading package reuters to /root/nltk_data...\n",
            "[nltk_data]    |   Package reuters is already up-to-date!\n",
            "[nltk_data]    | Downloading package rte to /root/nltk_data...\n",
            "[nltk_data]    |   Package rte is already up-to-date!\n",
            "[nltk_data]    | Downloading package semcor to /root/nltk_data...\n",
            "[nltk_data]    |   Package semcor is already up-to-date!\n",
            "[nltk_data]    | Downloading package senseval to /root/nltk_data...\n",
            "[nltk_data]    |   Package senseval is already up-to-date!\n",
            "[nltk_data]    | Downloading package sentiwordnet to\n",
            "[nltk_data]    |     /root/nltk_data...\n",
            "[nltk_data]    |   Package sentiwordnet is already up-to-date!\n",
            "[nltk_data]    | Downloading package sentence_polarity to\n",
            "[nltk_data]    |     /root/nltk_data...\n",
            "[nltk_data]    |   Package sentence_polarity is already up-to-date!\n",
            "[nltk_data]    | Downloading package shakespeare to /root/nltk_data...\n",
            "[nltk_data]    |   Package shakespeare is already up-to-date!\n",
            "[nltk_data]    | Downloading package sinica_treebank to\n",
            "[nltk_data]    |     /root/nltk_data...\n",
            "[nltk_data]    |   Package sinica_treebank is already up-to-date!\n",
            "[nltk_data]    | Downloading package smultron to /root/nltk_data...\n",
            "[nltk_data]    |   Package smultron is already up-to-date!\n",
            "[nltk_data]    | Downloading package state_union to /root/nltk_data...\n",
            "[nltk_data]    |   Package state_union is already up-to-date!\n",
            "[nltk_data]    | Downloading package stopwords to /root/nltk_data...\n",
            "[nltk_data]    |   Package stopwords is already up-to-date!\n",
            "[nltk_data]    | Downloading package subjectivity to\n",
            "[nltk_data]    |     /root/nltk_data...\n",
            "[nltk_data]    |   Package subjectivity is already up-to-date!\n",
            "[nltk_data]    | Downloading package swadesh to /root/nltk_data...\n",
            "[nltk_data]    |   Package swadesh is already up-to-date!\n",
            "[nltk_data]    | Downloading package switchboard to /root/nltk_data...\n",
            "[nltk_data]    |   Package switchboard is already up-to-date!\n",
            "[nltk_data]    | Downloading package timit to /root/nltk_data...\n",
            "[nltk_data]    |   Package timit is already up-to-date!\n",
            "[nltk_data]    | Downloading package toolbox to /root/nltk_data...\n",
            "[nltk_data]    |   Package toolbox is already up-to-date!\n",
            "[nltk_data]    | Downloading package treebank to /root/nltk_data...\n",
            "[nltk_data]    |   Package treebank is already up-to-date!\n",
            "[nltk_data]    | Downloading package twitter_samples to\n",
            "[nltk_data]    |     /root/nltk_data...\n",
            "[nltk_data]    |   Package twitter_samples is already up-to-date!\n",
            "[nltk_data]    | Downloading package udhr to /root/nltk_data...\n",
            "[nltk_data]    |   Package udhr is already up-to-date!\n",
            "[nltk_data]    | Downloading package udhr2 to /root/nltk_data...\n",
            "[nltk_data]    |   Package udhr2 is already up-to-date!\n",
            "[nltk_data]    | Downloading package unicode_samples to\n",
            "[nltk_data]    |     /root/nltk_data...\n",
            "[nltk_data]    |   Package unicode_samples is already up-to-date!\n",
            "[nltk_data]    | Downloading package universal_treebanks_v20 to\n",
            "[nltk_data]    |     /root/nltk_data...\n",
            "[nltk_data]    |   Package universal_treebanks_v20 is already up-to-\n",
            "[nltk_data]    |       date!\n",
            "[nltk_data]    | Downloading package verbnet to /root/nltk_data...\n",
            "[nltk_data]    |   Package verbnet is already up-to-date!\n",
            "[nltk_data]    | Downloading package verbnet3 to /root/nltk_data...\n",
            "[nltk_data]    |   Package verbnet3 is already up-to-date!\n",
            "[nltk_data]    | Downloading package webtext to /root/nltk_data...\n",
            "[nltk_data]    |   Package webtext is already up-to-date!\n",
            "[nltk_data]    | Downloading package wordnet to /root/nltk_data...\n",
            "[nltk_data]    |   Package wordnet is already up-to-date!\n",
            "[nltk_data]    | Downloading package wordnet_ic to /root/nltk_data...\n",
            "[nltk_data]    |   Package wordnet_ic is already up-to-date!\n",
            "[nltk_data]    | Downloading package words to /root/nltk_data...\n",
            "[nltk_data]    |   Package words is already up-to-date!\n",
            "[nltk_data]    | Downloading package ycoe to /root/nltk_data...\n",
            "[nltk_data]    |   Package ycoe is already up-to-date!\n",
            "[nltk_data]    | Downloading package rslp to /root/nltk_data...\n",
            "[nltk_data]    |   Package rslp is already up-to-date!\n",
            "[nltk_data]    | Downloading package maxent_treebank_pos_tagger to\n",
            "[nltk_data]    |     /root/nltk_data...\n",
            "[nltk_data]    |   Package maxent_treebank_pos_tagger is already up-\n",
            "[nltk_data]    |       to-date!\n",
            "[nltk_data]    | Downloading package universal_tagset to\n",
            "[nltk_data]    |     /root/nltk_data...\n",
            "[nltk_data]    |   Package universal_tagset is already up-to-date!\n",
            "[nltk_data]    | Downloading package maxent_ne_chunker to\n",
            "[nltk_data]    |     /root/nltk_data...\n",
            "[nltk_data]    |   Package maxent_ne_chunker is already up-to-date!\n",
            "[nltk_data]    | Downloading package punkt to /root/nltk_data...\n",
            "[nltk_data]    |   Package punkt is already up-to-date!\n",
            "[nltk_data]    | Downloading package book_grammars to\n",
            "[nltk_data]    |     /root/nltk_data...\n",
            "[nltk_data]    |   Package book_grammars is already up-to-date!\n",
            "[nltk_data]    | Downloading package sample_grammars to\n",
            "[nltk_data]    |     /root/nltk_data...\n",
            "[nltk_data]    |   Package sample_grammars is already up-to-date!\n",
            "[nltk_data]    | Downloading package spanish_grammars to\n",
            "[nltk_data]    |     /root/nltk_data...\n",
            "[nltk_data]    |   Package spanish_grammars is already up-to-date!\n",
            "[nltk_data]    | Downloading package basque_grammars to\n",
            "[nltk_data]    |     /root/nltk_data...\n",
            "[nltk_data]    |   Package basque_grammars is already up-to-date!\n",
            "[nltk_data]    | Downloading package large_grammars to\n",
            "[nltk_data]    |     /root/nltk_data...\n",
            "[nltk_data]    |   Package large_grammars is already up-to-date!\n",
            "[nltk_data]    | Downloading package tagsets to /root/nltk_data...\n",
            "[nltk_data]    |   Package tagsets is already up-to-date!\n",
            "[nltk_data]    | Downloading package snowball_data to\n",
            "[nltk_data]    |     /root/nltk_data...\n",
            "[nltk_data]    |   Package snowball_data is already up-to-date!\n",
            "[nltk_data]    | Downloading package bllip_wsj_no_aux to\n",
            "[nltk_data]    |     /root/nltk_data...\n",
            "[nltk_data]    |   Package bllip_wsj_no_aux is already up-to-date!\n",
            "[nltk_data]    | Downloading package word2vec_sample to\n",
            "[nltk_data]    |     /root/nltk_data...\n",
            "[nltk_data]    |   Package word2vec_sample is already up-to-date!\n",
            "[nltk_data]    | Downloading package panlex_swadesh to\n",
            "[nltk_data]    |     /root/nltk_data...\n",
            "[nltk_data]    |   Package panlex_swadesh is already up-to-date!\n",
            "[nltk_data]    | Downloading package mte_teip5 to /root/nltk_data...\n",
            "[nltk_data]    |   Package mte_teip5 is already up-to-date!\n",
            "[nltk_data]    | Downloading package averaged_perceptron_tagger to\n",
            "[nltk_data]    |     /root/nltk_data...\n",
            "[nltk_data]    |   Package averaged_perceptron_tagger is already up-\n",
            "[nltk_data]    |       to-date!\n",
            "[nltk_data]    | Downloading package averaged_perceptron_tagger_ru to\n",
            "[nltk_data]    |     /root/nltk_data...\n",
            "[nltk_data]    |   Package averaged_perceptron_tagger_ru is already\n",
            "[nltk_data]    |       up-to-date!\n",
            "[nltk_data]    | Downloading package perluniprops to\n",
            "[nltk_data]    |     /root/nltk_data...\n",
            "[nltk_data]    |   Package perluniprops is already up-to-date!\n",
            "[nltk_data]    | Downloading package nonbreaking_prefixes to\n",
            "[nltk_data]    |     /root/nltk_data...\n",
            "[nltk_data]    |   Package nonbreaking_prefixes is already up-to-date!\n",
            "[nltk_data]    | Downloading package vader_lexicon to\n",
            "[nltk_data]    |     /root/nltk_data...\n",
            "[nltk_data]    |   Package vader_lexicon is already up-to-date!\n",
            "[nltk_data]    | Downloading package porter_test to /root/nltk_data...\n",
            "[nltk_data]    |   Package porter_test is already up-to-date!\n",
            "[nltk_data]    | Downloading package wmt15_eval to /root/nltk_data...\n",
            "[nltk_data]    |   Package wmt15_eval is already up-to-date!\n",
            "[nltk_data]    | Downloading package mwa_ppdb to /root/nltk_data...\n",
            "[nltk_data]    |   Package mwa_ppdb is already up-to-date!\n",
            "[nltk_data]    | \n",
            "[nltk_data]  Done downloading collection all\n"
          ],
          "name": "stdout"
        }
      ]
    },
    {
      "cell_type": "markdown",
      "metadata": {
        "id": "RlET95BVsWvs"
      },
      "source": [
        "#### 01.01 - Funciones Principales"
      ]
    },
    {
      "cell_type": "code",
      "metadata": {
        "trusted": true,
        "id": "XODk3OYsPcjS"
      },
      "source": [
        "def remove_stop_words(text):\n",
        "  \"\"\"\n",
        "    Remueve stop words en inglés\n",
        "\n",
        "    Attributes\n",
        "    ----------\n",
        "    text: list\n",
        "      lista de palabras (tokens) a filtrar\n",
        "\n",
        "    Returns\n",
        "    -------\n",
        "    list\n",
        "      lista de palabras sin los stop words\n",
        "  \"\"\"\n",
        "  return [token for token in text if token.lower() not in language_stops]"
      ],
      "execution_count": 2,
      "outputs": []
    },
    {
      "cell_type": "code",
      "metadata": {
        "trusted": true,
        "id": "RiXgrc6zPcjT"
      },
      "source": [
        "def lematize_words(text):\n",
        "  \"\"\"\n",
        "    Lematización de palabras - aplica lematización de palabras sobre un set de tokens\n",
        "\n",
        "    Attributes\n",
        "    ----------\n",
        "    text: list\n",
        "      lista de palabras (tokens) sobre los cuales se aplicará la lematización\n",
        "    \n",
        "    Returns\n",
        "    -------\n",
        "    list\n",
        "      lista con todas las lematizaciones de las palabras\n",
        "  \"\"\"\n",
        "  doc = nlp(\" \".join(text))\n",
        "  return [token.lemma_ for token in doc]"
      ],
      "execution_count": 3,
      "outputs": []
    },
    {
      "cell_type": "code",
      "metadata": {
        "trusted": true,
        "id": "lxBj3K1CPcjT"
      },
      "source": [
        "def remove_meaningless_words(text):\n",
        "  \"\"\"\n",
        "    Remueve palabras sin significado\n",
        "\n",
        "    Attributes\n",
        "    ----------\n",
        "    text: list\n",
        "      lista de palabras (tokens) a filtrar\n",
        "    \n",
        "    Returns\n",
        "    -------\n",
        "    list\n",
        "      lista de palabras filtrada en base a expresiones regulares\n",
        "  \"\"\"\n",
        "  patterns = [r\"(^={1,}=$)\", r'\\u200b']\n",
        "  tokens = text\n",
        "  for pattern in patterns:\n",
        "    regexp = re.compile(pattern)\n",
        "    tokens = [token for token in tokens if not regexp.search(token)]\n",
        "  return tokens"
      ],
      "execution_count": 4,
      "outputs": []
    },
    {
      "cell_type": "code",
      "metadata": {
        "id": "N8pyM7nUg5_Y"
      },
      "source": [
        "def clean_short_words(text):\n",
        "  \"\"\"\n",
        "    Limpia palabras con longitud 1\n",
        "\n",
        "    Attributes\n",
        "    ----------\n",
        "    text: str\n",
        "      documento a tokenizar\n",
        "    \n",
        "    Returns\n",
        "    -------\n",
        "    list\n",
        "      lista de tokens\n",
        "  \"\"\"\n",
        "  return [word for word in text if len(word) > 1]"
      ],
      "execution_count": 5,
      "outputs": []
    },
    {
      "cell_type": "code",
      "metadata": {
        "trusted": true,
        "id": "oZzaWUJ-PcjU"
      },
      "source": [
        "def tokenize(text, mode='word'): \n",
        "  \"\"\"\n",
        "    Tokenización de documento - tokeniza un documento por palabra o por oración\n",
        "\n",
        "    Attributes\n",
        "    ----------\n",
        "    text: str\n",
        "      documento a tokenizar\n",
        "    mode: str, optional\n",
        "      método de tokenización (default: 'word' (por palabra))\n",
        "    \n",
        "    Returns\n",
        "    -------\n",
        "    list\n",
        "      lista de tokens \n",
        "    \n",
        "    Raises\n",
        "    ------\n",
        "      Exception\n",
        "        si el mode no es 'word' o 'sentence'\n",
        "  \"\"\"\n",
        "  if mode == 'word':\n",
        "    return word_tokenize(text, language=language)\n",
        "  elif mode == 'sentence':\n",
        "    return sent_tokenize(text, language=language)\n",
        "  else:\n",
        "    raise Exception('metodo de tokenizacion no encontrado')"
      ],
      "execution_count": 6,
      "outputs": []
    },
    {
      "cell_type": "code",
      "metadata": {
        "id": "W_ztZFXvaJwL"
      },
      "source": [
        "def similarity_btw_docs(matrix):\n",
        "  \"\"\"\n",
        "    Similitud entre documentos - calcula la similitud entre documentos utilizando Similitud del Coseno\n",
        "\n",
        "    Attributes\n",
        "    ----------\n",
        "    matrix: scipy matrix\n",
        "      Matriz dispersa para calcular la similaridad\n",
        "\n",
        "    Returns\n",
        "    -------\n",
        "    pd.DataFrame\n",
        "      retorna un dataframe con el grado de similaridad entre documentos (de 0 a 1)\n",
        "  \"\"\"\n",
        "  matrix_simil = cosine_similarity(matrix)\n",
        "  return pd.DataFrame(matrix_simil)"
      ],
      "execution_count": 7,
      "outputs": []
    },
    {
      "cell_type": "code",
      "metadata": {
        "trusted": true,
        "id": "Bf4WsWGvPcjU"
      },
      "source": [
        "def pre_procesamiento_texto(text):\n",
        "  \"\"\"\n",
        "    Pre-procesamiento de transcripciones\n",
        "\n",
        "    Attributes\n",
        "    ----------\n",
        "    text: str\n",
        "      documento a analizar\n",
        "\n",
        "    Returns\n",
        "    -------\n",
        "    pd.DataFrame\n",
        "      retorna un dataframe con las 20 palabras que más se repiten y su frecuencia\n",
        "  \"\"\"\n",
        "  tokenized = tokenize(text)\n",
        "  without_stops = remove_stop_words(tokenized)\n",
        "  meaningfull_tokens = remove_meaningless_words(without_stops)\n",
        "  without_short_words = clean_short_words(meaningfull_tokens)\n",
        "  lematized_words = lematize_words(without_short_words)\n",
        "  return lematized_words"
      ],
      "execution_count": 8,
      "outputs": []
    },
    {
      "cell_type": "code",
      "metadata": {
        "id": "6e-TwcgTfEdm"
      },
      "source": [
        "def remove_character(serie, char):\n",
        "  \"\"\"\n",
        "    Pre-procesamiento y obtención de las 20 palabras más significativas\n",
        "\n",
        "    Attributes\n",
        "    ----------\n",
        "    serie: pd.Serie\n",
        "      columna de dataframe a modificar\n",
        "    char: char\n",
        "      caracter a remover\n",
        "\n",
        "    Returns\n",
        "    -------\n",
        "    pd.Serie\n",
        "      retorna una serie\n",
        "  \"\"\"\n",
        "  return serie.str.replace(char, '')"
      ],
      "execution_count": 9,
      "outputs": []
    },
    {
      "cell_type": "code",
      "metadata": {
        "id": "CzoP6oEjAw_S"
      },
      "source": [
        "def get_urls(page_list):\n",
        "  \"\"\"\n",
        "    Obtencion de las urls de las charlas TED\n",
        "\n",
        "    Attributes\n",
        "    ----------\n",
        "    page_list: list\n",
        "      lista de paginas de charlas TED\n",
        "\n",
        "    Returns\n",
        "    -------\n",
        "    list\n",
        "      retorna una lista con todas las urls de las charlas TED\n",
        "  \"\"\"\n",
        "  urls = [\"https://www.ted.com\" + url.select(\"div.media__image a.ga-link\")[0].get(\"href\") for url in page_list]\n",
        "  return urls"
      ],
      "execution_count": 10,
      "outputs": []
    },
    {
      "cell_type": "code",
      "metadata": {
        "id": "eEpby7DOCgvL"
      },
      "source": [
        "def get_transcript(url, count):\n",
        "  \"\"\"\n",
        "    Obtiene la transcripcion de una determinada charla ted\n",
        "\n",
        "    Attributes\n",
        "    ----------\n",
        "    url: str\n",
        "      url de la charla TED\n",
        "    count: int\n",
        "      indice de la pagina url\n",
        "\n",
        "    Returns\n",
        "    -------\n",
        "    str\n",
        "      retorna una cadena de caracteres con la transcripcion de la charla TED\n",
        "  \"\"\"\n",
        "  transcript = \"\"\n",
        "  transcript_res = requests.get(url, headers = {'User-agent': 'your bot 0.1'})\n",
        "  soup = BeautifulSoup(transcript_res.text)\n",
        "  e = soup.select('div.Grid.Grid--with-gutter.p-b:4')\n",
        "\n",
        "  for  e_  in e:\n",
        "    classes = e_.get('class')\n",
        "    text = e_.select('p')[0].text\n",
        "    transcript += text.strip().replace('\\t', '').replace('\\n', ' ')\n",
        "                                \n",
        "  if (transcript_res.status_code != 200) or (transcript_res.text == '') or (transcript == ''):\n",
        "    count_=0\n",
        "    while  count_ < 3: \n",
        "      time.sleep(random.randint(0,900)/1000)\n",
        "      transcript_res = requests.get(url, headers = {'User-agent': 'your bot 0.1'})\n",
        "      soup = BeautifulSoup(transcript_res.text)\n",
        "      e = soup.select('div.Grid.Grid--with-gutter.p-b:4')\n",
        "\n",
        "      for  e_  in e:\n",
        "        classes = e_.get('class')\n",
        "        text = e_.select('p')[0].text\n",
        "        transcript += text.strip().replace('\\t', '').replace('\\n', ' ')\n",
        "\n",
        "      count_ += 1\n",
        "      if (transcript_res.status_code == 200) and (transcript_res.text != '') and (transcript != ''):\n",
        "        break\n",
        "\n",
        "  return transcript"
      ],
      "execution_count": 11,
      "outputs": []
    },
    {
      "cell_type": "code",
      "metadata": {
        "id": "tbFeF_2QDiht"
      },
      "source": [
        "def get__json_obj(url):\n",
        "  \"\"\"\n",
        "    Obtiene el objecto JSON de una respectiva URL\n",
        "\n",
        "    Attributes\n",
        "    ----------\n",
        "    url: str\n",
        "      url a analizar\n",
        "\n",
        "    Returns\n",
        "    -------\n",
        "    str\n",
        "      retorna una cadena de caracteres que representa el objeto JSON de la URL\n",
        "  \"\"\"\n",
        "  res = requests.get(url.strip(), headers = {'User-agent': 'your bot 0.1'})\n",
        "  start_index = res.text.find('<script data-spec=\"q\">q(\"talkPage.init\",')\n",
        "  end_index = res.text[start_index:].find(')</script>')\n",
        "  script_tag = res.text[start_index: start_index + end_index]\n",
        "  return script_tag[len('<script data-spec=\"q\">q(\"talkPage.init\",'):]"
      ],
      "execution_count": 12,
      "outputs": []
    },
    {
      "cell_type": "code",
      "metadata": {
        "id": "kMJpi2ezDl14"
      },
      "source": [
        "def get_value(l, m):\n",
        "  \"\"\"\n",
        "    Obtiene el valor de un elemento HTML\n",
        "\n",
        "    Attributes\n",
        "    ----------\n",
        "    l: list\n",
        "      elementos\n",
        "    m: s\n",
        "      metadata\n",
        "\n",
        "    Returns\n",
        "    -------\n",
        "    str\n",
        "      retorna el valor del elemento HTML\n",
        "  \"\"\"\n",
        "  for i in l:\n",
        "    try:\n",
        "      m = m[i]\n",
        "    except: \n",
        "      return ''\n",
        "  return m"
      ],
      "execution_count": 13,
      "outputs": []
    },
    {
      "cell_type": "code",
      "metadata": {
        "id": "gzRUPBOyDnPi"
      },
      "source": [
        "def html_to_text(html):\n",
        "  \"\"\"\n",
        "    Convierte un valor HTML a cadena de caracteres\n",
        "\n",
        "    Attributes\n",
        "    ----------\n",
        "    html: str\n",
        "      valor de elemento HTML\n",
        "\n",
        "    Returns\n",
        "    -------\n",
        "    str\n",
        "      retorna la representacion del valor del elemento HTML en cadena de caracdteres\n",
        "  \"\"\"\n",
        "  if str(html) != 'nan':\n",
        "    soup = BeautifulSoup(html)\n",
        "    return soup.get_text()\n",
        "  else: \n",
        "    return html"
      ],
      "execution_count": 14,
      "outputs": []
    },
    {
      "cell_type": "code",
      "metadata": {
        "id": "ic8DxLvnHnJf"
      },
      "source": [
        "def get_elements_dict_from_url(count, url, json_obj):\n",
        "  \"\"\"\n",
        "    Generacion de diccionario de elementos de una URL\n",
        "\n",
        "    Attributes\n",
        "    ----------\n",
        "    count: int\n",
        "      indice de la URL dentro del listado de URLs\n",
        "    url: str\n",
        "      url a analizar\n",
        "    json_obj: str\n",
        "      objeto JSON de la URL\n",
        "\n",
        "    Returns\n",
        "    -------\n",
        "    dict\n",
        "      retorna un diccionario que contiene todos los elementos HTML con sus respectivos valores\n",
        "  \"\"\"\n",
        "  metadata = json.loads(json_obj)[\"__INITIAL_DATA__\"]\n",
        "  language = get_value([\"language\"], metadata)\n",
        "  url__transcript = url + \"/transcript?language=\" + language\n",
        "  temp = get_value([\"talks\", 0, \"recorded_at\"], metadata)\n",
        "  t = get_value([\"talks\", 0, \"player_talks\", 0, \"published\"], metadata)\n",
        "\n",
        "  elements_dict = dict()\n",
        "  elements_dict[\"language\"] = language\n",
        "  elements_dict[\"talk__id\"] = get_value([\"current_talk\"], metadata)\n",
        "  elements_dict[\"talk__name\"] = get_value([\"talks\", 0, \"title\"], metadata)\n",
        "  elements_dict[\"talk__description\"] = get_value([\"description\"], metadata)\n",
        "  elements_dict[\"view_count\"] = get_value([\"viewed_count\"], metadata)\n",
        "  elements_dict[\"duration\"] = get_value([\"talks\", 0, \"duration\"], metadata)\n",
        "  elements_dict[\"transcript\"] = get_transcript(url__transcript,count)\n",
        "  elements_dict[\"video_type_name\"] = get_value([\"talks\", 0, \"video_type\", \"name\"], metadata)\n",
        "  elements_dict[\"event\"] = get_value([\"event\"], metadata)               \n",
        "  elements_dict[\"speaker__id\"] = get_value([\"speakers\", 0, \"id\"], metadata)                        \n",
        "  elements_dict[\"speaker__name\"] = get_value([\"talks\", 0, \"speaker_name\"], metadata)\n",
        "  elements_dict[\"speaker__description\"] = get_value([\"speakers\", 0, \"description\"], metadata)\n",
        "  elements_dict[\"speaker__who_he_is\"] = get_value([\"speakers\", 0, \"whotheyare\"], metadata)\n",
        "  elements_dict[\"speaker__why_listen\"] = html_to_text(get_value([\"speakers\", 0, \"whylisten\"], metadata))\n",
        "  elements_dict[\"all_speakers_details\"] = get_value([\"speakers\"], metadata)                       \n",
        "  elements_dict[\"recording_date\"] = temp if temp == None else temp[:10]                        \n",
        "  elements_dict[\"published_timestamp\"] = datetime.utcfromtimestamp(int(t)).strftime('%Y-%m-%d %H:%M:%S')                      \n",
        "  elements_dict[\"talks__tags\"] = get_value([\"talks\", 0, \"tags\"], metadata)\n",
        "  elements_dict[\"number_of__tags\"] = len(get_value([\"talks\", 0, \"tags\"], metadata) or \"\")                       \n",
        "  elements_dict[\"native_language\"] = get_value([\"talks\", 0, \"player_talks\", 0, \"nativeLanguage\"], metadata)                   \n",
        "  elements_dict[\"url__webpage\"] = get_value([\"url\"], metadata)                    \n",
        "  elements_dict[\"talk__more_resources\"] = get_value([\"talks\", 0, \"more_resources\"], metadata)\n",
        "  elements_dict[\"number_of__talk__more_resources\"] = len(get_value([\"talks\", 0, \"more_resources\"], metadata) or \"\")\n",
        "  elements_dict[\"talk__recommendations__blurb\"] = get_value([\"talks\", 0, \"recommendations\", \"blurb\"], metadata)                    \n",
        "  elements_dict[\"talk__recommendations\"] = get_value([\"talks\", 0, \"recommendations\", \"rec_lists\"], metadata)\n",
        "  elements_dict[\"number_of__talk__recommendations\"] = len(get_value([\"talks\", 0, \"recommendations\", \"rec_lists\"], metadata) or \"\")\n",
        "  elements_dict[\"related_talks\"] = get_value([\"talks\", 0, \"related_talks\"], metadata)\n",
        "  elements_dict[\"number_of__related_talks\"] = len(get_value([\"talks\", 0, \"related_talks\"], metadata) or \"\")\n",
        "\n",
        "  return elements_dict"
      ],
      "execution_count": 15,
      "outputs": []
    },
    {
      "cell_type": "code",
      "metadata": {
        "id": "dsGz8F2JBcli"
      },
      "source": [
        "def download(urls, id_, csv_list):\n",
        "  \"\"\"\n",
        "    Descarga toda la informacion respecto a las charlas TED\n",
        "\n",
        "    Attributes\n",
        "    ----------\n",
        "    urls: list\n",
        "      lista de URLs a descargar\n",
        "    id_: int\n",
        "      id de cada pagina dentro de la lista\n",
        "    csv_list: list\n",
        "      csv donde se guardara la informacion respecto a las charlas ted\n",
        "  \"\"\"\n",
        "  for count, url in enumerate(urls):\n",
        "    json_obj = get__json_obj(url)\n",
        "\n",
        "    if not json_obj:\n",
        "      count=0\n",
        "      while count < 3:    \n",
        "        json_obj  =  get__json_obj(url)\n",
        "        count += 1\n",
        "        if json_obj:\n",
        "          break\n",
        "\n",
        "    if not json_obj:\n",
        "      continue\n",
        "    else:\n",
        "      csv_list.append(get_elements_dict_from_url(count, url, json_obj))"
      ],
      "execution_count": 16,
      "outputs": []
    },
    {
      "cell_type": "code",
      "metadata": {
        "id": "-zas0aNy_vzU"
      },
      "source": [
        "def scrape_ted_urls(urls, file_name):\n",
        "  \"\"\"\n",
        "    Realiza un proceso de web-scraping sobre todas las charlas TED\n",
        "\n",
        "    Attributes\n",
        "    ----------\n",
        "    urls: list\n",
        "      URL de charlas TED a scrappear\n",
        "    file_name: list\n",
        "      nombre de archivo donde se guardara toda la informacion de las charlas TED\n",
        "  \"\"\"\n",
        "  csv_list_ = []\n",
        "  \n",
        "  with Manager() as manager:\n",
        "      csv_list = manager.list()\n",
        "      Processess = []\n",
        "      \n",
        "      urls_  = [urls[(i*(len(urls)//100)):((i+1)*(len(urls)//100))] for i in range(100)]\n",
        "      \n",
        "      leftovers = urls[(100*(len(urls)//100)):len(urls)]\n",
        "\n",
        "      for i in range(len(leftovers)):\n",
        "        urls_[i] += [leftovers[i]]\n",
        "      \n",
        "      for (id_,urls__) in enumerate(urls_):\n",
        "          p = Process(target=download, args=(urls__,id_,csv_list))\n",
        "          Processess.append(p)\n",
        "          p.start()\n",
        "          \n",
        "      for t in Processess:\n",
        "        t.join()\n",
        "      \n",
        "      csv_list_ = list(csv_list)\n",
        "\n",
        "  dataframe_ted = pd.DataFrame(csv_list_).sort_values(\"view_count\", ascending=False)\n",
        "  dataframe_ted.to_csv(file_name, index=False, encoding='utf-8')"
      ],
      "execution_count": 17,
      "outputs": []
    },
    {
      "cell_type": "code",
      "metadata": {
        "id": "OiFhHSnhFsQD"
      },
      "source": [
        "def get_page_text(page_number):\n",
        "  \"\"\"\n",
        "    Obtiene la URL de una charla TED\n",
        "\n",
        "    Attributes\n",
        "    ----------\n",
        "    page_number: int\n",
        "      numero de pagina\n",
        "\n",
        "    Returns\n",
        "    -------\n",
        "    str\n",
        "      retorna la URL de una charla TED\n",
        "  \"\"\"\n",
        "  res = requests.get(\"https://www.ted.com/talks?sort=popular&page=\" + str(page_number), headers = {'User-agent': 'your bot 0.1'})\n",
        "  soup = bs4.BeautifulSoup(res.text)\n",
        "  element = soup.select(\"div.container.results div.col\")\n",
        "  return element"
      ],
      "execution_count": 18,
      "outputs": []
    },
    {
      "cell_type": "code",
      "metadata": {
        "id": "qOpNgRMhFZEg"
      },
      "source": [
        "def retrieve_pages_url():\n",
        "  \"\"\"\n",
        "    Obtiene las URL de todas las charlas TED en un determinado idioma\n",
        "\n",
        "    Returns\n",
        "    -------\n",
        "    list\n",
        "      retorna un listado de URL de cada charla TED en un determinado idioma\n",
        "  \"\"\"\n",
        "  urls = []\n",
        "  page_number=1\n",
        "\n",
        "  while 1:\n",
        "    page_list_urls = get_page_text(page_number)\n",
        "    \n",
        "    if len(page_list_urls) == 0:    \n",
        "      break\n",
        "    \n",
        "    page_number += 1\n",
        "    urls += get_urls(page_list_urls)\n",
        "\n",
        "  file_ted = open('TED_Talk_URLs.txt', 'w')\n",
        "  file_ted.write('\\n'.join(urls))\n",
        "  file_ted.close()\n",
        "\n",
        "  return urls"
      ],
      "execution_count": 19,
      "outputs": []
    },
    {
      "cell_type": "markdown",
      "metadata": {
        "id": "5shxu71ks4bR"
      },
      "source": [
        "#### 01.02 - Carga de Datos - Web Scrapping"
      ]
    },
    {
      "cell_type": "code",
      "metadata": {
        "id": "ad2Jk-jPAXqP",
        "colab": {
          "base_uri": "https://localhost:8080/"
        },
        "outputId": "f782b034-7464-4b1d-e0f7-17404504bd98"
      },
      "source": [
        "# Activando Google Drive para guardar la información\n",
        "drive.mount('/content/gdrive')\n",
        "\n",
        "# Directorio donde se guardara/buscara el archivo que contiene la informacion de las charlas TED\n",
        "os.chdir('/content/gdrive/My Drive/Facultad/Austral/Maestria 1/13 - Text mining/00 - TPs')"
      ],
      "execution_count": 21,
      "outputs": [
        {
          "output_type": "stream",
          "text": [
            "Drive already mounted at /content/gdrive; to attempt to forcibly remount, call drive.mount(\"/content/gdrive\", force_remount=True).\n"
          ],
          "name": "stdout"
        }
      ]
    },
    {
      "cell_type": "code",
      "metadata": {
        "id": "IxEo7dxz-qN5"
      },
      "source": [
        "# Si no existe el archivo de TED, hace toda la falopeada de web-scraping asquerosa copy-pasted (toma 6 minutos aprox)\n",
        "if not os.path.isfile(ted_file):\n",
        "  ted_urls = retrieve_pages_url()\n",
        "  scrape_ted_urls(ted_urls, ted_file)"
      ],
      "execution_count": 22,
      "outputs": []
    },
    {
      "cell_type": "markdown",
      "metadata": {
        "id": "oWMIj6H-tyjM"
      },
      "source": [
        "#### 01.03 - Exploración de los Datasets (DS)"
      ]
    },
    {
      "cell_type": "code",
      "metadata": {
        "id": "KWbUBsdd-iIQ"
      },
      "source": [
        "tedx_df = pd.read_csv(ted_file)"
      ],
      "execution_count": 23,
      "outputs": []
    },
    {
      "cell_type": "markdown",
      "metadata": {
        "id": "uATgZUnBt-PQ"
      },
      "source": [
        "##### *Dataset (DS):*\n",
        " Se genera un DS de trabajo con mas de 5000 observaciones a partir de la aplicación de Web Scrapping en https://www.ted.com/talks?sort=popular&page=1, el ds de trabajo contempla tanto la metadata de las ted talks como las transcripciones.\n",
        "\n",
        "Variables:\n",
        "\n",
        "1. talk__id: N° de ID de la Ted Talk\n",
        "2. talk__name: Nombre de la Ted Talk\n",
        "3. talk__description: Descripción de la Ted Talk\n",
        "4. view_count: Cantidad de Vistas (visitas)\n",
        "5. duration: duración de la Ted Talk en minutos\n",
        "6. transcript: transcripción de la Ted Talk\n",
        "7. video_type_name: Tipo de Ted Talk\n",
        "8. event: evento\n",
        "9. speaker__id: id del speaker\n",
        "10. speaker__name: nombre del speaker\n",
        "11. speaker__description: ocupación del speaker\n",
        "12. speaker__who_he_is: descripción del Speaker\n",
        "13. speaker__why_listen: \n",
        "14. all_speakers_details: \n",
        "15. recording_date: \n",
        "16. published_timestamp: \n",
        "17. talks__tags: Tags (Variable Target)\n",
        "18. number_of__tags: cantidad de Tags\n",
        "19. language: Idioma\n",
        "20. native_language\n",
        "21. url__webpage\n",
        "22. talk__more_resources\n",
        "23. number_of__talk__more_resources\n",
        "24. talk__recommendations__blurb\n",
        "25. talk__recommendations\n",
        "26. number_of__talk__recommendations\n",
        "27. related_talks\n",
        "28. number_of__related_talks"
      ]
    },
    {
      "cell_type": "code",
      "metadata": {
        "colab": {
          "base_uri": "https://localhost:8080/"
        },
        "id": "UDmY7ce0uINv",
        "outputId": "c5b0bf9c-6211-4acd-c541-56f80b466c33"
      },
      "source": [
        "#Dimensiones\n",
        "print(f\"Dimensiones de DS : {tedx_df.shape}\")"
      ],
      "execution_count": 24,
      "outputs": [
        {
          "output_type": "stream",
          "text": [
            "Dimensiones de DS : (5127, 28)\n"
          ],
          "name": "stdout"
        }
      ]
    },
    {
      "cell_type": "code",
      "metadata": {
        "colab": {
          "base_uri": "https://localhost:8080/"
        },
        "id": "MF-USd1VuILm",
        "outputId": "7a892e61-7c21-4858-e61c-f6a9cc4eb89e"
      },
      "source": [
        "#Valores Repetidos\n",
        "tedx_df.loc[: , [\"talk__id\"]].size - np.unique(tedx_df.loc[: , [\"talk__id\"]]).size #Se confirma que hay un (1) valor duplicado"
      ],
      "execution_count": 25,
      "outputs": [
        {
          "output_type": "execute_result",
          "data": {
            "text/plain": [
              "1"
            ]
          },
          "metadata": {
            "tags": []
          },
          "execution_count": 25
        }
      ]
    },
    {
      "cell_type": "code",
      "metadata": {
        "colab": {
          "base_uri": "https://localhost:8080/"
        },
        "id": "9RDzk9SNuIH0",
        "outputId": "52a58222-bb7e-4f2b-9158-1808098e6c15"
      },
      "source": [
        "#Verificamos Observación Repetida\n",
        "def repetidos(x):\n",
        "  y = pd.Series(np.sort(x.values.tolist(), axis = None)).value_counts()\n",
        "  return y[y > 1]\n",
        "\n",
        "repetidos(tedx_df.loc[: , [\"talk__id\"]])"
      ],
      "execution_count": 26,
      "outputs": [
        {
          "output_type": "execute_result",
          "data": {
            "text/plain": [
              "36409    2\n",
              "dtype: int64"
            ]
          },
          "metadata": {
            "tags": []
          },
          "execution_count": 26
        }
      ]
    },
    {
      "cell_type": "code",
      "metadata": {
        "id": "ZfrS1X3XuIE0",
        "colab": {
          "base_uri": "https://localhost:8080/",
          "height": 267
        },
        "outputId": "da6012fc-5e28-47ab-bbbc-a69ac0958df7"
      },
      "source": [
        "tedx_df[tedx_df.talk__id == 36409] #Considerando que la transcripción es de tipo NaN, se eliminará el duplicado en el siguiente paso."
      ],
      "execution_count": 27,
      "outputs": [
        {
          "output_type": "execute_result",
          "data": {
            "text/html": [
              "<div>\n",
              "<style scoped>\n",
              "    .dataframe tbody tr th:only-of-type {\n",
              "        vertical-align: middle;\n",
              "    }\n",
              "\n",
              "    .dataframe tbody tr th {\n",
              "        vertical-align: top;\n",
              "    }\n",
              "\n",
              "    .dataframe thead th {\n",
              "        text-align: right;\n",
              "    }\n",
              "</style>\n",
              "<table border=\"1\" class=\"dataframe\">\n",
              "  <thead>\n",
              "    <tr style=\"text-align: right;\">\n",
              "      <th></th>\n",
              "      <th>language</th>\n",
              "      <th>talk__id</th>\n",
              "      <th>talk__name</th>\n",
              "      <th>talk__description</th>\n",
              "      <th>view_count</th>\n",
              "      <th>duration</th>\n",
              "      <th>transcript</th>\n",
              "      <th>video_type_name</th>\n",
              "      <th>event</th>\n",
              "      <th>speaker__id</th>\n",
              "      <th>speaker__name</th>\n",
              "      <th>speaker__description</th>\n",
              "      <th>speaker__who_he_is</th>\n",
              "      <th>speaker__why_listen</th>\n",
              "      <th>all_speakers_details</th>\n",
              "      <th>recording_date</th>\n",
              "      <th>published_timestamp</th>\n",
              "      <th>talks__tags</th>\n",
              "      <th>number_of__tags</th>\n",
              "      <th>native_language</th>\n",
              "      <th>url__webpage</th>\n",
              "      <th>talk__more_resources</th>\n",
              "      <th>number_of__talk__more_resources</th>\n",
              "      <th>talk__recommendations__blurb</th>\n",
              "      <th>talk__recommendations</th>\n",
              "      <th>number_of__talk__recommendations</th>\n",
              "      <th>related_talks</th>\n",
              "      <th>number_of__related_talks</th>\n",
              "    </tr>\n",
              "  </thead>\n",
              "  <tbody>\n",
              "    <tr>\n",
              "      <th>3949</th>\n",
              "      <td>en</td>\n",
              "      <td>36409</td>\n",
              "      <td>An unexpected tool for understanding inequalit...</td>\n",
              "      <td>How do we make sense of a world that doesn't? ...</td>\n",
              "      <td>565626</td>\n",
              "      <td>679</td>\n",
              "      <td>NaN</td>\n",
              "      <td>TEDx Talk</td>\n",
              "      <td>TEDxLondon</td>\n",
              "      <td>5215.0</td>\n",
              "      <td>Eugenia Cheng</td>\n",
              "      <td>Mathematician, pianist</td>\n",
              "      <td>Eugenia Cheng devotes her life to mathematics,...</td>\n",
              "      <td>Dr. Eugenia Cheng quit her tenured academic jo...</td>\n",
              "      <td>[{'id': '5215', 'slug': 'eugenia_cheng', 'is_p...</td>\n",
              "      <td>2018-07-01</td>\n",
              "      <td>2019-03-08 15:47:37</td>\n",
              "      <td>['math', 'communication', 'visualizations', 'T...</td>\n",
              "      <td>7</td>\n",
              "      <td>en</td>\n",
              "      <td>https://www.ted.com/talks/eugenia_cheng_an_une...</td>\n",
              "      <td>[{'status': 'approved', 'headline': '*The Art ...</td>\n",
              "      <td>1</td>\n",
              "      <td>NaN</td>\n",
              "      <td>NaN</td>\n",
              "      <td>0</td>\n",
              "      <td>[{'id': '23865', 'hero': 'https://s3.amazonaws...</td>\n",
              "      <td>6</td>\n",
              "    </tr>\n",
              "    <tr>\n",
              "      <th>3950</th>\n",
              "      <td>en</td>\n",
              "      <td>36409</td>\n",
              "      <td>An unexpected tool for understanding inequalit...</td>\n",
              "      <td>How do we make sense of a world that doesn't? ...</td>\n",
              "      <td>565626</td>\n",
              "      <td>679</td>\n",
              "      <td>The world is awash with divisive arguments, co...</td>\n",
              "      <td>TEDx Talk</td>\n",
              "      <td>TEDxLondon</td>\n",
              "      <td>5215.0</td>\n",
              "      <td>Eugenia Cheng</td>\n",
              "      <td>Mathematician, pianist</td>\n",
              "      <td>Eugenia Cheng devotes her life to mathematics,...</td>\n",
              "      <td>Dr. Eugenia Cheng quit her tenured academic jo...</td>\n",
              "      <td>[{'id': '5215', 'slug': 'eugenia_cheng', 'is_p...</td>\n",
              "      <td>2018-07-01</td>\n",
              "      <td>2019-03-08 15:47:37</td>\n",
              "      <td>['math', 'communication', 'visualizations', 'T...</td>\n",
              "      <td>7</td>\n",
              "      <td>en</td>\n",
              "      <td>https://www.ted.com/talks/eugenia_cheng_an_une...</td>\n",
              "      <td>[{'status': 'approved', 'headline': '*The Art ...</td>\n",
              "      <td>1</td>\n",
              "      <td>NaN</td>\n",
              "      <td>NaN</td>\n",
              "      <td>0</td>\n",
              "      <td>[{'id': '23865', 'hero': 'https://s3.amazonaws...</td>\n",
              "      <td>6</td>\n",
              "    </tr>\n",
              "  </tbody>\n",
              "</table>\n",
              "</div>"
            ],
            "text/plain": [
              "     language  ...  number_of__related_talks\n",
              "3949       en  ...                         6\n",
              "3950       en  ...                         6\n",
              "\n",
              "[2 rows x 28 columns]"
            ]
          },
          "metadata": {
            "tags": []
          },
          "execution_count": 27
        }
      ]
    },
    {
      "cell_type": "code",
      "metadata": {
        "id": "9kcESxRfuICK",
        "colab": {
          "base_uri": "https://localhost:8080/"
        },
        "outputId": "b738ddd4-c1ec-46e0-e886-ec7b842a3183"
      },
      "source": [
        "#Verificamos idioma:\n",
        "def idiomas(x):\n",
        "  y = pd.Series(np.sort(x.values.tolist(), axis = None)).value_counts()\n",
        "  return y\n",
        "\n",
        "idiomas(tedx_df.loc[: , [\"language\"]])\n",
        "\n",
        "#Existen Ted Talks en distintos idiomas, seleccionamos solo las Ted Talks en Inglés"
      ],
      "execution_count": 28,
      "outputs": [
        {
          "output_type": "execute_result",
          "data": {
            "text/plain": [
              "en    5107\n",
              "es      19\n",
              "fr       1\n",
              "dtype: int64"
            ]
          },
          "metadata": {
            "tags": []
          },
          "execution_count": 28
        }
      ]
    },
    {
      "cell_type": "code",
      "metadata": {
        "id": "nkOVaqahuH_E"
      },
      "source": [
        "tedx_df = tedx_df[tedx_df.language == 'en']"
      ],
      "execution_count": 29,
      "outputs": []
    },
    {
      "cell_type": "markdown",
      "metadata": {
        "id": "YjxQWUodSRXl"
      },
      "source": [
        "##### *Valores Ausentes / Missing Values:* \n",
        "\n",
        "Se observa para las siguientes variables una cantidad de NA's considerable (>= 0.5), por lo que se eliminarán del modelo.\n",
        "\n",
        "Para la variable principal del modelo se observan 587 observaciones con datos faltantes, por ello se limpia el dataset."
      ]
    },
    {
      "cell_type": "code",
      "metadata": {
        "id": "0RTioGHEcki5",
        "colab": {
          "base_uri": "https://localhost:8080/"
        },
        "outputId": "e0852665-20f7-4200-c0a2-8cc089a69624"
      },
      "source": [
        "#Todas las variables\n",
        "tedx_df.isna().sum() / tedx_df.shape[0]"
      ],
      "execution_count": 30,
      "outputs": [
        {
          "output_type": "execute_result",
          "data": {
            "text/plain": [
              "language                            0.000000\n",
              "talk__id                            0.000000\n",
              "talk__name                          0.000000\n",
              "talk__description                   0.000000\n",
              "view_count                          0.000000\n",
              "duration                            0.000000\n",
              "transcript                          0.116115\n",
              "video_type_name                     0.000000\n",
              "event                               0.000000\n",
              "speaker__id                         0.002350\n",
              "speaker__name                       0.000196\n",
              "speaker__description                0.150186\n",
              "speaker__who_he_is                  0.135109\n",
              "speaker__why_listen                 0.229685\n",
              "all_speakers_details                0.000000\n",
              "recording_date                      0.000392\n",
              "published_timestamp                 0.000000\n",
              "talks__tags                         0.000000\n",
              "number_of__tags                     0.000000\n",
              "native_language                     0.000000\n",
              "url__webpage                        0.000000\n",
              "talk__more_resources                0.525553\n",
              "number_of__talk__more_resources     0.000000\n",
              "talk__recommendations__blurb        0.774036\n",
              "talk__recommendations               0.773840\n",
              "number_of__talk__recommendations    0.000000\n",
              "related_talks                       0.000000\n",
              "number_of__related_talks            0.000000\n",
              "dtype: float64"
            ]
          },
          "metadata": {
            "tags": []
          },
          "execution_count": 30
        }
      ]
    },
    {
      "cell_type": "code",
      "metadata": {
        "execution": {
          "iopub.status.busy": "2021-05-22T15:31:31.250827Z",
          "iopub.execute_input": "2021-05-22T15:31:31.251107Z",
          "iopub.status.idle": "2021-05-22T15:31:31.269141Z",
          "shell.execute_reply.started": "2021-05-22T15:31:31.251079Z",
          "shell.execute_reply": "2021-05-22T15:31:31.268041Z"
        },
        "trusted": true,
        "colab": {
          "base_uri": "https://localhost:8080/"
        },
        "id": "BAWXmOQ-SRXl",
        "outputId": "085c4432-f786-44c5-9221-1b14eb729192"
      },
      "source": [
        "#Eliminamos NA's en transcription\n",
        "tedx_df = tedx_df.dropna(subset = ['transcript'])\n",
        "tedx_df.shape"
      ],
      "execution_count": 31,
      "outputs": [
        {
          "output_type": "execute_result",
          "data": {
            "text/plain": [
              "(4514, 28)"
            ]
          },
          "metadata": {
            "tags": []
          },
          "execution_count": 31
        }
      ]
    },
    {
      "cell_type": "code",
      "metadata": {
        "id": "jtG0W2XKmXOm",
        "colab": {
          "base_uri": "https://localhost:8080/"
        },
        "outputId": "f66afcbd-1266-48bb-fc2f-c1b0709be0f2"
      },
      "source": [
        "y = tedx_df.isna().sum() / tedx_df.shape[0]\n",
        "y[y >= 0.5].index"
      ],
      "execution_count": 32,
      "outputs": [
        {
          "output_type": "execute_result",
          "data": {
            "text/plain": [
              "Index(['talk__recommendations__blurb', 'talk__recommendations'], dtype='object')"
            ]
          },
          "metadata": {
            "tags": []
          },
          "execution_count": 32
        }
      ]
    },
    {
      "cell_type": "code",
      "metadata": {
        "colab": {
          "base_uri": "https://localhost:8080/"
        },
        "id": "q4j6P79IfXib",
        "outputId": "3a17bff6-cd44-422f-f16e-89534478f26e"
      },
      "source": [
        "#Eliminamos Variables f > 0.5 NA's\n",
        "tedx_df = tedx_df.drop(columns = y[y >= 0.5].index)\n",
        "\n",
        "tedx_df.shape"
      ],
      "execution_count": 33,
      "outputs": [
        {
          "output_type": "execute_result",
          "data": {
            "text/plain": [
              "(4514, 26)"
            ]
          },
          "metadata": {
            "tags": []
          },
          "execution_count": 33
        }
      ]
    },
    {
      "cell_type": "markdown",
      "metadata": {
        "id": "xA-ljomCxSXS"
      },
      "source": [
        "#### 01.04 - Preprocesamiento de Dataset\n",
        "\n",
        "Se toma como referencia el pipeline de: https://medium.com/analytics-vidhya/text-preprocessing-for-nlp-natural-language-processing-beginners-to-master-fd82dfecf95 y se complementa con parte del pipeline de: https://towardsdatascience.com/nlp-text-preprocessing-a-practical-guide-and-template-d80874676e79 (no se corre el tratamiento de contracciones ni de números en forma de texto al no poder instalar pip en Kaggle)"
      ]
    },
    {
      "cell_type": "markdown",
      "metadata": {
        "id": "XMu-lv1-SRXl"
      },
      "source": [
        "##### *Limpieza URL's:* \n",
        "Deberia ser irrelevante debido a que son transcripciones directas de charlas, no deberian existir referencias a URL's dentro del texto. No obstante, se ejecuta este paso de forma preventiva."
      ]
    },
    {
      "cell_type": "code",
      "metadata": {
        "execution": {
          "iopub.status.busy": "2021-05-22T15:31:31.271069Z",
          "iopub.execute_input": "2021-05-22T15:31:31.271397Z",
          "iopub.status.idle": "2021-05-22T15:31:31.322133Z",
          "shell.execute_reply.started": "2021-05-22T15:31:31.271369Z",
          "shell.execute_reply": "2021-05-22T15:31:31.321125Z"
        },
        "trusted": true,
        "id": "nFkGGFZPSRXm"
      },
      "source": [
        "def clean_url(text):\n",
        "    return re.sub(r'http\\S+','',text)\n",
        "\n",
        "tedx_df['CleanTranscript'] = tedx_df['transcript'].apply(clean_url)"
      ],
      "execution_count": 34,
      "outputs": []
    },
    {
      "cell_type": "markdown",
      "metadata": {
        "id": "9bPBwsrrSRXm"
      },
      "source": [
        "##### *Limpieza de Tildes:* \n",
        "Deberia ser irrelevante debido a que son textos en Inglés, no obstante, se ejecuta este paso de forma preventiva."
      ]
    },
    {
      "cell_type": "code",
      "metadata": {
        "execution": {
          "iopub.status.busy": "2021-05-22T15:31:31.323476Z",
          "iopub.execute_input": "2021-05-22T15:31:31.323786Z",
          "iopub.status.idle": "2021-05-22T15:31:44.634832Z",
          "shell.execute_reply.started": "2021-05-22T15:31:31.323756Z",
          "shell.execute_reply": "2021-05-22T15:31:44.633824Z"
        },
        "trusted": true,
        "id": "7uiZkPBtSRXm"
      },
      "source": [
        "def remove_tildes(text):\n",
        "    return unidecode.unidecode(text)\n",
        "\n",
        "tedx_df['CleanTranscript'] = tedx_df['CleanTranscript'].apply(remove_tildes)"
      ],
      "execution_count": 35,
      "outputs": []
    },
    {
      "cell_type": "markdown",
      "metadata": {
        "id": "oLXJ4PiZSRXn"
      },
      "source": [
        "##### *Limpieza de Caracteres Irrelevantes:* \n",
        "\n",
        "Se eliminan números y signos de puntuación. Hay que considerar el impacto sobre it's, i'm, entre otros..."
      ]
    },
    {
      "cell_type": "code",
      "metadata": {
        "execution": {
          "iopub.status.busy": "2021-05-22T15:31:44.636256Z",
          "iopub.execute_input": "2021-05-22T15:31:44.636574Z",
          "iopub.status.idle": "2021-05-22T15:31:47.409295Z",
          "shell.execute_reply.started": "2021-05-22T15:31:44.636542Z",
          "shell.execute_reply": "2021-05-22T15:31:47.408372Z"
        },
        "trusted": true,
        "id": "9i6O3CMiSRXn"
      },
      "source": [
        "def clean_non_alphanumeric(text):\n",
        "   return re.sub('[^a-zA-Z]',' ',text)\n",
        "\n",
        "tedx_df['CleanTranscript'] = tedx_df['CleanTranscript'].apply(clean_non_alphanumeric)"
      ],
      "execution_count": 36,
      "outputs": []
    },
    {
      "cell_type": "markdown",
      "metadata": {
        "id": "xBfMgNyvSRXn"
      },
      "source": [
        "##### *Estandarización de tamaño de letras:* \n",
        "\n",
        "Se convierten todos los caracteres a minusculas"
      ]
    },
    {
      "cell_type": "code",
      "metadata": {
        "execution": {
          "iopub.status.busy": "2021-05-22T15:31:47.410448Z",
          "iopub.execute_input": "2021-05-22T15:31:47.410892Z",
          "iopub.status.idle": "2021-05-22T15:31:47.442874Z",
          "shell.execute_reply.started": "2021-05-22T15:31:47.410859Z",
          "shell.execute_reply": "2021-05-22T15:31:47.442097Z"
        },
        "trusted": true,
        "id": "VzsuhSZASRXn"
      },
      "source": [
        "def clean_lowercase(text):\n",
        "    return str(text).lower()\n",
        "\n",
        "tedx_df['CleanTranscript'] = tedx_df['CleanTranscript'].apply(clean_lowercase)"
      ],
      "execution_count": 37,
      "outputs": []
    },
    {
      "cell_type": "markdown",
      "metadata": {
        "id": "dVVsBEFASRXq"
      },
      "source": [
        "#### 01.05 - Tags\n",
        "\n",
        "Referencia: https://www.kaggle.com/rounakbanik/ted-data-analysis"
      ]
    },
    {
      "cell_type": "markdown",
      "metadata": {
        "id": "YKHTontv1LDm"
      },
      "source": [
        "#### *Segmentación por TAGS:* "
      ]
    },
    {
      "cell_type": "code",
      "metadata": {
        "id": "huR-2Kyjf_eu"
      },
      "source": [
        "tedx_df = tedx_df[tedx_df['transcript'] != np.nan]\n",
        "tedx_df = tedx_df[[len(ast.literal_eval(tag)) > 0 for tag in tedx_df['talks__tags']]]"
      ],
      "execution_count": 38,
      "outputs": []
    },
    {
      "cell_type": "markdown",
      "metadata": {
        "id": "jf-zna4-AT2A"
      },
      "source": [
        "### 02.Modelado"
      ]
    },
    {
      "cell_type": "markdown",
      "metadata": {
        "id": "dJ4F7tCSrCpi"
      },
      "source": [
        "#### 02.00 - Train / Test Split"
      ]
    },
    {
      "cell_type": "code",
      "metadata": {
        "trusted": true,
        "id": "0qZKCaymPcjV",
        "colab": {
          "base_uri": "https://localhost:8080/"
        },
        "outputId": "55fdfb77-15e7-4cd6-d0fd-52b89b9aef4f"
      },
      "source": [
        "X_train, X_test, y_train, y_test = train_test_split(tedx_df.transcript, tedx_df.talks__tags, test_size=.10)\n",
        "X_train = X_train.values.astype('U')\n",
        "X_test = X_test.values.astype('U')\n",
        "y_train = [ast.literal_eval(tag) for tag in y_train.values]\n",
        "y_test = [ast.literal_eval(tag) for tag in y_test.values]\n",
        "del tedx_df\n",
        "gc.collect()"
      ],
      "execution_count": 39,
      "outputs": [
        {
          "output_type": "execute_result",
          "data": {
            "text/plain": [
              "31887"
            ]
          },
          "metadata": {
            "tags": []
          },
          "execution_count": 39
        }
      ]
    },
    {
      "cell_type": "code",
      "metadata": {
        "id": "wxFMDOhJkZTI"
      },
      "source": [
        "tfidf_vectorizer = TfidfVectorizer(tokenizer=pre_procesamiento_texto)"
      ],
      "execution_count": 40,
      "outputs": []
    },
    {
      "cell_type": "markdown",
      "metadata": {
        "id": "FIR0zjq3r7WG"
      },
      "source": [
        "#### 02.01 - Stacking"
      ]
    },
    {
      "cell_type": "code",
      "metadata": {
        "id": "_8iREclvk6tJ"
      },
      "source": [
        "mlb = MultiLabelBinarizer()\n",
        "\n",
        "estimators = [\n",
        "    ('svr', RandomForestClassifier()),\n",
        "    ('dt', DecisionTreeClassifier()),\n",
        "    ('ab', AdaBoostClassifier()),\n",
        "    ('nb', GaussianNB())\n",
        "]\n",
        "\n",
        "# Con Stacking de 4 modelos\n",
        "#model = OneVsRestClassifier(StackingClassifier(estimators=estimators))\n",
        "\n",
        "# Con LinearSVC funciona muy bien y tarda menos que todo el stacking\n",
        "model = OneVsRestClassifier(LinearSVC())"
      ],
      "execution_count": 45,
      "outputs": []
    },
    {
      "cell_type": "code",
      "metadata": {
        "id": "mVMsIUYo1WlQ"
      },
      "source": [
        "class DenseTransformer():\n",
        "    \n",
        "    def fit(self, X, y=None, **fit_params):\n",
        "        return self\n",
        "\n",
        "    def transform(self, X, y=None, **fit_params):\n",
        "        return X.todense()"
      ],
      "execution_count": 46,
      "outputs": []
    },
    {
      "cell_type": "code",
      "metadata": {
        "id": "-ihsaieSkHG5"
      },
      "source": [
        "ml_pipeline = Pipeline(steps=[\n",
        "                              ('preprocessor', tfidf_vectorizer),\n",
        "                              ('to_dense', DenseTransformer()), \n",
        "                              ('classifier', model)\n",
        "])"
      ],
      "execution_count": 47,
      "outputs": []
    },
    {
      "cell_type": "code",
      "metadata": {
        "id": "tljVtYrnmxrd",
        "colab": {
          "base_uri": "https://localhost:8080/"
        },
        "outputId": "9dd8e1f7-8423-47ef-fd26-8b128e874a86"
      },
      "source": [
        "ml_pipeline.fit(X_train, mlb.fit_transform(y_train))"
      ],
      "execution_count": 48,
      "outputs": [
        {
          "output_type": "execute_result",
          "data": {
            "text/plain": [
              "Pipeline(memory=None,\n",
              "         steps=[('preprocessor',\n",
              "                 TfidfVectorizer(analyzer='word', binary=False,\n",
              "                                 decode_error='strict',\n",
              "                                 dtype=<class 'numpy.float64'>,\n",
              "                                 encoding='utf-8', input='content',\n",
              "                                 lowercase=True, max_df=1.0, max_features=None,\n",
              "                                 min_df=1, ngram_range=(1, 1), norm='l2',\n",
              "                                 preprocessor=None, smooth_idf=True,\n",
              "                                 stop_words=None, strip_accents=None,\n",
              "                                 sublinear_tf=False,\n",
              "                                 token_pa...\n",
              "                                 use_idf=True, vocabulary=None)),\n",
              "                ('to_dense',\n",
              "                 <__main__.DenseTransformer object at 0x7f28e8ca80d0>),\n",
              "                ('classifier',\n",
              "                 OneVsRestClassifier(estimator=LinearSVC(C=1.0,\n",
              "                                                         class_weight=None,\n",
              "                                                         dual=True,\n",
              "                                                         fit_intercept=True,\n",
              "                                                         intercept_scaling=1,\n",
              "                                                         loss='squared_hinge',\n",
              "                                                         max_iter=1000,\n",
              "                                                         multi_class='ovr',\n",
              "                                                         penalty='l2',\n",
              "                                                         random_state=None,\n",
              "                                                         tol=0.0001,\n",
              "                                                         verbose=0),\n",
              "                                     n_jobs=None))],\n",
              "         verbose=False)"
            ]
          },
          "metadata": {
            "tags": []
          },
          "execution_count": 48
        }
      ]
    },
    {
      "cell_type": "code",
      "metadata": {
        "colab": {
          "base_uri": "https://localhost:8080/"
        },
        "id": "wuMgNpmEViPy",
        "outputId": "7981082e-04ba-4a28-cfc7-a56d8b328e0f"
      },
      "source": [
        "ml_pipeline.predict(X_test)\n"
      ],
      "execution_count": 102,
      "outputs": [
        {
          "output_type": "execute_result",
          "data": {
            "text/plain": [
              "array([[0, 0, 0, ..., 0, 0, 0],\n",
              "       [0, 0, 0, ..., 0, 0, 0],\n",
              "       [0, 0, 0, ..., 0, 0, 0],\n",
              "       ...,\n",
              "       [0, 0, 0, ..., 0, 0, 0],\n",
              "       [0, 0, 0, ..., 0, 0, 0],\n",
              "       [0, 0, 0, ..., 0, 0, 0]])"
            ]
          },
          "metadata": {
            "tags": []
          },
          "execution_count": 102
        }
      ]
    },
    {
      "cell_type": "code",
      "metadata": {
        "id": "iSteig_Cs5Fp"
      },
      "source": [
        "# Predice X_test\n",
        "y_pred = [list(predicted_row) for predicted_row in mlb.inverse_transform(ml_pipeline.predict(X_test))]"
      ],
      "execution_count": 49,
      "outputs": []
    },
    {
      "cell_type": "code",
      "metadata": {
        "id": "lhEZe4_AM8yI",
        "colab": {
          "base_uri": "https://localhost:8080/"
        },
        "outputId": "e4441062-8a98-42c5-b2a3-a7de3223b7ba"
      },
      "source": [
        "pp.pprint(y_pred)"
      ],
      "execution_count": 71,
      "outputs": [
        {
          "output_type": "stream",
          "text": [
            "[['technology'], [], ['humanity', 'society'],\n",
            " ['disease', 'medicine', 'science'], [], ['design', 'technology'],\n",
            " ['LGBTQIA+', 'Transgender', 'activism', 'equality', 'gender', 'identity',\n",
            "  'race', 'social change', 'society'],\n",
            " ['environment', 'nature', 'plants', 'science'],\n",
            " ['climate change', 'environment', 'science'], ['animation'],\n",
            " ['entertainment', 'music', 'performance'], ['business', 'culture', 'women'],\n",
            " [], ['gaming'], [], ['Internet'],\n",
            " ['TED-Ed', 'physics', 'science', 'technology'], [],\n",
            " ['communication', 'politics'], ['TEDx', 'history', 'science', 'technology'],\n",
            " ['gender', 'women', 'work'], ['DNA', 'computers', 'science', 'technology'], [],\n",
            " ['communication', 'humanity', 'society'], ['business', 'social change'],\n",
            " ['brain'], ['business', 'work'],\n",
            " ['humanity', 'refugees', 'social change', 'society'], ['agriculture', 'food'],\n",
            " ['Vaccines', 'coronavirus', 'disease', 'global issues', 'health', 'pandemic',\n",
            "  'science', 'virus'],\n",
            " [], ['TED-Ed', 'animation'], ['language'],\n",
            " ['architecture', 'cities', 'design'], ['justice system', 'law'],\n",
            " ['TED-Ed', 'animation', 'physics', 'space'], ['business', 'technology'],\n",
            " ['business', 'economics', 'future', 'work'], [], ['culture', 'religion'], [],\n",
            " ['TED-Ed', 'animation', 'democracy', 'government', 'history', 'law',\n",
            "  'politics'],\n",
            " ['design', 'gaming'], ['identity', 'self'], ['TED-Ed', 'animation', 'science'],\n",
            " ['creativity', 'design'], [], ['space'], ['TED-Ed', 'animation'], [], ['war'],\n",
            " ['science'], ['design', 'robots', 'technology'],\n",
            " ['brain', 'neuroscience', 'science', 'technology'],\n",
            " ['brain', 'science', 'technology'], ['music'], ['technology'],\n",
            " ['TED-Ed', 'animation', 'education', 'psychology'],\n",
            " ['health', 'human body', 'science', 'sleep'],\n",
            " ['education', 'kids', 'teaching'], ['Asia', 'china', 'culture', 'food'],\n",
            " ['technology'], ['poetry'], ['TED-Ed', 'animation', 'education', 'human body'],\n",
            " ['climate change', 'social change', 'women'], ['technology'], [],\n",
            " ['TED-Ed', 'brain', 'neuroscience', 'science'],\n",
            " ['architecture', 'design', 'justice system', 'social change', 'society'], [],\n",
            " ['TED-Ed', 'animation', 'health', 'human body', 'science', 'sleep'],\n",
            " ['TEDx', 'communication', 'language'], ['TED-Ed', 'animation', 'math'],\n",
            " ['TEDx', 'democracy', 'politics'], ['relationships', 'sex', 'society'],\n",
            " ['humanity', 'identity'],\n",
            " ['india', 'justice system', 'prison', 'social change'], ['education'], [],\n",
            " ['business', 'innovation', 'technology', 'trust'], [], ['culture'],\n",
            " ['health care', 'medicine'], ['gender', 'women'], ['Internet', 'technology'],\n",
            " ['social change'], ['art'],\n",
            " ['TED-Ed', 'animation', 'education', 'health', 'medical research'],\n",
            " ['equality', 'global issues', 'politics'],\n",
            " ['TED-Ed', 'animation', 'culture', 'education', 'history'], [], ['culture'],\n",
            " ['entertainment'], ['TED-Ed', 'animation', 'business', 'economics'],\n",
            " ['media', 'social media'], ['war'], ['TED-Ed', 'animation'],\n",
            " ['education', 'math', 'teaching'], [], ['health', 'science'],\n",
            " ['biology', 'science'], ['art'], [], [],\n",
            " ['astronomy', 'physics', 'science', 'solar system', 'space', 'technology',\n",
            "  'universe'],\n",
            " ['cancer', 'health', 'human body', 'medical research', 'medicine', 'science'],\n",
            " ['science', 'technology'], [],\n",
            " ['brain', 'food', 'health', 'human body', 'science'],\n",
            " ['science', 'technology'],\n",
            " ['climate change', 'environment', 'global issues', 'science',\n",
            "  'sustainability'],\n",
            " ['culture'], ['social change', 'society'], ['agriculture', 'food'], ['Africa'],\n",
            " ['health', 'health care', 'heart', 'medical research', 'medicine',\n",
            "  'technology'],\n",
            " ['architecture', 'design'], ['health', 'public health'],\n",
            " ['TED-Ed', 'animals', 'animation', 'science'],\n",
            " ['TED-Ed', 'animation', 'science'],\n",
            " ['TED-Ed', 'animation', 'biology', 'health', 'health care', 'human body',\n",
            "  'public health', 'science'],\n",
            " ['science', 'space', 'universe'], [], ['science', 'technology'],\n",
            " ['cancer', 'health', 'health care', 'medical research', 'medicine', 'science'],\n",
            " ['biology', 'science'], ['china', 'technology'], ['global issues'],\n",
            " ['Internet', 'encryption', 'government', 'surveillance'],\n",
            " ['culture', 'religion'], ['surveillance'], ['communication'], [],\n",
            " ['language', 'technology'],\n",
            " ['archaeology', 'climate change', 'history', 'humanity', 'technology'],\n",
            " ['culture', 'food'], ['music'],\n",
            " ['business', 'climate change', 'energy', 'environment', 'global issues',\n",
            "  'renewable energy', 'sustainability', 'technology'],\n",
            " [], ['Internet', 'computers', 'technology'], ['art', 'design', 'technology'],\n",
            " ['Africa', 'business'], [], [], ['entertainment', 'music', 'performance'],\n",
            " ['education', 'kids', 'personal growth'],\n",
            " ['TED-Ed', 'animation', 'culture', 'history'], [], ['architecture', 'cities'],\n",
            " ['TED-Ed', 'animation', 'sustainability'], ['global issues', 'maps'],\n",
            " ['health care', 'technology'], [],\n",
            " ['creativity', 'entertainment', 'music', 'performance'], [], ['technology'],\n",
            " ['communication'], ['culture', 'happiness', 'humanity'], [],\n",
            " ['Internet', 'global issues', 'technology'],\n",
            " ['TED-Ed', 'animation', 'education'], ['personal growth'],\n",
            " ['medicine', 'science'], ['math'], ['business', 'economics'], [], [], [], [],\n",
            " ['animals'], [], ['TED-Ed', 'animation', 'science'], ['kids', 'science'],\n",
            " ['business'], ['democracy', 'government', 'politics'], ['society'],\n",
            " ['art', 'design'], [], ['humanity', 'personal growth'], ['art', 'history'],\n",
            " ['Africa', 'global issues', 'war'],\n",
            " ['Internet', 'social change', 'social media', 'society', 'technology'],\n",
            " ['LGBTQIA+'], [], ['TED-Ed', 'animation', 'business', 'finance', 'money'], [],\n",
            " ['science'], ['brain', 'neuroscience', 'science'], ['education', 'kids'],\n",
            " ['Planets', 'astronomy', 'exploration', 'science', 'space', 'universe'],\n",
            " ['technology'], ['architecture', 'cities', 'design'],\n",
            " ['entertainment', 'music', 'performance'],\n",
            " ['immigration', 'journalism', 'society'],\n",
            " ['future', 'global issues', 'humanity', 'politics', 'society'],\n",
            " ['climate change', 'coral reefs', 'environment', 'fish', 'marine biology',\n",
            "  'ocean', 'science'],\n",
            " ['music'], [], ['feminism', 'gender', 'identity', 'society', 'women'], [],\n",
            " ['Internet', 'technology'], ['TED-Ed', 'animation', 'technology'],\n",
            " ['innovation', 'science', 'technology'], ['gender', 'leadership', 'women'],\n",
            " ['TED-Ed', 'brain', 'memory', 'neuroscience', 'science'], ['business', 'work'],\n",
            " ['Autism spectrum disorder', 'biology', 'genetics', 'medical research',\n",
            "  'medicine', 'public health', 'science'],\n",
            " ['business', 'entrepreneur', 'finance', 'investing'],\n",
            " ['education', 'kids', 'teaching'], [], ['social change'],\n",
            " ['TED-Ed', 'animation', 'math'], ['TED-Ed', 'animals', 'biology', 'science'],\n",
            " [], ['art', 'creativity', 'culture'], ['TED-Ed', 'animation', 'business'],\n",
            " ['design', 'technology'],\n",
            " ['TED-Ed', 'animals', 'animation', 'biology', 'insects', 'science'], ['space'],\n",
            " ['health', 'health care', 'kids', 'medicine'], ['government', 'technology'],\n",
            " ['entertainment', 'music', 'performance'],\n",
            " ['brain', 'design', 'neuroscience', 'science', 'technology'],\n",
            " ['emotions', 'technology'], ['brain', 'health'],\n",
            " ['TED-Ed', 'animation', 'education', 'engineering', 'history'],\n",
            " ['architecture', 'design'], ['TED-Ed', 'animation', 'evolution', 'science'],\n",
            " ['entertainment', 'music', 'performance'],\n",
            " ['aging', 'biology', 'biotech', 'genetics', 'health', 'science'],\n",
            " ['LGBTQIA+', 'social change'],\n",
            " ['biology', 'disease', 'evolution', 'health', 'science'],\n",
            " ['TED-Ed', 'animation', 'electricity', 'energy', 'technology'],\n",
            " ['social change'], ['global issues', 'technology'], ['TED-Ed', 'animation'],\n",
            " ['animals', 'dinosaurs', 'history', 'paleontology', 'science'],\n",
            " ['social change'], ['TED-Ed', 'animation', 'history'],\n",
            " ['TED-Ed', 'animation', 'cancer', 'health', 'illness', 'innovation',\n",
            "  'medical research', 'medicine', 'science', 'technology'],\n",
            " ['TED-Ed', 'animation', 'math'], ['food', 'health', 'health care', 'medicine'],\n",
            " ['global issues'], [], ['education', 'kids', 'social change', 'society'],\n",
            " ['TED-Ed', 'animation', 'health'],\n",
            " ['climate change', 'energy', 'environment', 'future', 'science',\n",
            "  'sustainability'],\n",
            " ['TED-Ed', 'animation', 'history'],\n",
            " ['biology', 'health', 'medical research', 'medicine', 'science'],\n",
            " ['global issues'], ['business', 'future', 'science', 'technology'],\n",
            " ['astronomy', 'science', 'space', 'technology', 'telescopes', 'universe'],\n",
            " ['TED-Ed', 'biology', 'disease', 'health', 'health care', 'medicine',\n",
            "  'science'],\n",
            " ['TED-Ed', 'animation'], ['TED-Ed', 'animation', 'education', 'history'],\n",
            " ['business', 'technology', 'transportation'],\n",
            " ['TED-Ed', 'animation', 'biology', 'human body', 'science'], ['business'],\n",
            " ['business'], ['history'],\n",
            " ['activism', 'crime', 'justice system', 'social change', 'society'], ['death'],\n",
            " ['brain', 'science'], ['emotions', 'gender', 'social change', 'women'], [],\n",
            " ['Africa', 'health care', 'women'],\n",
            " ['biology', 'disease', 'medical research', 'medicine', 'science',\n",
            "  'technology'],\n",
            " ['biology', 'innovation'],\n",
            " ['business', 'economics', 'health', 'health care', 'medicine',\n",
            "  'public health'],\n",
            " ['culture'], [], [], [], ['Internet', 'film', 'technology'],\n",
            " ['United States', 'government', 'immigration', 'politics', 'social change'],\n",
            " ['communication', 'social change'],\n",
            " ['TED-Ed', 'animation', 'culture', 'history'],\n",
            " ['DNA', 'biology', 'biotech', 'genetics', 'science', 'technology'],\n",
            " ['architecture', 'cities', 'climate change', 'design'], ['technology'], [],\n",
            " ['kids'], ['LGBTQIA+'],\n",
            " ['Africa', 'climate change', 'energy', 'environment', 'global issues',\n",
            "  'sustainability'],\n",
            " ['DNA', 'biotech', 'genetics', 'science', 'technology'],\n",
            " ['art', 'history', 'technology'], ['entertainment', 'music'], [],\n",
            " ['United States', 'identity', 'immigration', 'social change', 'society'],\n",
            " ['Planets', 'exploration', 'science', 'solar system', 'space'], ['technology'],\n",
            " ['environment', 'pollution', 'science', 'technology'],\n",
            " ['design', 'technology'],\n",
            " ['TED-Ed', 'animation', 'code', 'computers', 'education', 'engineering',\n",
            "  'technology'],\n",
            " ['design', 'technology'], ['religion', 'society'],\n",
            " ['art', 'creativity', 'entertainment', 'film', 'technology'],\n",
            " ['communication', 'culture', 'language'], ['community', 'design', 'education'],\n",
            " [],\n",
            " ['depression', 'health', 'medical research', 'medicine', 'mental health',\n",
            "  'science'],\n",
            " ['Africa', 'business', 'economics', 'global issues'],\n",
            " ['education', 'technology'], ['data', 'technology'],\n",
            " ['computers', 'technology'], ['biology', 'health', 'science'],\n",
            " ['education', 'teaching'], ['culture'], ['personal growth'],\n",
            " ['TED-Ed', 'animation', 'history'],\n",
            " ['global issues', 'humanity', 'nuclear energy'], [],\n",
            " ['TED-Ed', 'animation', 'education', 'health', 'medical research', 'science'],\n",
            " [], ['cities', 'climate change', 'environment', 'science', 'sustainability'],\n",
            " ['gender', 'social change'], ['design', 'technology'],\n",
            " ['animals', 'climate change', 'science'], ['climate change'],\n",
            " ['innovation', 'science', 'technology'],\n",
            " ['Internet', 'computers', 'technology'],\n",
            " ['entertainment', 'music', 'performance'], ['education', 'kids', 'teaching'],\n",
            " ['communication', 'language'], [], ['social change'],\n",
            " ['architecture', 'cities', 'design'],\n",
            " ['entertainment', 'music', 'performance'],\n",
            " ['energy', 'sustainability', 'technology'],\n",
            " ['TED-Ed', 'animation', 'code', 'computers', 'education', 'engineering',\n",
            "  'technology'],\n",
            " ['astronomy', 'science', 'space', 'technology', 'universe'],\n",
            " ['creativity', 'entertainment', 'storytelling'],\n",
            " ['bacteria', 'biology', 'global issues', 'health', 'innovation', 'plastic'],\n",
            " ['activism', 'society'],\n",
            " ['democracy', 'global issues', 'government', 'politics'],\n",
            " ['equality', 'social change', 'society'],\n",
            " ['art', 'creativity', 'culture', 'design'], [],\n",
            " ['genetics', 'health', 'science'],\n",
            " ['community', 'coronavirus', 'health', 'health care', 'public health'],\n",
            " ['PTSD', 'depression', 'global issues', 'mental health', 'war'],\n",
            " ['gender', 'health', 'health care', 'identity', 'medicine', 'social change'],\n",
            " ['health', 'science'], [],\n",
            " ['TED-Ed', 'animation', 'climate change', 'science'],\n",
            " ['health', 'medicine', 'technology'], ['cities'], ['climate change'],\n",
            " ['TED-Ed', 'animation', 'brain', 'education', 'memory', 'psychology',\n",
            "  'science'],\n",
            " ['activism', 'gender', 'global issues', 'women'],\n",
            " ['entertainment', 'music', 'technology'], ['TED-Ed', 'animation'],\n",
            " ['technology'], ['climate change', 'sustainability'], ['humanity'],\n",
            " ['TED-Ed', 'animation'], ['TED-Ed', 'animation', 'food', 'health'],\n",
            " ['entertainment', 'music', 'performance'], ['TED-Ed', 'art', 'history'],\n",
            " ['3D printing', 'design', 'engineering', 'manufacturing', 'science',\n",
            "  'technology'],\n",
            " ['TED-Ed', 'animation'], ['communication', 'culture'],\n",
            " ['climate change', 'science', 'society'], ['sex'], ['science'], [], [],\n",
            " ['TED-Ed', 'animation', 'biology', 'health', 'human body', 'science'],\n",
            " ['TED-Ed'], ['culture', 'personal growth', 'sports'], [],\n",
            " ['bacteria', 'biology', 'health', 'science'], ['TED-Ed'], ['TED-Ed'], [],\n",
            " ['health'], ['love'], ['TED-Ed', 'animation'], [],\n",
            " ['activism', 'social change', 'society', 'violence', 'women'],\n",
            " ['entertainment', 'music', 'performance'], [], ['journalism', 'social media'],\n",
            " ['science', 'technology'], [], ['global issues', 'politics'],\n",
            " ['AI', 'robots', 'technology'],\n",
            " ['TED-Ed', 'animals', 'animation', 'biology', 'fish', 'science'],\n",
            " ['drugs', 'health', 'health care', 'medicine'], [],\n",
            " ['biology', 'design', 'engineering', 'nature', 'science', 'technology'],\n",
            " ['art', 'entertainment', 'music', 'performance'],\n",
            " ['TEDx', 'family', 'kids', 'parenting', 'social change'], ['history'],\n",
            " ['TED-Ed', 'animation'], ['health', 'women'], ['work'],\n",
            " ['Africa', 'democracy', 'global issues', 'government', 'politics'],\n",
            " ['art', 'creativity', 'culture', 'design'],\n",
            " [\"Alzheimer's\", 'health', 'science'],\n",
            " ['business', 'surveillance', 'technology'],\n",
            " ['Asia', 'culture', 'economics', 'global issues', 'india'],\n",
            " ['animals', 'biology', 'design', 'robots', 'science', 'technology'],\n",
            " ['cities', 'climate change', 'environment'], ['social change'], ['art'],\n",
            " ['design', 'engineering', 'innovation', 'technology'], ['TED-Ed', 'animation'],\n",
            " ['entertainment', 'music', 'performance'], ['health'],\n",
            " ['communication', 'humanity'], ['business'], [],\n",
            " ['cities', 'design', 'gaming', 'infrastructure', 'urban planning'],\n",
            " ['medicine'], ['global issues'], ['health care', 'science', 'technology'],\n",
            " ['Africa', 'Slavery', 'TED-Ed', 'history'],\n",
            " ['TED-Ed', 'Vaccines', 'animation', 'biology', 'disease', 'education',\n",
            "  'health', 'illness', 'medicine', 'public health', 'science', 'virus'],\n",
            " ['encryption', 'technology'], [], ['humor'],\n",
            " ['Africa', 'ancient world', 'culture', 'history'],\n",
            " ['communication', 'creativity', 'culture', 'social media', 'technology',\n",
            "  'writing'],\n",
            " ['communication', 'education', 'race'],\n",
            " ['democracy', 'government', 'history', 'politics', 'society'], [],\n",
            " ['global issues', 'war'],\n",
            " ['TED-Ed', 'animals', 'animation', 'biology', 'science'], [],\n",
            " ['global issues'], ['animals', 'science'], ['technology'], [],\n",
            " ['art', 'culture', 'women'], [], ['photography'],\n",
            " ['TED-Ed', 'animals', 'animation', 'ecology'], ['animals', 'biodiversity'],\n",
            " ['global issues', 'water'], ['TED-Ed', 'animation', 'technology'],\n",
            " ['cities', 'global issues', 'technology'],\n",
            " ['TED-Ed', 'animation', 'computers', 'memory', 'science', 'technology'],\n",
            " ['health'], ['global issues', 'photography', 'storytelling'],\n",
            " ['TED-Ed', 'animation', 'biology', 'human body', 'science'],\n",
            " ['Internet', 'technology'], ['science'],\n",
            " ['TED-Ed', 'animation', 'education', 'history'],\n",
            " ['education', 'kids', 'teaching'], ['TED-Ed', 'animation'], ['technology']]\n"
          ],
          "name": "stdout"
        }
      ]
    },
    {
      "cell_type": "code",
      "metadata": {
        "id": "xftuxxrhM-5q",
        "colab": {
          "base_uri": "https://localhost:8080/"
        },
        "outputId": "a08cf741-9f54-44e0-f7b1-e16c2bd50971"
      },
      "source": [
        "pp.pprint(y_test)"
      ],
      "execution_count": 72,
      "outputs": [
        {
          "output_type": "stream",
          "text": [
            "[['cities', 'software', 'urban planning'],\n",
            " ['literature', 'TED-Ed', 'animation', 'writing', 'culture', 'science fiction',\n",
            "  'books', 'film'],\n",
            " ['violence', 'personal growth', 'humanity', 'storytelling'],\n",
            " ['Vaccines', 'Africa', 'health', 'science', 'medicine', 'medical research',\n",
            "  'technology', 'TED Fellows', 'public health', 'innovation', 'disease'],\n",
            " ['art', 'collaboration', 'creativity'],\n",
            " ['TEDx', 'art', 'computers', 'design', 'film', 'technology', 'visualizations',\n",
            "  'animation'],\n",
            " ['gender', 'race', 'Transgender', 'social change', 'history', 'TEDx'],\n",
            " ['biodiversity', 'biology', 'environment', 'future', 'science', 'ecology',\n",
            "  'plants', 'gardening'],\n",
            " ['Countdown', 'climate change', 'environment', 'nature', 'science',\n",
            "  'leadership'],\n",
            " ['animation', 'TED-Ed', 'math', 'education', 'design'],\n",
            " ['collaboration', 'culture', 'entertainment', 'music', 'performance'],\n",
            " ['business', 'feminism', 'politics', 'women', 'women in business'],\n",
            " ['brain', 'fear', 'humanity', 'identity', 'motivation', 'personal growth',\n",
            "  'success', 'blindness', 'decision-making'],\n",
            " ['culture', 'education', 'entertainment', 'gaming', 'technology'],\n",
            " ['Internet', 'TEDx', 'law', 'music', 'technology'],\n",
            " ['media', 'Internet', 'social media', 'communication'],\n",
            " ['design', 'engineering', 'technology', 'TED-Ed', 'invention', 'innovation',\n",
            "  'animation', 'telescopes', 'science'],\n",
            " ['TEDx', 'activism', 'animals', 'nature', 'photography', 'birds'],\n",
            " ['collaboration', 'community', 'friendship', 'communication', 'identity',\n",
            "  'social change', 'personal growth', 'politics', 'Internet', 'society',\n",
            "  'journalism'],\n",
            " ['history', 'science', 'storytelling', 'technology', 'philosophy',\n",
            "  'innovation', 'culture', 'physics', 'activism', 'computers', 'math'],\n",
            " ['business', 'feminism', 'leadership', 'technology', 'women',\n",
            "  'women in business', 'gender', 'goals'],\n",
            " ['DNA', 'creativity', 'physics', 'science', 'technology', 'nanotechnology'],\n",
            " ['TEDx', 'business', 'communication', 'culture', 'leadership', 'society',\n",
            "  'indigenous peoples'],\n",
            " ['anthropology', 'communication', 'community', 'personality', 'humanity',\n",
            "  'society', 'TED Books', 'friendship'],\n",
            " ['business', 'economics', 'social change', 'justice system'],\n",
            " ['visualizations', 'film'], ['work', 'work-life balance', 'business'],\n",
            " ['global issues', 'humanity', 'identity', 'immigration', 'refugees',\n",
            "  'social change', 'kids'],\n",
            " ['food', 'poverty', 'farming', 'agriculture', 'global issues', 'society'],\n",
            " ['coronavirus', 'pandemic', 'virus', 'global issues', 'collaboration',\n",
            "  'science', 'disease'],\n",
            " ['refugees', 'TED Fellows', 'Europe', 'activism', 'human rights', 'law'],\n",
            " ['creativity', 'design', 'animation', 'TED-Ed', 'math'],\n",
            " ['education', 'communication', 'innovation', 'grammar', 'literature',\n",
            "  'language', 'TEDx', 'teaching', 'writing', 'TED en Español', 'kids'],\n",
            " ['activism', 'cities', 'culture', 'architecture', 'public space'],\n",
            " ['law', 'justice system', 'society', 'prison', 'community', 'United States',\n",
            "  'social change', 'crime', 'equality'],\n",
            " ['animation', 'science', 'TED-Ed', 'Planets', 'universe', 'space', 'physics'],\n",
            " ['business', 'collaboration', 'economics', 'law', 'social change',\n",
            "  'technology'],\n",
            " ['agriculture', 'behavioral economics', 'collaboration', 'economics',\n",
            "  'farming', 'business', 'history', 'humanity', 'innovation', 'manufacturing',\n",
            "  'productivity', 'social change', 'society', 'TEDx', 'technology', 'work'],\n",
            " ['animals', 'art', 'birds', 'creativity', 'entertainment', 'exploration',\n",
            "  'film', 'technology', 'Best of the Web'],\n",
            " ['atheism', 'brain', 'cognitive science', 'consciousness', 'evolution',\n",
            "  'philosophy', 'religion'],\n",
            " ['personal growth', 'success', 'relationships', 'social change', 'society',\n",
            "  'culture', 'motivation', 'happiness', 'United States'],\n",
            " ['animation', 'government', 'TED-Ed', 'education', 'history', 'United States',\n",
            "  'politics'],\n",
            " ['demo', 'design', 'entertainment', 'gaming', 'technology'],\n",
            " ['culture', 'entertainment', 'psychology', 'self', 'film'],\n",
            " ['animation', 'human body', 'physics', 'TED-Ed', 'science'],\n",
            " ['art', 'creativity', 'design', 'education', 'Best of the Web', 'toys'],\n",
            " ['business', 'beauty', 'collaboration', 'innovation', 'humanity', 'leadership',\n",
            "  'motivation', 'work', 'goals'],\n",
            " ['history', 'space', 'education', 'animation', 'TED-Ed', 'exploration',\n",
            "  'United States'],\n",
            " ['TED-Ed', 'animation', 'education', 'writing', 'poetry', 'death'],\n",
            " ['science', 'nature', 'math', 'technology', 'medicine', 'demo'],\n",
            " ['entertainment', 'film', 'global issues', 'storytelling', 'technology',\n",
            "  'war'],\n",
            " ['TED-Ed', 'creativity', 'education', 'science', 'technology', 'exploration',\n",
            "  'ancient world', 'curiosity', 'innovation', 'space', 'physics', 'Planets',\n",
            "  'history', 'math'],\n",
            " ['AI', 'cognitive science', 'demo', 'design', 'evolution', 'robots',\n",
            "  'technology'],\n",
            " ['brain', 'neuroscience', 'science', 'cognitive science', 'medical imaging',\n",
            "  'medical research', 'disease', 'sociology', 'decision-making', 'economics',\n",
            "  'gaming', 'psychology', 'behavioral economics', 'software', 'mental health',\n",
            "  'community', 'biology', 'drugs', 'code'],\n",
            " ['brain', 'technology', 'blindness'],\n",
            " ['music', 'literature', 'animation', 'TED-Ed', 'brain'],\n",
            " ['history', 'invention', 'technology', 'archaeology'],\n",
            " ['anthropology', 'personality', 'psychology', 'sociology', 'TED-Ed', 'brain',\n",
            "  'performance', 'animation', 'self'],\n",
            " ['sleep', 'science', 'health', 'human body'],\n",
            " ['education', 'United States', 'teaching', 'social change', 'potential'],\n",
            " ['business', 'culture', 'exploration', 'food', 'global issues', 'history',\n",
            "  'Best of the Web'],\n",
            " ['TED Fellows', 'algorithm', 'data', 'technology'],\n",
            " ['TEDx', 'entertainment', 'poetry', 'spoken word', 'performance',\n",
            "  'storytelling'],\n",
            " ['science', 'TED-Ed', 'health', 'human body', 'disease', 'public health',\n",
            "  'health care', 'biology', 'heart'],\n",
            " ['climate change', 'biosphere', 'nature', 'women', 'education', 'science',\n",
            "  'sustainability', 'policy', 'farming', 'communication'],\n",
            " ['TEDx', 'global issues', 'technology', 'cyber security'],\n",
            " ['compassion', 'history', 'war', 'humanity'],\n",
            " ['psychology', 'brain', 'science', 'human body', 'health', 'neurology',\n",
            "  'animation', 'TED-Ed', 'neuroscience'],\n",
            " ['prison', 'justice system', 'United States', 'society', 'social change'],\n",
            " ['literature', 'history', 'TED-Ed', 'animation', 'education', 'books',\n",
            "  'culture'],\n",
            " ['TED-Ed', 'science', 'education', 'sleep', 'health', 'animation', 'memory',\n",
            "  'brain', 'mental health', 'biology'],\n",
            " ['beauty', 'innovation', 'humanity', 'communication', 'invention', 'language',\n",
            "  'potential', 'society', 'writing', 'relationships', 'TEDx', 'creativity',\n",
            "  'emotions'],\n",
            " ['memory', 'math', 'TED-Ed', 'money', 'animation', 'family'],\n",
            " ['language', 'communication', 'democracy', 'global issues', 'decision-making',\n",
            "  'international development'],\n",
            " ['culture', 'love', 'relationships', 'sex'],\n",
            " ['identity', 'diversity', 'community', 'family', 'self', 'humanity', 'society',\n",
            "  'TED en Español', 'education', 'kids'],\n",
            " ['crime', 'culture', 'education', 'global issues', 'india', 'social change'],\n",
            " ['education', 'personal growth', 'motivation', 'success', 'potential', 'kids'],\n",
            " ['writing', 'design', 'history', 'industrial design'],\n",
            " ['business', 'marketing', 'trust', 'culture', 'success'],\n",
            " ['history', 'women', 'society', 'media', 'social change', 'race', 'culture',\n",
            "  'gender', 'equality'],\n",
            " ['Islam', 'art', 'culture'], ['health care', 'medicine', 'heart'],\n",
            " ['activism', 'feminism', 'global issues', 'government', 'history',\n",
            "  'motivation', 'personal growth', 'politics', 'social change', 'society',\n",
            "  'women', 'gender', 'equality'],\n",
            " ['business', 'art', 'creativity', 'entrepreneur', 'money', 'music'],\n",
            " ['immigration', 'humanity', 'storytelling', 'film', 'mental health',\n",
            "  'TED Fellows'],\n",
            " ['art', 'humanity', 'nature', 'storytelling', 'photography', 'creativity'],\n",
            " ['TED-Ed', 'animation', 'media', 'health', 'journalism', 'medicine',\n",
            "  'medical research'],\n",
            " ['collaboration', 'business', 'capitalism', 'community', 'democracy',\n",
            "  'economics', 'global issues', 'government', 'identity', 'policy',\n",
            "  'philosophy', 'social change', 'politics', 'society', 'psychology',\n",
            "  'communication'],\n",
            " ['TED-Ed', 'animation', 'education', 'indigenous peoples', 'United States',\n",
            "  'government', 'history', 'war'],\n",
            " ['death', 'aging', 'communication', 'entrepreneur', 'humanity', 'motivation',\n",
            "  'personality', 'success', 'society'],\n",
            " ['culture', 'prison', 'storytelling'],\n",
            " ['music', 'entertainment', 'performance'],\n",
            " ['education', 'TED-Ed', 'animation', 'economics', 'business', 'global issues',\n",
            "  'finance', 'money', 'history'],\n",
            " ['culture', 'entertainment', 'media', 'social media', 'marketing'],\n",
            " ['TED Residency', 'communication', 'software', 'innovation', 'South America',\n",
            "  'violence', 'war'],\n",
            " ['history', 'TED-Ed', 'animation', 'ancient world'],\n",
            " ['math', 'education', 'teaching'], ['TED Fellows', 'photography', 'war'],\n",
            " ['health', 'medical research', 'energy', 'social change', 'pollution'],\n",
            " ['TEDx', 'animals', 'biology', 'smell'],\n",
            " ['animation', 'TEDx', 'art', 'creativity', 'illusion', 'visualizations',\n",
            "  'film'],\n",
            " ['collaboration', 'community', 'conducting', 'entertainment', 'technology',\n",
            "  'virtual reality', 'performance'],\n",
            " ['creativity', 'design', 'exploration', 'transportation', 'engineering'],\n",
            " ['astronomy', 'space', 'technology', 'universe', 'telescopes'],\n",
            " ['cancer', 'disease', 'health', 'science', 'technology'],\n",
            " ['art', 'math', 'science', 'technology', 'visualizations'],\n",
            " ['gender', 'activism', 'humanity', 'identity', 'society', 'community',\n",
            "  'social change', 'Transgender', 'TED Fellows', 'LGBTQIA+'],\n",
            " ['biology', 'food', 'science', 'technology'],\n",
            " ['technology', 'marine biology', 'biosphere', 'science', 'TEDx', 'animals',\n",
            "  'chemistry', 'biodiversity', 'biology', 'water', 'nature', 'ocean'],\n",
            " ['agriculture', 'cities', 'climate change', 'environment', 'global issues',\n",
            "  'Anthropocene'],\n",
            " ['culture', 'philosophy', 'success', 'work', 'work-life balance'],\n",
            " ['refugees', 'society', 'community', 'immigration', 'social change',\n",
            "  'United States', 'policy', 'history', 'humanity'],\n",
            " ['food', 'farming', 'agriculture', 'data', 'sustainability', 'TEDx',\n",
            "  'community'],\n",
            " ['Africa', 'animals', 'biodiversity', 'global issues', 'science',\n",
            "  'sustainability'],\n",
            " ['science', 'invention', 'technology', 'TED-Ed', 'medical research', 'heart'],\n",
            " ['Africa', 'architecture', 'collaboration', 'beauty', 'community', 'design',\n",
            "  'health care', 'engineering', 'humanity', 'public health', 'social change',\n",
            "  'United States', 'society', 'equality', 'public space'],\n",
            " ['health', 'personal growth', 'addiction', 'public health', 'policy',\n",
            "  'social change'],\n",
            " ['animals', 'TED-Ed', 'history', 'evolution', 'animation', 'culture'],\n",
            " ['TED-Ed', 'education', 'animation', 'animals', 'marine biology', 'science',\n",
            "  'biology', 'ocean'],\n",
            " ['consciousness', 'health', 'psychology', 'TED-Ed', 'human body', 'animation',\n",
            "  'health care', 'public health'],\n",
            " ['astronomy', 'curiosity', 'exploration', 'nature', 'physics', 'science',\n",
            "  'technology', 'universe', 'space'],\n",
            " ['space', 'science', 'universe', 'astronomy', 'storytelling', 'history',\n",
            "  'exploration', 'rocket science', 'TED Fellows', 'Planets', 'TEDx', 'Moon'],\n",
            " ['DNA', 'biology', 'curiosity', 'history', 'microbiology', 'science',\n",
            "  'technology'],\n",
            " ['biology', 'cancer', 'disease', 'DNA', 'health', 'innovation',\n",
            "  'medical research', 'medicine', 'TED Fellows', 'science'],\n",
            " ['biology', 'science', 'visualizations'],\n",
            " ['china', 'Asia', 'business', 'communication', 'data', 'social change',\n",
            "  'social media', 'society', 'future', 'innovation', 'journalism', 'potential',\n",
            "  'technology', 'Internet'],\n",
            " ['activism', 'collaboration', 'culture', 'film', 'global issues', 'music',\n",
            "  'social change', 'storytelling', 'art'],\n",
            " ['Internet', 'computers', 'global issues', 'technology', 'terrorism',\n",
            "  'surveillance', 'encryption'],\n",
            " ['culture', 'global issues', 'natural disaster', 'philosophy', 'religion'],\n",
            " ['culture', 'global issues', 'government', 'law', 'surveillance',\n",
            "  'encryption'],\n",
            " ['art', 'creativity', 'collaboration', 'culture', 'TED Fellows'],\n",
            " ['TEDx', 'happiness', 'love', 'personal growth', 'psychology', 'writing',\n",
            "  'books'],\n",
            " ['language', 'technology', 'culture', 'data', 'TEDx', 'social change',\n",
            "  'crowdsourcing', 'indigenous peoples'],\n",
            " ['history', 'technology', 'archaeology', 'ancient world', 'TEDx',\n",
            "  'climate change'],\n",
            " ['TEDx', 'culture', 'food', 'global issues', 'sustainability', 'gardening'],\n",
            " ['TED-Ed', 'performance', 'music', 'personal growth'],\n",
            " ['climate change', 'engineering', 'innovation', 'global issues',\n",
            "  'nuclear energy', 'pollution', 'potential', 'society', 'resources', 'science',\n",
            "  'electricity', 'decision-making', 'renewable energy'],\n",
            " ['biotech', 'culture', 'future', 'global issues', 'happiness', 'philosophy',\n",
            "  'technology'],\n",
            " ['Internet', 'activism', 'crime', 'terrorism', 'encryption', 'cyber security'],\n",
            " ['art', 'creativity', 'design', 'poetry', 'software', 'technology'],\n",
            " ['agriculture', 'farming', 'Africa', 'social change', 'society', 'community',\n",
            "  'future', 'global issues', 'humanity', 'innovation', 'potential'],\n",
            " ['disease', 'Africa', 'humanity', 'future', 'Audacious Project', 'health',\n",
            "  'illness', 'public health'],\n",
            " ['disability', 'fear', 'blindness'],\n",
            " ['TEDx', 'art', 'music', 'creativity', 'entertainment', 'performance'],\n",
            " ['parenting', 'education', 'family', 'happiness', 'motivation',\n",
            "  'personal growth', 'social change', 'society', 'success', 'teaching', 'kids',\n",
            "  'goals'],\n",
            " ['TED-Ed', 'animation', 'education', 'history', 'Europe', 'religion', 'war',\n",
            "  'culture'],\n",
            " ['TED Prize', 'communication', 'design', 'media', 'photography', 'technology',\n",
            "  'art'],\n",
            " ['architecture', 'cities', 'design', 'urban planning', 'public space'],\n",
            " ['animation', 'TED-Ed', 'education', 'climate change', 'plastic', 'design',\n",
            "  'sustainability', 'shopping', 'pollution', 'engineering', 'ocean'],\n",
            " ['data', 'humanity', 'economics', 'visualizations', 'TEDx',\n",
            "  'international development', 'maps'],\n",
            " ['TEDx', 'global issues', 'technology'],\n",
            " ['Africa', 'creativity', 'culture', 'entertainment', 'film', 'global issues',\n",
            "  'war'],\n",
            " ['culture', 'entertainment', 'history', 'music', 'performance'],\n",
            " ['animals', 'creativity', 'death', 'love', 'poetry'],\n",
            " ['social media', 'activism', 'technology', 'South America', 'community',\n",
            "  'infrastructure', 'government'],\n",
            " ['health', 'health care', 'mental health'],\n",
            " ['happiness', 'personal growth', 'emotions', 'storytelling'],\n",
            " ['art', 'culture', 'dance', 'identity', 'performance'],\n",
            " ['business', 'education', 'global issues', 'innovation', 'science',\n",
            "  'technology', 'Internet'],\n",
            " ['TED-Ed', 'psychology', 'identity', 'personal growth', 'education', 'brain',\n",
            "  'animation'],\n",
            " ['success', 'psychology', 'communication', 'personal growth', 'science',\n",
            "  'work', 'productivity'],\n",
            " ['cancer', 'medicine', 'science', 'medical research', 'data', 'activism',\n",
            "  'corruption', 'health', 'health care', 'illness', 'public health', 'drugs'],\n",
            " ['art', 'education', 'beauty', 'math', 'communication', 'music', 'nature',\n",
            "  'philosophy', 'universe', 'visualizations', 'TEDx'],\n",
            " ['aging', 'education', 'money', 'youth'],\n",
            " ['TED Fellows', 'science', 'technology', 'water', 'bacteria', 'biology',\n",
            "  'chemistry', 'environment', 'sustainability', 'biotech', 'innovation',\n",
            "  'natural resources', 'ocean'],\n",
            " ['TED-Ed', 'animation', 'poetry', 'violence', 'education'],\n",
            " ['Asia', 'china', 'consumerism', 'culture', 'economics', 'global issues',\n",
            "  'women'],\n",
            " ['culture', 'decision-making', 'personal growth'],\n",
            " ['animals', 'biology', 'body language', 'primates', 'communication',\n",
            "  'community', 'nature', 'science', 'politics', 'empathy', 'biodiversity'],\n",
            " ['design', 'architecture', 'beauty', 'history', 'community', 'society',\n",
            "  'identity', 'social change', 'public space'],\n",
            " ['TED-Ed', 'animation', 'science', 'human body', 'biology', 'medicine'],\n",
            " ['culture', 'humor', 'psychology', 'kids'],\n",
            " ['culture', 'design', 'entertainment', 'gaming', 'technology', 'women',\n",
            "  'history', 'kids'],\n",
            " ['politics', 'social change', 'policy', 'United States', 'innovation', 'TEDx'],\n",
            " ['Transgender', 'gender', 'family', 'personal growth', 'religion', 'parenting',\n",
            "  'identity', 'social change', 'LGBTQIA+'],\n",
            " ['art', 'culture', 'design', 'museums', 'graphic design'],\n",
            " ['education', 'history', 'math', 'science', 'space', 'technology', 'war'],\n",
            " ['TEDx', 'aging', 'data', 'health', 'humanity', 'happiness', 'relationships',\n",
            "  'society', 'time', 'work-life balance', 'friendship'],\n",
            " ['art', 'identity', 'history', 'painting', 'race', 'equality'],\n",
            " ['Africa', 'activism', 'animals', 'biodiversity', 'trees', 'war', 'ecology'],\n",
            " ['Internet', 'technology', 'social change', 'social media', 'activism',\n",
            "  'society'],\n",
            " ['business', 'social change', 'work', 'gender', 'LGBTQIA+'],\n",
            " ['decision-making', 'behavioral economics', 'cognitive science', 'economics',\n",
            "  'motivation', 'humanity', 'psychology', 'self'],\n",
            " ['animation', 'TED-Ed', 'economics', 'money', 'entrepreneur', 'business',\n",
            "  'behavioral economics', 'finance', 'investing'],\n",
            " ['climate change', 'Countdown', 'education', 'future', 'policy', 'government',\n",
            "  'social change', 'politics', 'environment', 'sustainability', 'leadership'],\n",
            " ['biology', 'brain', 'conservation', 'biodiversity', 'DNA', 'evolution',\n",
            "  'environment', 'future', 'genetics', 'history', 'global issues', 'humanity',\n",
            "  'nature', 'potential', 'sustainability', 'science'],\n",
            " ['biology', 'brain', 'cities', 'cognitive science', 'evolution', 'science',\n",
            "  'neuroscience', 'india'],\n",
            " ['education', 'global issues', 'TED Prize', 'food', 'teaching', 'health'],\n",
            " ['biosphere', 'environment', 'future', 'rocket science', 'Mars', 'science',\n",
            "  'solar system', 'technology', 'TEDx', 'universe', 'Planets', 'astronomy',\n",
            "  'astrobiology'],\n",
            " ['demo', 'design', 'technology', 'UX design'],\n",
            " ['TEDx', 'cities', 'design', 'urban planning', 'infrastructure'],\n",
            " ['literature', 'music', 'performance', 'poetry'],\n",
            " ['democracy', 'government', 'journalism', 'immigration', 'politics',\n",
            "  'social change', 'TED en Español', 'writing'],\n",
            " ['climate change', 'collaboration', 'democracy', 'future', 'economics',\n",
            "  'global issues', 'history', 'humanity', 'identity', 'government', 'media',\n",
            "  'politics', 'social change', 'society', 'technology', 'violence', 'war',\n",
            "  'evolution', 'journalism', 'international development'],\n",
            " ['fish', 'Mission Blue', 'science', 'marine biology', 'coral reefs',\n",
            "  'sustainability', 'ocean'],\n",
            " ['science', 'music', 'art', 'brain', 'neuroscience'],\n",
            " ['fear', 'humanity', 'personal growth', 'success', 'work-life balance', 'work',\n",
            "  'decision-making', 'goals'],\n",
            " ['Africa', 'communication', 'community', 'gender', 'humanity', 'feminism',\n",
            "  'identity', 'literature', 'society', 'TEDx', 'women', 'writing', 'kids',\n",
            "  'equality'],\n",
            " ['TED Fellows', 'United States', 'government', 'terrorism', 'violence',\n",
            "  'surveillance', 'encryption'],\n",
            " ['business', 'collaboration', 'culture', 'invention', 'media', 'technology',\n",
            "  'software'],\n",
            " ['TED-Ed', 'technology', 'animation', 'driverless cars', 'innovation',\n",
            "  'invention', 'future', 'AI', 'machine learning', 'transportation'],\n",
            " ['science', 'technology', 'brain', 'human body', 'invention', 'cancer',\n",
            "  'future', 'neuroscience', 'medical research', 'medical imaging', 'computers',\n",
            "  'cognitive science'],\n",
            " ['leadership', 'government', 'women', 'community', 'Africa', 'social change',\n",
            "  'gender'],\n",
            " ['consciousness', 'health', 'memory', 'psychology', 'brain', 'mental health',\n",
            "  'TED-Ed', 'animation', 'education'],\n",
            " ['brain', 'business', 'creativity', 'motivation', 'science', 'social change',\n",
            "  'work'],\n",
            " ['Autism spectrum disorder', 'cognitive science', 'genetics', 'health',\n",
            "  'neuroscience', 'science', 'medicine', 'medical research', 'mental health',\n",
            "  'disease', 'Vaccines', 'DNA', 'pregnancy', 'family', 'disability',\n",
            "  'psychology', 'biology', 'kids'],\n",
            " ['TED Residency', 'business', 'entrepreneur', 'innovation', 'finance',\n",
            "  'cryptocurrency', 'blockchain', 'technology', 'future', 'investing'],\n",
            " ['education', 'math', 'science', 'technology', 'psychology', 'history', 'race',\n",
            "  'engineering', 'curiosity', 'community', 'medical research', 'social change',\n",
            "  'equality'],\n",
            " ['collaboration', 'innovation', 'science', 'technology', 'literature'],\n",
            " ['activism', 'crime', 'humanity', 'personal growth', 'social change',\n",
            "  'identity', 'society', 'TED Residency', 'justice system'],\n",
            " ['TED-Ed', 'math', 'animation'],\n",
            " ['biology', 'microbiology', 'science', 'brain', 'insects', 'animals',\n",
            "  'biodiversity', 'nanotechnology'],\n",
            " ['curiosity', 'entertainment', 'farming', 'exploration', 'friendship',\n",
            "  'gaming', 'happiness', 'humor', 'math', 'love', 'personality',\n",
            "  'relationships', 'gardening'],\n",
            " ['TEDx', 'creativity', 'writing', 'art', 'spoken word'],\n",
            " ['TED-Ed', 'economics', 'animation', 'business', 'behavioral economics',\n",
            "  'history'],\n",
            " ['design', 'innovation'],\n",
            " ['TED-Ed', 'animals', 'biodiversity', 'biology', 'evolution', 'nature'],\n",
            " ['space', 'environment', 'exploration', 'communication', 'science',\n",
            "  'technology', 'TED Fellows'],\n",
            " ['Africa', 'communication', 'disease', 'future', 'health', 'global issues',\n",
            "  'health care', 'illness', 'innovation', 'medical research', 'medicine',\n",
            "  'parenting', 'public health', 'AIDS', 'equality'],\n",
            " ['TED Fellows', 'crime', 'government', 'Internet', 'corruption',\n",
            "  'surveillance', 'encryption'],\n",
            " ['art', 'music', 'performance', 'visualizations', 'entertainment'],\n",
            " ['brain', 'communication', 'neuroscience'],\n",
            " ['design', 'engineering', 'psychology', 'technology', 'computers', 'education',\n",
            "  'machine learning', 'animation', 'TED-Ed', 'emotions', 'invention', 'AI'],\n",
            " ['consciousness', 'medicine', 'technology', 'Best of the Web'],\n",
            " ['animation', 'TED-Ed', 'architecture', 'education', 'engineering', 'history',\n",
            "  'culture'],\n",
            " ['design'],\n",
            " ['animation', 'TED-Ed', 'education', 'evolution', 'animals', 'biology',\n",
            "  'human body', 'science'],\n",
            " ['business', 'conducting', 'leadership', 'music', 'psychology', 'society'],\n",
            " ['aging', 'biotech', 'genetics', 'medicine', 'science', 'technology',\n",
            "  'synthetic biology', 'innovation', 'medical research', 'DNA', 'biology'],\n",
            " ['humanity', 'religion', 'global issues', 'activism', 'LGBTQIA+'],\n",
            " ['bacteria', 'biology', 'disease', 'evolution', 'global issues', 'health',\n",
            "  'illness', 'medicine', 'microbiology', 'science'],\n",
            " ['education', 'TED-Ed', 'animation', 'science', 'climate change', 'technology',\n",
            "  'invention', 'innovation', 'energy', 'electricity', 'sustainability'],\n",
            " ['work', 'social change', 'society', 'family', 'economics', 'law', 'activism',\n",
            "  'humanity'],\n",
            " ['activism', 'design', 'health', 'health care', 'invention', 'public health',\n",
            "  'technology'],\n",
            " ['TED-Ed', 'animals', 'Sun', 'animation', 'Moon', 'ancient world', 'culture',\n",
            "  'storytelling', 'evolution'],\n",
            " ['TED Fellows', 'ancient world', 'dinosaurs', 'paleontology'],\n",
            " ['TED Fellows', 'music', 'history', 'performance', 'race', 'United States'],\n",
            " ['animation', 'education', 'TED-Ed', 'AI', 'culture', 'robots', 'history'],\n",
            " ['TED-Ed', 'animation', 'education', 'brain', 'medicine', 'technology',\n",
            "  'medical imaging', 'medical research', 'innovation', 'invention', 'Surgery',\n",
            "  'cancer'],\n",
            " ['TED-Ed', 'animation', 'math', 'education'],\n",
            " ['health', 'health care', 'medicine', 'science'],\n",
            " ['TED Fellows', 'health', 'violence', 'health care', 'medicine', 'humanity',\n",
            "  'war', 'society', 'social change', 'entrepreneur', 'Internet',\n",
            "  'Middle East'],\n",
            " ['communication', 'creativity', 'data', 'culture', 'Internet', 'media',\n",
            "  'social media', 'entertainment'],\n",
            " ['TEDx', 'teaching', 'community', 'education', 'personal growth', 'policy',\n",
            "  'Slavery', 'race', 'society', 'United States', 'kids', 'equality'],\n",
            " ['animation', 'TED-Ed', 'psychology', 'journalism', 'education', 'statistics',\n",
            "  'brain', 'data'],\n",
            " ['environment', 'climate change', 'global issues', 'energy', 'science',\n",
            "  'pollution', 'sustainability', 'solar energy', 'manufacturing',\n",
            "  'transportation', 'agriculture'],\n",
            " ['TED-Ed', 'history'],\n",
            " ['disease', 'genetics', 'medical research', 'medicine', 'public health',\n",
            "  'science', 'DNA', 'health', 'health care', 'engineering', 'biotech',\n",
            "  'illness', 'biology', 'synthetic biology', 'future', 'innovation', 'drugs'],\n",
            " ['activism', 'social change', 'democracy', 'Africa', 'politics', 'leadership',\n",
            "  'corruption', 'society', 'protest'],\n",
            " ['computers', 'education', 'future', 'science', 'technology',\n",
            "  'nanotechnology'],\n",
            " ['science', 'space', 'astronomy', 'history', 'technology', 'TEDx'],\n",
            " ['health', 'public health', 'medicine', 'medical research', 'science',\n",
            "  'human body', 'biology', 'TED-Ed', 'animation'],\n",
            " ['animation', 'poetry', 'TED-Ed', 'writing', 'history', 'war', 'government'],\n",
            " ['TED-Ed', 'education', 'animation', 'history', 'culture', 'storytelling'],\n",
            " ['business', 'energy', 'global issues', 'technology', 'infrastructure',\n",
            "  'transportation', 'sustainability', 'renewable energy'],\n",
            " ['TED-Ed', 'science', 'biology', 'evolution', 'genetics', 'human body',\n",
            "  'humanity', 'race'],\n",
            " ['work', 'trust', 'success', 'happiness', 'business', 'motivation',\n",
            "  'leadership', 'personal growth', 'potential'],\n",
            " ['culture', 'business', 'economics', 'data', 'innovation', 'humanity',\n",
            "  'product design', 'marketing', 'social media', 'social change', 'society',\n",
            "  'technology'],\n",
            " ['culture', 'global issues', 'history', 'archaeology'],\n",
            " ['crime', 'culture', 'prison', 'race', 'violence', 'justice system',\n",
            "  'equality'],\n",
            " ['culture', 'society', 'death', 'anthropology'],\n",
            " ['biology', 'brain', 'genetics', 'motivation', 'personality', 'nature',\n",
            "  'neuroscience', 'society', 'science', 'war', 'violence', 'human body'],\n",
            " ['activism', 'women', 'society', 'feminism', 'personal growth', 'humanity',\n",
            "  'social change', 'gender', 'equality'],\n",
            " ['Internet', 'animals', 'business', 'culture', 'entertainment', 'entrepreneur',\n",
            "  'ocean'],\n",
            " ['public health', 'education', 'Africa', 'women', 'community', 'activism',\n",
            "  'social change', 'gender', 'equality'],\n",
            " ['AI', 'virus', 'synthetic biology', 'machine learning', 'Vaccines',\n",
            "  'coronavirus', 'medical research', 'public health', 'Audacious Project'],\n",
            " ['architecture', 'art', 'biology', 'design', 'science', 'sustainability',\n",
            "  'technology', 'industrial design', 'international development'],\n",
            " ['TEDx', 'economics', 'global issues', 'health'],\n",
            " ['culture', 'humanity', 'identity', 'self'],\n",
            " ['activism', 'animals', 'biodiversity', 'environment', 'social change',\n",
            "  'india'],\n",
            " ['art', 'entertainment', 'entrepreneur', 'technology'],\n",
            " ['behavioral economics', 'business', 'culture', 'decision-making', 'economics',\n",
            "  'finance', 'self'],\n",
            " ['computers', 'software', 'technology'],\n",
            " ['immigration', 'government', 'United States', 'refugees', 'society',\n",
            "  'social change', 'politics', 'community'],\n",
            " ['culture', 'data', 'sociology', 'technology'],\n",
            " ['literature', 'TED-Ed', 'books', 'history', 'culture', 'writing',\n",
            "  'animation'],\n",
            " ['DNA', 'biology', 'business', 'genetics', 'science', 'technology'],\n",
            " ['architecture', 'design', 'engineering'],\n",
            " ['collaboration', 'communication', 'discovery', 'music', 'performance',\n",
            "  'entertainment'],\n",
            " ['TEDx', 'psychology', 'science', 'compassion', 'happiness', 'humanity',\n",
            "  'family', 'anthropology', 'sociology', 'brain'],\n",
            " ['Audacious Project', 'education', 'teaching', 'technology', 'parenting',\n",
            "  'kids'],\n",
            " ['TEDx', 'gender', 'humor', 'love', 'sex', 'social change', 'equality',\n",
            "  'LGBTQIA+'],\n",
            " ['climate change', 'Countdown', 'Africa', 'environment', 'policy', 'energy',\n",
            "  'sustainability'],\n",
            " ['TEDx', 'genetics', 'CRISPR', 'medical research', 'nature', 'science',\n",
            "  'biology', 'technology', 'invention', 'bioethics', 'DNA', 'synthetic biology',\n",
            "  'biotech'],\n",
            " ['art', 'science', 'technology', 'visualizations', 'biotech', 'culture',\n",
            "  'history', 'collaboration', 'exploration', 'conservation', 'painting'],\n",
            " ['music', 'sound', 'performance', 'hearing'],\n",
            " ['Egypt', 'TED Fellows', 'exploration', 'history', 'science', 'space',\n",
            "  'technology', 'ancient world', 'Africa', 'collaboration', 'innovation',\n",
            "  'anthropology', 'computers', 'geology', 'archaeology'],\n",
            " ['community', 'human rights', 'history', 'immigration', 'United States',\n",
            "  'society', 'refugees'],\n",
            " ['exploration', 'Planets', 'space', 'Moon'],\n",
            " ['algorithm', 'AI', 'computers', 'sight', 'technology'],\n",
            " ['Africa', 'collaboration', 'data', 'motivation', 'innovation', 'pollution',\n",
            "  'goals'],\n",
            " ['demo', 'design', 'entertainment', 'future', 'media', 'technology', 'film',\n",
            "  'UX design'],\n",
            " ['education', 'TED-Ed', 'animation', 'code', 'math', 'computers',\n",
            "  'technology'],\n",
            " ['business', 'demo', 'design', 'education', 'entertainment', 'gaming',\n",
            "  'technology', 'cyber security'],\n",
            " ['communication', 'community', 'humanity', 'identity', 'innovation',\n",
            "  'religion', 'social change', 'society', 'violence', 'teaching', 'women',\n",
            "  'ethics'],\n",
            " ['creativity', 'economics', 'entertainment', 'film'],\n",
            " ['disability', 'language', 'technology', 'communication'],\n",
            " ['design', 'education', 'poverty'],\n",
            " ['activism', 'sexual violence', 'social change', 'women', 'society',\n",
            "  'collaboration', 'crime', 'justice system'],\n",
            " ['PTSD', 'depression', 'medicine', 'medical research', 'science', 'brain',\n",
            "  'mental health', 'neuroscience', 'humanity', 'chemistry', 'disease', 'health',\n",
            "  'TED Fellows', 'drugs'],\n",
            " ['economics', 'entrepreneur', 'global issues', 'health care', 'philanthropy',\n",
            "  'women', 'women in business', 'Africa', 'business',\n",
            "  'international development', 'investing'],\n",
            " ['Africa', 'education', 'technology', 'society', 'equality'],\n",
            " ['algorithm', 'behavioral economics', 'business', 'decision-making', 'data',\n",
            "  'TEDx'],\n",
            " ['computers', 'cognitive science', 'decision-making', 'TEDx', 'technology',\n",
            "  'algorithm', 'brain', 'psychology'],\n",
            " ['science', 'archaeology', 'human body', 'microbiology', 'health'],\n",
            " ['education', 'science', 'teaching', 'social change', 'religion',\n",
            "  'storytelling', 'magic', 'innovation', 'public speaking'],\n",
            " ['humanity', 'writing', 'identity', 'self', 'personal growth', 'race',\n",
            "  'social change', 'society', 'LGBTQIA+'],\n",
            " ['business', 'collaboration', 'communication', 'success', 'personal growth'],\n",
            " ['animation', 'TED-Ed', 'writing', 'literature', 'books', 'history'],\n",
            " ['collaboration', 'fear', 'government', 'global issues', 'history', 'humanity',\n",
            "  'nuclear energy', 'technology', 'terrorism', 'violence', 'war'],\n",
            " ['agriculture', 'botany', 'community', 'food', 'sustainability', 'gardening'],\n",
            " ['animation', 'TED-Ed', 'media', 'medicine', 'medical research', 'health',\n",
            "  'journalism'],\n",
            " ['law', 'TED Fellows', 'money', 'economics', 'finance'],\n",
            " ['climate change', 'environment', 'cities', 'Countdown', 'sustainability',\n",
            "  'innovation', 'data'],\n",
            " ['TEDx', 'activism', 'dance', 'parenting', 'social change', 'women', 'youth',\n",
            "  'kids'],\n",
            " ['TED Fellows', 'art', 'ocean'],\n",
            " ['animation', 'TED-Ed', 'Antarctica', 'education', 'climate change', 'animals',\n",
            "  'science', 'biology', 'environment', 'sustainability', 'glaciers', 'ocean'],\n",
            " ['Countdown', 'climate change', 'environment', 'sustainability',\n",
            "  'collaboration', 'leadership'],\n",
            " ['technology', 'future', 'innovation', 'AI', 'engineering', 'science',\n",
            "  'synthetic biology', 'biology'],\n",
            " ['Internet', 'TEDx', 'computers', 'crime', 'global issues', 'technology',\n",
            "  'virus'],\n",
            " ['TEDx', 'disability', 'entertainment', 'global issues', 'performance'],\n",
            " ['culture', 'education', 'global issues', 'teaching', 'Internet'],\n",
            " ['communication', 'creativity', 'language'],\n",
            " ['TEDx', 'culture', 'philanthropy', 'identity'],\n",
            " ['community', 'activism', 'culture', 'decision-making', 'leadership',\n",
            "  'humanity', 'social change', 'motivation'],\n",
            " ['beauty', 'business', 'design', 'exploration', 'photography'],\n",
            " ['animals', 'entertainment', 'music', 'performance'],\n",
            " ['behavioral economics', 'energy', 'psychology', 'electricity'],\n",
            " ['animation', 'computers', 'TED-Ed', 'education', 'science', 'engineering',\n",
            "  'code'],\n",
            " ['TED-Ed', 'space', 'animation', 'universe', 'Planets', 'asteroid', 'humanity',\n",
            "  'Sun'],\n",
            " ['creativity', 'design', 'entertainment', 'storytelling', 'technology'],\n",
            " ['bacteria', 'plastic', 'Anthropocene', 'pollution', 'environment', 'science',\n",
            "  'sustainability', 'microbiology'],\n",
            " ['activism', 'Internet', 'women', 'law', 'TEDx', 'social change',\n",
            "  'social media'],\n",
            " ['collaboration', 'communication', 'community', 'democracy', 'global issues',\n",
            "  'economics', 'future', 'government', 'history', 'innovation', 'policy',\n",
            "  'social change', 'politics', 'society', 'TEDx', 'culture',\n",
            "  'international relations'],\n",
            " ['global issues', 'capitalism', 'economics', 'government',\n",
            "  'international development'],\n",
            " ['art', 'creativity', 'design', 'storytelling'],\n",
            " ['TED-Ed', 'education', 'animation', 'statistics', 'journalism'],\n",
            " ['animals', 'biology', 'disease', 'cancer', 'DNA', 'health', 'genetics',\n",
            "  'medicine', 'pregnancy', 'nature', 'primates', 'TEDx', 'science', 'kids'],\n",
            " ['public health', 'coronavirus', 'technology', 'pandemic', 'health',\n",
            "  'health care'],\n",
            " ['culture', 'depression', 'film', 'humanity', 'journalism', 'mental health',\n",
            "  'military', 'social change', 'violence', 'war', 'death', 'PTSD', 'health'],\n",
            " ['Transgender', 'health', 'health care', 'medicine', 'TEDx'],\n",
            " ['biology', 'evolution', 'medicine', 'science', 'history', 'TEDx', 'genetics',\n",
            "  'anthropology'],\n",
            " ['communication', 'psychology', 'cognitive science', 'TEDx', 'business',\n",
            "  'decision-making', 'personal growth'],\n",
            " ['TED-Ed', 'education', 'health', 'animation', 'public health', 'environment',\n",
            "  'pollution'],\n",
            " ['TED Prize', 'business', 'disease', 'health care', 'invention', 'medicine',\n",
            "  'science', 'technology'],\n",
            " ['augmented reality', 'business', 'cities', 'computers', 'collaboration',\n",
            "  'drones', 'future', 'innovation', 'social media', 'society', 'technology',\n",
            "  'work'],\n",
            " ['environment', 'science', 'nature', 'climate change', 'biosphere',\n",
            "  'social change', 'sustainability', 'society', 'policy', 'government',\n",
            "  'pollution', 'TEDx'],\n",
            " ['TED-Ed', 'education', 'memory', 'animation', 'brain', 'science', 'neurology',\n",
            "  'psychology', 'neuroscience'],\n",
            " ['culture', 'feminism', 'social change', 'women', 'india'],\n",
            " ['creativity', 'music', 'visualizations'], ['TED-Ed', 'animation', 'math'],\n",
            " ['art', 'dance'],\n",
            " ['climate change', 'environment', 'energy', 'sustainability', 'business',\n",
            "  'leadership', 'Countdown', 'collaboration'],\n",
            " ['human rights', 'humanity', 'social change', 'Asia', 'activism'],\n",
            " ['animation', 'TED-Ed', 'physics', 'science', 'flight', 'wind energy'],\n",
            " ['health', 'public health', 'food', 'animation', 'TED-Ed', 'human body'],\n",
            " ['TEDx', 'engineering', 'entertainment', 'music', 'physics'],\n",
            " ['animation', 'art', 'TED-Ed', 'history', 'painting', 'identity', 'culture',\n",
            "  'race', 'human body', 'street art'],\n",
            " ['demo', 'design', 'technology', 'manufacturing', '3D printing'],\n",
            " ['design', 'creativity', 'food'],\n",
            " ['creativity', 'design', 'memory', 'storytelling', 'community'],\n",
            " ['discovery', 'science', 'education', 'social change', 'society', 'government',\n",
            "  'personal growth'],\n",
            " ['sex', 'gender', 'education', 'youth', 'relationships'],\n",
            " ['photography', 'science', 'microbiology', 'physics', 'creativity', 'sound',\n",
            "  'demo', 'film', 'beauty', 'art', 'nanotechnology'],\n",
            " ['climate change', 'sustainability', 'Countdown', 'comedy'],\n",
            " ['leadership', 'business', 'motivation', 'communication', 'collaboration',\n",
            "  'potential', 'personal growth', 'goals'],\n",
            " ['TED-Ed', 'science', 'human body'],\n",
            " ['TED-Ed', 'animals', 'animation', 'education', 'literature', 'books',\n",
            "  'history', 'philosophy', 'culture'],\n",
            " ['exploration', 'personal growth', 'potential', 'Antarctica', 'sports'],\n",
            " ['social change', 'creativity', 'communication', 'entertainment', 'activism',\n",
            "  'family', 'interview', 'motivation', 'television'],\n",
            " ['bacteria', 'biology', 'communication', 'disease', 'evolution', 'health',\n",
            "  'microbiology', 'science'],\n",
            " ['TED-Ed', 'psychology', 'personality', 'animation', 'brain'],\n",
            " ['TED-Ed', 'animation', 'biology', 'human body'],\n",
            " ['culture', 'policy', 'society', 'addiction', 'drugs'],\n",
            " ['culture', 'entertainment', 'health', 'humor', 'self', 'comedy'],\n",
            " ['TEDx', 'culture', 'love', 'philosophy', 'relationships'], ['TED-Ed', 'math'],\n",
            " ['TEDx', 'culture', 'global issues', 'technology', 'terrorism'],\n",
            " ['Middle East', 'sexual violence', 'crime', 'war', 'social change', 'violence',\n",
            "  'personal growth', 'women', 'TEDMED'],\n",
            " ['creativity', 'entertainment', 'music', 'performance'],\n",
            " ['relationships', 'love', 'empathy', 'communication', 'humanity', 'family',\n",
            "  'collaboration'],\n",
            " ['communication', 'global issues', 'Internet', 'Middle East', 'democracy',\n",
            "  'social media', 'society', 'technology', 'terrorism', 'violence', 'war',\n",
            "  'surveillance', 'encryption', 'online privacy', 'protest'],\n",
            " ['humanity', 'technology', 'curiosity', 'science', 'exploration'],\n",
            " ['climate change', 'environment', 'exploration', 'Antarctica'],\n",
            " ['TEDx', 'culture', 'politics'],\n",
            " ['technology', 'education', 'robots', 'TED-Ed', 'animation', 'design',\n",
            "  'invention'],\n",
            " ['education', 'TED-Ed', 'animation', 'animals', 'fish', 'evolution', 'science',\n",
            "  'biology'],\n",
            " ['TEDMED', 'death', 'medicine', 'social change', 'community', 'public health',\n",
            "  'addiction', 'drugs'],\n",
            " ['culture', 'food', 'global issues', 'sustainability'],\n",
            " ['biology', 'biomimicry', 'design', 'invention', 'medicine', 'science',\n",
            "  'technology', 'sustainability'],\n",
            " ['creativity', 'music', 'design', 'beauty', 'art', 'community', 'culture',\n",
            "  'humanity'],\n",
            " ['activism', 'culture', 'family', 'parenting', 'psychology', 'social change',\n",
            "  'sociology', 'youth', 'kids'],\n",
            " ['history', 'TED-Ed', 'ancient world', 'animation', 'anthropology', 'culture'],\n",
            " ['animation', 'TED-Ed', 'poetry', 'writing', 'immigration'],\n",
            " ['design', 'family', 'entrepreneur', 'health', 'health care', 'innovation',\n",
            "  'humanity', 'parenting', 'women', 'pregnancy', 'TED Residency',\n",
            "  'international development'],\n",
            " ['AI', 'work', 'society', 'social change', 'future', 'machine learning',\n",
            "  'technology', 'business', 'humanity'],\n",
            " ['politics', 'Africa', 'global issues', 'immigration', 'youth'],\n",
            " ['art', 'creativity', 'storytelling'],\n",
            " ['aging', 'health', 'medical research', 'medicine', 'neuroscience',\n",
            "  \"Alzheimer's\"],\n",
            " ['technology', 'surveillance', 'data', 'government', 'online privacy'],\n",
            " ['Asia', 'economics', 'health', 'india', 'statistics', 'technology',\n",
            "  'visualizations'],\n",
            " ['animals', 'design', 'evolution', 'robots', 'science', 'technology',\n",
            "  'transportation'],\n",
            " ['cities', 'climate change', 'global issues', 'weather'],\n",
            " ['violence', 'TEDx', 'activism', 'media', 'social change', 'journalism'],\n",
            " ['creativity', 'democracy', 'art', 'humor', 'journalism', 'immigration',\n",
            "  'media'],\n",
            " ['TED Fellows', 'creativity', 'education', 'technology', 'code', 'toys'],\n",
            " ['collaboration', 'community', 'communication', 'data', 'democracy', 'science',\n",
            "  'decision-making', 'society', 'social change', 'psychology'],\n",
            " ['culture', 'entertainment', 'music', 'technology', 'performance'],\n",
            " ['TED Prize', 'collaboration', 'disease', 'ebola', 'global issues', 'health',\n",
            "  'science', 'technology'],\n",
            " ['TEDx', 'brain', 'communication', 'health', 'health care'],\n",
            " ['TEDx', 'business', 'entrepreneur', 'leadership', 'success'],\n",
            " ['activism', 'agriculture', 'community', 'design', 'climate change', 'energy',\n",
            "  'engineering', 'environment', 'food', 'farming', 'health', 'humanity',\n",
            "  'infrastructure', 'natural resources', 'nature', 'TEDx', 'water',\n",
            "  'sustainability', 'public health', 'renewable energy'],\n",
            " ['design', 'infrastructure', 'future', 'cities', 'society', 'software',\n",
            "  'urban planning', 'public space'],\n",
            " ['biology', 'magic', 'medicine', 'performance'],\n",
            " ['global issues', 'Asia', 'Europe', 'United States', 'collaboration', 'future',\n",
            "  'culture', 'government', 'humanity', 'international development'],\n",
            " ['design', 'engineering', 'invention', 'medicine', 'prosthetics', 'science',\n",
            "  'technology', 'bionics'],\n",
            " ['anthropology', 'history', 'sociology', 'Slavery', 'race', 'animation',\n",
            "  'TED-Ed', 'religion', 'humanity', 'Africa', 'economics', 'United States',\n",
            "  'education', 'community', 'equality'],\n",
            " ['coronavirus', 'animation', 'TED-Ed', 'education', 'illness', 'disease',\n",
            "  'public health', 'health', 'science', 'health care', 'Vaccines', 'animals',\n",
            "  'biology'],\n",
            " ['activism', 'communication', 'computers', 'data', 'government', 'Internet',\n",
            "  'society', 'surveillance', 'technology', 'TED Fellows', 'encryption',\n",
            "  'decision-making', 'cyber security'],\n",
            " ['brain', 'education', 'entertainment', 'gaming', 'happiness', 'health',\n",
            "  'psychology', 'science', 'Best of the Web', 'kids'],\n",
            " ['humor', 'society', 'cognitive science', 'science', 'communication'],\n",
            " ['Africa', 'storytelling', 'history', 'culture', 'ancient world', 'education',\n",
            "  'teaching', 'humanity'],\n",
            " ['culture', 'literature', 'social media', 'storytelling', 'technology',\n",
            "  'writing'],\n",
            " ['education', 'race', 'history', 'society', 'TEDx', 'culture', 'communication',\n",
            "  'storytelling'],\n",
            " ['social change', 'social media', 'democracy', 'politics', 'government',\n",
            "  'history', 'society', 'law', 'culture', 'leadership', 'future',\n",
            "  'global issues', 'Internet', 'data'],\n",
            " ['AIDS', 'TEDx', 'global issues', 'health care', 'medicine', 'drugs'],\n",
            " ['war', 'PTSD', 'communication', 'military'],\n",
            " ['health', 'animals', 'animation', 'sex', 'curiosity', 'TED-Ed', 'science',\n",
            "  'evolution', 'family', 'genetics', 'nature', 'biology', 'marine biology',\n",
            "  'ecology', 'pregnancy', 'biodiversity', 'primates', 'ocean'],\n",
            " ['culture', 'depression', 'mental health', 'suicide'],\n",
            " ['TEDx', 'corruption', 'culture', 'global issues', 'military', 'technology',\n",
            "  'war', 'ethics'],\n",
            " ['Brazil', 'activism', 'biodiversity', 'biology', 'birds', 'global issues',\n",
            "  'science', 'South America'],\n",
            " ['demo', 'design', 'science', 'technology', 'communication',\n",
            "  'augmented reality', 'art', 'computers', 'empathy', 'engineering',\n",
            "  'innovation', 'code', 'software', 'UX design'],\n",
            " ['business', 'creativity', 'design', 'entertainment', 'fashion', 'humor',\n",
            "  'media'],\n",
            " ['art', 'comedy', 'culture', 'feminism', 'humor', 'media', 'women'],\n",
            " ['TEDx', 'culture', 'language', 'philosophy'],\n",
            " ['creativity', 'culture', 'photography', 'technology'],\n",
            " ['TEDx', 'birds', 'forensics', 'science', 'crime', 'nature', 'biology',\n",
            "  'animals'],\n",
            " ['Africa', 'animals', 'environment', 'film', 'global issues', 'photography'],\n",
            " ['water', 'activism', 'environment', 'society', 'social change',\n",
            "  'climate change', 'future', 'public health'],\n",
            " ['TED-Ed', 'animation', 'education', 'technology', 'government', 'design',\n",
            "  'space', 'TED Fellows'],\n",
            " ['business', 'cities', 'collaboration', 'culture', 'design', 'environment',\n",
            "  'global issues', 'invention', 'sustainability', 'renewable energy'],\n",
            " ['design', 'engineering', 'technology', 'computers', 'history', 'animation',\n",
            "  'TED-Ed', 'memory', 'invention', 'innovation'],\n",
            " ['activism', 'animals', 'anthropology', 'bacteria', 'biodiversity', 'disease',\n",
            "  'biology', 'government', 'health', 'health care', 'humanity', 'medicine',\n",
            "  'parenting', 'nature', 'science', 'women', 'gender', 'kids', 'equality'],\n",
            " ['TEDx', 'culture', 'disability', 'photography', 'storytelling', 'violence',\n",
            "  'war', 'journalism', 'personal growth'],\n",
            " ['TED-Ed', 'animation', 'evolution', 'science', 'biology', 'biodiversity',\n",
            "  'animals', 'ocean'],\n",
            " ['art', 'business', 'creativity', 'culture', 'entertainment', 'law',\n",
            "  'technology', 'Internet'],\n",
            " ['science', 'exploration', 'anthropology', 'paleontology', 'discovery',\n",
            "  'humanity', 'nature', 'biodiversity', 'war', 'evolution'],\n",
            " ['TED-Ed', 'animation', 'Europe', 'history', 'magic', 'death', 'women',\n",
            "  'religion', 'culture', 'identity', 'United States', 'public space'],\n",
            " ['education', 'parenting', 'teaching', 'emotions', 'creativity', 'kids'],\n",
            " ['TED-Ed', 'history', 'exploration', 'travel', 'nature', 'death', 'maps'],\n",
            " ['art', 'business', 'computers', 'design', 'education', 'invention', 'music',\n",
            "  'technology', 'kids', 'toys']]\n"
          ],
          "name": "stdout"
        }
      ]
    },
    {
      "cell_type": "markdown",
      "metadata": {
        "id": "dnt9co3sNJn6"
      },
      "source": [
        "### 03.Evaluación del modelo"
      ]
    },
    {
      "cell_type": "markdown",
      "metadata": {
        "id": "TQmuXA03EC2L"
      },
      "source": [
        "#### Puntaje de hamming\n",
        "\n",
        "Al utilizar multi-class multi-label, obtener el accuracy del modelo es una de las opciones que se tienen, pero el apunta a que la totalidad de los tags predichos se encuentre en los tags del set de test.\n",
        "\n",
        "Utilizando el puntaje de hamming buscamos la intersección entre los tags verdaderos (los del set de datos de test) y los tags que se predijeron."
      ]
    },
    {
      "cell_type": "code",
      "metadata": {
        "id": "Sqt-pZlDCbWQ"
      },
      "source": [
        "def hamming_score(y_true, y_pred, normalize=True, sample_weight=None):\n",
        "    acc_list = []\n",
        "    for i in range(y_true.shape[0]):\n",
        "        set_true = set( np.where(y_true[i])[0] )\n",
        "        set_pred = set( np.where(y_pred[i])[0] )\n",
        "        #print('\\nset_true: {0}'.format(set_true))\n",
        "        #print('set_pred: {0}'.format(set_pred))\n",
        "        tmp_a = None\n",
        "        if len(set_true) == 0 and len(set_pred) == 0:\n",
        "            tmp_a = 1\n",
        "        else:\n",
        "            tmp_a = len(set_true.intersection(set_pred))/\\\n",
        "                    float( len(set_true.union(set_pred)) )\n",
        "        #print('tmp_a: {0}'.format(tmp_a))\n",
        "        acc_list.append(tmp_a)\n",
        "    return np.mean(acc_list)"
      ],
      "execution_count": 53,
      "outputs": []
    },
    {
      "cell_type": "code",
      "metadata": {
        "colab": {
          "base_uri": "https://localhost:8080/"
        },
        "id": "y2O0Ed7aCryW",
        "outputId": "b8f57822-22cd-468b-b575-dc406fbb02cf"
      },
      "source": [
        "print(f'{hamming_score(np.array(y_test), np.array(y_pred)) * 100}%')"
      ],
      "execution_count": 60,
      "outputs": [
        {
          "output_type": "stream",
          "text": [
            "37.695293523141544%\n"
          ],
          "name": "stdout"
        }
      ]
    },
    {
      "cell_type": "markdown",
      "metadata": {
        "id": "o1r7H96vFIqG"
      },
      "source": [
        "#### Accuracy\n",
        "\n",
        "Como se menciono previamente, con el accuracy vamos a buscar obtener la igualdad total entre lo predicho y lo verdadero. Marcando como predicción erronea si de 10 tags que tiene una charla unicamente uno se predijo de manera incorrecta."
      ]
    },
    {
      "cell_type": "code",
      "metadata": {
        "colab": {
          "base_uri": "https://localhost:8080/"
        },
        "id": "VDuB4UuRDOF2",
        "outputId": "8dc72d95-3940-46b7-e74c-e78ec6abcc2d"
      },
      "source": [
        "sparse_y_test = mlb.transform(y_test)\n",
        "sparse_y_pred = mlb.transform(y_pred)\n",
        "\n",
        "print(f'{accuracy_score(sparse_y_test, sparse_y_pred) * 100}%')"
      ],
      "execution_count": 69,
      "outputs": [
        {
          "output_type": "stream",
          "text": [
            "0.6637168141592921%\n"
          ],
          "name": "stdout"
        }
      ]
    },
    {
      "cell_type": "markdown",
      "metadata": {
        "id": "wV5PW2yXNOoO"
      },
      "source": [
        "#### Recall\n",
        "\n",
        "Nos muestra la habilidad del modelo de taggear charlas de manera correcta.\n",
        "\n",
        "<p align=\"center\">\n",
        "<img src=\"https://pinatadata.com/wp-content/uploads/2019/10/recall.png\">\n",
        "</p>\n",
        "\n",
        "Primero procedemos a calcular el recall de manera global sin entrar en detalle en cada una de las etiquetas"
      ]
    },
    {
      "cell_type": "code",
      "metadata": {
        "colab": {
          "base_uri": "https://localhost:8080/"
        },
        "id": "TA7dJedBFj0U",
        "outputId": "b71f806f-46fa-448d-a8d9-bece38e12ef6"
      },
      "source": [
        "print(f'{recall_score(sparse_y_test, sparse_y_pred, average=\"micro\") * 100}%')"
      ],
      "execution_count": 78,
      "outputs": [
        {
          "output_type": "stream",
          "text": [
            "26.28536659567995%\n"
          ],
          "name": "stdout"
        }
      ]
    },
    {
      "cell_type": "markdown",
      "metadata": {
        "id": "gNsh4oIDNyKt"
      },
      "source": [
        "Calculamos el recall de cada una de las etiquetas teniendo en cuenta su peso dentro del dataset."
      ]
    },
    {
      "cell_type": "code",
      "metadata": {
        "colab": {
          "base_uri": "https://localhost:8080/"
        },
        "id": "2Lbm49n5MDZo",
        "outputId": "4e17a871-2d9b-45a7-afcb-051caa8d0f38"
      },
      "source": [
        "print(f'{recall_score(sparse_y_test, sparse_y_pred, average=\"weighted\") * 100}%')"
      ],
      "execution_count": 82,
      "outputs": [
        {
          "output_type": "stream",
          "text": [
            "26.28536659567995%\n"
          ],
          "name": "stdout"
        }
      ]
    },
    {
      "cell_type": "markdown",
      "metadata": {
        "id": "UodehxU8N_FO"
      },
      "source": [
        "#### Precision\n",
        "\n",
        "Nos indica la habilidad del modelo para no taggear charlas de manera incorrecta.\n",
        "\n",
        "<p align=\"center\">\n",
        "<img src=\"https://pinatadata.com/wp-content/uploads/2019/10/precision.png\" />\n",
        "</p>\n",
        "\n",
        "Se utilizo los mismos enfoques que para calcular el recall"
      ]
    },
    {
      "cell_type": "code",
      "metadata": {
        "colab": {
          "base_uri": "https://localhost:8080/"
        },
        "id": "owkxY_bwOEon",
        "outputId": "d7834054-b61d-4db2-a3fa-75d5fbf2641f"
      },
      "source": [
        "print(f'{precision_score(sparse_y_test, sparse_y_pred, average=\"micro\") * 100}%')"
      ],
      "execution_count": 85,
      "outputs": [
        {
          "output_type": "stream",
          "text": [
            "75.0%\n"
          ],
          "name": "stdout"
        }
      ]
    },
    {
      "cell_type": "code",
      "metadata": {
        "colab": {
          "base_uri": "https://localhost:8080/"
        },
        "id": "82mWsTQmOKSl",
        "outputId": "07f53fb1-241b-40a0-c12b-a850de471110"
      },
      "source": [
        "print(f'{precision_score(sparse_y_test, sparse_y_pred, average=\"weighted\") * 100}%')"
      ],
      "execution_count": 86,
      "outputs": [
        {
          "output_type": "stream",
          "text": [
            "60.36438132180412%\n"
          ],
          "name": "stdout"
        }
      ]
    },
    {
      "cell_type": "code",
      "metadata": {
        "id": "poMR3lQHOfnX"
      },
      "source": [
        ""
      ],
      "execution_count": null,
      "outputs": []
    }
  ]
}